{
 "cells": [
  {
   "cell_type": "markdown",
   "metadata": {},
   "source": [
    "# Lab 12 (4/6): Functions\n",
    "\n",
    "### Web pages\n",
    "Course page: https://ambujtewari.github.io/teaching/STATS306-Winter2020/\n",
    "\n",
    "Lab page: https://rogerfan.github.io/stats306_w20/\n",
    "\n",
    "### Office Hours\n",
    "    Mondays: 2-4pm, USB 2165\n",
    "    \n",
    "### Contact\n",
    "    Questions on problems: Use the slack discussions\n",
    "    If you need to email me, include in the subject line: [STATS 306]\n",
    "    Email: rogerfan@umich.edu"
   ]
  },
  {
   "cell_type": "code",
   "execution_count": 1,
   "metadata": {
    "slideshow": {
     "slide_type": "notes"
    }
   },
   "outputs": [
    {
     "name": "stderr",
     "output_type": "stream",
     "text": [
      "── \u001b[1mAttaching packages\u001b[22m ─────────────────────────────────────── tidyverse 1.3.0 ──\n",
      "\n",
      "\u001b[32m✔\u001b[39m \u001b[34mggplot2\u001b[39m 3.2.1     \u001b[32m✔\u001b[39m \u001b[34mpurrr  \u001b[39m 0.3.3\n",
      "\u001b[32m✔\u001b[39m \u001b[34mtibble \u001b[39m 2.1.3     \u001b[32m✔\u001b[39m \u001b[34mdplyr  \u001b[39m 0.8.3\n",
      "\u001b[32m✔\u001b[39m \u001b[34mtidyr  \u001b[39m 1.0.0     \u001b[32m✔\u001b[39m \u001b[34mstringr\u001b[39m 1.4.0\n",
      "\u001b[32m✔\u001b[39m \u001b[34mreadr  \u001b[39m 1.3.1     \u001b[32m✔\u001b[39m \u001b[34mforcats\u001b[39m 0.4.0\n",
      "\n",
      "── \u001b[1mConflicts\u001b[22m ────────────────────────────────────────── tidyverse_conflicts() ──\n",
      "\u001b[31m✖\u001b[39m \u001b[34mdplyr\u001b[39m::\u001b[32mfilter()\u001b[39m masks \u001b[34mstats\u001b[39m::filter()\n",
      "\u001b[31m✖\u001b[39m \u001b[34mdplyr\u001b[39m::\u001b[32mlag()\u001b[39m    masks \u001b[34mstats\u001b[39m::lag()\n",
      "\n"
     ]
    }
   ],
   "source": [
    "library(tidyverse)\n",
    "library(nycflights13)"
   ]
  },
  {
   "cell_type": "markdown",
   "metadata": {
    "slideshow": {
     "slide_type": "-"
    }
   },
   "source": [
    "In this lecture we will learn about functions. We already have plenty of experience calling functions in order to mutate, plot, and explore data. Now we will learn how and when to write our own functions."
   ]
  },
  {
   "cell_type": "markdown",
   "metadata": {
    "slideshow": {
     "slide_type": "slide"
    }
   },
   "source": [
    "## Functions\n",
    "\n",
    "Recall that we can write functions when we find ourselves repeating the same operations multiple times."
   ]
  },
  {
   "cell_type": "code",
   "execution_count": 2,
   "metadata": {
    "scrolled": true
   },
   "outputs": [
    {
     "name": "stdout",
     "output_type": "stream",
     "text": [
      "\u001b[38;5;246m# A tibble: 10 x 4\u001b[39m\n",
      "         a       b        c       d\n",
      "     \u001b[3m\u001b[38;5;246m<dbl>\u001b[39m\u001b[23m   \u001b[3m\u001b[38;5;246m<dbl>\u001b[39m\u001b[23m    \u001b[3m\u001b[38;5;246m<dbl>\u001b[39m\u001b[23m   \u001b[3m\u001b[38;5;246m<dbl>\u001b[39m\u001b[23m\n",
      "\u001b[38;5;250m 1\u001b[39m  0.896   1.27   -\u001b[31m1\u001b[39m\u001b[31m.\u001b[39m\u001b[31m45\u001b[39m     0.716 \n",
      "\u001b[38;5;250m 2\u001b[39m  1.94   -\u001b[31m0\u001b[39m\u001b[31m.\u001b[39m\u001b[31m684\u001b[39m  -\u001b[31m1\u001b[39m\u001b[31m.\u001b[39m\u001b[31m11\u001b[39m     1.55  \n",
      "\u001b[38;5;250m 3\u001b[39m -\u001b[31m0\u001b[39m\u001b[31m.\u001b[39m\u001b[31m597\u001b[39m   0.564  -\u001b[31m1\u001b[39m\u001b[31m.\u001b[39m\u001b[31m24\u001b[39m     0.954 \n",
      "\u001b[38;5;250m 4\u001b[39m  0.204   1.06    0.964    0.140 \n",
      "\u001b[38;5;250m 5\u001b[39m  1.12   -\u001b[31m0\u001b[39m\u001b[31m.\u001b[39m\u001b[31m874\u001b[39m   1.39    -\u001b[31m0\u001b[39m\u001b[31m.\u001b[39m\u001b[31m0\u001b[39m\u001b[31m90\u001b[4m8\u001b[24m\u001b[39m\n",
      "\u001b[38;5;250m 6\u001b[39m  0.737  -\u001b[31m0\u001b[39m\u001b[31m.\u001b[39m\u001b[31m924\u001b[39m   1.49    -\u001b[31m1\u001b[39m\u001b[31m.\u001b[39m\u001b[31m0\u001b[39m\u001b[31m3\u001b[39m  \n",
      "\u001b[38;5;250m 7\u001b[39m  0.169  -\u001b[31m0\u001b[39m\u001b[31m.\u001b[39m\u001b[31m672\u001b[39m  -\u001b[31m0\u001b[39m\u001b[31m.\u001b[39m\u001b[31m504\u001b[39m   -\u001b[31m0\u001b[39m\u001b[31m.\u001b[39m\u001b[31m317\u001b[39m \n",
      "\u001b[38;5;250m 8\u001b[39m  0.035\u001b[4m5\u001b[24m  0.094\u001b[4m9\u001b[24m -\u001b[31m0\u001b[39m\u001b[31m.\u001b[39m\u001b[31m00\u001b[39m\u001b[31m9\u001b[4m7\u001b[24m\u001b[4m8\u001b[24m\u001b[39m  1.11  \n",
      "\u001b[38;5;250m 9\u001b[39m -\u001b[31m0\u001b[39m\u001b[31m.\u001b[39m\u001b[31m970\u001b[39m  -\u001b[31m0\u001b[39m\u001b[31m.\u001b[39m\u001b[31m194\u001b[39m   1.19    -\u001b[31m1\u001b[39m\u001b[31m.\u001b[39m\u001b[31m29\u001b[39m  \n",
      "\u001b[38;5;250m10\u001b[39m -\u001b[31m0\u001b[39m\u001b[31m.\u001b[39m\u001b[31m0\u001b[39m\u001b[31m67\u001b[4m3\u001b[24m\u001b[39m  0.179   0.429   -\u001b[31m0\u001b[39m\u001b[31m.\u001b[39m\u001b[31m0\u001b[39m\u001b[31m98\u001b[4m9\u001b[24m\u001b[39m\n"
     ]
    }
   ],
   "source": [
    "df = tibble::tibble(\n",
    "  a = rnorm(10),\n",
    "  b = rnorm(10),\n",
    "  c = rnorm(10),\n",
    "  d = rnorm(10)\n",
    ")\n",
    "\n",
    "print(df)"
   ]
  },
  {
   "cell_type": "code",
   "execution_count": 3,
   "metadata": {},
   "outputs": [
    {
     "name": "stdout",
     "output_type": "stream",
     "text": [
      "\u001b[38;5;246m# A tibble: 10 x 4\u001b[39m\n",
      "       a      b      c      d\n",
      "   \u001b[3m\u001b[38;5;246m<dbl>\u001b[39m\u001b[23m  \u001b[3m\u001b[38;5;246m<dbl>\u001b[39m\u001b[23m  \u001b[3m\u001b[38;5;246m<dbl>\u001b[39m\u001b[23m  \u001b[3m\u001b[38;5;246m<dbl>\u001b[39m\u001b[23m\n",
      "\u001b[38;5;250m 1\u001b[39m 0.641 1      0      0.706 \n",
      "\u001b[38;5;250m 2\u001b[39m 1     0.110  0.115  1     \n",
      "\u001b[38;5;250m 3\u001b[39m 0.128 0.678  0.069\u001b[4m4\u001b[24m 0.790 \n",
      "\u001b[38;5;250m 4\u001b[39m 0.404 0.904  0.822  0.503 \n",
      "\u001b[38;5;250m 5\u001b[39m 0.720 0.022\u001b[4m9\u001b[24m 0.967  0.422 \n",
      "\u001b[38;5;250m 6\u001b[39m 0.587 0      1      0.091\u001b[4m8\u001b[24m\n",
      "\u001b[38;5;250m 7\u001b[39m 0.391 0.115  0.322  0.342 \n",
      "\u001b[38;5;250m 8\u001b[39m 0.346 0.464  0.490  0.845 \n",
      "\u001b[38;5;250m 9\u001b[39m 0     0.332  0.900  0     \n",
      "\u001b[38;5;250m10\u001b[39m 0.310 0.502  0.640  0.419 \n"
     ]
    }
   ],
   "source": [
    "df2 = df %>% \n",
    "    mutate(a = (a-min(a))/(max(a)-min(a)),\n",
    "           b = (b-min(b))/(max(b)-min(b)),\n",
    "           c = (c-min(c))/(max(c)-min(c)),\n",
    "           d = (d-min(d))/(max(d)-min(d)))\n",
    " \n",
    "print(df2)"
   ]
  },
  {
   "cell_type": "code",
   "execution_count": 4,
   "metadata": {},
   "outputs": [
    {
     "name": "stdout",
     "output_type": "stream",
     "text": [
      "\u001b[38;5;246m# A tibble: 10 x 4\u001b[39m\n",
      "       a      b      c      d\n",
      "   \u001b[3m\u001b[38;5;246m<dbl>\u001b[39m\u001b[23m  \u001b[3m\u001b[38;5;246m<dbl>\u001b[39m\u001b[23m  \u001b[3m\u001b[38;5;246m<dbl>\u001b[39m\u001b[23m  \u001b[3m\u001b[38;5;246m<dbl>\u001b[39m\u001b[23m\n",
      "\u001b[38;5;250m 1\u001b[39m 0.641 1      0      0.706 \n",
      "\u001b[38;5;250m 2\u001b[39m 1     0.110  0.115  1     \n",
      "\u001b[38;5;250m 3\u001b[39m 0.128 0.678  0.069\u001b[4m4\u001b[24m 0.790 \n",
      "\u001b[38;5;250m 4\u001b[39m 0.404 0.904  0.822  0.503 \n",
      "\u001b[38;5;250m 5\u001b[39m 0.720 0.022\u001b[4m9\u001b[24m 0.967  0.422 \n",
      "\u001b[38;5;250m 6\u001b[39m 0.587 0      1      0.091\u001b[4m8\u001b[24m\n",
      "\u001b[38;5;250m 7\u001b[39m 0.391 0.115  0.322  0.342 \n",
      "\u001b[38;5;250m 8\u001b[39m 0.346 0.464  0.490  0.845 \n",
      "\u001b[38;5;250m 9\u001b[39m 0     0.332  0.900  0     \n",
      "\u001b[38;5;250m10\u001b[39m 0.310 0.502  0.640  0.419 \n"
     ]
    }
   ],
   "source": [
    "rescale01 = function(x) {\n",
    "    (x - min(x, na.rm = TRUE)) / (max(x, na.rm = TRUE) - min(x, na.rm = TRUE))\n",
    "}\n",
    "\n",
    "df2 = df %>%\n",
    "    mutate(a=rescale01(a), b=rescale01(b), c=rescale01(c), d=rescale01(d))\n",
    "\n",
    "print(df2)"
   ]
  },
  {
   "cell_type": "markdown",
   "metadata": {},
   "source": [
    "### Function definition syntax"
   ]
  },
  {
   "cell_type": "raw",
   "metadata": {},
   "source": [
    "myfunction = function(arg1, arg2, ... ){\n",
    "    statements\n",
    "    return(object)\n",
    "}"
   ]
  },
  {
   "cell_type": "markdown",
   "metadata": {
    "slideshow": {
     "slide_type": "slide"
    }
   },
   "source": [
    "## Conditional execution\n",
    "Often when writing functions we need to do different things depending on what data is passed in. This is known as *conditional execution*, and is accomplished using the `if/else` construct:\n",
    "```{r}\n",
    "if (condition) {\n",
    "  # code executed when condition is TRUE\n",
    "} else {\n",
    "  # code executed when condition is FALSE\n",
    "}\n",
    "```"
   ]
  },
  {
   "cell_type": "markdown",
   "metadata": {
    "slideshow": {
     "slide_type": "slide"
    }
   },
   "source": [
    "### Example\n",
    "The *Heaviside step function* is defined as\n",
    "$$H(x)=\\begin{cases}0,&x\\le 0\\\\\n",
    "1,&\\text{otherwise}\n",
    "\\end{cases}.$$\n",
    "How can we code this as an R function?"
   ]
  },
  {
   "cell_type": "code",
   "execution_count": 5,
   "metadata": {},
   "outputs": [
    {
     "data": {
      "text/html": [
       "0"
      ],
      "text/latex": [
       "0"
      ],
      "text/markdown": [
       "0"
      ],
      "text/plain": [
       "[1] 0"
      ]
     },
     "metadata": {},
     "output_type": "display_data"
    },
    {
     "data": {
      "text/html": [
       "0"
      ],
      "text/latex": [
       "0"
      ],
      "text/markdown": [
       "0"
      ],
      "text/plain": [
       "[1] 0"
      ]
     },
     "metadata": {},
     "output_type": "display_data"
    },
    {
     "data": {
      "text/html": [
       "1"
      ],
      "text/latex": [
       "1"
      ],
      "text/markdown": [
       "1"
      ],
      "text/plain": [
       "[1] 1"
      ]
     },
     "metadata": {},
     "output_type": "display_data"
    }
   ],
   "source": [
    "H = function(x) {\n",
    "    if (x <= 0) {\n",
    "        return(0)\n",
    "    } else {\n",
    "        return(1)\n",
    "    }\n",
    "}\n",
    "H(-1)\n",
    "H(0)\n",
    "H(1)"
   ]
  },
  {
   "cell_type": "code",
   "execution_count": 6,
   "metadata": {},
   "outputs": [
    {
     "data": {
      "text/html": [
       "<ol class=list-inline>\n",
       "\t<li>0</li>\n",
       "\t<li>0</li>\n",
       "\t<li>1</li>\n",
       "</ol>\n"
      ],
      "text/latex": [
       "\\begin{enumerate*}\n",
       "\\item 0\n",
       "\\item 0\n",
       "\\item 1\n",
       "\\end{enumerate*}\n"
      ],
      "text/markdown": [
       "1. 0\n",
       "2. 0\n",
       "3. 1\n",
       "\n",
       "\n"
      ],
      "text/plain": [
       "[1] 0 0 1"
      ]
     },
     "metadata": {},
     "output_type": "display_data"
    }
   ],
   "source": [
    "H2 = function(x) {\n",
    "    ifelse(x <= 0, 0, 1)\n",
    "}\n",
    "\n",
    "H2(c(-1, 0, 1))"
   ]
  },
  {
   "cell_type": "markdown",
   "metadata": {
    "slideshow": {
     "slide_type": "slide"
    }
   },
   "source": [
    "### Multiple conditions\n",
    "Sometimes you will want to check multiple conditions using an `if` statement. For example, let's define the function $$\\operatorname{sgn}(x) = \\begin{cases}-1,&x<0\\\\0,&x=0\\\\1,&x>0.\\end{cases}$$"
   ]
  },
  {
   "cell_type": "code",
   "execution_count": 7,
   "metadata": {},
   "outputs": [],
   "source": [
    "sgn = function(x) {\n",
    "    if (x < 0) {\n",
    "        return(-1)\n",
    "    } else if (x == 0) {\n",
    "        return(0)\n",
    "    } else {\n",
    "        return(1)\n",
    "    }\n",
    "}"
   ]
  },
  {
   "cell_type": "markdown",
   "metadata": {
    "slideshow": {
     "slide_type": "slide"
    }
   },
   "source": [
    "The general form is\n",
    "```{r}\n",
    "if (condition1) {\n",
    "  # do something\n",
    "} else if (condition2) {\n",
    "  # do something else\n",
    "} else {\n",
    "  # do another thing\n",
    "}\n",
    "```"
   ]
  },
  {
   "cell_type": "markdown",
   "metadata": {
    "slideshow": {
     "slide_type": "slide"
    }
   },
   "source": [
    "### Brackets\n",
    "Both `function` and `if` are usually called using the curly bracket delimiters `{` and `}`. For one-line statements, the brackets are optional:"
   ]
  },
  {
   "cell_type": "code",
   "execution_count": 8,
   "metadata": {},
   "outputs": [
    {
     "name": "stdout",
     "output_type": "stream",
     "text": [
      "[1] \"A1\"\n",
      "[1] \"A2\"\n"
     ]
    }
   ],
   "source": [
    "if (TRUE) { \n",
    "    print(\"A1\") \n",
    "} else { \n",
    "    print(\"B\") \n",
    "}\n",
    "if (TRUE) print(\"A2\") else print(\"B\")"
   ]
  },
  {
   "cell_type": "code",
   "execution_count": 9,
   "metadata": {},
   "outputs": [],
   "source": [
    "square = function(x) {\n",
    "    return(x*x)\n",
    "}\n",
    "\n",
    "square = function(x) x*x"
   ]
  },
  {
   "cell_type": "markdown",
   "metadata": {
    "slideshow": {
     "slide_type": "notes"
    }
   },
   "source": [
    "You should almost always use the curly braces. One exception is for very brief, unnamed functions. We'll see some examples of this next week when we study map/reduce computations."
   ]
  },
  {
   "cell_type": "markdown",
   "metadata": {
    "slideshow": {
     "slide_type": "slide"
    }
   },
   "source": [
    "## Function arguments\n",
    "Functions can take multiple arguments. Generally they fall into one of two categories:\n",
    "* *Data* to be processed by the function, and\n",
    "* *Options*, which affect how the data gets processed."
   ]
  },
  {
   "cell_type": "markdown",
   "metadata": {
    "slideshow": {
     "slide_type": "slide"
    }
   },
   "source": [
    "```{r}\n",
    "mean(x, na.rm=TRUE)\n",
    "log(x, base=y)\n",
    "str_c(..., sep=\" \")\n",
    "```\n",
    "What is/are the data? What are the options?"
   ]
  },
  {
   "cell_type": "markdown",
   "metadata": {
    "slideshow": {
     "slide_type": "slide"
    }
   },
   "source": [
    "### Rules for function arguments\n",
    "Generally:\n",
    "1. The *data* parameters should come first; and\n",
    "2. The *options* should come second, and have sensible defaults."
   ]
  },
  {
   "cell_type": "markdown",
   "metadata": {
    "slideshow": {
     "slide_type": "slide"
    }
   },
   "source": [
    "Default parameter values are specified by the `option=default` notation:"
   ]
  },
  {
   "cell_type": "code",
   "execution_count": 10,
   "metadata": {},
   "outputs": [],
   "source": [
    "mean_ci = function(x, conf=0.95) {\n",
    "    se = sd(x) / sqrt(length(x))\n",
    "    alpha = 1 - conf\n",
    "    mean(x) + se * qnorm(c(alpha / 2, 1 - alpha / 2))\n",
    "}"
   ]
  },
  {
   "cell_type": "markdown",
   "metadata": {
    "slideshow": {
     "slide_type": "slide"
    }
   },
   "source": [
    "When you call a function, you can omit the values of the default arguments. If overriding the default, you should specify the parameter you are overriding and then input the overridden value with an ` = ` in between:\n",
    "```{r}\n",
    "mean_ci(c(1, 2, 3, 4))              # uses default value\n",
    "mean_ci(c(1, 2, 3, 4), conf = .99)  # ok\n",
    "mean_ci(c(1, 2, 3, 4), conf=.99)    # ok\n",
    "mean_ci(c(1, 2, 3, 4), .99)         # dangerous\n",
    "```"
   ]
  },
  {
   "cell_type": "markdown",
   "metadata": {
    "slideshow": {
     "slide_type": "slide"
    }
   },
   "source": [
    "### Validation\n",
    "When writing functions it's a good idea to *validate* the input -- that is, make sure it matches your assumptions about what is being passed to the function. Consider the following function which returns the weighted average of a vector:"
   ]
  },
  {
   "cell_type": "code",
   "execution_count": 11,
   "metadata": {},
   "outputs": [],
   "source": [
    "w_mean = function(x, w) {\n",
    "    sum(x * w) / sum(w)\n",
    "}"
   ]
  },
  {
   "cell_type": "markdown",
   "metadata": {
    "slideshow": {
     "slide_type": "slide"
    }
   },
   "source": [
    "This function relies implicitly on the fact that the weight vector `w` is the same length as the input vector `x`. If it's not, you'll get a warning and unexpected behavior."
   ]
  },
  {
   "cell_type": "code",
   "execution_count": 12,
   "metadata": {},
   "outputs": [
    {
     "name": "stderr",
     "output_type": "stream",
     "text": [
      "Warning message in x * w:\n",
      "“longer object length is not a multiple of shorter object length”\n"
     ]
    },
    {
     "data": {
      "text/html": [
       "2.66666666666667"
      ],
      "text/latex": [
       "2.66666666666667"
      ],
      "text/markdown": [
       "2.66666666666667"
      ],
      "text/plain": [
       "[1] 2.666667"
      ]
     },
     "metadata": {},
     "output_type": "display_data"
    }
   ],
   "source": [
    "w_mean(c(1,2,3), w=c(1, 2))"
   ]
  },
  {
   "cell_type": "markdown",
   "metadata": {
    "slideshow": {
     "slide_type": "slide"
    }
   },
   "source": [
    "It's best to make the assumption of equal length explicit by checking it:"
   ]
  },
  {
   "cell_type": "code",
   "execution_count": 13,
   "metadata": {},
   "outputs": [],
   "source": [
    "w_mean = function(x, w) {\n",
    "    stopifnot(length(w) == length(x))\n",
    "    (x * w) / sum(w)\n",
    "}"
   ]
  },
  {
   "cell_type": "markdown",
   "metadata": {
    "slideshow": {
     "slide_type": "slide"
    }
   },
   "source": [
    "Now:"
   ]
  },
  {
   "cell_type": "code",
   "execution_count": 14,
   "metadata": {},
   "outputs": [
    {
     "ename": "ERROR",
     "evalue": "Error in w_mean(c(1, 2, 3), c(1, 2)): length(w) == length(x) is not TRUE\n",
     "output_type": "error",
     "traceback": [
      "Error in w_mean(c(1, 2, 3), c(1, 2)): length(w) == length(x) is not TRUE\nTraceback:\n",
      "1. w_mean(c(1, 2, 3), c(1, 2))",
      "2. stopifnot(length(w) == length(x))   # at line 2 of file <text>"
     ]
    }
   ],
   "source": [
    "w_mean(c(1,2,3), c(1, 2))"
   ]
  },
  {
   "cell_type": "code",
   "execution_count": 15,
   "metadata": {},
   "outputs": [
    {
     "ename": "ERROR",
     "evalue": "Error in w_mean(c(1, 2, 3), c(1, 2)): length of data and weight vector do not match\n",
     "output_type": "error",
     "traceback": [
      "Error in w_mean(c(1, 2, 3), c(1, 2)): length of data and weight vector do not match\nTraceback:\n",
      "1. w_mean(c(1, 2, 3), c(1, 2))",
      "2. stop(\"length of data and weight vector do not match\")   # at line 3 of file <text>"
     ]
    }
   ],
   "source": [
    "w_mean = function(x, w) {\n",
    "    if (length(w) != length(x)) {\n",
    "        stop('length of data and weight vector do not match')\n",
    "    }\n",
    "    (x * w) / sum(w)\n",
    "}\n",
    "\n",
    "w_mean(c(1,2,3), c(1, 2))"
   ]
  },
  {
   "cell_type": "markdown",
   "metadata": {
    "slideshow": {
     "slide_type": "slide"
    }
   },
   "source": [
    "Adding comments is another good way to make sure that you don't encounter unexpected situations in your functions:"
   ]
  },
  {
   "cell_type": "code",
   "execution_count": 16,
   "metadata": {},
   "outputs": [],
   "source": [
    "w_mean = function(x, w) {\n",
    "    # Return the average of `x` weighted by weight vector `w`\n",
    "    stopifnot(length(w) == length(x))\n",
    "    (x * w) / sum(w)\n",
    "}"
   ]
  },
  {
   "cell_type": "markdown",
   "metadata": {
    "slideshow": {
     "slide_type": "slide"
    }
   },
   "source": [
    "###  Dot-dot-dot (`…`)\n",
    "Some functions are designed to take a variable number of inputs. We saw this for example with the `str_c` function:"
   ]
  },
  {
   "cell_type": "code",
   "execution_count": 17,
   "metadata": {},
   "outputs": [
    {
     "data": {
      "text/html": [
       "'a b c'"
      ],
      "text/latex": [
       "'a b c'"
      ],
      "text/markdown": [
       "'a b c'"
      ],
      "text/plain": [
       "[1] \"a b c\""
      ]
     },
     "metadata": {},
     "output_type": "display_data"
    }
   ],
   "source": [
    "# stringr::str_c(\"a\", \"b\", \"c\")\n",
    "\n",
    "str_c('a', 'b', 'c', sep=' ')"
   ]
  },
  {
   "cell_type": "markdown",
   "metadata": {
    "slideshow": {
     "slide_type": "slide"
    }
   },
   "source": [
    "To construct a function that takes a variable number of arguments we use the `...` notation:\n",
    "```{r}\n",
    "f = function(...) {\n",
    "    <do something with variable arguments>\n",
    "}\n",
    "```"
   ]
  },
  {
   "cell_type": "markdown",
   "metadata": {
    "slideshow": {
     "slide_type": "slide"
    }
   },
   "source": [
    "One thing you can do with the `...` is pass it to another function that takes a variable number of inputs."
   ]
  },
  {
   "cell_type": "code",
   "execution_count": 18,
   "metadata": {},
   "outputs": [
    {
     "data": {
      "text/html": [
       "'a, b, c, d, e, f, g, h, i, j'"
      ],
      "text/latex": [
       "'a, b, c, d, e, f, g, h, i, j'"
      ],
      "text/markdown": [
       "'a, b, c, d, e, f, g, h, i, j'"
      ],
      "text/plain": [
       "[1] \"a, b, c, d, e, f, g, h, i, j\""
      ]
     },
     "metadata": {},
     "output_type": "display_data"
    }
   ],
   "source": [
    "commas <- function(...) {\n",
    "    stringr::str_c(..., collapse = \", \")\n",
    "}\n",
    "commas(letters[1:10])"
   ]
  },
  {
   "cell_type": "markdown",
   "metadata": {
    "slideshow": {
     "slide_type": "slide"
    }
   },
   "source": [
    "You can also access individual arguments in `...` using the `list(...)` notation. We'll learn more about lists in the next lecture."
   ]
  },
  {
   "cell_type": "code",
   "execution_count": 19,
   "metadata": {},
   "outputs": [
    {
     "name": "stdout",
     "output_type": "stream",
     "text": [
      "[[1]]\n",
      "[1] 3\n",
      "\n",
      "[[2]]\n",
      "[1] 5\n",
      "\n",
      "$a\n",
      "[1] 4\n",
      "\n",
      "$b\n",
      "[1] 6\n",
      "\n"
     ]
    }
   ],
   "source": [
    "test = function(...) {\n",
    "    print(list(...))\n",
    "}\n",
    "\n",
    "test(3, 5, a=4, b=6)"
   ]
  },
  {
   "cell_type": "markdown",
   "metadata": {
    "slideshow": {
     "slide_type": "slide"
    }
   },
   "source": [
    "## Return values\n",
    "Thus far we have relied on the default behavior of R, which is to return the last value in the function:"
   ]
  },
  {
   "cell_type": "code",
   "execution_count": 20,
   "metadata": {},
   "outputs": [
    {
     "data": {
      "text/html": [
       "3"
      ],
      "text/latex": [
       "3"
      ],
      "text/markdown": [
       "3"
      ],
      "text/plain": [
       "[1] 3"
      ]
     },
     "metadata": {},
     "output_type": "display_data"
    }
   ],
   "source": [
    "f = function() {\n",
    "    1\n",
    "    2\n",
    "    3  # this will be returned\n",
    "}\n",
    "f()"
   ]
  },
  {
   "cell_type": "code",
   "execution_count": 23,
   "metadata": {},
   "outputs": [
    {
     "data": {
      "text/html": [
       "120"
      ],
      "text/latex": [
       "120"
      ],
      "text/markdown": [
       "120"
      ],
      "text/plain": [
       "[1] 120"
      ]
     },
     "metadata": {},
     "output_type": "display_data"
    }
   ],
   "source": [
    "fact = function(n) {\n",
    "    \n",
    "    if (n == 1){\n",
    "        return(1)\n",
    "    }\n",
    "    \n",
    "    return(n * fact(n-1)) \n",
    "}\n",
    "\n",
    "fact(5)"
   ]
  },
  {
   "cell_type": "markdown",
   "metadata": {
    "slideshow": {
     "slide_type": "slide"
    }
   },
   "source": [
    "In more complicated functions you'll need to manually return values using the `return()` function. As an example:\n",
    "```{r}\n",
    "complicated_function <- function(x, y, z) {\n",
    "  if (length(x) == 0 || length(y) == 0) {\n",
    "      return(0)  # this immediately returns and halts the function.\n",
    "  }\n",
    "  # Complicated code here\n",
    "  return(object)\n",
    "}\n",
    "```"
   ]
  },
  {
   "cell_type": "markdown",
   "metadata": {
    "slideshow": {
     "slide_type": "slide"
    }
   },
   "source": [
    "### Pipeable functions\n",
    "We've seen a lot of uses of the pipe operator `%>%`. As you become more advanced, you may find it useful to create your own functions which can be used in data pipelines. "
   ]
  },
  {
   "cell_type": "markdown",
   "metadata": {
    "slideshow": {
     "slide_type": "slide"
    }
   },
   "source": [
    "#### Transformations\n",
    "For pipeable functions that transform a data frame, simply return the altered version of the data frame. For example:"
   ]
  },
  {
   "cell_type": "code",
   "execution_count": 24,
   "metadata": {},
   "outputs": [
    {
     "name": "stdout",
     "output_type": "stream",
     "text": [
      "\u001b[38;5;246m# A tibble: 3 x 2\u001b[39m\n",
      "      x y    \n",
      "  \u001b[3m\u001b[38;5;246m<dbl>\u001b[39m\u001b[23m \u001b[3m\u001b[38;5;246m<chr>\u001b[39m\u001b[23m\n",
      "\u001b[38;5;250m1\u001b[39m     1 a    \n",
      "\u001b[38;5;250m2\u001b[39m     2 b    \n",
      "\u001b[38;5;250m3\u001b[39m     3 c    \n"
     ]
    },
    {
     "data": {
      "text/html": [
       "<table>\n",
       "<caption>A tibble: 1 × 2</caption>\n",
       "<thead>\n",
       "\t<tr><th scope=col>x</th><th scope=col>y</th></tr>\n",
       "\t<tr><th scope=col>&lt;dbl&gt;</th><th scope=col>&lt;chr&gt;</th></tr>\n",
       "</thead>\n",
       "<tbody>\n",
       "\t<tr><td>1</td><td>a</td></tr>\n",
       "</tbody>\n",
       "</table>\n"
      ],
      "text/latex": [
       "A tibble: 1 × 2\n",
       "\\begin{tabular}{ll}\n",
       " x & y\\\\\n",
       " <dbl> & <chr>\\\\\n",
       "\\hline\n",
       "\t 1 & a\\\\\n",
       "\\end{tabular}\n"
      ],
      "text/markdown": [
       "\n",
       "A tibble: 1 × 2\n",
       "\n",
       "| x &lt;dbl&gt; | y &lt;chr&gt; |\n",
       "|---|---|\n",
       "| 1 | a |\n",
       "\n"
      ],
      "text/plain": [
       "  x y\n",
       "1 1 a"
      ]
     },
     "metadata": {},
     "output_type": "display_data"
    },
    {
     "data": {
      "text/html": [
       "<table>\n",
       "<caption>A tibble: 1 × 2</caption>\n",
       "<thead>\n",
       "\t<tr><th scope=col>x</th><th scope=col>y</th></tr>\n",
       "\t<tr><th scope=col>&lt;dbl&gt;</th><th scope=col>&lt;chr&gt;</th></tr>\n",
       "</thead>\n",
       "<tbody>\n",
       "\t<tr><td>3</td><td>c</td></tr>\n",
       "</tbody>\n",
       "</table>\n"
      ],
      "text/latex": [
       "A tibble: 1 × 2\n",
       "\\begin{tabular}{ll}\n",
       " x & y\\\\\n",
       " <dbl> & <chr>\\\\\n",
       "\\hline\n",
       "\t 3 & c\\\\\n",
       "\\end{tabular}\n"
      ],
      "text/markdown": [
       "\n",
       "A tibble: 1 × 2\n",
       "\n",
       "| x &lt;dbl&gt; | y &lt;chr&gt; |\n",
       "|---|---|\n",
       "| 3 | c |\n",
       "\n"
      ],
      "text/plain": [
       "  x y\n",
       "1 3 c"
      ]
     },
     "metadata": {},
     "output_type": "display_data"
    }
   ],
   "source": [
    "first_row <- function(df, n=1) {\n",
    "    df %>% slice(n)\n",
    "}\n",
    "\n",
    "mydf = tibble(x=c(1,2,3), y=c(\"a\",\"b\",\"c\"))\n",
    "print(mydf)\n",
    "\n",
    "mydf %>% first_row()\n",
    "mydf %>% first_row(3)"
   ]
  },
  {
   "cell_type": "markdown",
   "metadata": {
    "slideshow": {
     "slide_type": "slide"
    }
   },
   "source": [
    "#### Side effects\n",
    "Some functions have *side effects* but don't modify the original data frame. For example, consider the following function which counts how many missing values are present in a data frame:"
   ]
  },
  {
   "cell_type": "code",
   "execution_count": 25,
   "metadata": {},
   "outputs": [],
   "source": [
    "show_missings = function(df) {\n",
    "  n <- sum(is.na(df))\n",
    "  cat(\"Missing values: \", n, \"\\n\", sep = \"\")\n",
    "  df  # note return value\n",
    "}"
   ]
  },
  {
   "cell_type": "markdown",
   "metadata": {
    "slideshow": {
     "slide_type": "slide"
    }
   },
   "source": [
    "This function works but has the undesirable effect of printing the whole data frame when it returns:"
   ]
  },
  {
   "cell_type": "code",
   "execution_count": 26,
   "metadata": {
    "scrolled": true
   },
   "outputs": [
    {
     "name": "stdout",
     "output_type": "stream",
     "text": [
      "Missing values: 0\n"
     ]
    },
    {
     "data": {
      "text/html": [
       "<table>\n",
       "<caption>A tibble: 234 × 11</caption>\n",
       "<thead>\n",
       "\t<tr><th scope=col>manufacturer</th><th scope=col>model</th><th scope=col>displ</th><th scope=col>year</th><th scope=col>cyl</th><th scope=col>trans</th><th scope=col>drv</th><th scope=col>cty</th><th scope=col>hwy</th><th scope=col>fl</th><th scope=col>class</th></tr>\n",
       "\t<tr><th scope=col>&lt;chr&gt;</th><th scope=col>&lt;chr&gt;</th><th scope=col>&lt;dbl&gt;</th><th scope=col>&lt;int&gt;</th><th scope=col>&lt;int&gt;</th><th scope=col>&lt;chr&gt;</th><th scope=col>&lt;chr&gt;</th><th scope=col>&lt;int&gt;</th><th scope=col>&lt;int&gt;</th><th scope=col>&lt;chr&gt;</th><th scope=col>&lt;chr&gt;</th></tr>\n",
       "</thead>\n",
       "<tbody>\n",
       "\t<tr><td>audi     </td><td>a4                </td><td>1.8</td><td>1999</td><td>4</td><td>auto(l5)  </td><td>f</td><td>18</td><td>29</td><td>p</td><td>compact</td></tr>\n",
       "\t<tr><td>audi     </td><td>a4                </td><td>1.8</td><td>1999</td><td>4</td><td>manual(m5)</td><td>f</td><td>21</td><td>29</td><td>p</td><td>compact</td></tr>\n",
       "\t<tr><td>audi     </td><td>a4                </td><td>2.0</td><td>2008</td><td>4</td><td>manual(m6)</td><td>f</td><td>20</td><td>31</td><td>p</td><td>compact</td></tr>\n",
       "\t<tr><td>audi     </td><td>a4                </td><td>2.0</td><td>2008</td><td>4</td><td>auto(av)  </td><td>f</td><td>21</td><td>30</td><td>p</td><td>compact</td></tr>\n",
       "\t<tr><td>audi     </td><td>a4                </td><td>2.8</td><td>1999</td><td>6</td><td>auto(l5)  </td><td>f</td><td>16</td><td>26</td><td>p</td><td>compact</td></tr>\n",
       "\t<tr><td>audi     </td><td>a4                </td><td>2.8</td><td>1999</td><td>6</td><td>manual(m5)</td><td>f</td><td>18</td><td>26</td><td>p</td><td>compact</td></tr>\n",
       "\t<tr><td>audi     </td><td>a4                </td><td>3.1</td><td>2008</td><td>6</td><td>auto(av)  </td><td>f</td><td>18</td><td>27</td><td>p</td><td>compact</td></tr>\n",
       "\t<tr><td>audi     </td><td>a4 quattro        </td><td>1.8</td><td>1999</td><td>4</td><td>manual(m5)</td><td>4</td><td>18</td><td>26</td><td>p</td><td>compact</td></tr>\n",
       "\t<tr><td>audi     </td><td>a4 quattro        </td><td>1.8</td><td>1999</td><td>4</td><td>auto(l5)  </td><td>4</td><td>16</td><td>25</td><td>p</td><td>compact</td></tr>\n",
       "\t<tr><td>audi     </td><td>a4 quattro        </td><td>2.0</td><td>2008</td><td>4</td><td>manual(m6)</td><td>4</td><td>20</td><td>28</td><td>p</td><td>compact</td></tr>\n",
       "\t<tr><td>audi     </td><td>a4 quattro        </td><td>2.0</td><td>2008</td><td>4</td><td>auto(s6)  </td><td>4</td><td>19</td><td>27</td><td>p</td><td>compact</td></tr>\n",
       "\t<tr><td>audi     </td><td>a4 quattro        </td><td>2.8</td><td>1999</td><td>6</td><td>auto(l5)  </td><td>4</td><td>15</td><td>25</td><td>p</td><td>compact</td></tr>\n",
       "\t<tr><td>audi     </td><td>a4 quattro        </td><td>2.8</td><td>1999</td><td>6</td><td>manual(m5)</td><td>4</td><td>17</td><td>25</td><td>p</td><td>compact</td></tr>\n",
       "\t<tr><td>audi     </td><td>a4 quattro        </td><td>3.1</td><td>2008</td><td>6</td><td>auto(s6)  </td><td>4</td><td>17</td><td>25</td><td>p</td><td>compact</td></tr>\n",
       "\t<tr><td>audi     </td><td>a4 quattro        </td><td>3.1</td><td>2008</td><td>6</td><td>manual(m6)</td><td>4</td><td>15</td><td>25</td><td>p</td><td>compact</td></tr>\n",
       "\t<tr><td>audi     </td><td>a6 quattro        </td><td>2.8</td><td>1999</td><td>6</td><td>auto(l5)  </td><td>4</td><td>15</td><td>24</td><td>p</td><td>midsize</td></tr>\n",
       "\t<tr><td>audi     </td><td>a6 quattro        </td><td>3.1</td><td>2008</td><td>6</td><td>auto(s6)  </td><td>4</td><td>17</td><td>25</td><td>p</td><td>midsize</td></tr>\n",
       "\t<tr><td>audi     </td><td>a6 quattro        </td><td>4.2</td><td>2008</td><td>8</td><td>auto(s6)  </td><td>4</td><td>16</td><td>23</td><td>p</td><td>midsize</td></tr>\n",
       "\t<tr><td>chevrolet</td><td>c1500 suburban 2wd</td><td>5.3</td><td>2008</td><td>8</td><td>auto(l4)  </td><td>r</td><td>14</td><td>20</td><td>r</td><td>suv    </td></tr>\n",
       "\t<tr><td>chevrolet</td><td>c1500 suburban 2wd</td><td>5.3</td><td>2008</td><td>8</td><td>auto(l4)  </td><td>r</td><td>11</td><td>15</td><td>e</td><td>suv    </td></tr>\n",
       "\t<tr><td>chevrolet</td><td>c1500 suburban 2wd</td><td>5.3</td><td>2008</td><td>8</td><td>auto(l4)  </td><td>r</td><td>14</td><td>20</td><td>r</td><td>suv    </td></tr>\n",
       "\t<tr><td>chevrolet</td><td>c1500 suburban 2wd</td><td>5.7</td><td>1999</td><td>8</td><td>auto(l4)  </td><td>r</td><td>13</td><td>17</td><td>r</td><td>suv    </td></tr>\n",
       "\t<tr><td>chevrolet</td><td>c1500 suburban 2wd</td><td>6.0</td><td>2008</td><td>8</td><td>auto(l4)  </td><td>r</td><td>12</td><td>17</td><td>r</td><td>suv    </td></tr>\n",
       "\t<tr><td>chevrolet</td><td>corvette          </td><td>5.7</td><td>1999</td><td>8</td><td>manual(m6)</td><td>r</td><td>16</td><td>26</td><td>p</td><td>2seater</td></tr>\n",
       "\t<tr><td>chevrolet</td><td>corvette          </td><td>5.7</td><td>1999</td><td>8</td><td>auto(l4)  </td><td>r</td><td>15</td><td>23</td><td>p</td><td>2seater</td></tr>\n",
       "\t<tr><td>chevrolet</td><td>corvette          </td><td>6.2</td><td>2008</td><td>8</td><td>manual(m6)</td><td>r</td><td>16</td><td>26</td><td>p</td><td>2seater</td></tr>\n",
       "\t<tr><td>chevrolet</td><td>corvette          </td><td>6.2</td><td>2008</td><td>8</td><td>auto(s6)  </td><td>r</td><td>15</td><td>25</td><td>p</td><td>2seater</td></tr>\n",
       "\t<tr><td>chevrolet</td><td>corvette          </td><td>7.0</td><td>2008</td><td>8</td><td>manual(m6)</td><td>r</td><td>15</td><td>24</td><td>p</td><td>2seater</td></tr>\n",
       "\t<tr><td>chevrolet</td><td>k1500 tahoe 4wd   </td><td>5.3</td><td>2008</td><td>8</td><td>auto(l4)  </td><td>4</td><td>14</td><td>19</td><td>r</td><td>suv    </td></tr>\n",
       "\t<tr><td>chevrolet</td><td>k1500 tahoe 4wd   </td><td>5.3</td><td>2008</td><td>8</td><td>auto(l4)  </td><td>4</td><td>11</td><td>14</td><td>e</td><td>suv    </td></tr>\n",
       "\t<tr><td>⋮</td><td>⋮</td><td>⋮</td><td>⋮</td><td>⋮</td><td>⋮</td><td>⋮</td><td>⋮</td><td>⋮</td><td>⋮</td><td>⋮</td></tr>\n",
       "\t<tr><td>toyota    </td><td>toyota tacoma 4wd</td><td>3.4</td><td>1999</td><td>6</td><td>auto(l4)  </td><td>4</td><td>15</td><td>19</td><td>r</td><td>pickup    </td></tr>\n",
       "\t<tr><td>toyota    </td><td>toyota tacoma 4wd</td><td>4.0</td><td>2008</td><td>6</td><td>manual(m6)</td><td>4</td><td>15</td><td>18</td><td>r</td><td>pickup    </td></tr>\n",
       "\t<tr><td>toyota    </td><td>toyota tacoma 4wd</td><td>4.0</td><td>2008</td><td>6</td><td>auto(l5)  </td><td>4</td><td>16</td><td>20</td><td>r</td><td>pickup    </td></tr>\n",
       "\t<tr><td>volkswagen</td><td>gti              </td><td>2.0</td><td>1999</td><td>4</td><td>manual(m5)</td><td>f</td><td>21</td><td>29</td><td>r</td><td>compact   </td></tr>\n",
       "\t<tr><td>volkswagen</td><td>gti              </td><td>2.0</td><td>1999</td><td>4</td><td>auto(l4)  </td><td>f</td><td>19</td><td>26</td><td>r</td><td>compact   </td></tr>\n",
       "\t<tr><td>volkswagen</td><td>gti              </td><td>2.0</td><td>2008</td><td>4</td><td>manual(m6)</td><td>f</td><td>21</td><td>29</td><td>p</td><td>compact   </td></tr>\n",
       "\t<tr><td>volkswagen</td><td>gti              </td><td>2.0</td><td>2008</td><td>4</td><td>auto(s6)  </td><td>f</td><td>22</td><td>29</td><td>p</td><td>compact   </td></tr>\n",
       "\t<tr><td>volkswagen</td><td>gti              </td><td>2.8</td><td>1999</td><td>6</td><td>manual(m5)</td><td>f</td><td>17</td><td>24</td><td>r</td><td>compact   </td></tr>\n",
       "\t<tr><td>volkswagen</td><td>jetta            </td><td>1.9</td><td>1999</td><td>4</td><td>manual(m5)</td><td>f</td><td>33</td><td>44</td><td>d</td><td>compact   </td></tr>\n",
       "\t<tr><td>volkswagen</td><td>jetta            </td><td>2.0</td><td>1999</td><td>4</td><td>manual(m5)</td><td>f</td><td>21</td><td>29</td><td>r</td><td>compact   </td></tr>\n",
       "\t<tr><td>volkswagen</td><td>jetta            </td><td>2.0</td><td>1999</td><td>4</td><td>auto(l4)  </td><td>f</td><td>19</td><td>26</td><td>r</td><td>compact   </td></tr>\n",
       "\t<tr><td>volkswagen</td><td>jetta            </td><td>2.0</td><td>2008</td><td>4</td><td>auto(s6)  </td><td>f</td><td>22</td><td>29</td><td>p</td><td>compact   </td></tr>\n",
       "\t<tr><td>volkswagen</td><td>jetta            </td><td>2.0</td><td>2008</td><td>4</td><td>manual(m6)</td><td>f</td><td>21</td><td>29</td><td>p</td><td>compact   </td></tr>\n",
       "\t<tr><td>volkswagen</td><td>jetta            </td><td>2.5</td><td>2008</td><td>5</td><td>auto(s6)  </td><td>f</td><td>21</td><td>29</td><td>r</td><td>compact   </td></tr>\n",
       "\t<tr><td>volkswagen</td><td>jetta            </td><td>2.5</td><td>2008</td><td>5</td><td>manual(m5)</td><td>f</td><td>21</td><td>29</td><td>r</td><td>compact   </td></tr>\n",
       "\t<tr><td>volkswagen</td><td>jetta            </td><td>2.8</td><td>1999</td><td>6</td><td>auto(l4)  </td><td>f</td><td>16</td><td>23</td><td>r</td><td>compact   </td></tr>\n",
       "\t<tr><td>volkswagen</td><td>jetta            </td><td>2.8</td><td>1999</td><td>6</td><td>manual(m5)</td><td>f</td><td>17</td><td>24</td><td>r</td><td>compact   </td></tr>\n",
       "\t<tr><td>volkswagen</td><td>new beetle       </td><td>1.9</td><td>1999</td><td>4</td><td>manual(m5)</td><td>f</td><td>35</td><td>44</td><td>d</td><td>subcompact</td></tr>\n",
       "\t<tr><td>volkswagen</td><td>new beetle       </td><td>1.9</td><td>1999</td><td>4</td><td>auto(l4)  </td><td>f</td><td>29</td><td>41</td><td>d</td><td>subcompact</td></tr>\n",
       "\t<tr><td>volkswagen</td><td>new beetle       </td><td>2.0</td><td>1999</td><td>4</td><td>manual(m5)</td><td>f</td><td>21</td><td>29</td><td>r</td><td>subcompact</td></tr>\n",
       "\t<tr><td>volkswagen</td><td>new beetle       </td><td>2.0</td><td>1999</td><td>4</td><td>auto(l4)  </td><td>f</td><td>19</td><td>26</td><td>r</td><td>subcompact</td></tr>\n",
       "\t<tr><td>volkswagen</td><td>new beetle       </td><td>2.5</td><td>2008</td><td>5</td><td>manual(m5)</td><td>f</td><td>20</td><td>28</td><td>r</td><td>subcompact</td></tr>\n",
       "\t<tr><td>volkswagen</td><td>new beetle       </td><td>2.5</td><td>2008</td><td>5</td><td>auto(s6)  </td><td>f</td><td>20</td><td>29</td><td>r</td><td>subcompact</td></tr>\n",
       "\t<tr><td>volkswagen</td><td>passat           </td><td>1.8</td><td>1999</td><td>4</td><td>manual(m5)</td><td>f</td><td>21</td><td>29</td><td>p</td><td>midsize   </td></tr>\n",
       "\t<tr><td>volkswagen</td><td>passat           </td><td>1.8</td><td>1999</td><td>4</td><td>auto(l5)  </td><td>f</td><td>18</td><td>29</td><td>p</td><td>midsize   </td></tr>\n",
       "\t<tr><td>volkswagen</td><td>passat           </td><td>2.0</td><td>2008</td><td>4</td><td>auto(s6)  </td><td>f</td><td>19</td><td>28</td><td>p</td><td>midsize   </td></tr>\n",
       "\t<tr><td>volkswagen</td><td>passat           </td><td>2.0</td><td>2008</td><td>4</td><td>manual(m6)</td><td>f</td><td>21</td><td>29</td><td>p</td><td>midsize   </td></tr>\n",
       "\t<tr><td>volkswagen</td><td>passat           </td><td>2.8</td><td>1999</td><td>6</td><td>auto(l5)  </td><td>f</td><td>16</td><td>26</td><td>p</td><td>midsize   </td></tr>\n",
       "\t<tr><td>volkswagen</td><td>passat           </td><td>2.8</td><td>1999</td><td>6</td><td>manual(m5)</td><td>f</td><td>18</td><td>26</td><td>p</td><td>midsize   </td></tr>\n",
       "\t<tr><td>volkswagen</td><td>passat           </td><td>3.6</td><td>2008</td><td>6</td><td>auto(s6)  </td><td>f</td><td>17</td><td>26</td><td>p</td><td>midsize   </td></tr>\n",
       "</tbody>\n",
       "</table>\n"
      ],
      "text/latex": [
       "A tibble: 234 × 11\n",
       "\\begin{tabular}{lllllllllll}\n",
       " manufacturer & model & displ & year & cyl & trans & drv & cty & hwy & fl & class\\\\\n",
       " <chr> & <chr> & <dbl> & <int> & <int> & <chr> & <chr> & <int> & <int> & <chr> & <chr>\\\\\n",
       "\\hline\n",
       "\t audi      & a4                 & 1.8 & 1999 & 4 & auto(l5)   & f & 18 & 29 & p & compact\\\\\n",
       "\t audi      & a4                 & 1.8 & 1999 & 4 & manual(m5) & f & 21 & 29 & p & compact\\\\\n",
       "\t audi      & a4                 & 2.0 & 2008 & 4 & manual(m6) & f & 20 & 31 & p & compact\\\\\n",
       "\t audi      & a4                 & 2.0 & 2008 & 4 & auto(av)   & f & 21 & 30 & p & compact\\\\\n",
       "\t audi      & a4                 & 2.8 & 1999 & 6 & auto(l5)   & f & 16 & 26 & p & compact\\\\\n",
       "\t audi      & a4                 & 2.8 & 1999 & 6 & manual(m5) & f & 18 & 26 & p & compact\\\\\n",
       "\t audi      & a4                 & 3.1 & 2008 & 6 & auto(av)   & f & 18 & 27 & p & compact\\\\\n",
       "\t audi      & a4 quattro         & 1.8 & 1999 & 4 & manual(m5) & 4 & 18 & 26 & p & compact\\\\\n",
       "\t audi      & a4 quattro         & 1.8 & 1999 & 4 & auto(l5)   & 4 & 16 & 25 & p & compact\\\\\n",
       "\t audi      & a4 quattro         & 2.0 & 2008 & 4 & manual(m6) & 4 & 20 & 28 & p & compact\\\\\n",
       "\t audi      & a4 quattro         & 2.0 & 2008 & 4 & auto(s6)   & 4 & 19 & 27 & p & compact\\\\\n",
       "\t audi      & a4 quattro         & 2.8 & 1999 & 6 & auto(l5)   & 4 & 15 & 25 & p & compact\\\\\n",
       "\t audi      & a4 quattro         & 2.8 & 1999 & 6 & manual(m5) & 4 & 17 & 25 & p & compact\\\\\n",
       "\t audi      & a4 quattro         & 3.1 & 2008 & 6 & auto(s6)   & 4 & 17 & 25 & p & compact\\\\\n",
       "\t audi      & a4 quattro         & 3.1 & 2008 & 6 & manual(m6) & 4 & 15 & 25 & p & compact\\\\\n",
       "\t audi      & a6 quattro         & 2.8 & 1999 & 6 & auto(l5)   & 4 & 15 & 24 & p & midsize\\\\\n",
       "\t audi      & a6 quattro         & 3.1 & 2008 & 6 & auto(s6)   & 4 & 17 & 25 & p & midsize\\\\\n",
       "\t audi      & a6 quattro         & 4.2 & 2008 & 8 & auto(s6)   & 4 & 16 & 23 & p & midsize\\\\\n",
       "\t chevrolet & c1500 suburban 2wd & 5.3 & 2008 & 8 & auto(l4)   & r & 14 & 20 & r & suv    \\\\\n",
       "\t chevrolet & c1500 suburban 2wd & 5.3 & 2008 & 8 & auto(l4)   & r & 11 & 15 & e & suv    \\\\\n",
       "\t chevrolet & c1500 suburban 2wd & 5.3 & 2008 & 8 & auto(l4)   & r & 14 & 20 & r & suv    \\\\\n",
       "\t chevrolet & c1500 suburban 2wd & 5.7 & 1999 & 8 & auto(l4)   & r & 13 & 17 & r & suv    \\\\\n",
       "\t chevrolet & c1500 suburban 2wd & 6.0 & 2008 & 8 & auto(l4)   & r & 12 & 17 & r & suv    \\\\\n",
       "\t chevrolet & corvette           & 5.7 & 1999 & 8 & manual(m6) & r & 16 & 26 & p & 2seater\\\\\n",
       "\t chevrolet & corvette           & 5.7 & 1999 & 8 & auto(l4)   & r & 15 & 23 & p & 2seater\\\\\n",
       "\t chevrolet & corvette           & 6.2 & 2008 & 8 & manual(m6) & r & 16 & 26 & p & 2seater\\\\\n",
       "\t chevrolet & corvette           & 6.2 & 2008 & 8 & auto(s6)   & r & 15 & 25 & p & 2seater\\\\\n",
       "\t chevrolet & corvette           & 7.0 & 2008 & 8 & manual(m6) & r & 15 & 24 & p & 2seater\\\\\n",
       "\t chevrolet & k1500 tahoe 4wd    & 5.3 & 2008 & 8 & auto(l4)   & 4 & 14 & 19 & r & suv    \\\\\n",
       "\t chevrolet & k1500 tahoe 4wd    & 5.3 & 2008 & 8 & auto(l4)   & 4 & 11 & 14 & e & suv    \\\\\n",
       "\t ⋮ & ⋮ & ⋮ & ⋮ & ⋮ & ⋮ & ⋮ & ⋮ & ⋮ & ⋮ & ⋮\\\\\n",
       "\t toyota     & toyota tacoma 4wd & 3.4 & 1999 & 6 & auto(l4)   & 4 & 15 & 19 & r & pickup    \\\\\n",
       "\t toyota     & toyota tacoma 4wd & 4.0 & 2008 & 6 & manual(m6) & 4 & 15 & 18 & r & pickup    \\\\\n",
       "\t toyota     & toyota tacoma 4wd & 4.0 & 2008 & 6 & auto(l5)   & 4 & 16 & 20 & r & pickup    \\\\\n",
       "\t volkswagen & gti               & 2.0 & 1999 & 4 & manual(m5) & f & 21 & 29 & r & compact   \\\\\n",
       "\t volkswagen & gti               & 2.0 & 1999 & 4 & auto(l4)   & f & 19 & 26 & r & compact   \\\\\n",
       "\t volkswagen & gti               & 2.0 & 2008 & 4 & manual(m6) & f & 21 & 29 & p & compact   \\\\\n",
       "\t volkswagen & gti               & 2.0 & 2008 & 4 & auto(s6)   & f & 22 & 29 & p & compact   \\\\\n",
       "\t volkswagen & gti               & 2.8 & 1999 & 6 & manual(m5) & f & 17 & 24 & r & compact   \\\\\n",
       "\t volkswagen & jetta             & 1.9 & 1999 & 4 & manual(m5) & f & 33 & 44 & d & compact   \\\\\n",
       "\t volkswagen & jetta             & 2.0 & 1999 & 4 & manual(m5) & f & 21 & 29 & r & compact   \\\\\n",
       "\t volkswagen & jetta             & 2.0 & 1999 & 4 & auto(l4)   & f & 19 & 26 & r & compact   \\\\\n",
       "\t volkswagen & jetta             & 2.0 & 2008 & 4 & auto(s6)   & f & 22 & 29 & p & compact   \\\\\n",
       "\t volkswagen & jetta             & 2.0 & 2008 & 4 & manual(m6) & f & 21 & 29 & p & compact   \\\\\n",
       "\t volkswagen & jetta             & 2.5 & 2008 & 5 & auto(s6)   & f & 21 & 29 & r & compact   \\\\\n",
       "\t volkswagen & jetta             & 2.5 & 2008 & 5 & manual(m5) & f & 21 & 29 & r & compact   \\\\\n",
       "\t volkswagen & jetta             & 2.8 & 1999 & 6 & auto(l4)   & f & 16 & 23 & r & compact   \\\\\n",
       "\t volkswagen & jetta             & 2.8 & 1999 & 6 & manual(m5) & f & 17 & 24 & r & compact   \\\\\n",
       "\t volkswagen & new beetle        & 1.9 & 1999 & 4 & manual(m5) & f & 35 & 44 & d & subcompact\\\\\n",
       "\t volkswagen & new beetle        & 1.9 & 1999 & 4 & auto(l4)   & f & 29 & 41 & d & subcompact\\\\\n",
       "\t volkswagen & new beetle        & 2.0 & 1999 & 4 & manual(m5) & f & 21 & 29 & r & subcompact\\\\\n",
       "\t volkswagen & new beetle        & 2.0 & 1999 & 4 & auto(l4)   & f & 19 & 26 & r & subcompact\\\\\n",
       "\t volkswagen & new beetle        & 2.5 & 2008 & 5 & manual(m5) & f & 20 & 28 & r & subcompact\\\\\n",
       "\t volkswagen & new beetle        & 2.5 & 2008 & 5 & auto(s6)   & f & 20 & 29 & r & subcompact\\\\\n",
       "\t volkswagen & passat            & 1.8 & 1999 & 4 & manual(m5) & f & 21 & 29 & p & midsize   \\\\\n",
       "\t volkswagen & passat            & 1.8 & 1999 & 4 & auto(l5)   & f & 18 & 29 & p & midsize   \\\\\n",
       "\t volkswagen & passat            & 2.0 & 2008 & 4 & auto(s6)   & f & 19 & 28 & p & midsize   \\\\\n",
       "\t volkswagen & passat            & 2.0 & 2008 & 4 & manual(m6) & f & 21 & 29 & p & midsize   \\\\\n",
       "\t volkswagen & passat            & 2.8 & 1999 & 6 & auto(l5)   & f & 16 & 26 & p & midsize   \\\\\n",
       "\t volkswagen & passat            & 2.8 & 1999 & 6 & manual(m5) & f & 18 & 26 & p & midsize   \\\\\n",
       "\t volkswagen & passat            & 3.6 & 2008 & 6 & auto(s6)   & f & 17 & 26 & p & midsize   \\\\\n",
       "\\end{tabular}\n"
      ],
      "text/markdown": [
       "\n",
       "A tibble: 234 × 11\n",
       "\n",
       "| manufacturer &lt;chr&gt; | model &lt;chr&gt; | displ &lt;dbl&gt; | year &lt;int&gt; | cyl &lt;int&gt; | trans &lt;chr&gt; | drv &lt;chr&gt; | cty &lt;int&gt; | hwy &lt;int&gt; | fl &lt;chr&gt; | class &lt;chr&gt; |\n",
       "|---|---|---|---|---|---|---|---|---|---|---|\n",
       "| audi      | a4                 | 1.8 | 1999 | 4 | auto(l5)   | f | 18 | 29 | p | compact |\n",
       "| audi      | a4                 | 1.8 | 1999 | 4 | manual(m5) | f | 21 | 29 | p | compact |\n",
       "| audi      | a4                 | 2.0 | 2008 | 4 | manual(m6) | f | 20 | 31 | p | compact |\n",
       "| audi      | a4                 | 2.0 | 2008 | 4 | auto(av)   | f | 21 | 30 | p | compact |\n",
       "| audi      | a4                 | 2.8 | 1999 | 6 | auto(l5)   | f | 16 | 26 | p | compact |\n",
       "| audi      | a4                 | 2.8 | 1999 | 6 | manual(m5) | f | 18 | 26 | p | compact |\n",
       "| audi      | a4                 | 3.1 | 2008 | 6 | auto(av)   | f | 18 | 27 | p | compact |\n",
       "| audi      | a4 quattro         | 1.8 | 1999 | 4 | manual(m5) | 4 | 18 | 26 | p | compact |\n",
       "| audi      | a4 quattro         | 1.8 | 1999 | 4 | auto(l5)   | 4 | 16 | 25 | p | compact |\n",
       "| audi      | a4 quattro         | 2.0 | 2008 | 4 | manual(m6) | 4 | 20 | 28 | p | compact |\n",
       "| audi      | a4 quattro         | 2.0 | 2008 | 4 | auto(s6)   | 4 | 19 | 27 | p | compact |\n",
       "| audi      | a4 quattro         | 2.8 | 1999 | 6 | auto(l5)   | 4 | 15 | 25 | p | compact |\n",
       "| audi      | a4 quattro         | 2.8 | 1999 | 6 | manual(m5) | 4 | 17 | 25 | p | compact |\n",
       "| audi      | a4 quattro         | 3.1 | 2008 | 6 | auto(s6)   | 4 | 17 | 25 | p | compact |\n",
       "| audi      | a4 quattro         | 3.1 | 2008 | 6 | manual(m6) | 4 | 15 | 25 | p | compact |\n",
       "| audi      | a6 quattro         | 2.8 | 1999 | 6 | auto(l5)   | 4 | 15 | 24 | p | midsize |\n",
       "| audi      | a6 quattro         | 3.1 | 2008 | 6 | auto(s6)   | 4 | 17 | 25 | p | midsize |\n",
       "| audi      | a6 quattro         | 4.2 | 2008 | 8 | auto(s6)   | 4 | 16 | 23 | p | midsize |\n",
       "| chevrolet | c1500 suburban 2wd | 5.3 | 2008 | 8 | auto(l4)   | r | 14 | 20 | r | suv     |\n",
       "| chevrolet | c1500 suburban 2wd | 5.3 | 2008 | 8 | auto(l4)   | r | 11 | 15 | e | suv     |\n",
       "| chevrolet | c1500 suburban 2wd | 5.3 | 2008 | 8 | auto(l4)   | r | 14 | 20 | r | suv     |\n",
       "| chevrolet | c1500 suburban 2wd | 5.7 | 1999 | 8 | auto(l4)   | r | 13 | 17 | r | suv     |\n",
       "| chevrolet | c1500 suburban 2wd | 6.0 | 2008 | 8 | auto(l4)   | r | 12 | 17 | r | suv     |\n",
       "| chevrolet | corvette           | 5.7 | 1999 | 8 | manual(m6) | r | 16 | 26 | p | 2seater |\n",
       "| chevrolet | corvette           | 5.7 | 1999 | 8 | auto(l4)   | r | 15 | 23 | p | 2seater |\n",
       "| chevrolet | corvette           | 6.2 | 2008 | 8 | manual(m6) | r | 16 | 26 | p | 2seater |\n",
       "| chevrolet | corvette           | 6.2 | 2008 | 8 | auto(s6)   | r | 15 | 25 | p | 2seater |\n",
       "| chevrolet | corvette           | 7.0 | 2008 | 8 | manual(m6) | r | 15 | 24 | p | 2seater |\n",
       "| chevrolet | k1500 tahoe 4wd    | 5.3 | 2008 | 8 | auto(l4)   | 4 | 14 | 19 | r | suv     |\n",
       "| chevrolet | k1500 tahoe 4wd    | 5.3 | 2008 | 8 | auto(l4)   | 4 | 11 | 14 | e | suv     |\n",
       "| ⋮ | ⋮ | ⋮ | ⋮ | ⋮ | ⋮ | ⋮ | ⋮ | ⋮ | ⋮ | ⋮ |\n",
       "| toyota     | toyota tacoma 4wd | 3.4 | 1999 | 6 | auto(l4)   | 4 | 15 | 19 | r | pickup     |\n",
       "| toyota     | toyota tacoma 4wd | 4.0 | 2008 | 6 | manual(m6) | 4 | 15 | 18 | r | pickup     |\n",
       "| toyota     | toyota tacoma 4wd | 4.0 | 2008 | 6 | auto(l5)   | 4 | 16 | 20 | r | pickup     |\n",
       "| volkswagen | gti               | 2.0 | 1999 | 4 | manual(m5) | f | 21 | 29 | r | compact    |\n",
       "| volkswagen | gti               | 2.0 | 1999 | 4 | auto(l4)   | f | 19 | 26 | r | compact    |\n",
       "| volkswagen | gti               | 2.0 | 2008 | 4 | manual(m6) | f | 21 | 29 | p | compact    |\n",
       "| volkswagen | gti               | 2.0 | 2008 | 4 | auto(s6)   | f | 22 | 29 | p | compact    |\n",
       "| volkswagen | gti               | 2.8 | 1999 | 6 | manual(m5) | f | 17 | 24 | r | compact    |\n",
       "| volkswagen | jetta             | 1.9 | 1999 | 4 | manual(m5) | f | 33 | 44 | d | compact    |\n",
       "| volkswagen | jetta             | 2.0 | 1999 | 4 | manual(m5) | f | 21 | 29 | r | compact    |\n",
       "| volkswagen | jetta             | 2.0 | 1999 | 4 | auto(l4)   | f | 19 | 26 | r | compact    |\n",
       "| volkswagen | jetta             | 2.0 | 2008 | 4 | auto(s6)   | f | 22 | 29 | p | compact    |\n",
       "| volkswagen | jetta             | 2.0 | 2008 | 4 | manual(m6) | f | 21 | 29 | p | compact    |\n",
       "| volkswagen | jetta             | 2.5 | 2008 | 5 | auto(s6)   | f | 21 | 29 | r | compact    |\n",
       "| volkswagen | jetta             | 2.5 | 2008 | 5 | manual(m5) | f | 21 | 29 | r | compact    |\n",
       "| volkswagen | jetta             | 2.8 | 1999 | 6 | auto(l4)   | f | 16 | 23 | r | compact    |\n",
       "| volkswagen | jetta             | 2.8 | 1999 | 6 | manual(m5) | f | 17 | 24 | r | compact    |\n",
       "| volkswagen | new beetle        | 1.9 | 1999 | 4 | manual(m5) | f | 35 | 44 | d | subcompact |\n",
       "| volkswagen | new beetle        | 1.9 | 1999 | 4 | auto(l4)   | f | 29 | 41 | d | subcompact |\n",
       "| volkswagen | new beetle        | 2.0 | 1999 | 4 | manual(m5) | f | 21 | 29 | r | subcompact |\n",
       "| volkswagen | new beetle        | 2.0 | 1999 | 4 | auto(l4)   | f | 19 | 26 | r | subcompact |\n",
       "| volkswagen | new beetle        | 2.5 | 2008 | 5 | manual(m5) | f | 20 | 28 | r | subcompact |\n",
       "| volkswagen | new beetle        | 2.5 | 2008 | 5 | auto(s6)   | f | 20 | 29 | r | subcompact |\n",
       "| volkswagen | passat            | 1.8 | 1999 | 4 | manual(m5) | f | 21 | 29 | p | midsize    |\n",
       "| volkswagen | passat            | 1.8 | 1999 | 4 | auto(l5)   | f | 18 | 29 | p | midsize    |\n",
       "| volkswagen | passat            | 2.0 | 2008 | 4 | auto(s6)   | f | 19 | 28 | p | midsize    |\n",
       "| volkswagen | passat            | 2.0 | 2008 | 4 | manual(m6) | f | 21 | 29 | p | midsize    |\n",
       "| volkswagen | passat            | 2.8 | 1999 | 6 | auto(l5)   | f | 16 | 26 | p | midsize    |\n",
       "| volkswagen | passat            | 2.8 | 1999 | 6 | manual(m5) | f | 18 | 26 | p | midsize    |\n",
       "| volkswagen | passat            | 3.6 | 2008 | 6 | auto(s6)   | f | 17 | 26 | p | midsize    |\n",
       "\n"
      ],
      "text/plain": [
       "    manufacturer model              displ year cyl trans      drv cty hwy fl\n",
       "1   audi         a4                 1.8   1999 4   auto(l5)   f   18  29  p \n",
       "2   audi         a4                 1.8   1999 4   manual(m5) f   21  29  p \n",
       "3   audi         a4                 2.0   2008 4   manual(m6) f   20  31  p \n",
       "4   audi         a4                 2.0   2008 4   auto(av)   f   21  30  p \n",
       "5   audi         a4                 2.8   1999 6   auto(l5)   f   16  26  p \n",
       "6   audi         a4                 2.8   1999 6   manual(m5) f   18  26  p \n",
       "7   audi         a4                 3.1   2008 6   auto(av)   f   18  27  p \n",
       "8   audi         a4 quattro         1.8   1999 4   manual(m5) 4   18  26  p \n",
       "9   audi         a4 quattro         1.8   1999 4   auto(l5)   4   16  25  p \n",
       "10  audi         a4 quattro         2.0   2008 4   manual(m6) 4   20  28  p \n",
       "11  audi         a4 quattro         2.0   2008 4   auto(s6)   4   19  27  p \n",
       "12  audi         a4 quattro         2.8   1999 6   auto(l5)   4   15  25  p \n",
       "13  audi         a4 quattro         2.8   1999 6   manual(m5) 4   17  25  p \n",
       "14  audi         a4 quattro         3.1   2008 6   auto(s6)   4   17  25  p \n",
       "15  audi         a4 quattro         3.1   2008 6   manual(m6) 4   15  25  p \n",
       "16  audi         a6 quattro         2.8   1999 6   auto(l5)   4   15  24  p \n",
       "17  audi         a6 quattro         3.1   2008 6   auto(s6)   4   17  25  p \n",
       "18  audi         a6 quattro         4.2   2008 8   auto(s6)   4   16  23  p \n",
       "19  chevrolet    c1500 suburban 2wd 5.3   2008 8   auto(l4)   r   14  20  r \n",
       "20  chevrolet    c1500 suburban 2wd 5.3   2008 8   auto(l4)   r   11  15  e \n",
       "21  chevrolet    c1500 suburban 2wd 5.3   2008 8   auto(l4)   r   14  20  r \n",
       "22  chevrolet    c1500 suburban 2wd 5.7   1999 8   auto(l4)   r   13  17  r \n",
       "23  chevrolet    c1500 suburban 2wd 6.0   2008 8   auto(l4)   r   12  17  r \n",
       "24  chevrolet    corvette           5.7   1999 8   manual(m6) r   16  26  p \n",
       "25  chevrolet    corvette           5.7   1999 8   auto(l4)   r   15  23  p \n",
       "26  chevrolet    corvette           6.2   2008 8   manual(m6) r   16  26  p \n",
       "27  chevrolet    corvette           6.2   2008 8   auto(s6)   r   15  25  p \n",
       "28  chevrolet    corvette           7.0   2008 8   manual(m6) r   15  24  p \n",
       "29  chevrolet    k1500 tahoe 4wd    5.3   2008 8   auto(l4)   4   14  19  r \n",
       "30  chevrolet    k1500 tahoe 4wd    5.3   2008 8   auto(l4)   4   11  14  e \n",
       "⋮   ⋮            ⋮                  ⋮     ⋮    ⋮   ⋮          ⋮   ⋮   ⋮   ⋮ \n",
       "205 toyota       toyota tacoma 4wd  3.4   1999 6   auto(l4)   4   15  19  r \n",
       "206 toyota       toyota tacoma 4wd  4.0   2008 6   manual(m6) 4   15  18  r \n",
       "207 toyota       toyota tacoma 4wd  4.0   2008 6   auto(l5)   4   16  20  r \n",
       "208 volkswagen   gti                2.0   1999 4   manual(m5) f   21  29  r \n",
       "209 volkswagen   gti                2.0   1999 4   auto(l4)   f   19  26  r \n",
       "210 volkswagen   gti                2.0   2008 4   manual(m6) f   21  29  p \n",
       "211 volkswagen   gti                2.0   2008 4   auto(s6)   f   22  29  p \n",
       "212 volkswagen   gti                2.8   1999 6   manual(m5) f   17  24  r \n",
       "213 volkswagen   jetta              1.9   1999 4   manual(m5) f   33  44  d \n",
       "214 volkswagen   jetta              2.0   1999 4   manual(m5) f   21  29  r \n",
       "215 volkswagen   jetta              2.0   1999 4   auto(l4)   f   19  26  r \n",
       "216 volkswagen   jetta              2.0   2008 4   auto(s6)   f   22  29  p \n",
       "217 volkswagen   jetta              2.0   2008 4   manual(m6) f   21  29  p \n",
       "218 volkswagen   jetta              2.5   2008 5   auto(s6)   f   21  29  r \n",
       "219 volkswagen   jetta              2.5   2008 5   manual(m5) f   21  29  r \n",
       "220 volkswagen   jetta              2.8   1999 6   auto(l4)   f   16  23  r \n",
       "221 volkswagen   jetta              2.8   1999 6   manual(m5) f   17  24  r \n",
       "222 volkswagen   new beetle         1.9   1999 4   manual(m5) f   35  44  d \n",
       "223 volkswagen   new beetle         1.9   1999 4   auto(l4)   f   29  41  d \n",
       "224 volkswagen   new beetle         2.0   1999 4   manual(m5) f   21  29  r \n",
       "225 volkswagen   new beetle         2.0   1999 4   auto(l4)   f   19  26  r \n",
       "226 volkswagen   new beetle         2.5   2008 5   manual(m5) f   20  28  r \n",
       "227 volkswagen   new beetle         2.5   2008 5   auto(s6)   f   20  29  r \n",
       "228 volkswagen   passat             1.8   1999 4   manual(m5) f   21  29  p \n",
       "229 volkswagen   passat             1.8   1999 4   auto(l5)   f   18  29  p \n",
       "230 volkswagen   passat             2.0   2008 4   auto(s6)   f   19  28  p \n",
       "231 volkswagen   passat             2.0   2008 4   manual(m6) f   21  29  p \n",
       "232 volkswagen   passat             2.8   1999 6   auto(l5)   f   16  26  p \n",
       "233 volkswagen   passat             2.8   1999 6   manual(m5) f   18  26  p \n",
       "234 volkswagen   passat             3.6   2008 6   auto(s6)   f   17  26  p \n",
       "    class     \n",
       "1   compact   \n",
       "2   compact   \n",
       "3   compact   \n",
       "4   compact   \n",
       "5   compact   \n",
       "6   compact   \n",
       "7   compact   \n",
       "8   compact   \n",
       "9   compact   \n",
       "10  compact   \n",
       "11  compact   \n",
       "12  compact   \n",
       "13  compact   \n",
       "14  compact   \n",
       "15  compact   \n",
       "16  midsize   \n",
       "17  midsize   \n",
       "18  midsize   \n",
       "19  suv       \n",
       "20  suv       \n",
       "21  suv       \n",
       "22  suv       \n",
       "23  suv       \n",
       "24  2seater   \n",
       "25  2seater   \n",
       "26  2seater   \n",
       "27  2seater   \n",
       "28  2seater   \n",
       "29  suv       \n",
       "30  suv       \n",
       "⋮   ⋮         \n",
       "205 pickup    \n",
       "206 pickup    \n",
       "207 pickup    \n",
       "208 compact   \n",
       "209 compact   \n",
       "210 compact   \n",
       "211 compact   \n",
       "212 compact   \n",
       "213 compact   \n",
       "214 compact   \n",
       "215 compact   \n",
       "216 compact   \n",
       "217 compact   \n",
       "218 compact   \n",
       "219 compact   \n",
       "220 compact   \n",
       "221 compact   \n",
       "222 subcompact\n",
       "223 subcompact\n",
       "224 subcompact\n",
       "225 subcompact\n",
       "226 subcompact\n",
       "227 subcompact\n",
       "228 midsize   \n",
       "229 midsize   \n",
       "230 midsize   \n",
       "231 midsize   \n",
       "232 midsize   \n",
       "233 midsize   \n",
       "234 midsize   "
      ]
     },
     "metadata": {},
     "output_type": "display_data"
    }
   ],
   "source": [
    "show_missings(mpg)"
   ]
  },
  {
   "cell_type": "markdown",
   "metadata": {
    "slideshow": {
     "slide_type": "slide"
    }
   },
   "source": [
    "To correct this tidyverse has the `invisible()` function:"
   ]
  },
  {
   "cell_type": "code",
   "execution_count": 27,
   "metadata": {},
   "outputs": [],
   "source": [
    "show_missings = function(df) {\n",
    "  n <- sum(is.na(df))\n",
    "  cat(\"Missing values: \", n, \"\\n\", sep = \"\")\n",
    "  invisible(df)  # return will not print out\n",
    "}"
   ]
  },
  {
   "cell_type": "markdown",
   "metadata": {
    "slideshow": {
     "slide_type": "slide"
    }
   },
   "source": [
    "Now we can run the command interactively, and also use it in pipelines:"
   ]
  },
  {
   "cell_type": "code",
   "execution_count": 28,
   "metadata": {
    "slideshow": {
     "slide_type": "-"
    }
   },
   "outputs": [
    {
     "name": "stdout",
     "output_type": "stream",
     "text": [
      "Missing values: 46595\n"
     ]
    }
   ],
   "source": [
    "show_missings(flights)"
   ]
  },
  {
   "cell_type": "code",
   "execution_count": 29,
   "metadata": {},
   "outputs": [
    {
     "name": "stdout",
     "output_type": "stream",
     "text": [
      "Missing values: 18387\n"
     ]
    }
   ],
   "source": [
    "flights %>% filter(month < 5) %>% show_missings"
   ]
  },
  {
   "cell_type": "markdown",
   "metadata": {
    "slideshow": {
     "slide_type": "slide"
    }
   },
   "source": [
    "## Environments\n",
    "The environment is, roughly, the set of variables and data defined in your R session. The default environment is called the \"global environment\":"
   ]
  },
  {
   "cell_type": "code",
   "execution_count": 30,
   "metadata": {},
   "outputs": [
    {
     "data": {
      "text/plain": [
       "<environment: R_GlobalEnv>"
      ]
     },
     "metadata": {},
     "output_type": "display_data"
    }
   ],
   "source": [
    "environment()"
   ]
  },
  {
   "cell_type": "markdown",
   "metadata": {
    "slideshow": {
     "slide_type": "slide"
    }
   },
   "source": [
    "A function depends on the environment in which it was defined. In particular, if you reference a variable inside of a function, which is not *defined* in that function, R will look for it in the enclosing environment."
   ]
  },
  {
   "cell_type": "code",
   "execution_count": 31,
   "metadata": {},
   "outputs": [
    {
     "data": {
      "text/html": [
       "<ol class=list-inline>\n",
       "\t<li>4</li>\n",
       "\t<li>5</li>\n",
       "\t<li>6</li>\n",
       "</ol>\n"
      ],
      "text/latex": [
       "\\begin{enumerate*}\n",
       "\\item 4\n",
       "\\item 5\n",
       "\\item 6\n",
       "\\end{enumerate*}\n"
      ],
      "text/markdown": [
       "1. 4\n",
       "2. 5\n",
       "3. 6\n",
       "\n",
       "\n"
      ],
      "text/plain": [
       "[1] 4 5 6"
      ]
     },
     "metadata": {},
     "output_type": "display_data"
    }
   ],
   "source": [
    "f = function(x) {\n",
    "    x + y\n",
    "}\n",
    "\n",
    "x = c(1, 2, 3)\n",
    "y = 3\n",
    "f(x)"
   ]
  },
  {
   "cell_type": "code",
   "execution_count": 32,
   "metadata": {},
   "outputs": [
    {
     "data": {
      "text/html": [
       "<ol class=list-inline>\n",
       "\t<li>5</li>\n",
       "\t<li>6</li>\n",
       "\t<li>7</li>\n",
       "</ol>\n"
      ],
      "text/latex": [
       "\\begin{enumerate*}\n",
       "\\item 5\n",
       "\\item 6\n",
       "\\item 7\n",
       "\\end{enumerate*}\n"
      ],
      "text/markdown": [
       "1. 5\n",
       "2. 6\n",
       "3. 7\n",
       "\n",
       "\n"
      ],
      "text/plain": [
       "[1] 5 6 7"
      ]
     },
     "metadata": {},
     "output_type": "display_data"
    }
   ],
   "source": [
    "y = 4\n",
    "f(x)"
   ]
  },
  {
   "cell_type": "code",
   "execution_count": 33,
   "metadata": {},
   "outputs": [
    {
     "data": {
      "text/html": [
       "<ol class=list-inline>\n",
       "\t<li>5</li>\n",
       "\t<li>6</li>\n",
       "\t<li>7</li>\n",
       "</ol>\n"
      ],
      "text/latex": [
       "\\begin{enumerate*}\n",
       "\\item 5\n",
       "\\item 6\n",
       "\\item 7\n",
       "\\end{enumerate*}\n"
      ],
      "text/markdown": [
       "1. 5\n",
       "2. 6\n",
       "3. 7\n",
       "\n",
       "\n"
      ],
      "text/plain": [
       "[1] 5 6 7"
      ]
     },
     "metadata": {},
     "output_type": "display_data"
    }
   ],
   "source": [
    "y = 4\n",
    "x = 2\n",
    "f(c(1, 2, 3))"
   ]
  },
  {
   "cell_type": "code",
   "execution_count": 34,
   "metadata": {},
   "outputs": [
    {
     "name": "stdout",
     "output_type": "stream",
     "text": [
      "[1] 10\n"
     ]
    },
    {
     "data": {
      "text/html": [
       "5"
      ],
      "text/latex": [
       "5"
      ],
      "text/markdown": [
       "5"
      ],
      "text/plain": [
       "[1] 5"
      ]
     },
     "metadata": {},
     "output_type": "display_data"
    }
   ],
   "source": [
    "f = function(x) {\n",
    "    x = 2*x\n",
    "    print(x)\n",
    "}\n",
    "\n",
    "x = 5\n",
    "f(x)\n",
    "x  # x is unchanged in the global environment even though we changed it inside the function"
   ]
  },
  {
   "cell_type": "markdown",
   "metadata": {},
   "source": [
    "You can assign values to variables in the enclosing environment using the `<<-` notation."
   ]
  },
  {
   "cell_type": "code",
   "execution_count": 35,
   "metadata": {},
   "outputs": [
    {
     "name": "stdout",
     "output_type": "stream",
     "text": [
      "[1] 10\n"
     ]
    },
    {
     "data": {
      "text/html": [
       "10"
      ],
      "text/latex": [
       "10"
      ],
      "text/markdown": [
       "10"
      ],
      "text/plain": [
       "[1] 10"
      ]
     },
     "metadata": {},
     "output_type": "display_data"
    }
   ],
   "source": [
    "f = function(x) {\n",
    "    x = 2*x\n",
    "    x <<- x\n",
    "    \n",
    "    print(x)\n",
    "}\n",
    "\n",
    "x = 5\n",
    "f(x)\n",
    "x  # x is now changed in the global environment since we used <<-"
   ]
  },
  {
   "cell_type": "code",
   "execution_count": 36,
   "metadata": {},
   "outputs": [
    {
     "name": "stdout",
     "output_type": "stream",
     "text": [
      "[1] 5\n"
     ]
    },
    {
     "data": {
      "text/html": [
       "5"
      ],
      "text/latex": [
       "5"
      ],
      "text/markdown": [
       "5"
      ],
      "text/plain": [
       "[1] 5"
      ]
     },
     "metadata": {},
     "output_type": "display_data"
    }
   ],
   "source": [
    "f = function(x) {\n",
    "    y <<- x\n",
    "    print(y)\n",
    "}\n",
    "\n",
    "y = 10\n",
    "f(5)\n",
    "y"
   ]
  },
  {
   "cell_type": "markdown",
   "metadata": {},
   "source": [
    "### Challenge problem\n",
    "Define a function `drop_even()` which drops all the even-numbered rows from a data frame:\n",
    "```{r}\n",
    "> tibble(x=c(1,2,3), y=c(\"a\",\"b\",\"c\")) %>% drop_even\n",
    "# A tibble: 2 x 2\n",
    "      x y    \n",
    "  <int> <chr>\n",
    "1     1 a    \n",
    "2     3 c    \n",
    "```\n",
    "Hint: Remember the modulo operator `%%` is very useful for checking for divisibility. Also you can use the function `row_number()` inside of a mutate to easily access the row numbers."
   ]
  },
  {
   "cell_type": "code",
   "execution_count": 37,
   "metadata": {
    "slideshow": {
     "slide_type": "-"
    }
   },
   "outputs": [
    {
     "data": {
      "text/html": [
       "<table>\n",
       "<caption>A tibble: 2 × 2</caption>\n",
       "<thead>\n",
       "\t<tr><th scope=col>x</th><th scope=col>y</th></tr>\n",
       "\t<tr><th scope=col>&lt;dbl&gt;</th><th scope=col>&lt;chr&gt;</th></tr>\n",
       "</thead>\n",
       "<tbody>\n",
       "\t<tr><td>1</td><td>a</td></tr>\n",
       "\t<tr><td>3</td><td>c</td></tr>\n",
       "</tbody>\n",
       "</table>\n"
      ],
      "text/latex": [
       "A tibble: 2 × 2\n",
       "\\begin{tabular}{ll}\n",
       " x & y\\\\\n",
       " <dbl> & <chr>\\\\\n",
       "\\hline\n",
       "\t 1 & a\\\\\n",
       "\t 3 & c\\\\\n",
       "\\end{tabular}\n"
      ],
      "text/markdown": [
       "\n",
       "A tibble: 2 × 2\n",
       "\n",
       "| x &lt;dbl&gt; | y &lt;chr&gt; |\n",
       "|---|---|\n",
       "| 1 | a |\n",
       "| 3 | c |\n",
       "\n"
      ],
      "text/plain": [
       "  x y\n",
       "1 1 a\n",
       "2 3 c"
      ]
     },
     "metadata": {},
     "output_type": "display_data"
    }
   ],
   "source": [
    "drop_even = function(df) {\n",
    "    df_result = df %>% mutate(rownum = row_number()) %>%\n",
    "        filter(rownum %% 2 != 0) %>%\n",
    "        select(-rownum)\n",
    "    return(df_result)\n",
    "}\n",
    "\n",
    "tibble(x=c(1,2,3), y=c(\"a\",\"b\",\"c\")) %>% drop_even"
   ]
  },
  {
   "cell_type": "markdown",
   "metadata": {
    "slideshow": {
     "slide_type": "slide"
    }
   },
   "source": [
    "### Challenge problem\n",
    "Write a function `howmany()` which prints the number of times that it has been called:\n",
    "```\n",
    "> howmany()\n",
    "[1] 1\n",
    "> howmany()\n",
    "[1] 2\n",
    "> howmany()\n",
    "[1] 3\n",
    "```\n",
    "Hint: You can use `exists('counter')` to check if the variable `counter` exists. Remember that if R can't find a variable in the current environment, it will also check the enclosing environment.\n"
   ]
  },
  {
   "cell_type": "code",
   "execution_count": 38,
   "metadata": {},
   "outputs": [
    {
     "name": "stdout",
     "output_type": "stream",
     "text": [
      "[1] 1\n",
      "[1] 2\n",
      "[1] 3\n"
     ]
    }
   ],
   "source": [
    "howmany = function() {\n",
    "    if (exists('num')) {\n",
    "        num <<- num + 1\n",
    "    } else {\n",
    "        num <<- 1\n",
    "    }\n",
    "    print(num)\n",
    "}\n",
    "\n",
    "howmany()\n",
    "howmany()\n",
    "howmany()"
   ]
  },
  {
   "cell_type": "markdown",
   "metadata": {
    "slideshow": {
     "slide_type": "slide"
    }
   },
   "source": [
    "\n",
    "Harder: write a function `same(x)` which prints \"yes!\" if `x` is the same value that was passed into `same()` on the previous call, and \"no!\" otherwise. (`same()` always prints \"no!\" to start):\n",
    "```{r}\n",
    "> same(1)\n",
    "[1] \"no!\"\n",
    "> same(1)\n",
    "[1] \"yes!\"\n",
    "> same(1)\n",
    "[1] \"yes!\"\n",
    "> same(\"hello\")\n",
    "[1] \"no!\"\n",
    "```"
   ]
  },
  {
   "cell_type": "code",
   "execution_count": 39,
   "metadata": {},
   "outputs": [
    {
     "name": "stdout",
     "output_type": "stream",
     "text": [
      "[1] \"yes!\"\n",
      "[1] \"yes!\"\n",
      "[1] \"no!\"\n"
     ]
    }
   ],
   "source": [
    "same = function(x) {\n",
    "    if (exists('storage')) {\n",
    "        if (x %in% storage) {\n",
    "            print('yes!')\n",
    "        } else {\n",
    "            print('no!')\n",
    "            storage <<- c(storage, x)\n",
    "        }\n",
    "    } else {\n",
    "        storage <<- c(x)\n",
    "    }\n",
    "}\n",
    "\n",
    "same(1)\n",
    "same(1)\n",
    "same(1)\n",
    "same('hello')"
   ]
  },
  {
   "cell_type": "code",
   "execution_count": null,
   "metadata": {},
   "outputs": [],
   "source": []
  }
 ],
 "metadata": {
  "kernelspec": {
   "display_name": "R",
   "language": "R",
   "name": "ir"
  },
  "language_info": {
   "codemirror_mode": "r",
   "file_extension": ".r",
   "mimetype": "text/x-r-source",
   "name": "R",
   "pygments_lexer": "r",
   "version": "3.6.0"
  }
 },
 "nbformat": 4,
 "nbformat_minor": 2
}
