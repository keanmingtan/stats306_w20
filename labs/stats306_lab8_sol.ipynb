{
 "cells": [
  {
   "cell_type": "markdown",
   "metadata": {},
   "source": [
    "# Lab 8 (3/9): Data Manipulation\n",
    "\n",
    "### Web pages\n",
    "Course page: https://ambujtewari.github.io/teaching/STATS306-Winter2020/\n",
    "\n",
    "Lab page: https://rogerfan.github.io/stats306_w20/\n",
    "\n",
    "### Office Hours\n",
    "    Mondays: 2-4pm, USB 2165\n",
    "    \n",
    "### Contact\n",
    "    Questions on problems: Use the slack discussions\n",
    "    If you need to email me, include in the subject line: [STATS 306]\n",
    "    Email: rogerfan@umich.edu"
   ]
  },
  {
   "cell_type": "code",
   "execution_count": 1,
   "metadata": {},
   "outputs": [
    {
     "name": "stderr",
     "output_type": "stream",
     "text": [
      "Loading required package: tidyverse\n",
      "\n",
      "── \u001b[1mAttaching packages\u001b[22m ─────────────────────────────────────── tidyverse 1.3.0 ──\n",
      "\n",
      "\u001b[32m✔\u001b[39m \u001b[34mggplot2\u001b[39m 3.2.1     \u001b[32m✔\u001b[39m \u001b[34mpurrr  \u001b[39m 0.3.3\n",
      "\u001b[32m✔\u001b[39m \u001b[34mtibble \u001b[39m 2.1.3     \u001b[32m✔\u001b[39m \u001b[34mdplyr  \u001b[39m 0.8.3\n",
      "\u001b[32m✔\u001b[39m \u001b[34mtidyr  \u001b[39m 1.0.0     \u001b[32m✔\u001b[39m \u001b[34mstringr\u001b[39m 1.4.0\n",
      "\u001b[32m✔\u001b[39m \u001b[34mreadr  \u001b[39m 1.3.1     \u001b[32m✔\u001b[39m \u001b[34mforcats\u001b[39m 0.4.0\n",
      "\n",
      "── \u001b[1mConflicts\u001b[22m ────────────────────────────────────────── tidyverse_conflicts() ──\n",
      "\u001b[31m✖\u001b[39m \u001b[34mdplyr\u001b[39m::\u001b[32mfilter()\u001b[39m masks \u001b[34mstats\u001b[39m::filter()\n",
      "\u001b[31m✖\u001b[39m \u001b[34mdplyr\u001b[39m::\u001b[32mlag()\u001b[39m    masks \u001b[34mstats\u001b[39m::lag()\n",
      "\n"
     ]
    }
   ],
   "source": [
    "require(tidyverse)\n"
   ]
  },
  {
   "cell_type": "markdown",
   "metadata": {},
   "source": [
    "## Tibble miscellanea"
   ]
  },
  {
   "cell_type": "code",
   "execution_count": 3,
   "metadata": {},
   "outputs": [
    {
     "name": "stdout",
     "output_type": "stream",
     "text": [
      "\u001b[38;5;246m# A tibble: 2 x 3\u001b[39m\n",
      "  variable1 another_var `final var`\n",
      "  \u001b[3m\u001b[38;5;246m<chr>\u001b[39m\u001b[23m           \u001b[3m\u001b[38;5;246m<dbl>\u001b[39m\u001b[23m       \u001b[3m\u001b[38;5;246m<dbl>\u001b[39m\u001b[23m\n",
      "\u001b[38;5;250m1\u001b[39m a                   2         3.6\n",
      "\u001b[38;5;250m2\u001b[39m b                   1         8.5\n"
     ]
    }
   ],
   "source": [
    "mydat = tribble(\n",
    "  ~variable1, ~another_var, ~`final var`,\n",
    "  'a', 2, 3.6,\n",
    "  'b', 1, 8.5\n",
    ")\n",
    "\n",
    "print(mydat)"
   ]
  },
  {
   "cell_type": "markdown",
   "metadata": {},
   "source": [
    "### Subsetting\n",
    "\n",
    "For selecting variables out of tibbles, you can use `$` or `[[ ]]` (in addition to `select`).\n",
    "* `$` only selects by name and requires you to hard-code in the variable name.\n",
    "* `[[ ]]` selects by name or position and takes an argument, which can be a variable.\n"
   ]
  },
  {
   "cell_type": "code",
   "execution_count": 4,
   "metadata": {},
   "outputs": [
    {
     "data": {
      "text/html": [
       "<table>\n",
       "<caption>A tibble: 2 × 3</caption>\n",
       "<thead>\n",
       "\t<tr><th scope=col>variable1</th><th scope=col>another_var</th><th scope=col>final var</th></tr>\n",
       "\t<tr><th scope=col>&lt;chr&gt;</th><th scope=col>&lt;dbl&gt;</th><th scope=col>&lt;dbl&gt;</th></tr>\n",
       "</thead>\n",
       "<tbody>\n",
       "\t<tr><td>a</td><td>2</td><td>3.6</td></tr>\n",
       "\t<tr><td>b</td><td>1</td><td>8.5</td></tr>\n",
       "</tbody>\n",
       "</table>\n"
      ],
      "text/latex": [
       "A tibble: 2 × 3\n",
       "\\begin{tabular}{lll}\n",
       " variable1 & another\\_var & final var\\\\\n",
       " <chr> & <dbl> & <dbl>\\\\\n",
       "\\hline\n",
       "\t a & 2 & 3.6\\\\\n",
       "\t b & 1 & 8.5\\\\\n",
       "\\end{tabular}\n"
      ],
      "text/markdown": [
       "\n",
       "A tibble: 2 × 3\n",
       "\n",
       "| variable1 &lt;chr&gt; | another_var &lt;dbl&gt; | final var &lt;dbl&gt; |\n",
       "|---|---|---|\n",
       "| a | 2 | 3.6 |\n",
       "| b | 1 | 8.5 |\n",
       "\n"
      ],
      "text/plain": [
       "  variable1 another_var final var\n",
       "1 a         2           3.6      \n",
       "2 b         1           8.5      "
      ]
     },
     "metadata": {},
     "output_type": "display_data"
    }
   ],
   "source": [
    "mydat"
   ]
  },
  {
   "cell_type": "code",
   "execution_count": 5,
   "metadata": {},
   "outputs": [
    {
     "data": {
      "text/html": [
       "<ol class=list-inline>\n",
       "\t<li>'a'</li>\n",
       "\t<li>'b'</li>\n",
       "</ol>\n"
      ],
      "text/latex": [
       "\\begin{enumerate*}\n",
       "\\item 'a'\n",
       "\\item 'b'\n",
       "\\end{enumerate*}\n"
      ],
      "text/markdown": [
       "1. 'a'\n",
       "2. 'b'\n",
       "\n",
       "\n"
      ],
      "text/plain": [
       "[1] \"a\" \"b\""
      ]
     },
     "metadata": {},
     "output_type": "display_data"
    }
   ],
   "source": [
    "mydat$variable1"
   ]
  },
  {
   "cell_type": "code",
   "execution_count": 6,
   "metadata": {},
   "outputs": [
    {
     "data": {
      "text/html": [
       "<ol class=list-inline>\n",
       "\t<li>'a'</li>\n",
       "\t<li>'b'</li>\n",
       "</ol>\n"
      ],
      "text/latex": [
       "\\begin{enumerate*}\n",
       "\\item 'a'\n",
       "\\item 'b'\n",
       "\\end{enumerate*}\n"
      ],
      "text/markdown": [
       "1. 'a'\n",
       "2. 'b'\n",
       "\n",
       "\n"
      ],
      "text/plain": [
       "[1] \"a\" \"b\""
      ]
     },
     "metadata": {},
     "output_type": "display_data"
    },
    {
     "data": {
      "text/html": [
       "<ol class=list-inline>\n",
       "\t<li>'a'</li>\n",
       "\t<li>'b'</li>\n",
       "</ol>\n"
      ],
      "text/latex": [
       "\\begin{enumerate*}\n",
       "\\item 'a'\n",
       "\\item 'b'\n",
       "\\end{enumerate*}\n"
      ],
      "text/markdown": [
       "1. 'a'\n",
       "2. 'b'\n",
       "\n",
       "\n"
      ],
      "text/plain": [
       "[1] \"a\" \"b\""
      ]
     },
     "metadata": {},
     "output_type": "display_data"
    }
   ],
   "source": [
    "mydat[['variable1']]\n",
    "mydat[[1]]"
   ]
  },
  {
   "cell_type": "code",
   "execution_count": 6,
   "metadata": {},
   "outputs": [
    {
     "ename": "ERROR",
     "evalue": "Error in `[[.tbl_df`(mydat, x): object 'x' not found\n",
     "output_type": "error",
     "traceback": [
      "Error in `[[.tbl_df`(mydat, x): object 'x' not found\nTraceback:\n",
      "1. mydat[[x]]",
      "2. `[[.tbl_df`(mydat, x)"
     ]
    }
   ],
   "source": [
    "mydat[[x]]"
   ]
  },
  {
   "cell_type": "code",
   "execution_count": 8,
   "metadata": {},
   "outputs": [
    {
     "data": {
      "text/html": [
       "<ol class=list-inline>\n",
       "\t<li>'a'</li>\n",
       "\t<li>'b'</li>\n",
       "</ol>\n"
      ],
      "text/latex": [
       "\\begin{enumerate*}\n",
       "\\item 'a'\n",
       "\\item 'b'\n",
       "\\end{enumerate*}\n"
      ],
      "text/markdown": [
       "1. 'a'\n",
       "2. 'b'\n",
       "\n",
       "\n"
      ],
      "text/plain": [
       "[1] \"a\" \"b\""
      ]
     },
     "metadata": {},
     "output_type": "display_data"
    }
   ],
   "source": [
    "y = 'variable1'\n",
    "mydat[[y]]"
   ]
  },
  {
   "cell_type": "code",
   "execution_count": 9,
   "metadata": {},
   "outputs": [
    {
     "data": {
      "text/html": [
       "<ol class=list-inline>\n",
       "\t<li>3.6</li>\n",
       "\t<li>8.5</li>\n",
       "</ol>\n"
      ],
      "text/latex": [
       "\\begin{enumerate*}\n",
       "\\item 3.6\n",
       "\\item 8.5\n",
       "\\end{enumerate*}\n"
      ],
      "text/markdown": [
       "1. 3.6\n",
       "2. 8.5\n",
       "\n",
       "\n"
      ],
      "text/plain": [
       "[1] 3.6 8.5"
      ]
     },
     "metadata": {},
     "output_type": "display_data"
    },
    {
     "data": {
      "text/html": [
       "<ol class=list-inline>\n",
       "\t<li>3.6</li>\n",
       "\t<li>8.5</li>\n",
       "</ol>\n"
      ],
      "text/latex": [
       "\\begin{enumerate*}\n",
       "\\item 3.6\n",
       "\\item 8.5\n",
       "\\end{enumerate*}\n"
      ],
      "text/markdown": [
       "1. 3.6\n",
       "2. 8.5\n",
       "\n",
       "\n"
      ],
      "text/plain": [
       "[1] 3.6 8.5"
      ]
     },
     "metadata": {},
     "output_type": "display_data"
    }
   ],
   "source": [
    "mydat$`final var`\n",
    "mydat[['final var']]"
   ]
  },
  {
   "cell_type": "code",
   "execution_count": 10,
   "metadata": {},
   "outputs": [
    {
     "data": {
      "text/html": [
       "<ol class=list-inline>\n",
       "\t<li>3.6</li>\n",
       "\t<li>8.5</li>\n",
       "</ol>\n"
      ],
      "text/latex": [
       "\\begin{enumerate*}\n",
       "\\item 3.6\n",
       "\\item 8.5\n",
       "\\end{enumerate*}\n"
      ],
      "text/markdown": [
       "1. 3.6\n",
       "2. 8.5\n",
       "\n",
       "\n"
      ],
      "text/plain": [
       "[1] 3.6 8.5"
      ]
     },
     "metadata": {},
     "output_type": "display_data"
    }
   ],
   "source": [
    "varname = 'final var'\n",
    "mydat[[varname]]"
   ]
  },
  {
   "cell_type": "markdown",
   "metadata": {},
   "source": [
    "## Data Import\n",
    "\n",
    "The package `readr` (part of `tidyverse`) contains several functions for reading in flat data. See the [readr documentation](https://readr.tidyverse.org/reference/index.html) for details. \n",
    "\n",
    "`read_csv` reads standard comma-delimited files. There are variants like `read_csv2` (semicolon-delimited) and `read_tsv` (tab-delimited), while `read_delim` allows reading in files with any delimiter. Note that all these read functions work both with local files and with hyperlinks.\n",
    "\n",
    "Also note that the equivalents for writing/saving data files also exist, called `write_csv`, etc.\n",
    "\n",
    "These are variants of `read.table`, `read.csv`, `write.table`, etc. which are a part of base R and can also be used for reading in files."
   ]
  },
  {
   "cell_type": "code",
   "execution_count": 12,
   "metadata": {},
   "outputs": [],
   "source": [
    "mtcars$car = rownames(mtcars)\n",
    "\n",
    "write_csv(mtcars, \"mtcars.csv\")"
   ]
  },
  {
   "cell_type": "code",
   "execution_count": 13,
   "metadata": {},
   "outputs": [
    {
     "name": "stderr",
     "output_type": "stream",
     "text": [
      "Parsed with column specification:\n",
      "cols(\n",
      "  mpg = \u001b[32mcol_double()\u001b[39m,\n",
      "  cyl = \u001b[32mcol_double()\u001b[39m,\n",
      "  disp = \u001b[32mcol_double()\u001b[39m,\n",
      "  hp = \u001b[32mcol_double()\u001b[39m,\n",
      "  drat = \u001b[32mcol_double()\u001b[39m,\n",
      "  wt = \u001b[32mcol_double()\u001b[39m,\n",
      "  qsec = \u001b[32mcol_double()\u001b[39m,\n",
      "  vs = \u001b[32mcol_double()\u001b[39m,\n",
      "  am = \u001b[32mcol_double()\u001b[39m,\n",
      "  gear = \u001b[32mcol_double()\u001b[39m,\n",
      "  carb = \u001b[32mcol_double()\u001b[39m,\n",
      "  car = \u001b[31mcol_character()\u001b[39m\n",
      ")\n",
      "\n"
     ]
    },
    {
     "data": {
      "text/html": [
       "<table>\n",
       "<caption>A tibble: 6 × 12</caption>\n",
       "<thead>\n",
       "\t<tr><th scope=col>mpg</th><th scope=col>cyl</th><th scope=col>disp</th><th scope=col>hp</th><th scope=col>drat</th><th scope=col>wt</th><th scope=col>qsec</th><th scope=col>vs</th><th scope=col>am</th><th scope=col>gear</th><th scope=col>carb</th><th scope=col>car</th></tr>\n",
       "\t<tr><th scope=col>&lt;dbl&gt;</th><th scope=col>&lt;dbl&gt;</th><th scope=col>&lt;dbl&gt;</th><th scope=col>&lt;dbl&gt;</th><th scope=col>&lt;dbl&gt;</th><th scope=col>&lt;dbl&gt;</th><th scope=col>&lt;dbl&gt;</th><th scope=col>&lt;dbl&gt;</th><th scope=col>&lt;dbl&gt;</th><th scope=col>&lt;dbl&gt;</th><th scope=col>&lt;dbl&gt;</th><th scope=col>&lt;chr&gt;</th></tr>\n",
       "</thead>\n",
       "<tbody>\n",
       "\t<tr><td>21.0</td><td>6</td><td>160</td><td>110</td><td>3.90</td><td>2.620</td><td>16.46</td><td>0</td><td>1</td><td>4</td><td>4</td><td>Mazda RX4        </td></tr>\n",
       "\t<tr><td>21.0</td><td>6</td><td>160</td><td>110</td><td>3.90</td><td>2.875</td><td>17.02</td><td>0</td><td>1</td><td>4</td><td>4</td><td>Mazda RX4 Wag    </td></tr>\n",
       "\t<tr><td>22.8</td><td>4</td><td>108</td><td> 93</td><td>3.85</td><td>2.320</td><td>18.61</td><td>1</td><td>1</td><td>4</td><td>1</td><td>Datsun 710       </td></tr>\n",
       "\t<tr><td>21.4</td><td>6</td><td>258</td><td>110</td><td>3.08</td><td>3.215</td><td>19.44</td><td>1</td><td>0</td><td>3</td><td>1</td><td>Hornet 4 Drive   </td></tr>\n",
       "\t<tr><td>18.7</td><td>8</td><td>360</td><td>175</td><td>3.15</td><td>3.440</td><td>17.02</td><td>0</td><td>0</td><td>3</td><td>2</td><td>Hornet Sportabout</td></tr>\n",
       "\t<tr><td>18.1</td><td>6</td><td>225</td><td>105</td><td>2.76</td><td>3.460</td><td>20.22</td><td>1</td><td>0</td><td>3</td><td>1</td><td>Valiant          </td></tr>\n",
       "</tbody>\n",
       "</table>\n"
      ],
      "text/latex": [
       "A tibble: 6 × 12\n",
       "\\begin{tabular}{llllllllllll}\n",
       " mpg & cyl & disp & hp & drat & wt & qsec & vs & am & gear & carb & car\\\\\n",
       " <dbl> & <dbl> & <dbl> & <dbl> & <dbl> & <dbl> & <dbl> & <dbl> & <dbl> & <dbl> & <dbl> & <chr>\\\\\n",
       "\\hline\n",
       "\t 21.0 & 6 & 160 & 110 & 3.90 & 2.620 & 16.46 & 0 & 1 & 4 & 4 & Mazda RX4        \\\\\n",
       "\t 21.0 & 6 & 160 & 110 & 3.90 & 2.875 & 17.02 & 0 & 1 & 4 & 4 & Mazda RX4 Wag    \\\\\n",
       "\t 22.8 & 4 & 108 &  93 & 3.85 & 2.320 & 18.61 & 1 & 1 & 4 & 1 & Datsun 710       \\\\\n",
       "\t 21.4 & 6 & 258 & 110 & 3.08 & 3.215 & 19.44 & 1 & 0 & 3 & 1 & Hornet 4 Drive   \\\\\n",
       "\t 18.7 & 8 & 360 & 175 & 3.15 & 3.440 & 17.02 & 0 & 0 & 3 & 2 & Hornet Sportabout\\\\\n",
       "\t 18.1 & 6 & 225 & 105 & 2.76 & 3.460 & 20.22 & 1 & 0 & 3 & 1 & Valiant          \\\\\n",
       "\\end{tabular}\n"
      ],
      "text/markdown": [
       "\n",
       "A tibble: 6 × 12\n",
       "\n",
       "| mpg &lt;dbl&gt; | cyl &lt;dbl&gt; | disp &lt;dbl&gt; | hp &lt;dbl&gt; | drat &lt;dbl&gt; | wt &lt;dbl&gt; | qsec &lt;dbl&gt; | vs &lt;dbl&gt; | am &lt;dbl&gt; | gear &lt;dbl&gt; | carb &lt;dbl&gt; | car &lt;chr&gt; |\n",
       "|---|---|---|---|---|---|---|---|---|---|---|---|\n",
       "| 21.0 | 6 | 160 | 110 | 3.90 | 2.620 | 16.46 | 0 | 1 | 4 | 4 | Mazda RX4         |\n",
       "| 21.0 | 6 | 160 | 110 | 3.90 | 2.875 | 17.02 | 0 | 1 | 4 | 4 | Mazda RX4 Wag     |\n",
       "| 22.8 | 4 | 108 |  93 | 3.85 | 2.320 | 18.61 | 1 | 1 | 4 | 1 | Datsun 710        |\n",
       "| 21.4 | 6 | 258 | 110 | 3.08 | 3.215 | 19.44 | 1 | 0 | 3 | 1 | Hornet 4 Drive    |\n",
       "| 18.7 | 8 | 360 | 175 | 3.15 | 3.440 | 17.02 | 0 | 0 | 3 | 2 | Hornet Sportabout |\n",
       "| 18.1 | 6 | 225 | 105 | 2.76 | 3.460 | 20.22 | 1 | 0 | 3 | 1 | Valiant           |\n",
       "\n"
      ],
      "text/plain": [
       "  mpg  cyl disp hp  drat wt    qsec  vs am gear carb car              \n",
       "1 21.0 6   160  110 3.90 2.620 16.46 0  1  4    4    Mazda RX4        \n",
       "2 21.0 6   160  110 3.90 2.875 17.02 0  1  4    4    Mazda RX4 Wag    \n",
       "3 22.8 4   108   93 3.85 2.320 18.61 1  1  4    1    Datsun 710       \n",
       "4 21.4 6   258  110 3.08 3.215 19.44 1  0  3    1    Hornet 4 Drive   \n",
       "5 18.7 8   360  175 3.15 3.440 17.02 0  0  3    2    Hornet Sportabout\n",
       "6 18.1 6   225  105 2.76 3.460 20.22 1  0  3    1    Valiant          "
      ]
     },
     "metadata": {},
     "output_type": "display_data"
    }
   ],
   "source": [
    "mydat = read_csv(\"mtcars.csv\")\n",
    "head(mydat)"
   ]
  },
  {
   "cell_type": "markdown",
   "metadata": {},
   "source": [
    "An option that commonly needs tweaking is `na`: this specifies the value (or values) that are used to represent missing values in your file:"
   ]
  },
  {
   "cell_type": "code",
   "execution_count": 16,
   "metadata": {},
   "outputs": [
    {
     "data": {
      "text/html": [
       "<table>\n",
       "<thead><tr><th scope=col>a</th><th scope=col>b</th><th scope=col>c</th></tr></thead>\n",
       "<tbody>\n",
       "\t<tr><td>1 </td><td>2 </td><td>NA</td></tr>\n",
       "</tbody>\n",
       "</table>\n"
      ],
      "text/latex": [
       "\\begin{tabular}{r|lll}\n",
       " a & b & c\\\\\n",
       "\\hline\n",
       "\t 1  & 2  & NA\\\\\n",
       "\\end{tabular}\n"
      ],
      "text/markdown": [
       "\n",
       "a | b | c | \n",
       "|---|\n",
       "| 1  | 2  | NA | \n",
       "\n",
       "\n"
      ],
      "text/plain": [
       "  a b c \n",
       "1 1 2 NA"
      ]
     },
     "metadata": {},
     "output_type": "display_data"
    }
   ],
   "source": [
    "read_csv(\n",
    "\"a,b,c\n",
    "1,2,.\", na='.')"
   ]
  },
  {
   "cell_type": "markdown",
   "metadata": {},
   "source": [
    "## `pivot_longer` and `pivot_wider`"
   ]
  },
  {
   "cell_type": "markdown",
   "metadata": {},
   "source": [
    "Remember that `pivot_longer` transforms datasets from \"wide\" to \"long,\" collecting different column names into a variable. `pivot_wider` does the opposite, turning \"long\" datasets into \"wide\" ones by spreading out a variable's values into several columns"
   ]
  },
  {
   "cell_type": "code",
   "execution_count": 29,
   "metadata": {},
   "outputs": [
    {
     "data": {
      "text/html": [
       "<table>\n",
       "<caption>A tibble: 2 × 4</caption>\n",
       "<thead>\n",
       "\t<tr><th scope=col>student</th><th scope=col>2015</th><th scope=col>2016</th><th scope=col>2017</th></tr>\n",
       "\t<tr><th scope=col>&lt;chr&gt;</th><th scope=col>&lt;dbl&gt;</th><th scope=col>&lt;dbl&gt;</th><th scope=col>&lt;dbl&gt;</th></tr>\n",
       "</thead>\n",
       "<tbody>\n",
       "\t<tr><td>Roger</td><td>83</td><td>89</td><td>93</td></tr>\n",
       "\t<tr><td>Jon  </td><td>92</td><td>90</td><td>93</td></tr>\n",
       "</tbody>\n",
       "</table>\n"
      ],
      "text/latex": [
       "A tibble: 2 × 4\n",
       "\\begin{tabular}{llll}\n",
       " student & 2015 & 2016 & 2017\\\\\n",
       " <chr> & <dbl> & <dbl> & <dbl>\\\\\n",
       "\\hline\n",
       "\t Roger & 83 & 89 & 93\\\\\n",
       "\t Jon   & 92 & 90 & 93\\\\\n",
       "\\end{tabular}\n"
      ],
      "text/markdown": [
       "\n",
       "A tibble: 2 × 4\n",
       "\n",
       "| student &lt;chr&gt; | 2015 &lt;dbl&gt; | 2016 &lt;dbl&gt; | 2017 &lt;dbl&gt; |\n",
       "|---|---|---|---|\n",
       "| Roger | 83 | 89 | 93 |\n",
       "| Jon   | 92 | 90 | 93 |\n",
       "\n"
      ],
      "text/plain": [
       "  student 2015 2016 2017\n",
       "1 Roger   83   89   93  \n",
       "2 Jon     92   90   93  "
      ]
     },
     "metadata": {},
     "output_type": "display_data"
    }
   ],
   "source": [
    "grades_wide = tribble(\n",
    "  ~student,  ~`2015`, ~`2016`, ~`2017`,\n",
    "'Roger',       83,      89,      93,\n",
    "  'Jon',       92,      90,      93)\n",
    "grades_wide"
   ]
  },
  {
   "cell_type": "code",
   "execution_count": 30,
   "metadata": {},
   "outputs": [
    {
     "data": {
      "text/html": [
       "<table>\n",
       "<caption>A tibble: 6 × 3</caption>\n",
       "<thead>\n",
       "\t<tr><th scope=col>student</th><th scope=col>year</th><th scope=col>grade</th></tr>\n",
       "\t<tr><th scope=col>&lt;chr&gt;</th><th scope=col>&lt;chr&gt;</th><th scope=col>&lt;dbl&gt;</th></tr>\n",
       "</thead>\n",
       "<tbody>\n",
       "\t<tr><td>Roger</td><td>2015</td><td>83</td></tr>\n",
       "\t<tr><td>Roger</td><td>2016</td><td>89</td></tr>\n",
       "\t<tr><td>Roger</td><td>2017</td><td>93</td></tr>\n",
       "\t<tr><td>Jon  </td><td>2015</td><td>92</td></tr>\n",
       "\t<tr><td>Jon  </td><td>2016</td><td>90</td></tr>\n",
       "\t<tr><td>Jon  </td><td>2017</td><td>93</td></tr>\n",
       "</tbody>\n",
       "</table>\n"
      ],
      "text/latex": [
       "A tibble: 6 × 3\n",
       "\\begin{tabular}{lll}\n",
       " student & year & grade\\\\\n",
       " <chr> & <chr> & <dbl>\\\\\n",
       "\\hline\n",
       "\t Roger & 2015 & 83\\\\\n",
       "\t Roger & 2016 & 89\\\\\n",
       "\t Roger & 2017 & 93\\\\\n",
       "\t Jon   & 2015 & 92\\\\\n",
       "\t Jon   & 2016 & 90\\\\\n",
       "\t Jon   & 2017 & 93\\\\\n",
       "\\end{tabular}\n"
      ],
      "text/markdown": [
       "\n",
       "A tibble: 6 × 3\n",
       "\n",
       "| student &lt;chr&gt; | year &lt;chr&gt; | grade &lt;dbl&gt; |\n",
       "|---|---|---|\n",
       "| Roger | 2015 | 83 |\n",
       "| Roger | 2016 | 89 |\n",
       "| Roger | 2017 | 93 |\n",
       "| Jon   | 2015 | 92 |\n",
       "| Jon   | 2016 | 90 |\n",
       "| Jon   | 2017 | 93 |\n",
       "\n"
      ],
      "text/plain": [
       "  student year grade\n",
       "1 Roger   2015 83   \n",
       "2 Roger   2016 89   \n",
       "3 Roger   2017 93   \n",
       "4 Jon     2015 92   \n",
       "5 Jon     2016 90   \n",
       "6 Jon     2017 93   "
      ]
     },
     "metadata": {},
     "output_type": "display_data"
    }
   ],
   "source": [
    "grades_long = grades_wide %>% \n",
    "    pivot_longer(\n",
    "        `2015`:`2017`, \n",
    "        names_to=\"year\", \n",
    "        values_to=\"grade\"\n",
    "    )\n",
    "\n",
    "grades_long"
   ]
  },
  {
   "cell_type": "code",
   "execution_count": 31,
   "metadata": {},
   "outputs": [
    {
     "data": {
      "text/html": [
       "<table>\n",
       "<caption>A tibble: 2 × 4</caption>\n",
       "<thead>\n",
       "\t<tr><th scope=col>student</th><th scope=col>2015</th><th scope=col>2016</th><th scope=col>2017</th></tr>\n",
       "\t<tr><th scope=col>&lt;chr&gt;</th><th scope=col>&lt;dbl&gt;</th><th scope=col>&lt;dbl&gt;</th><th scope=col>&lt;dbl&gt;</th></tr>\n",
       "</thead>\n",
       "<tbody>\n",
       "\t<tr><td>Roger</td><td>83</td><td>89</td><td>93</td></tr>\n",
       "\t<tr><td>Jon  </td><td>92</td><td>90</td><td>93</td></tr>\n",
       "</tbody>\n",
       "</table>\n"
      ],
      "text/latex": [
       "A tibble: 2 × 4\n",
       "\\begin{tabular}{llll}\n",
       " student & 2015 & 2016 & 2017\\\\\n",
       " <chr> & <dbl> & <dbl> & <dbl>\\\\\n",
       "\\hline\n",
       "\t Roger & 83 & 89 & 93\\\\\n",
       "\t Jon   & 92 & 90 & 93\\\\\n",
       "\\end{tabular}\n"
      ],
      "text/markdown": [
       "\n",
       "A tibble: 2 × 4\n",
       "\n",
       "| student &lt;chr&gt; | 2015 &lt;dbl&gt; | 2016 &lt;dbl&gt; | 2017 &lt;dbl&gt; |\n",
       "|---|---|---|---|\n",
       "| Roger | 83 | 89 | 93 |\n",
       "| Jon   | 92 | 90 | 93 |\n",
       "\n"
      ],
      "text/plain": [
       "  student 2015 2016 2017\n",
       "1 Roger   83   89   93  \n",
       "2 Jon     92   90   93  "
      ]
     },
     "metadata": {},
     "output_type": "display_data"
    }
   ],
   "source": [
    "grades_long %>% \n",
    "    pivot_wider(\n",
    "        names_from=\"year\", \n",
    "        values_from=\"grade\"\n",
    "    )"
   ]
  },
  {
   "cell_type": "code",
   "execution_count": null,
   "metadata": {},
   "outputs": [],
   "source": []
  },
  {
   "cell_type": "markdown",
   "metadata": {},
   "source": [
    "### Pivoting with multiple value columns"
   ]
  },
  {
   "cell_type": "code",
   "execution_count": 41,
   "metadata": {},
   "outputs": [
    {
     "data": {
      "text/html": [
       "<table>\n",
       "<caption>A tibble: 5 × 5</caption>\n",
       "<thead>\n",
       "\t<tr><th scope=col>family</th><th scope=col>dob_child1</th><th scope=col>dob_child2</th><th scope=col>gender_child1</th><th scope=col>gender_child2</th></tr>\n",
       "\t<tr><th scope=col>&lt;int&gt;</th><th scope=col>&lt;chr&gt;</th><th scope=col>&lt;chr&gt;</th><th scope=col>&lt;int&gt;</th><th scope=col>&lt;int&gt;</th></tr>\n",
       "</thead>\n",
       "<tbody>\n",
       "\t<tr><td>1</td><td>1998-11-26</td><td>2000-01-29</td><td>1</td><td> 2</td></tr>\n",
       "\t<tr><td>2</td><td>1996-06-22</td><td>NA        </td><td>2</td><td>NA</td></tr>\n",
       "\t<tr><td>3</td><td>2002-07-11</td><td>2004-04-05</td><td>2</td><td> 2</td></tr>\n",
       "\t<tr><td>4</td><td>2004-10-10</td><td>2009-08-27</td><td>1</td><td> 1</td></tr>\n",
       "\t<tr><td>5</td><td>2000-12-05</td><td>2005-02-28</td><td>2</td><td> 1</td></tr>\n",
       "</tbody>\n",
       "</table>\n"
      ],
      "text/latex": [
       "A tibble: 5 × 5\n",
       "\\begin{tabular}{lllll}\n",
       " family & dob\\_child1 & dob\\_child2 & gender\\_child1 & gender\\_child2\\\\\n",
       " <int> & <chr> & <chr> & <int> & <int>\\\\\n",
       "\\hline\n",
       "\t 1 & 1998-11-26 & 2000-01-29 & 1 &  2\\\\\n",
       "\t 2 & 1996-06-22 & NA         & 2 & NA\\\\\n",
       "\t 3 & 2002-07-11 & 2004-04-05 & 2 &  2\\\\\n",
       "\t 4 & 2004-10-10 & 2009-08-27 & 1 &  1\\\\\n",
       "\t 5 & 2000-12-05 & 2005-02-28 & 2 &  1\\\\\n",
       "\\end{tabular}\n"
      ],
      "text/markdown": [
       "\n",
       "A tibble: 5 × 5\n",
       "\n",
       "| family &lt;int&gt; | dob_child1 &lt;chr&gt; | dob_child2 &lt;chr&gt; | gender_child1 &lt;int&gt; | gender_child2 &lt;int&gt; |\n",
       "|---|---|---|---|---|\n",
       "| 1 | 1998-11-26 | 2000-01-29 | 1 |  2 |\n",
       "| 2 | 1996-06-22 | NA         | 2 | NA |\n",
       "| 3 | 2002-07-11 | 2004-04-05 | 2 |  2 |\n",
       "| 4 | 2004-10-10 | 2009-08-27 | 1 |  1 |\n",
       "| 5 | 2000-12-05 | 2005-02-28 | 2 |  1 |\n",
       "\n"
      ],
      "text/plain": [
       "  family dob_child1 dob_child2 gender_child1 gender_child2\n",
       "1 1      1998-11-26 2000-01-29 1              2           \n",
       "2 2      1996-06-22 NA         2             NA           \n",
       "3 3      2002-07-11 2004-04-05 2              2           \n",
       "4 4      2004-10-10 2009-08-27 1              1           \n",
       "5 5      2000-12-05 2005-02-28 2              1           "
      ]
     },
     "metadata": {},
     "output_type": "display_data"
    }
   ],
   "source": [
    "family_wide <- tribble(\n",
    "  ~family,  ~dob_child1,  ~dob_child2, ~gender_child1, ~gender_child2,\n",
    "       1L, \"1998-11-26\", \"2000-01-29\",             1L,             2L,\n",
    "       2L, \"1996-06-22\",           NA,             2L,             NA,\n",
    "       3L, \"2002-07-11\", \"2004-04-05\",             2L,             2L,\n",
    "       4L, \"2004-10-10\", \"2009-08-27\",             1L,             1L,\n",
    "       5L, \"2000-12-05\", \"2005-02-28\",             2L,             1L,\n",
    ")\n",
    "family_wide"
   ]
  },
  {
   "cell_type": "markdown",
   "metadata": {},
   "source": [
    "If your variable names are well-formatted you can use the `names_sep` argument to separate the column names.\n",
    "\n",
    "Note that the special argument `.value` is used to denote which part of the column name denotes the new value columns."
   ]
  },
  {
   "cell_type": "code",
   "execution_count": 42,
   "metadata": {},
   "outputs": [
    {
     "data": {
      "text/html": [
       "<table>\n",
       "<caption>A tibble: 10 × 4</caption>\n",
       "<thead>\n",
       "\t<tr><th scope=col>family</th><th scope=col>child</th><th scope=col>dob</th><th scope=col>gender</th></tr>\n",
       "\t<tr><th scope=col>&lt;int&gt;</th><th scope=col>&lt;chr&gt;</th><th scope=col>&lt;chr&gt;</th><th scope=col>&lt;int&gt;</th></tr>\n",
       "</thead>\n",
       "<tbody>\n",
       "\t<tr><td>1</td><td>child1</td><td>1998-11-26</td><td> 1</td></tr>\n",
       "\t<tr><td>1</td><td>child2</td><td>2000-01-29</td><td> 2</td></tr>\n",
       "\t<tr><td>2</td><td>child1</td><td>1996-06-22</td><td> 2</td></tr>\n",
       "\t<tr><td>2</td><td>child2</td><td>NA        </td><td>NA</td></tr>\n",
       "\t<tr><td>3</td><td>child1</td><td>2002-07-11</td><td> 2</td></tr>\n",
       "\t<tr><td>3</td><td>child2</td><td>2004-04-05</td><td> 2</td></tr>\n",
       "\t<tr><td>4</td><td>child1</td><td>2004-10-10</td><td> 1</td></tr>\n",
       "\t<tr><td>4</td><td>child2</td><td>2009-08-27</td><td> 1</td></tr>\n",
       "\t<tr><td>5</td><td>child1</td><td>2000-12-05</td><td> 2</td></tr>\n",
       "\t<tr><td>5</td><td>child2</td><td>2005-02-28</td><td> 1</td></tr>\n",
       "</tbody>\n",
       "</table>\n"
      ],
      "text/latex": [
       "A tibble: 10 × 4\n",
       "\\begin{tabular}{llll}\n",
       " family & child & dob & gender\\\\\n",
       " <int> & <chr> & <chr> & <int>\\\\\n",
       "\\hline\n",
       "\t 1 & child1 & 1998-11-26 &  1\\\\\n",
       "\t 1 & child2 & 2000-01-29 &  2\\\\\n",
       "\t 2 & child1 & 1996-06-22 &  2\\\\\n",
       "\t 2 & child2 & NA         & NA\\\\\n",
       "\t 3 & child1 & 2002-07-11 &  2\\\\\n",
       "\t 3 & child2 & 2004-04-05 &  2\\\\\n",
       "\t 4 & child1 & 2004-10-10 &  1\\\\\n",
       "\t 4 & child2 & 2009-08-27 &  1\\\\\n",
       "\t 5 & child1 & 2000-12-05 &  2\\\\\n",
       "\t 5 & child2 & 2005-02-28 &  1\\\\\n",
       "\\end{tabular}\n"
      ],
      "text/markdown": [
       "\n",
       "A tibble: 10 × 4\n",
       "\n",
       "| family &lt;int&gt; | child &lt;chr&gt; | dob &lt;chr&gt; | gender &lt;int&gt; |\n",
       "|---|---|---|---|\n",
       "| 1 | child1 | 1998-11-26 |  1 |\n",
       "| 1 | child2 | 2000-01-29 |  2 |\n",
       "| 2 | child1 | 1996-06-22 |  2 |\n",
       "| 2 | child2 | NA         | NA |\n",
       "| 3 | child1 | 2002-07-11 |  2 |\n",
       "| 3 | child2 | 2004-04-05 |  2 |\n",
       "| 4 | child1 | 2004-10-10 |  1 |\n",
       "| 4 | child2 | 2009-08-27 |  1 |\n",
       "| 5 | child1 | 2000-12-05 |  2 |\n",
       "| 5 | child2 | 2005-02-28 |  1 |\n",
       "\n"
      ],
      "text/plain": [
       "   family child  dob        gender\n",
       "1  1      child1 1998-11-26  1    \n",
       "2  1      child2 2000-01-29  2    \n",
       "3  2      child1 1996-06-22  2    \n",
       "4  2      child2 NA         NA    \n",
       "5  3      child1 2002-07-11  2    \n",
       "6  3      child2 2004-04-05  2    \n",
       "7  4      child1 2004-10-10  1    \n",
       "8  4      child2 2009-08-27  1    \n",
       "9  5      child1 2000-12-05  2    \n",
       "10 5      child2 2005-02-28  1    "
      ]
     },
     "metadata": {},
     "output_type": "display_data"
    }
   ],
   "source": [
    "family_long = family_wide %>%\n",
    "    pivot_longer(\n",
    "        -family,\n",
    "        names_to = c('.value', 'child'),\n",
    "        names_sep = '_'\n",
    "    )\n",
    "\n",
    "family_long"
   ]
  },
  {
   "cell_type": "code",
   "execution_count": 43,
   "metadata": {},
   "outputs": [
    {
     "data": {
      "text/html": [
       "<table>\n",
       "<caption>A tibble: 5 × 5</caption>\n",
       "<thead>\n",
       "\t<tr><th scope=col>family</th><th scope=col>dob_child1</th><th scope=col>dob_child2</th><th scope=col>gender_child1</th><th scope=col>gender_child2</th></tr>\n",
       "\t<tr><th scope=col>&lt;int&gt;</th><th scope=col>&lt;chr&gt;</th><th scope=col>&lt;chr&gt;</th><th scope=col>&lt;int&gt;</th><th scope=col>&lt;int&gt;</th></tr>\n",
       "</thead>\n",
       "<tbody>\n",
       "\t<tr><td>1</td><td>1998-11-26</td><td>2000-01-29</td><td>1</td><td> 2</td></tr>\n",
       "\t<tr><td>2</td><td>1996-06-22</td><td>NA        </td><td>2</td><td>NA</td></tr>\n",
       "\t<tr><td>3</td><td>2002-07-11</td><td>2004-04-05</td><td>2</td><td> 2</td></tr>\n",
       "\t<tr><td>4</td><td>2004-10-10</td><td>2009-08-27</td><td>1</td><td> 1</td></tr>\n",
       "\t<tr><td>5</td><td>2000-12-05</td><td>2005-02-28</td><td>2</td><td> 1</td></tr>\n",
       "</tbody>\n",
       "</table>\n"
      ],
      "text/latex": [
       "A tibble: 5 × 5\n",
       "\\begin{tabular}{lllll}\n",
       " family & dob\\_child1 & dob\\_child2 & gender\\_child1 & gender\\_child2\\\\\n",
       " <int> & <chr> & <chr> & <int> & <int>\\\\\n",
       "\\hline\n",
       "\t 1 & 1998-11-26 & 2000-01-29 & 1 &  2\\\\\n",
       "\t 2 & 1996-06-22 & NA         & 2 & NA\\\\\n",
       "\t 3 & 2002-07-11 & 2004-04-05 & 2 &  2\\\\\n",
       "\t 4 & 2004-10-10 & 2009-08-27 & 1 &  1\\\\\n",
       "\t 5 & 2000-12-05 & 2005-02-28 & 2 &  1\\\\\n",
       "\\end{tabular}\n"
      ],
      "text/markdown": [
       "\n",
       "A tibble: 5 × 5\n",
       "\n",
       "| family &lt;int&gt; | dob_child1 &lt;chr&gt; | dob_child2 &lt;chr&gt; | gender_child1 &lt;int&gt; | gender_child2 &lt;int&gt; |\n",
       "|---|---|---|---|---|\n",
       "| 1 | 1998-11-26 | 2000-01-29 | 1 |  2 |\n",
       "| 2 | 1996-06-22 | NA         | 2 | NA |\n",
       "| 3 | 2002-07-11 | 2004-04-05 | 2 |  2 |\n",
       "| 4 | 2004-10-10 | 2009-08-27 | 1 |  1 |\n",
       "| 5 | 2000-12-05 | 2005-02-28 | 2 |  1 |\n",
       "\n"
      ],
      "text/plain": [
       "  family dob_child1 dob_child2 gender_child1 gender_child2\n",
       "1 1      1998-11-26 2000-01-29 1              2           \n",
       "2 2      1996-06-22 NA         2             NA           \n",
       "3 3      2002-07-11 2004-04-05 2              2           \n",
       "4 4      2004-10-10 2009-08-27 1              1           \n",
       "5 5      2000-12-05 2005-02-28 2              1           "
      ]
     },
     "metadata": {},
     "output_type": "display_data"
    }
   ],
   "source": [
    "family_long %>%\n",
    "    pivot_wider(\n",
    "        names_from = c('child'),\n",
    "        values_from = c('dob', 'gender')\n",
    "    )"
   ]
  },
  {
   "cell_type": "markdown",
   "metadata": {},
   "source": [
    "For more complex variable names, you can also use the `names_pattern` to match any pattern that exists."
   ]
  },
  {
   "cell_type": "code",
   "execution_count": 44,
   "metadata": {},
   "outputs": [
    {
     "data": {
      "text/html": [
       "<table>\n",
       "<caption>A tibble: 10 × 4</caption>\n",
       "<thead>\n",
       "\t<tr><th scope=col>family</th><th scope=col>child</th><th scope=col>dob</th><th scope=col>gender</th></tr>\n",
       "\t<tr><th scope=col>&lt;int&gt;</th><th scope=col>&lt;chr&gt;</th><th scope=col>&lt;chr&gt;</th><th scope=col>&lt;int&gt;</th></tr>\n",
       "</thead>\n",
       "<tbody>\n",
       "\t<tr><td>1</td><td>child1</td><td>1998-11-26</td><td> 1</td></tr>\n",
       "\t<tr><td>1</td><td>child2</td><td>2000-01-29</td><td> 2</td></tr>\n",
       "\t<tr><td>2</td><td>child1</td><td>1996-06-22</td><td> 2</td></tr>\n",
       "\t<tr><td>2</td><td>child2</td><td>NA        </td><td>NA</td></tr>\n",
       "\t<tr><td>3</td><td>child1</td><td>2002-07-11</td><td> 2</td></tr>\n",
       "\t<tr><td>3</td><td>child2</td><td>2004-04-05</td><td> 2</td></tr>\n",
       "\t<tr><td>4</td><td>child1</td><td>2004-10-10</td><td> 1</td></tr>\n",
       "\t<tr><td>4</td><td>child2</td><td>2009-08-27</td><td> 1</td></tr>\n",
       "\t<tr><td>5</td><td>child1</td><td>2000-12-05</td><td> 2</td></tr>\n",
       "\t<tr><td>5</td><td>child2</td><td>2005-02-28</td><td> 1</td></tr>\n",
       "</tbody>\n",
       "</table>\n"
      ],
      "text/latex": [
       "A tibble: 10 × 4\n",
       "\\begin{tabular}{llll}\n",
       " family & child & dob & gender\\\\\n",
       " <int> & <chr> & <chr> & <int>\\\\\n",
       "\\hline\n",
       "\t 1 & child1 & 1998-11-26 &  1\\\\\n",
       "\t 1 & child2 & 2000-01-29 &  2\\\\\n",
       "\t 2 & child1 & 1996-06-22 &  2\\\\\n",
       "\t 2 & child2 & NA         & NA\\\\\n",
       "\t 3 & child1 & 2002-07-11 &  2\\\\\n",
       "\t 3 & child2 & 2004-04-05 &  2\\\\\n",
       "\t 4 & child1 & 2004-10-10 &  1\\\\\n",
       "\t 4 & child2 & 2009-08-27 &  1\\\\\n",
       "\t 5 & child1 & 2000-12-05 &  2\\\\\n",
       "\t 5 & child2 & 2005-02-28 &  1\\\\\n",
       "\\end{tabular}\n"
      ],
      "text/markdown": [
       "\n",
       "A tibble: 10 × 4\n",
       "\n",
       "| family &lt;int&gt; | child &lt;chr&gt; | dob &lt;chr&gt; | gender &lt;int&gt; |\n",
       "|---|---|---|---|\n",
       "| 1 | child1 | 1998-11-26 |  1 |\n",
       "| 1 | child2 | 2000-01-29 |  2 |\n",
       "| 2 | child1 | 1996-06-22 |  2 |\n",
       "| 2 | child2 | NA         | NA |\n",
       "| 3 | child1 | 2002-07-11 |  2 |\n",
       "| 3 | child2 | 2004-04-05 |  2 |\n",
       "| 4 | child1 | 2004-10-10 |  1 |\n",
       "| 4 | child2 | 2009-08-27 |  1 |\n",
       "| 5 | child1 | 2000-12-05 |  2 |\n",
       "| 5 | child2 | 2005-02-28 |  1 |\n",
       "\n"
      ],
      "text/plain": [
       "   family child  dob        gender\n",
       "1  1      child1 1998-11-26  1    \n",
       "2  1      child2 2000-01-29  2    \n",
       "3  2      child1 1996-06-22  2    \n",
       "4  2      child2 NA         NA    \n",
       "5  3      child1 2002-07-11  2    \n",
       "6  3      child2 2004-04-05  2    \n",
       "7  4      child1 2004-10-10  1    \n",
       "8  4      child2 2009-08-27  1    \n",
       "9  5      child1 2000-12-05  2    \n",
       "10 5      child2 2005-02-28  1    "
      ]
     },
     "metadata": {},
     "output_type": "display_data"
    }
   ],
   "source": [
    "family_long = family_wide %>%\n",
    "    pivot_longer(\n",
    "        -family,\n",
    "        names_to = c('.value', 'child'),\n",
    "        names_pattern = '(.*)_(.*)'\n",
    "    )\n",
    "\n",
    "family_long"
   ]
  },
  {
   "cell_type": "code",
   "execution_count": null,
   "metadata": {},
   "outputs": [],
   "source": []
  },
  {
   "cell_type": "markdown",
   "metadata": {},
   "source": [
    "### Handling missing values"
   ]
  },
  {
   "cell_type": "code",
   "execution_count": 78,
   "metadata": {},
   "outputs": [
    {
     "data": {
      "text/html": [
       "<table>\n",
       "<caption>A tibble: 6 × 3</caption>\n",
       "<thead>\n",
       "\t<tr><th scope=col>fish</th><th scope=col>station</th><th scope=col>seen</th></tr>\n",
       "\t<tr><th scope=col>&lt;fct&gt;</th><th scope=col>&lt;fct&gt;</th><th scope=col>&lt;int&gt;</th></tr>\n",
       "</thead>\n",
       "<tbody>\n",
       "\t<tr><td>4842</td><td>Release</td><td>1</td></tr>\n",
       "\t<tr><td>4842</td><td>I80_1  </td><td>1</td></tr>\n",
       "\t<tr><td>4842</td><td>Lisbon </td><td>1</td></tr>\n",
       "\t<tr><td>4842</td><td>Rstr   </td><td>1</td></tr>\n",
       "\t<tr><td>4842</td><td>Base_TD</td><td>1</td></tr>\n",
       "\t<tr><td>4842</td><td>BCE    </td><td>1</td></tr>\n",
       "</tbody>\n",
       "</table>\n"
      ],
      "text/latex": [
       "A tibble: 6 × 3\n",
       "\\begin{tabular}{lll}\n",
       " fish & station & seen\\\\\n",
       " <fct> & <fct> & <int>\\\\\n",
       "\\hline\n",
       "\t 4842 & Release & 1\\\\\n",
       "\t 4842 & I80\\_1   & 1\\\\\n",
       "\t 4842 & Lisbon  & 1\\\\\n",
       "\t 4842 & Rstr    & 1\\\\\n",
       "\t 4842 & Base\\_TD & 1\\\\\n",
       "\t 4842 & BCE     & 1\\\\\n",
       "\\end{tabular}\n"
      ],
      "text/markdown": [
       "\n",
       "A tibble: 6 × 3\n",
       "\n",
       "| fish &lt;fct&gt; | station &lt;fct&gt; | seen &lt;int&gt; |\n",
       "|---|---|---|\n",
       "| 4842 | Release | 1 |\n",
       "| 4842 | I80_1   | 1 |\n",
       "| 4842 | Lisbon  | 1 |\n",
       "| 4842 | Rstr    | 1 |\n",
       "| 4842 | Base_TD | 1 |\n",
       "| 4842 | BCE     | 1 |\n",
       "\n"
      ],
      "text/plain": [
       "  fish station seen\n",
       "1 4842 Release 1   \n",
       "2 4842 I80_1   1   \n",
       "3 4842 Lisbon  1   \n",
       "4 4842 Rstr    1   \n",
       "5 4842 Base_TD 1   \n",
       "6 4842 BCE     1   "
      ]
     },
     "metadata": {},
     "output_type": "display_data"
    }
   ],
   "source": [
    "head(fish_encounters)"
   ]
  },
  {
   "cell_type": "code",
   "execution_count": 72,
   "metadata": {},
   "outputs": [
    {
     "data": {
      "text/html": [
       "<table>\n",
       "<caption>A tibble: 6 × 12</caption>\n",
       "<thead>\n",
       "\t<tr><th scope=col>fish</th><th scope=col>Release</th><th scope=col>I80_1</th><th scope=col>Lisbon</th><th scope=col>Rstr</th><th scope=col>Base_TD</th><th scope=col>BCE</th><th scope=col>BCW</th><th scope=col>BCE2</th><th scope=col>BCW2</th><th scope=col>MAE</th><th scope=col>MAW</th></tr>\n",
       "\t<tr><th scope=col>&lt;fct&gt;</th><th scope=col>&lt;int&gt;</th><th scope=col>&lt;int&gt;</th><th scope=col>&lt;int&gt;</th><th scope=col>&lt;int&gt;</th><th scope=col>&lt;int&gt;</th><th scope=col>&lt;int&gt;</th><th scope=col>&lt;int&gt;</th><th scope=col>&lt;int&gt;</th><th scope=col>&lt;int&gt;</th><th scope=col>&lt;int&gt;</th><th scope=col>&lt;int&gt;</th></tr>\n",
       "</thead>\n",
       "<tbody>\n",
       "\t<tr><td>4842</td><td>1</td><td>1</td><td>1</td><td> 1</td><td> 1</td><td> 1</td><td> 1</td><td> 1</td><td> 1</td><td> 1</td><td> 1</td></tr>\n",
       "\t<tr><td>4843</td><td>1</td><td>1</td><td>1</td><td> 1</td><td> 1</td><td> 1</td><td> 1</td><td> 1</td><td> 1</td><td> 1</td><td> 1</td></tr>\n",
       "\t<tr><td>4844</td><td>1</td><td>1</td><td>1</td><td> 1</td><td> 1</td><td> 1</td><td> 1</td><td> 1</td><td> 1</td><td> 1</td><td> 1</td></tr>\n",
       "\t<tr><td>4845</td><td>1</td><td>1</td><td>1</td><td> 1</td><td> 1</td><td>NA</td><td>NA</td><td>NA</td><td>NA</td><td>NA</td><td>NA</td></tr>\n",
       "\t<tr><td>4847</td><td>1</td><td>1</td><td>1</td><td>NA</td><td>NA</td><td>NA</td><td>NA</td><td>NA</td><td>NA</td><td>NA</td><td>NA</td></tr>\n",
       "\t<tr><td>4848</td><td>1</td><td>1</td><td>1</td><td> 1</td><td>NA</td><td>NA</td><td>NA</td><td>NA</td><td>NA</td><td>NA</td><td>NA</td></tr>\n",
       "</tbody>\n",
       "</table>\n"
      ],
      "text/latex": [
       "A tibble: 6 × 12\n",
       "\\begin{tabular}{llllllllllll}\n",
       " fish & Release & I80\\_1 & Lisbon & Rstr & Base\\_TD & BCE & BCW & BCE2 & BCW2 & MAE & MAW\\\\\n",
       " <fct> & <int> & <int> & <int> & <int> & <int> & <int> & <int> & <int> & <int> & <int> & <int>\\\\\n",
       "\\hline\n",
       "\t 4842 & 1 & 1 & 1 &  1 &  1 &  1 &  1 &  1 &  1 &  1 &  1\\\\\n",
       "\t 4843 & 1 & 1 & 1 &  1 &  1 &  1 &  1 &  1 &  1 &  1 &  1\\\\\n",
       "\t 4844 & 1 & 1 & 1 &  1 &  1 &  1 &  1 &  1 &  1 &  1 &  1\\\\\n",
       "\t 4845 & 1 & 1 & 1 &  1 &  1 & NA & NA & NA & NA & NA & NA\\\\\n",
       "\t 4847 & 1 & 1 & 1 & NA & NA & NA & NA & NA & NA & NA & NA\\\\\n",
       "\t 4848 & 1 & 1 & 1 &  1 & NA & NA & NA & NA & NA & NA & NA\\\\\n",
       "\\end{tabular}\n"
      ],
      "text/markdown": [
       "\n",
       "A tibble: 6 × 12\n",
       "\n",
       "| fish &lt;fct&gt; | Release &lt;int&gt; | I80_1 &lt;int&gt; | Lisbon &lt;int&gt; | Rstr &lt;int&gt; | Base_TD &lt;int&gt; | BCE &lt;int&gt; | BCW &lt;int&gt; | BCE2 &lt;int&gt; | BCW2 &lt;int&gt; | MAE &lt;int&gt; | MAW &lt;int&gt; |\n",
       "|---|---|---|---|---|---|---|---|---|---|---|---|\n",
       "| 4842 | 1 | 1 | 1 |  1 |  1 |  1 |  1 |  1 |  1 |  1 |  1 |\n",
       "| 4843 | 1 | 1 | 1 |  1 |  1 |  1 |  1 |  1 |  1 |  1 |  1 |\n",
       "| 4844 | 1 | 1 | 1 |  1 |  1 |  1 |  1 |  1 |  1 |  1 |  1 |\n",
       "| 4845 | 1 | 1 | 1 |  1 |  1 | NA | NA | NA | NA | NA | NA |\n",
       "| 4847 | 1 | 1 | 1 | NA | NA | NA | NA | NA | NA | NA | NA |\n",
       "| 4848 | 1 | 1 | 1 |  1 | NA | NA | NA | NA | NA | NA | NA |\n",
       "\n"
      ],
      "text/plain": [
       "  fish Release I80_1 Lisbon Rstr Base_TD BCE BCW BCE2 BCW2 MAE MAW\n",
       "1 4842 1       1     1       1    1       1   1   1    1    1   1 \n",
       "2 4843 1       1     1       1    1       1   1   1    1    1   1 \n",
       "3 4844 1       1     1       1    1       1   1   1    1    1   1 \n",
       "4 4845 1       1     1       1    1      NA  NA  NA   NA   NA  NA \n",
       "5 4847 1       1     1      NA   NA      NA  NA  NA   NA   NA  NA \n",
       "6 4848 1       1     1       1   NA      NA  NA  NA   NA   NA  NA "
      ]
     },
     "metadata": {},
     "output_type": "display_data"
    }
   ],
   "source": [
    "fish_wide1 = fish_encounters %>% \n",
    "    pivot_wider(names_from = station, values_from = seen)\n",
    "\n",
    "head(fish_wide1)"
   ]
  },
  {
   "cell_type": "code",
   "execution_count": 81,
   "metadata": {},
   "outputs": [
    {
     "data": {
      "text/html": [
       "<table>\n",
       "<caption>A tibble: 6 × 12</caption>\n",
       "<thead>\n",
       "\t<tr><th scope=col>fish</th><th scope=col>Release</th><th scope=col>I80_1</th><th scope=col>Lisbon</th><th scope=col>Rstr</th><th scope=col>Base_TD</th><th scope=col>BCE</th><th scope=col>BCW</th><th scope=col>BCE2</th><th scope=col>BCW2</th><th scope=col>MAE</th><th scope=col>MAW</th></tr>\n",
       "\t<tr><th scope=col>&lt;fct&gt;</th><th scope=col>&lt;int&gt;</th><th scope=col>&lt;int&gt;</th><th scope=col>&lt;int&gt;</th><th scope=col>&lt;int&gt;</th><th scope=col>&lt;int&gt;</th><th scope=col>&lt;int&gt;</th><th scope=col>&lt;int&gt;</th><th scope=col>&lt;int&gt;</th><th scope=col>&lt;int&gt;</th><th scope=col>&lt;int&gt;</th><th scope=col>&lt;int&gt;</th></tr>\n",
       "</thead>\n",
       "<tbody>\n",
       "\t<tr><td>4842</td><td>1</td><td>1</td><td>1</td><td>1</td><td>1</td><td>1</td><td>1</td><td>1</td><td>1</td><td>1</td><td>1</td></tr>\n",
       "\t<tr><td>4843</td><td>1</td><td>1</td><td>1</td><td>1</td><td>1</td><td>1</td><td>1</td><td>1</td><td>1</td><td>1</td><td>1</td></tr>\n",
       "\t<tr><td>4844</td><td>1</td><td>1</td><td>1</td><td>1</td><td>1</td><td>1</td><td>1</td><td>1</td><td>1</td><td>1</td><td>1</td></tr>\n",
       "\t<tr><td>4845</td><td>1</td><td>1</td><td>1</td><td>1</td><td>1</td><td>0</td><td>0</td><td>0</td><td>0</td><td>0</td><td>0</td></tr>\n",
       "\t<tr><td>4847</td><td>1</td><td>1</td><td>1</td><td>0</td><td>0</td><td>0</td><td>0</td><td>0</td><td>0</td><td>0</td><td>0</td></tr>\n",
       "\t<tr><td>4848</td><td>1</td><td>1</td><td>1</td><td>1</td><td>0</td><td>0</td><td>0</td><td>0</td><td>0</td><td>0</td><td>0</td></tr>\n",
       "</tbody>\n",
       "</table>\n"
      ],
      "text/latex": [
       "A tibble: 6 × 12\n",
       "\\begin{tabular}{llllllllllll}\n",
       " fish & Release & I80\\_1 & Lisbon & Rstr & Base\\_TD & BCE & BCW & BCE2 & BCW2 & MAE & MAW\\\\\n",
       " <fct> & <int> & <int> & <int> & <int> & <int> & <int> & <int> & <int> & <int> & <int> & <int>\\\\\n",
       "\\hline\n",
       "\t 4842 & 1 & 1 & 1 & 1 & 1 & 1 & 1 & 1 & 1 & 1 & 1\\\\\n",
       "\t 4843 & 1 & 1 & 1 & 1 & 1 & 1 & 1 & 1 & 1 & 1 & 1\\\\\n",
       "\t 4844 & 1 & 1 & 1 & 1 & 1 & 1 & 1 & 1 & 1 & 1 & 1\\\\\n",
       "\t 4845 & 1 & 1 & 1 & 1 & 1 & 0 & 0 & 0 & 0 & 0 & 0\\\\\n",
       "\t 4847 & 1 & 1 & 1 & 0 & 0 & 0 & 0 & 0 & 0 & 0 & 0\\\\\n",
       "\t 4848 & 1 & 1 & 1 & 1 & 0 & 0 & 0 & 0 & 0 & 0 & 0\\\\\n",
       "\\end{tabular}\n"
      ],
      "text/markdown": [
       "\n",
       "A tibble: 6 × 12\n",
       "\n",
       "| fish &lt;fct&gt; | Release &lt;int&gt; | I80_1 &lt;int&gt; | Lisbon &lt;int&gt; | Rstr &lt;int&gt; | Base_TD &lt;int&gt; | BCE &lt;int&gt; | BCW &lt;int&gt; | BCE2 &lt;int&gt; | BCW2 &lt;int&gt; | MAE &lt;int&gt; | MAW &lt;int&gt; |\n",
       "|---|---|---|---|---|---|---|---|---|---|---|---|\n",
       "| 4842 | 1 | 1 | 1 | 1 | 1 | 1 | 1 | 1 | 1 | 1 | 1 |\n",
       "| 4843 | 1 | 1 | 1 | 1 | 1 | 1 | 1 | 1 | 1 | 1 | 1 |\n",
       "| 4844 | 1 | 1 | 1 | 1 | 1 | 1 | 1 | 1 | 1 | 1 | 1 |\n",
       "| 4845 | 1 | 1 | 1 | 1 | 1 | 0 | 0 | 0 | 0 | 0 | 0 |\n",
       "| 4847 | 1 | 1 | 1 | 0 | 0 | 0 | 0 | 0 | 0 | 0 | 0 |\n",
       "| 4848 | 1 | 1 | 1 | 1 | 0 | 0 | 0 | 0 | 0 | 0 | 0 |\n",
       "\n"
      ],
      "text/plain": [
       "  fish Release I80_1 Lisbon Rstr Base_TD BCE BCW BCE2 BCW2 MAE MAW\n",
       "1 4842 1       1     1      1    1       1   1   1    1    1   1  \n",
       "2 4843 1       1     1      1    1       1   1   1    1    1   1  \n",
       "3 4844 1       1     1      1    1       1   1   1    1    1   1  \n",
       "4 4845 1       1     1      1    1       0   0   0    0    0   0  \n",
       "5 4847 1       1     1      0    0       0   0   0    0    0   0  \n",
       "6 4848 1       1     1      1    0       0   0   0    0    0   0  "
      ]
     },
     "metadata": {},
     "output_type": "display_data"
    }
   ],
   "source": [
    "fish_wide = fish_encounters %>% \n",
    "    pivot_wider(\n",
    "      names_from = station, \n",
    "      values_from = seen,\n",
    "      values_fill = list(seen = 0)\n",
    "    )\n",
    "\n",
    "head(fish_wide)"
   ]
  },
  {
   "cell_type": "code",
   "execution_count": 79,
   "metadata": {},
   "outputs": [
    {
     "data": {
      "text/html": [
       "<table>\n",
       "<caption>A tibble: 190 × 4</caption>\n",
       "<thead>\n",
       "\t<tr><th scope=col>fish</th><th scope=col>Release</th><th scope=col>station</th><th scope=col>seen</th></tr>\n",
       "\t<tr><th scope=col>&lt;fct&gt;</th><th scope=col>&lt;int&gt;</th><th scope=col>&lt;chr&gt;</th><th scope=col>&lt;int&gt;</th></tr>\n",
       "</thead>\n",
       "<tbody>\n",
       "\t<tr><td>4842</td><td>1</td><td>I80_1  </td><td>1</td></tr>\n",
       "\t<tr><td>4842</td><td>1</td><td>Lisbon </td><td>1</td></tr>\n",
       "\t<tr><td>4842</td><td>1</td><td>Rstr   </td><td>1</td></tr>\n",
       "\t<tr><td>4842</td><td>1</td><td>Base_TD</td><td>1</td></tr>\n",
       "\t<tr><td>4842</td><td>1</td><td>BCE    </td><td>1</td></tr>\n",
       "\t<tr><td>4842</td><td>1</td><td>BCW    </td><td>1</td></tr>\n",
       "\t<tr><td>4842</td><td>1</td><td>BCE2   </td><td>1</td></tr>\n",
       "\t<tr><td>4842</td><td>1</td><td>BCW2   </td><td>1</td></tr>\n",
       "\t<tr><td>4842</td><td>1</td><td>MAE    </td><td>1</td></tr>\n",
       "\t<tr><td>4842</td><td>1</td><td>MAW    </td><td>1</td></tr>\n",
       "\t<tr><td>4843</td><td>1</td><td>I80_1  </td><td>1</td></tr>\n",
       "\t<tr><td>4843</td><td>1</td><td>Lisbon </td><td>1</td></tr>\n",
       "\t<tr><td>4843</td><td>1</td><td>Rstr   </td><td>1</td></tr>\n",
       "\t<tr><td>4843</td><td>1</td><td>Base_TD</td><td>1</td></tr>\n",
       "\t<tr><td>4843</td><td>1</td><td>BCE    </td><td>1</td></tr>\n",
       "\t<tr><td>4843</td><td>1</td><td>BCW    </td><td>1</td></tr>\n",
       "\t<tr><td>4843</td><td>1</td><td>BCE2   </td><td>1</td></tr>\n",
       "\t<tr><td>4843</td><td>1</td><td>BCW2   </td><td>1</td></tr>\n",
       "\t<tr><td>4843</td><td>1</td><td>MAE    </td><td>1</td></tr>\n",
       "\t<tr><td>4843</td><td>1</td><td>MAW    </td><td>1</td></tr>\n",
       "\t<tr><td>4844</td><td>1</td><td>I80_1  </td><td>1</td></tr>\n",
       "\t<tr><td>4844</td><td>1</td><td>Lisbon </td><td>1</td></tr>\n",
       "\t<tr><td>4844</td><td>1</td><td>Rstr   </td><td>1</td></tr>\n",
       "\t<tr><td>4844</td><td>1</td><td>Base_TD</td><td>1</td></tr>\n",
       "\t<tr><td>4844</td><td>1</td><td>BCE    </td><td>1</td></tr>\n",
       "\t<tr><td>4844</td><td>1</td><td>BCW    </td><td>1</td></tr>\n",
       "\t<tr><td>4844</td><td>1</td><td>BCE2   </td><td>1</td></tr>\n",
       "\t<tr><td>4844</td><td>1</td><td>BCW2   </td><td>1</td></tr>\n",
       "\t<tr><td>4844</td><td>1</td><td>MAE    </td><td>1</td></tr>\n",
       "\t<tr><td>4844</td><td>1</td><td>MAW    </td><td>1</td></tr>\n",
       "\t<tr><td>⋮</td><td>⋮</td><td>⋮</td><td>⋮</td></tr>\n",
       "\t<tr><td>4863</td><td>1</td><td>I80_1  </td><td> 1</td></tr>\n",
       "\t<tr><td>4863</td><td>1</td><td>Lisbon </td><td>NA</td></tr>\n",
       "\t<tr><td>4863</td><td>1</td><td>Rstr   </td><td>NA</td></tr>\n",
       "\t<tr><td>4863</td><td>1</td><td>Base_TD</td><td>NA</td></tr>\n",
       "\t<tr><td>4863</td><td>1</td><td>BCE    </td><td>NA</td></tr>\n",
       "\t<tr><td>4863</td><td>1</td><td>BCW    </td><td>NA</td></tr>\n",
       "\t<tr><td>4863</td><td>1</td><td>BCE2   </td><td>NA</td></tr>\n",
       "\t<tr><td>4863</td><td>1</td><td>BCW2   </td><td>NA</td></tr>\n",
       "\t<tr><td>4863</td><td>1</td><td>MAE    </td><td>NA</td></tr>\n",
       "\t<tr><td>4863</td><td>1</td><td>MAW    </td><td>NA</td></tr>\n",
       "\t<tr><td>4864</td><td>1</td><td>I80_1  </td><td> 1</td></tr>\n",
       "\t<tr><td>4864</td><td>1</td><td>Lisbon </td><td>NA</td></tr>\n",
       "\t<tr><td>4864</td><td>1</td><td>Rstr   </td><td>NA</td></tr>\n",
       "\t<tr><td>4864</td><td>1</td><td>Base_TD</td><td>NA</td></tr>\n",
       "\t<tr><td>4864</td><td>1</td><td>BCE    </td><td>NA</td></tr>\n",
       "\t<tr><td>4864</td><td>1</td><td>BCW    </td><td>NA</td></tr>\n",
       "\t<tr><td>4864</td><td>1</td><td>BCE2   </td><td>NA</td></tr>\n",
       "\t<tr><td>4864</td><td>1</td><td>BCW2   </td><td>NA</td></tr>\n",
       "\t<tr><td>4864</td><td>1</td><td>MAE    </td><td>NA</td></tr>\n",
       "\t<tr><td>4864</td><td>1</td><td>MAW    </td><td>NA</td></tr>\n",
       "\t<tr><td>4865</td><td>1</td><td>I80_1  </td><td> 1</td></tr>\n",
       "\t<tr><td>4865</td><td>1</td><td>Lisbon </td><td> 1</td></tr>\n",
       "\t<tr><td>4865</td><td>1</td><td>Rstr   </td><td>NA</td></tr>\n",
       "\t<tr><td>4865</td><td>1</td><td>Base_TD</td><td>NA</td></tr>\n",
       "\t<tr><td>4865</td><td>1</td><td>BCE    </td><td>NA</td></tr>\n",
       "\t<tr><td>4865</td><td>1</td><td>BCW    </td><td>NA</td></tr>\n",
       "\t<tr><td>4865</td><td>1</td><td>BCE2   </td><td>NA</td></tr>\n",
       "\t<tr><td>4865</td><td>1</td><td>BCW2   </td><td>NA</td></tr>\n",
       "\t<tr><td>4865</td><td>1</td><td>MAE    </td><td>NA</td></tr>\n",
       "\t<tr><td>4865</td><td>1</td><td>MAW    </td><td>NA</td></tr>\n",
       "</tbody>\n",
       "</table>\n"
      ],
      "text/latex": [
       "A tibble: 190 × 4\n",
       "\\begin{tabular}{llll}\n",
       " fish & Release & station & seen\\\\\n",
       " <fct> & <int> & <chr> & <int>\\\\\n",
       "\\hline\n",
       "\t 4842 & 1 & I80\\_1   & 1\\\\\n",
       "\t 4842 & 1 & Lisbon  & 1\\\\\n",
       "\t 4842 & 1 & Rstr    & 1\\\\\n",
       "\t 4842 & 1 & Base\\_TD & 1\\\\\n",
       "\t 4842 & 1 & BCE     & 1\\\\\n",
       "\t 4842 & 1 & BCW     & 1\\\\\n",
       "\t 4842 & 1 & BCE2    & 1\\\\\n",
       "\t 4842 & 1 & BCW2    & 1\\\\\n",
       "\t 4842 & 1 & MAE     & 1\\\\\n",
       "\t 4842 & 1 & MAW     & 1\\\\\n",
       "\t 4843 & 1 & I80\\_1   & 1\\\\\n",
       "\t 4843 & 1 & Lisbon  & 1\\\\\n",
       "\t 4843 & 1 & Rstr    & 1\\\\\n",
       "\t 4843 & 1 & Base\\_TD & 1\\\\\n",
       "\t 4843 & 1 & BCE     & 1\\\\\n",
       "\t 4843 & 1 & BCW     & 1\\\\\n",
       "\t 4843 & 1 & BCE2    & 1\\\\\n",
       "\t 4843 & 1 & BCW2    & 1\\\\\n",
       "\t 4843 & 1 & MAE     & 1\\\\\n",
       "\t 4843 & 1 & MAW     & 1\\\\\n",
       "\t 4844 & 1 & I80\\_1   & 1\\\\\n",
       "\t 4844 & 1 & Lisbon  & 1\\\\\n",
       "\t 4844 & 1 & Rstr    & 1\\\\\n",
       "\t 4844 & 1 & Base\\_TD & 1\\\\\n",
       "\t 4844 & 1 & BCE     & 1\\\\\n",
       "\t 4844 & 1 & BCW     & 1\\\\\n",
       "\t 4844 & 1 & BCE2    & 1\\\\\n",
       "\t 4844 & 1 & BCW2    & 1\\\\\n",
       "\t 4844 & 1 & MAE     & 1\\\\\n",
       "\t 4844 & 1 & MAW     & 1\\\\\n",
       "\t ⋮ & ⋮ & ⋮ & ⋮\\\\\n",
       "\t 4863 & 1 & I80\\_1   &  1\\\\\n",
       "\t 4863 & 1 & Lisbon  & NA\\\\\n",
       "\t 4863 & 1 & Rstr    & NA\\\\\n",
       "\t 4863 & 1 & Base\\_TD & NA\\\\\n",
       "\t 4863 & 1 & BCE     & NA\\\\\n",
       "\t 4863 & 1 & BCW     & NA\\\\\n",
       "\t 4863 & 1 & BCE2    & NA\\\\\n",
       "\t 4863 & 1 & BCW2    & NA\\\\\n",
       "\t 4863 & 1 & MAE     & NA\\\\\n",
       "\t 4863 & 1 & MAW     & NA\\\\\n",
       "\t 4864 & 1 & I80\\_1   &  1\\\\\n",
       "\t 4864 & 1 & Lisbon  & NA\\\\\n",
       "\t 4864 & 1 & Rstr    & NA\\\\\n",
       "\t 4864 & 1 & Base\\_TD & NA\\\\\n",
       "\t 4864 & 1 & BCE     & NA\\\\\n",
       "\t 4864 & 1 & BCW     & NA\\\\\n",
       "\t 4864 & 1 & BCE2    & NA\\\\\n",
       "\t 4864 & 1 & BCW2    & NA\\\\\n",
       "\t 4864 & 1 & MAE     & NA\\\\\n",
       "\t 4864 & 1 & MAW     & NA\\\\\n",
       "\t 4865 & 1 & I80\\_1   &  1\\\\\n",
       "\t 4865 & 1 & Lisbon  &  1\\\\\n",
       "\t 4865 & 1 & Rstr    & NA\\\\\n",
       "\t 4865 & 1 & Base\\_TD & NA\\\\\n",
       "\t 4865 & 1 & BCE     & NA\\\\\n",
       "\t 4865 & 1 & BCW     & NA\\\\\n",
       "\t 4865 & 1 & BCE2    & NA\\\\\n",
       "\t 4865 & 1 & BCW2    & NA\\\\\n",
       "\t 4865 & 1 & MAE     & NA\\\\\n",
       "\t 4865 & 1 & MAW     & NA\\\\\n",
       "\\end{tabular}\n"
      ],
      "text/markdown": [
       "\n",
       "A tibble: 190 × 4\n",
       "\n",
       "| fish &lt;fct&gt; | Release &lt;int&gt; | station &lt;chr&gt; | seen &lt;int&gt; |\n",
       "|---|---|---|---|\n",
       "| 4842 | 1 | I80_1   | 1 |\n",
       "| 4842 | 1 | Lisbon  | 1 |\n",
       "| 4842 | 1 | Rstr    | 1 |\n",
       "| 4842 | 1 | Base_TD | 1 |\n",
       "| 4842 | 1 | BCE     | 1 |\n",
       "| 4842 | 1 | BCW     | 1 |\n",
       "| 4842 | 1 | BCE2    | 1 |\n",
       "| 4842 | 1 | BCW2    | 1 |\n",
       "| 4842 | 1 | MAE     | 1 |\n",
       "| 4842 | 1 | MAW     | 1 |\n",
       "| 4843 | 1 | I80_1   | 1 |\n",
       "| 4843 | 1 | Lisbon  | 1 |\n",
       "| 4843 | 1 | Rstr    | 1 |\n",
       "| 4843 | 1 | Base_TD | 1 |\n",
       "| 4843 | 1 | BCE     | 1 |\n",
       "| 4843 | 1 | BCW     | 1 |\n",
       "| 4843 | 1 | BCE2    | 1 |\n",
       "| 4843 | 1 | BCW2    | 1 |\n",
       "| 4843 | 1 | MAE     | 1 |\n",
       "| 4843 | 1 | MAW     | 1 |\n",
       "| 4844 | 1 | I80_1   | 1 |\n",
       "| 4844 | 1 | Lisbon  | 1 |\n",
       "| 4844 | 1 | Rstr    | 1 |\n",
       "| 4844 | 1 | Base_TD | 1 |\n",
       "| 4844 | 1 | BCE     | 1 |\n",
       "| 4844 | 1 | BCW     | 1 |\n",
       "| 4844 | 1 | BCE2    | 1 |\n",
       "| 4844 | 1 | BCW2    | 1 |\n",
       "| 4844 | 1 | MAE     | 1 |\n",
       "| 4844 | 1 | MAW     | 1 |\n",
       "| ⋮ | ⋮ | ⋮ | ⋮ |\n",
       "| 4863 | 1 | I80_1   |  1 |\n",
       "| 4863 | 1 | Lisbon  | NA |\n",
       "| 4863 | 1 | Rstr    | NA |\n",
       "| 4863 | 1 | Base_TD | NA |\n",
       "| 4863 | 1 | BCE     | NA |\n",
       "| 4863 | 1 | BCW     | NA |\n",
       "| 4863 | 1 | BCE2    | NA |\n",
       "| 4863 | 1 | BCW2    | NA |\n",
       "| 4863 | 1 | MAE     | NA |\n",
       "| 4863 | 1 | MAW     | NA |\n",
       "| 4864 | 1 | I80_1   |  1 |\n",
       "| 4864 | 1 | Lisbon  | NA |\n",
       "| 4864 | 1 | Rstr    | NA |\n",
       "| 4864 | 1 | Base_TD | NA |\n",
       "| 4864 | 1 | BCE     | NA |\n",
       "| 4864 | 1 | BCW     | NA |\n",
       "| 4864 | 1 | BCE2    | NA |\n",
       "| 4864 | 1 | BCW2    | NA |\n",
       "| 4864 | 1 | MAE     | NA |\n",
       "| 4864 | 1 | MAW     | NA |\n",
       "| 4865 | 1 | I80_1   |  1 |\n",
       "| 4865 | 1 | Lisbon  |  1 |\n",
       "| 4865 | 1 | Rstr    | NA |\n",
       "| 4865 | 1 | Base_TD | NA |\n",
       "| 4865 | 1 | BCE     | NA |\n",
       "| 4865 | 1 | BCW     | NA |\n",
       "| 4865 | 1 | BCE2    | NA |\n",
       "| 4865 | 1 | BCW2    | NA |\n",
       "| 4865 | 1 | MAE     | NA |\n",
       "| 4865 | 1 | MAW     | NA |\n",
       "\n"
      ],
      "text/plain": [
       "    fish Release station seen\n",
       "1   4842 1       I80_1   1   \n",
       "2   4842 1       Lisbon  1   \n",
       "3   4842 1       Rstr    1   \n",
       "4   4842 1       Base_TD 1   \n",
       "5   4842 1       BCE     1   \n",
       "6   4842 1       BCW     1   \n",
       "7   4842 1       BCE2    1   \n",
       "8   4842 1       BCW2    1   \n",
       "9   4842 1       MAE     1   \n",
       "10  4842 1       MAW     1   \n",
       "11  4843 1       I80_1   1   \n",
       "12  4843 1       Lisbon  1   \n",
       "13  4843 1       Rstr    1   \n",
       "14  4843 1       Base_TD 1   \n",
       "15  4843 1       BCE     1   \n",
       "16  4843 1       BCW     1   \n",
       "17  4843 1       BCE2    1   \n",
       "18  4843 1       BCW2    1   \n",
       "19  4843 1       MAE     1   \n",
       "20  4843 1       MAW     1   \n",
       "21  4844 1       I80_1   1   \n",
       "22  4844 1       Lisbon  1   \n",
       "23  4844 1       Rstr    1   \n",
       "24  4844 1       Base_TD 1   \n",
       "25  4844 1       BCE     1   \n",
       "26  4844 1       BCW     1   \n",
       "27  4844 1       BCE2    1   \n",
       "28  4844 1       BCW2    1   \n",
       "29  4844 1       MAE     1   \n",
       "30  4844 1       MAW     1   \n",
       "⋮   ⋮    ⋮       ⋮       ⋮   \n",
       "161 4863 1       I80_1    1  \n",
       "162 4863 1       Lisbon  NA  \n",
       "163 4863 1       Rstr    NA  \n",
       "164 4863 1       Base_TD NA  \n",
       "165 4863 1       BCE     NA  \n",
       "166 4863 1       BCW     NA  \n",
       "167 4863 1       BCE2    NA  \n",
       "168 4863 1       BCW2    NA  \n",
       "169 4863 1       MAE     NA  \n",
       "170 4863 1       MAW     NA  \n",
       "171 4864 1       I80_1    1  \n",
       "172 4864 1       Lisbon  NA  \n",
       "173 4864 1       Rstr    NA  \n",
       "174 4864 1       Base_TD NA  \n",
       "175 4864 1       BCE     NA  \n",
       "176 4864 1       BCW     NA  \n",
       "177 4864 1       BCE2    NA  \n",
       "178 4864 1       BCW2    NA  \n",
       "179 4864 1       MAE     NA  \n",
       "180 4864 1       MAW     NA  \n",
       "181 4865 1       I80_1    1  \n",
       "182 4865 1       Lisbon   1  \n",
       "183 4865 1       Rstr    NA  \n",
       "184 4865 1       Base_TD NA  \n",
       "185 4865 1       BCE     NA  \n",
       "186 4865 1       BCW     NA  \n",
       "187 4865 1       BCE2    NA  \n",
       "188 4865 1       BCW2    NA  \n",
       "189 4865 1       MAE     NA  \n",
       "190 4865 1       MAW     NA  "
      ]
     },
     "metadata": {},
     "output_type": "display_data"
    }
   ],
   "source": [
    "fish_wide1 %>% \n",
    "    pivot_longer(I80_1:MAW, \n",
    "                 names_to=\"station\", \n",
    "                 values_to=\"seen\")"
   ]
  },
  {
   "cell_type": "code",
   "execution_count": 80,
   "metadata": {},
   "outputs": [
    {
     "data": {
      "text/html": [
       "<table>\n",
       "<caption>A tibble: 95 × 4</caption>\n",
       "<thead>\n",
       "\t<tr><th scope=col>fish</th><th scope=col>Release</th><th scope=col>station</th><th scope=col>seen</th></tr>\n",
       "\t<tr><th scope=col>&lt;fct&gt;</th><th scope=col>&lt;int&gt;</th><th scope=col>&lt;chr&gt;</th><th scope=col>&lt;int&gt;</th></tr>\n",
       "</thead>\n",
       "<tbody>\n",
       "\t<tr><td>4842</td><td>1</td><td>I80_1  </td><td>1</td></tr>\n",
       "\t<tr><td>4842</td><td>1</td><td>Lisbon </td><td>1</td></tr>\n",
       "\t<tr><td>4842</td><td>1</td><td>Rstr   </td><td>1</td></tr>\n",
       "\t<tr><td>4842</td><td>1</td><td>Base_TD</td><td>1</td></tr>\n",
       "\t<tr><td>4842</td><td>1</td><td>BCE    </td><td>1</td></tr>\n",
       "\t<tr><td>4842</td><td>1</td><td>BCW    </td><td>1</td></tr>\n",
       "\t<tr><td>4842</td><td>1</td><td>BCE2   </td><td>1</td></tr>\n",
       "\t<tr><td>4842</td><td>1</td><td>BCW2   </td><td>1</td></tr>\n",
       "\t<tr><td>4842</td><td>1</td><td>MAE    </td><td>1</td></tr>\n",
       "\t<tr><td>4842</td><td>1</td><td>MAW    </td><td>1</td></tr>\n",
       "\t<tr><td>4843</td><td>1</td><td>I80_1  </td><td>1</td></tr>\n",
       "\t<tr><td>4843</td><td>1</td><td>Lisbon </td><td>1</td></tr>\n",
       "\t<tr><td>4843</td><td>1</td><td>Rstr   </td><td>1</td></tr>\n",
       "\t<tr><td>4843</td><td>1</td><td>Base_TD</td><td>1</td></tr>\n",
       "\t<tr><td>4843</td><td>1</td><td>BCE    </td><td>1</td></tr>\n",
       "\t<tr><td>4843</td><td>1</td><td>BCW    </td><td>1</td></tr>\n",
       "\t<tr><td>4843</td><td>1</td><td>BCE2   </td><td>1</td></tr>\n",
       "\t<tr><td>4843</td><td>1</td><td>BCW2   </td><td>1</td></tr>\n",
       "\t<tr><td>4843</td><td>1</td><td>MAE    </td><td>1</td></tr>\n",
       "\t<tr><td>4843</td><td>1</td><td>MAW    </td><td>1</td></tr>\n",
       "\t<tr><td>4844</td><td>1</td><td>I80_1  </td><td>1</td></tr>\n",
       "\t<tr><td>4844</td><td>1</td><td>Lisbon </td><td>1</td></tr>\n",
       "\t<tr><td>4844</td><td>1</td><td>Rstr   </td><td>1</td></tr>\n",
       "\t<tr><td>4844</td><td>1</td><td>Base_TD</td><td>1</td></tr>\n",
       "\t<tr><td>4844</td><td>1</td><td>BCE    </td><td>1</td></tr>\n",
       "\t<tr><td>4844</td><td>1</td><td>BCW    </td><td>1</td></tr>\n",
       "\t<tr><td>4844</td><td>1</td><td>BCE2   </td><td>1</td></tr>\n",
       "\t<tr><td>4844</td><td>1</td><td>BCW2   </td><td>1</td></tr>\n",
       "\t<tr><td>4844</td><td>1</td><td>MAE    </td><td>1</td></tr>\n",
       "\t<tr><td>4844</td><td>1</td><td>MAW    </td><td>1</td></tr>\n",
       "\t<tr><td>⋮</td><td>⋮</td><td>⋮</td><td>⋮</td></tr>\n",
       "\t<tr><td>4858</td><td>1</td><td>BCE2   </td><td>1</td></tr>\n",
       "\t<tr><td>4858</td><td>1</td><td>BCW2   </td><td>1</td></tr>\n",
       "\t<tr><td>4858</td><td>1</td><td>MAE    </td><td>1</td></tr>\n",
       "\t<tr><td>4858</td><td>1</td><td>MAW    </td><td>1</td></tr>\n",
       "\t<tr><td>4859</td><td>1</td><td>I80_1  </td><td>1</td></tr>\n",
       "\t<tr><td>4859</td><td>1</td><td>Lisbon </td><td>1</td></tr>\n",
       "\t<tr><td>4859</td><td>1</td><td>Rstr   </td><td>1</td></tr>\n",
       "\t<tr><td>4859</td><td>1</td><td>Base_TD</td><td>1</td></tr>\n",
       "\t<tr><td>4861</td><td>1</td><td>I80_1  </td><td>1</td></tr>\n",
       "\t<tr><td>4861</td><td>1</td><td>Lisbon </td><td>1</td></tr>\n",
       "\t<tr><td>4861</td><td>1</td><td>Rstr   </td><td>1</td></tr>\n",
       "\t<tr><td>4861</td><td>1</td><td>Base_TD</td><td>1</td></tr>\n",
       "\t<tr><td>4861</td><td>1</td><td>BCE    </td><td>1</td></tr>\n",
       "\t<tr><td>4861</td><td>1</td><td>BCW    </td><td>1</td></tr>\n",
       "\t<tr><td>4861</td><td>1</td><td>BCE2   </td><td>1</td></tr>\n",
       "\t<tr><td>4861</td><td>1</td><td>BCW2   </td><td>1</td></tr>\n",
       "\t<tr><td>4861</td><td>1</td><td>MAE    </td><td>1</td></tr>\n",
       "\t<tr><td>4861</td><td>1</td><td>MAW    </td><td>1</td></tr>\n",
       "\t<tr><td>4862</td><td>1</td><td>I80_1  </td><td>1</td></tr>\n",
       "\t<tr><td>4862</td><td>1</td><td>Lisbon </td><td>1</td></tr>\n",
       "\t<tr><td>4862</td><td>1</td><td>Rstr   </td><td>1</td></tr>\n",
       "\t<tr><td>4862</td><td>1</td><td>Base_TD</td><td>1</td></tr>\n",
       "\t<tr><td>4862</td><td>1</td><td>BCE    </td><td>1</td></tr>\n",
       "\t<tr><td>4862</td><td>1</td><td>BCW    </td><td>1</td></tr>\n",
       "\t<tr><td>4862</td><td>1</td><td>BCE2   </td><td>1</td></tr>\n",
       "\t<tr><td>4862</td><td>1</td><td>BCW2   </td><td>1</td></tr>\n",
       "\t<tr><td>4863</td><td>1</td><td>I80_1  </td><td>1</td></tr>\n",
       "\t<tr><td>4864</td><td>1</td><td>I80_1  </td><td>1</td></tr>\n",
       "\t<tr><td>4865</td><td>1</td><td>I80_1  </td><td>1</td></tr>\n",
       "\t<tr><td>4865</td><td>1</td><td>Lisbon </td><td>1</td></tr>\n",
       "</tbody>\n",
       "</table>\n"
      ],
      "text/latex": [
       "A tibble: 95 × 4\n",
       "\\begin{tabular}{llll}\n",
       " fish & Release & station & seen\\\\\n",
       " <fct> & <int> & <chr> & <int>\\\\\n",
       "\\hline\n",
       "\t 4842 & 1 & I80\\_1   & 1\\\\\n",
       "\t 4842 & 1 & Lisbon  & 1\\\\\n",
       "\t 4842 & 1 & Rstr    & 1\\\\\n",
       "\t 4842 & 1 & Base\\_TD & 1\\\\\n",
       "\t 4842 & 1 & BCE     & 1\\\\\n",
       "\t 4842 & 1 & BCW     & 1\\\\\n",
       "\t 4842 & 1 & BCE2    & 1\\\\\n",
       "\t 4842 & 1 & BCW2    & 1\\\\\n",
       "\t 4842 & 1 & MAE     & 1\\\\\n",
       "\t 4842 & 1 & MAW     & 1\\\\\n",
       "\t 4843 & 1 & I80\\_1   & 1\\\\\n",
       "\t 4843 & 1 & Lisbon  & 1\\\\\n",
       "\t 4843 & 1 & Rstr    & 1\\\\\n",
       "\t 4843 & 1 & Base\\_TD & 1\\\\\n",
       "\t 4843 & 1 & BCE     & 1\\\\\n",
       "\t 4843 & 1 & BCW     & 1\\\\\n",
       "\t 4843 & 1 & BCE2    & 1\\\\\n",
       "\t 4843 & 1 & BCW2    & 1\\\\\n",
       "\t 4843 & 1 & MAE     & 1\\\\\n",
       "\t 4843 & 1 & MAW     & 1\\\\\n",
       "\t 4844 & 1 & I80\\_1   & 1\\\\\n",
       "\t 4844 & 1 & Lisbon  & 1\\\\\n",
       "\t 4844 & 1 & Rstr    & 1\\\\\n",
       "\t 4844 & 1 & Base\\_TD & 1\\\\\n",
       "\t 4844 & 1 & BCE     & 1\\\\\n",
       "\t 4844 & 1 & BCW     & 1\\\\\n",
       "\t 4844 & 1 & BCE2    & 1\\\\\n",
       "\t 4844 & 1 & BCW2    & 1\\\\\n",
       "\t 4844 & 1 & MAE     & 1\\\\\n",
       "\t 4844 & 1 & MAW     & 1\\\\\n",
       "\t ⋮ & ⋮ & ⋮ & ⋮\\\\\n",
       "\t 4858 & 1 & BCE2    & 1\\\\\n",
       "\t 4858 & 1 & BCW2    & 1\\\\\n",
       "\t 4858 & 1 & MAE     & 1\\\\\n",
       "\t 4858 & 1 & MAW     & 1\\\\\n",
       "\t 4859 & 1 & I80\\_1   & 1\\\\\n",
       "\t 4859 & 1 & Lisbon  & 1\\\\\n",
       "\t 4859 & 1 & Rstr    & 1\\\\\n",
       "\t 4859 & 1 & Base\\_TD & 1\\\\\n",
       "\t 4861 & 1 & I80\\_1   & 1\\\\\n",
       "\t 4861 & 1 & Lisbon  & 1\\\\\n",
       "\t 4861 & 1 & Rstr    & 1\\\\\n",
       "\t 4861 & 1 & Base\\_TD & 1\\\\\n",
       "\t 4861 & 1 & BCE     & 1\\\\\n",
       "\t 4861 & 1 & BCW     & 1\\\\\n",
       "\t 4861 & 1 & BCE2    & 1\\\\\n",
       "\t 4861 & 1 & BCW2    & 1\\\\\n",
       "\t 4861 & 1 & MAE     & 1\\\\\n",
       "\t 4861 & 1 & MAW     & 1\\\\\n",
       "\t 4862 & 1 & I80\\_1   & 1\\\\\n",
       "\t 4862 & 1 & Lisbon  & 1\\\\\n",
       "\t 4862 & 1 & Rstr    & 1\\\\\n",
       "\t 4862 & 1 & Base\\_TD & 1\\\\\n",
       "\t 4862 & 1 & BCE     & 1\\\\\n",
       "\t 4862 & 1 & BCW     & 1\\\\\n",
       "\t 4862 & 1 & BCE2    & 1\\\\\n",
       "\t 4862 & 1 & BCW2    & 1\\\\\n",
       "\t 4863 & 1 & I80\\_1   & 1\\\\\n",
       "\t 4864 & 1 & I80\\_1   & 1\\\\\n",
       "\t 4865 & 1 & I80\\_1   & 1\\\\\n",
       "\t 4865 & 1 & Lisbon  & 1\\\\\n",
       "\\end{tabular}\n"
      ],
      "text/markdown": [
       "\n",
       "A tibble: 95 × 4\n",
       "\n",
       "| fish &lt;fct&gt; | Release &lt;int&gt; | station &lt;chr&gt; | seen &lt;int&gt; |\n",
       "|---|---|---|---|\n",
       "| 4842 | 1 | I80_1   | 1 |\n",
       "| 4842 | 1 | Lisbon  | 1 |\n",
       "| 4842 | 1 | Rstr    | 1 |\n",
       "| 4842 | 1 | Base_TD | 1 |\n",
       "| 4842 | 1 | BCE     | 1 |\n",
       "| 4842 | 1 | BCW     | 1 |\n",
       "| 4842 | 1 | BCE2    | 1 |\n",
       "| 4842 | 1 | BCW2    | 1 |\n",
       "| 4842 | 1 | MAE     | 1 |\n",
       "| 4842 | 1 | MAW     | 1 |\n",
       "| 4843 | 1 | I80_1   | 1 |\n",
       "| 4843 | 1 | Lisbon  | 1 |\n",
       "| 4843 | 1 | Rstr    | 1 |\n",
       "| 4843 | 1 | Base_TD | 1 |\n",
       "| 4843 | 1 | BCE     | 1 |\n",
       "| 4843 | 1 | BCW     | 1 |\n",
       "| 4843 | 1 | BCE2    | 1 |\n",
       "| 4843 | 1 | BCW2    | 1 |\n",
       "| 4843 | 1 | MAE     | 1 |\n",
       "| 4843 | 1 | MAW     | 1 |\n",
       "| 4844 | 1 | I80_1   | 1 |\n",
       "| 4844 | 1 | Lisbon  | 1 |\n",
       "| 4844 | 1 | Rstr    | 1 |\n",
       "| 4844 | 1 | Base_TD | 1 |\n",
       "| 4844 | 1 | BCE     | 1 |\n",
       "| 4844 | 1 | BCW     | 1 |\n",
       "| 4844 | 1 | BCE2    | 1 |\n",
       "| 4844 | 1 | BCW2    | 1 |\n",
       "| 4844 | 1 | MAE     | 1 |\n",
       "| 4844 | 1 | MAW     | 1 |\n",
       "| ⋮ | ⋮ | ⋮ | ⋮ |\n",
       "| 4858 | 1 | BCE2    | 1 |\n",
       "| 4858 | 1 | BCW2    | 1 |\n",
       "| 4858 | 1 | MAE     | 1 |\n",
       "| 4858 | 1 | MAW     | 1 |\n",
       "| 4859 | 1 | I80_1   | 1 |\n",
       "| 4859 | 1 | Lisbon  | 1 |\n",
       "| 4859 | 1 | Rstr    | 1 |\n",
       "| 4859 | 1 | Base_TD | 1 |\n",
       "| 4861 | 1 | I80_1   | 1 |\n",
       "| 4861 | 1 | Lisbon  | 1 |\n",
       "| 4861 | 1 | Rstr    | 1 |\n",
       "| 4861 | 1 | Base_TD | 1 |\n",
       "| 4861 | 1 | BCE     | 1 |\n",
       "| 4861 | 1 | BCW     | 1 |\n",
       "| 4861 | 1 | BCE2    | 1 |\n",
       "| 4861 | 1 | BCW2    | 1 |\n",
       "| 4861 | 1 | MAE     | 1 |\n",
       "| 4861 | 1 | MAW     | 1 |\n",
       "| 4862 | 1 | I80_1   | 1 |\n",
       "| 4862 | 1 | Lisbon  | 1 |\n",
       "| 4862 | 1 | Rstr    | 1 |\n",
       "| 4862 | 1 | Base_TD | 1 |\n",
       "| 4862 | 1 | BCE     | 1 |\n",
       "| 4862 | 1 | BCW     | 1 |\n",
       "| 4862 | 1 | BCE2    | 1 |\n",
       "| 4862 | 1 | BCW2    | 1 |\n",
       "| 4863 | 1 | I80_1   | 1 |\n",
       "| 4864 | 1 | I80_1   | 1 |\n",
       "| 4865 | 1 | I80_1   | 1 |\n",
       "| 4865 | 1 | Lisbon  | 1 |\n",
       "\n"
      ],
      "text/plain": [
       "   fish Release station seen\n",
       "1  4842 1       I80_1   1   \n",
       "2  4842 1       Lisbon  1   \n",
       "3  4842 1       Rstr    1   \n",
       "4  4842 1       Base_TD 1   \n",
       "5  4842 1       BCE     1   \n",
       "6  4842 1       BCW     1   \n",
       "7  4842 1       BCE2    1   \n",
       "8  4842 1       BCW2    1   \n",
       "9  4842 1       MAE     1   \n",
       "10 4842 1       MAW     1   \n",
       "11 4843 1       I80_1   1   \n",
       "12 4843 1       Lisbon  1   \n",
       "13 4843 1       Rstr    1   \n",
       "14 4843 1       Base_TD 1   \n",
       "15 4843 1       BCE     1   \n",
       "16 4843 1       BCW     1   \n",
       "17 4843 1       BCE2    1   \n",
       "18 4843 1       BCW2    1   \n",
       "19 4843 1       MAE     1   \n",
       "20 4843 1       MAW     1   \n",
       "21 4844 1       I80_1   1   \n",
       "22 4844 1       Lisbon  1   \n",
       "23 4844 1       Rstr    1   \n",
       "24 4844 1       Base_TD 1   \n",
       "25 4844 1       BCE     1   \n",
       "26 4844 1       BCW     1   \n",
       "27 4844 1       BCE2    1   \n",
       "28 4844 1       BCW2    1   \n",
       "29 4844 1       MAE     1   \n",
       "30 4844 1       MAW     1   \n",
       "⋮  ⋮    ⋮       ⋮       ⋮   \n",
       "66 4858 1       BCE2    1   \n",
       "67 4858 1       BCW2    1   \n",
       "68 4858 1       MAE     1   \n",
       "69 4858 1       MAW     1   \n",
       "70 4859 1       I80_1   1   \n",
       "71 4859 1       Lisbon  1   \n",
       "72 4859 1       Rstr    1   \n",
       "73 4859 1       Base_TD 1   \n",
       "74 4861 1       I80_1   1   \n",
       "75 4861 1       Lisbon  1   \n",
       "76 4861 1       Rstr    1   \n",
       "77 4861 1       Base_TD 1   \n",
       "78 4861 1       BCE     1   \n",
       "79 4861 1       BCW     1   \n",
       "80 4861 1       BCE2    1   \n",
       "81 4861 1       BCW2    1   \n",
       "82 4861 1       MAE     1   \n",
       "83 4861 1       MAW     1   \n",
       "84 4862 1       I80_1   1   \n",
       "85 4862 1       Lisbon  1   \n",
       "86 4862 1       Rstr    1   \n",
       "87 4862 1       Base_TD 1   \n",
       "88 4862 1       BCE     1   \n",
       "89 4862 1       BCW     1   \n",
       "90 4862 1       BCE2    1   \n",
       "91 4862 1       BCW2    1   \n",
       "92 4863 1       I80_1   1   \n",
       "93 4864 1       I80_1   1   \n",
       "94 4865 1       I80_1   1   \n",
       "95 4865 1       Lisbon  1   "
      ]
     },
     "metadata": {},
     "output_type": "display_data"
    }
   ],
   "source": [
    "fish_wide1 %>% \n",
    "    pivot_longer(I80_1:MAW, \n",
    "                 names_to=\"station\", \n",
    "                 values_to=\"seen\", \n",
    "                 values_drop_na=TRUE)"
   ]
  },
  {
   "cell_type": "code",
   "execution_count": null,
   "metadata": {},
   "outputs": [],
   "source": []
  },
  {
   "cell_type": "markdown",
   "metadata": {},
   "source": [
    "## Question 1\n",
    "\n",
    "The following is a dataset of US voting participation, broken down by gender and age group."
   ]
  },
  {
   "cell_type": "code",
   "execution_count": 47,
   "metadata": {},
   "outputs": [
    {
     "data": {
      "text/html": [
       "<table>\n",
       "<caption>A tibble: 5 × 9</caption>\n",
       "<thead>\n",
       "\t<tr><th scope=col>year</th><th scope=col>m_1824</th><th scope=col>f_1824</th><th scope=col>m_2544</th><th scope=col>f_2544</th><th scope=col>m_4564</th><th scope=col>f_4564</th><th scope=col>m_65p</th><th scope=col>f_65p</th></tr>\n",
       "\t<tr><th scope=col>&lt;dbl&gt;</th><th scope=col>&lt;dbl&gt;</th><th scope=col>&lt;dbl&gt;</th><th scope=col>&lt;dbl&gt;</th><th scope=col>&lt;dbl&gt;</th><th scope=col>&lt;dbl&gt;</th><th scope=col>&lt;dbl&gt;</th><th scope=col>&lt;dbl&gt;</th><th scope=col>&lt;dbl&gt;</th></tr>\n",
       "</thead>\n",
       "<tbody>\n",
       "\t<tr><td>2018</td><td>27.4</td><td>32.8</td><td>38.0</td><td>42.9</td><td>53.7</td><td>56.3</td><td>65.4</td><td>62.5</td></tr>\n",
       "\t<tr><td>2014</td><td>14.7</td><td>17.2</td><td>26.3</td><td>30.4</td><td>45.0</td><td>47.0</td><td>60.1</td><td>55.5</td></tr>\n",
       "\t<tr><td>2010</td><td>18.7</td><td>20.6</td><td>30.5</td><td>33.9</td><td>50.7</td><td>51.5</td><td>62.0</td><td>56.5</td></tr>\n",
       "\t<tr><td>2006</td><td>18.6</td><td>21.2</td><td>32.3</td><td>36.5</td><td>53.4</td><td>55.1</td><td>64.4</td><td>57.5</td></tr>\n",
       "\t<tr><td>2002</td><td>15.7</td><td>18.6</td><td>32.7</td><td>35.4</td><td>52.6</td><td>53.5</td><td>65.4</td><td>57.7</td></tr>\n",
       "</tbody>\n",
       "</table>\n"
      ],
      "text/latex": [
       "A tibble: 5 × 9\n",
       "\\begin{tabular}{lllllllll}\n",
       " year & m\\_1824 & f\\_1824 & m\\_2544 & f\\_2544 & m\\_4564 & f\\_4564 & m\\_65p & f\\_65p\\\\\n",
       " <dbl> & <dbl> & <dbl> & <dbl> & <dbl> & <dbl> & <dbl> & <dbl> & <dbl>\\\\\n",
       "\\hline\n",
       "\t 2018 & 27.4 & 32.8 & 38.0 & 42.9 & 53.7 & 56.3 & 65.4 & 62.5\\\\\n",
       "\t 2014 & 14.7 & 17.2 & 26.3 & 30.4 & 45.0 & 47.0 & 60.1 & 55.5\\\\\n",
       "\t 2010 & 18.7 & 20.6 & 30.5 & 33.9 & 50.7 & 51.5 & 62.0 & 56.5\\\\\n",
       "\t 2006 & 18.6 & 21.2 & 32.3 & 36.5 & 53.4 & 55.1 & 64.4 & 57.5\\\\\n",
       "\t 2002 & 15.7 & 18.6 & 32.7 & 35.4 & 52.6 & 53.5 & 65.4 & 57.7\\\\\n",
       "\\end{tabular}\n"
      ],
      "text/markdown": [
       "\n",
       "A tibble: 5 × 9\n",
       "\n",
       "| year &lt;dbl&gt; | m_1824 &lt;dbl&gt; | f_1824 &lt;dbl&gt; | m_2544 &lt;dbl&gt; | f_2544 &lt;dbl&gt; | m_4564 &lt;dbl&gt; | f_4564 &lt;dbl&gt; | m_65p &lt;dbl&gt; | f_65p &lt;dbl&gt; |\n",
       "|---|---|---|---|---|---|---|---|---|\n",
       "| 2018 | 27.4 | 32.8 | 38.0 | 42.9 | 53.7 | 56.3 | 65.4 | 62.5 |\n",
       "| 2014 | 14.7 | 17.2 | 26.3 | 30.4 | 45.0 | 47.0 | 60.1 | 55.5 |\n",
       "| 2010 | 18.7 | 20.6 | 30.5 | 33.9 | 50.7 | 51.5 | 62.0 | 56.5 |\n",
       "| 2006 | 18.6 | 21.2 | 32.3 | 36.5 | 53.4 | 55.1 | 64.4 | 57.5 |\n",
       "| 2002 | 15.7 | 18.6 | 32.7 | 35.4 | 52.6 | 53.5 | 65.4 | 57.7 |\n",
       "\n"
      ],
      "text/plain": [
       "  year m_1824 f_1824 m_2544 f_2544 m_4564 f_4564 m_65p f_65p\n",
       "1 2018 27.4   32.8   38.0   42.9   53.7   56.3   65.4  62.5 \n",
       "2 2014 14.7   17.2   26.3   30.4   45.0   47.0   60.1  55.5 \n",
       "3 2010 18.7   20.6   30.5   33.9   50.7   51.5   62.0  56.5 \n",
       "4 2006 18.6   21.2   32.3   36.5   53.4   55.1   64.4  57.5 \n",
       "5 2002 15.7   18.6   32.7   35.4   52.6   53.5   65.4  57.7 "
      ]
     },
     "metadata": {},
     "output_type": "display_data"
    }
   ],
   "source": [
    "voting_par <- tribble(\n",
    "  ~year,  ~m_1824,  ~f_1824, ~m_2544, ~f_2544, ~m_4564, ~f_4564, ~m_65p, ~f_65p,\n",
    "    2018, 27.4, 32.8, 38.0, 42.9, 53.7, 56.3, 65.4, 62.5,\n",
    "    2014, 14.7, 17.2, 26.3, 30.4, 45.0, 47.0, 60.1, 55.5,\n",
    "    2010, 18.7, 20.6, 30.5, 33.9, 50.7, 51.5, 62.0, 56.5,\n",
    "    2006, 18.6, 21.2, 32.3, 36.5, 53.4, 55.1, 64.4, 57.5,\n",
    "    2002, 15.7, 18.6, 32.7, 35.4, 52.6, 53.5, 65.4, 57.7\n",
    ")\n",
    "\n",
    "voting_par"
   ]
  },
  {
   "cell_type": "markdown",
   "metadata": {},
   "source": [
    "Convert this dataset to a long version. The new dataset should have variables `year`, `gender`, `age`, and `voting_perc`. \n",
    "\n",
    "Use ggplot to visualize this new dataset. Make whatever aesthetic and formatting choices that make the most sense to you."
   ]
  },
  {
   "cell_type": "code",
   "execution_count": 51,
   "metadata": {},
   "outputs": [
    {
     "data": {
      "text/html": [
       "<table>\n",
       "<caption>A tibble: 6 × 4</caption>\n",
       "<thead>\n",
       "\t<tr><th scope=col>year</th><th scope=col>gender</th><th scope=col>age</th><th scope=col>voting_perc</th></tr>\n",
       "\t<tr><th scope=col>&lt;dbl&gt;</th><th scope=col>&lt;chr&gt;</th><th scope=col>&lt;chr&gt;</th><th scope=col>&lt;dbl&gt;</th></tr>\n",
       "</thead>\n",
       "<tbody>\n",
       "\t<tr><td>2018</td><td>m</td><td>1824</td><td>27.4</td></tr>\n",
       "\t<tr><td>2018</td><td>f</td><td>1824</td><td>32.8</td></tr>\n",
       "\t<tr><td>2018</td><td>m</td><td>2544</td><td>38.0</td></tr>\n",
       "\t<tr><td>2018</td><td>f</td><td>2544</td><td>42.9</td></tr>\n",
       "\t<tr><td>2018</td><td>m</td><td>4564</td><td>53.7</td></tr>\n",
       "\t<tr><td>2018</td><td>f</td><td>4564</td><td>56.3</td></tr>\n",
       "</tbody>\n",
       "</table>\n"
      ],
      "text/latex": [
       "A tibble: 6 × 4\n",
       "\\begin{tabular}{llll}\n",
       " year & gender & age & voting\\_perc\\\\\n",
       " <dbl> & <chr> & <chr> & <dbl>\\\\\n",
       "\\hline\n",
       "\t 2018 & m & 1824 & 27.4\\\\\n",
       "\t 2018 & f & 1824 & 32.8\\\\\n",
       "\t 2018 & m & 2544 & 38.0\\\\\n",
       "\t 2018 & f & 2544 & 42.9\\\\\n",
       "\t 2018 & m & 4564 & 53.7\\\\\n",
       "\t 2018 & f & 4564 & 56.3\\\\\n",
       "\\end{tabular}\n"
      ],
      "text/markdown": [
       "\n",
       "A tibble: 6 × 4\n",
       "\n",
       "| year &lt;dbl&gt; | gender &lt;chr&gt; | age &lt;chr&gt; | voting_perc &lt;dbl&gt; |\n",
       "|---|---|---|---|\n",
       "| 2018 | m | 1824 | 27.4 |\n",
       "| 2018 | f | 1824 | 32.8 |\n",
       "| 2018 | m | 2544 | 38.0 |\n",
       "| 2018 | f | 2544 | 42.9 |\n",
       "| 2018 | m | 4564 | 53.7 |\n",
       "| 2018 | f | 4564 | 56.3 |\n",
       "\n"
      ],
      "text/plain": [
       "  year gender age  voting_perc\n",
       "1 2018 m      1824 27.4       \n",
       "2 2018 f      1824 32.8       \n",
       "3 2018 m      2544 38.0       \n",
       "4 2018 f      2544 42.9       \n",
       "5 2018 m      4564 53.7       \n",
       "6 2018 f      4564 56.3       "
      ]
     },
     "metadata": {},
     "output_type": "display_data"
    }
   ],
   "source": [
    "voting_long = voting_par %>%\n",
    "    pivot_longer(\n",
    "        -year,\n",
    "        names_to = c('gender', 'age'),\n",
    "        names_sep = '_',\n",
    "        values_to = 'voting_perc'\n",
    "    )\n",
    "\n",
    "head(voting_long)"
   ]
  },
  {
   "cell_type": "code",
   "execution_count": 52,
   "metadata": {},
   "outputs": [
    {
     "data": {
      "image/png": "[encoded data removed]",
      "text/plain": [
       "plot without title"
      ]
     },
     "metadata": {
      "image/png": {
       "height": 420,
       "width": 420
      },
      "text/plain": {
       "height": 420,
       "width": 420
      }
     },
     "output_type": "display_data"
    }
   ],
   "source": [
    "ggplot(voting_long, aes(x=year, y=voting_perc, color=age)) +\n",
    "    geom_line() +\n",
    "    facet_wrap(~gender)"
   ]
  },
  {
   "cell_type": "code",
   "execution_count": null,
   "metadata": {},
   "outputs": [],
   "source": []
  },
  {
   "cell_type": "markdown",
   "metadata": {},
   "source": [
    "## Question 2\n",
    "\n",
    "The following is an example dataset of answers from a multiple choice questionnaire, where for each question respondents could select up to three choices."
   ]
  },
  {
   "cell_type": "code",
   "execution_count": 54,
   "metadata": {},
   "outputs": [
    {
     "data": {
      "text/html": [
       "<table>\n",
       "<caption>A tibble: 4 × 4</caption>\n",
       "<thead>\n",
       "\t<tr><th scope=col>id</th><th scope=col>choice1</th><th scope=col>choice2</th><th scope=col>choice3</th></tr>\n",
       "\t<tr><th scope=col>&lt;dbl&gt;</th><th scope=col>&lt;chr&gt;</th><th scope=col>&lt;chr&gt;</th><th scope=col>&lt;chr&gt;</th></tr>\n",
       "</thead>\n",
       "<tbody>\n",
       "\t<tr><td>1</td><td>A</td><td>B </td><td>C </td></tr>\n",
       "\t<tr><td>2</td><td>C</td><td>B </td><td>NA</td></tr>\n",
       "\t<tr><td>3</td><td>D</td><td>NA</td><td>NA</td></tr>\n",
       "\t<tr><td>4</td><td>B</td><td>D </td><td>NA</td></tr>\n",
       "</tbody>\n",
       "</table>\n"
      ],
      "text/latex": [
       "A tibble: 4 × 4\n",
       "\\begin{tabular}{llll}\n",
       " id & choice1 & choice2 & choice3\\\\\n",
       " <dbl> & <chr> & <chr> & <chr>\\\\\n",
       "\\hline\n",
       "\t 1 & A & B  & C \\\\\n",
       "\t 2 & C & B  & NA\\\\\n",
       "\t 3 & D & NA & NA\\\\\n",
       "\t 4 & B & D  & NA\\\\\n",
       "\\end{tabular}\n"
      ],
      "text/markdown": [
       "\n",
       "A tibble: 4 × 4\n",
       "\n",
       "| id &lt;dbl&gt; | choice1 &lt;chr&gt; | choice2 &lt;chr&gt; | choice3 &lt;chr&gt; |\n",
       "|---|---|---|---|\n",
       "| 1 | A | B  | C  |\n",
       "| 2 | C | B  | NA |\n",
       "| 3 | D | NA | NA |\n",
       "| 4 | B | D  | NA |\n",
       "\n"
      ],
      "text/plain": [
       "  id choice1 choice2 choice3\n",
       "1 1  A       B       C      \n",
       "2 2  C       B       NA     \n",
       "3 3  D       NA      NA     \n",
       "4 4  B       D       NA     "
      ]
     },
     "metadata": {},
     "output_type": "display_data"
    }
   ],
   "source": [
    "multi <- tribble(\n",
    "  ~id, ~choice1, ~choice2, ~choice3,\n",
    "  1, \"A\", \"B\", \"C\",\n",
    "  2, \"C\", \"B\",  NA,\n",
    "  3, \"D\",  NA,  NA,\n",
    "  4, \"B\", \"D\",  NA\n",
    ")\n",
    "\n",
    "multi"
   ]
  },
  {
   "cell_type": "markdown",
   "metadata": {},
   "source": [
    "Using pivot and other dplyr operations, turn `multi` into the following dataset that is easier to use.\n",
    "```\n",
    "# A tibble: 4 x 5\n",
    "     id A     B     C     D    \n",
    "  <dbl> <lgl> <lgl> <lgl> <lgl>\n",
    "1     1 TRUE  TRUE  TRUE  FALSE\n",
    "2     2 FALSE TRUE  TRUE  FALSE\n",
    "3     3 FALSE FALSE FALSE TRUE \n",
    "4     4 FALSE TRUE  FALSE TRUE \n",
    "```"
   ]
  },
  {
   "cell_type": "code",
   "execution_count": 66,
   "metadata": {},
   "outputs": [
    {
     "data": {
      "text/html": [
       "<table>\n",
       "<caption>A tibble: 8 × 3</caption>\n",
       "<thead>\n",
       "\t<tr><th scope=col>id</th><th scope=col>answer</th><th scope=col>checked</th></tr>\n",
       "\t<tr><th scope=col>&lt;dbl&gt;</th><th scope=col>&lt;chr&gt;</th><th scope=col>&lt;lgl&gt;</th></tr>\n",
       "</thead>\n",
       "<tbody>\n",
       "\t<tr><td>1</td><td>A</td><td>TRUE</td></tr>\n",
       "\t<tr><td>1</td><td>B</td><td>TRUE</td></tr>\n",
       "\t<tr><td>1</td><td>C</td><td>TRUE</td></tr>\n",
       "\t<tr><td>2</td><td>C</td><td>TRUE</td></tr>\n",
       "\t<tr><td>2</td><td>B</td><td>TRUE</td></tr>\n",
       "\t<tr><td>3</td><td>D</td><td>TRUE</td></tr>\n",
       "\t<tr><td>4</td><td>B</td><td>TRUE</td></tr>\n",
       "\t<tr><td>4</td><td>D</td><td>TRUE</td></tr>\n",
       "</tbody>\n",
       "</table>\n"
      ],
      "text/latex": [
       "A tibble: 8 × 3\n",
       "\\begin{tabular}{lll}\n",
       " id & answer & checked\\\\\n",
       " <dbl> & <chr> & <lgl>\\\\\n",
       "\\hline\n",
       "\t 1 & A & TRUE\\\\\n",
       "\t 1 & B & TRUE\\\\\n",
       "\t 1 & C & TRUE\\\\\n",
       "\t 2 & C & TRUE\\\\\n",
       "\t 2 & B & TRUE\\\\\n",
       "\t 3 & D & TRUE\\\\\n",
       "\t 4 & B & TRUE\\\\\n",
       "\t 4 & D & TRUE\\\\\n",
       "\\end{tabular}\n"
      ],
      "text/markdown": [
       "\n",
       "A tibble: 8 × 3\n",
       "\n",
       "| id &lt;dbl&gt; | answer &lt;chr&gt; | checked &lt;lgl&gt; |\n",
       "|---|---|---|\n",
       "| 1 | A | TRUE |\n",
       "| 1 | B | TRUE |\n",
       "| 1 | C | TRUE |\n",
       "| 2 | C | TRUE |\n",
       "| 2 | B | TRUE |\n",
       "| 3 | D | TRUE |\n",
       "| 4 | B | TRUE |\n",
       "| 4 | D | TRUE |\n",
       "\n"
      ],
      "text/plain": [
       "  id answer checked\n",
       "1 1  A      TRUE   \n",
       "2 1  B      TRUE   \n",
       "3 1  C      TRUE   \n",
       "4 2  C      TRUE   \n",
       "5 2  B      TRUE   \n",
       "6 3  D      TRUE   \n",
       "7 4  B      TRUE   \n",
       "8 4  D      TRUE   "
      ]
     },
     "metadata": {},
     "output_type": "display_data"
    }
   ],
   "source": [
    "multi2 = multi %>% \n",
    "    pivot_longer(-id, names_to='choice', values_to='answer', values_drop_na=TRUE) %>%\n",
    "    mutate(checked=TRUE) %>% \n",
    "    select(-choice)\n",
    "\n",
    "multi2"
   ]
  },
  {
   "cell_type": "code",
   "execution_count": 83,
   "metadata": {
    "scrolled": true
   },
   "outputs": [
    {
     "data": {
      "text/html": [
       "<table>\n",
       "<caption>A tibble: 4 × 5</caption>\n",
       "<thead>\n",
       "\t<tr><th scope=col>id</th><th scope=col>A</th><th scope=col>B</th><th scope=col>C</th><th scope=col>D</th></tr>\n",
       "\t<tr><th scope=col>&lt;dbl&gt;</th><th scope=col>&lt;lgl&gt;</th><th scope=col>&lt;lgl&gt;</th><th scope=col>&lt;lgl&gt;</th><th scope=col>&lt;lgl&gt;</th></tr>\n",
       "</thead>\n",
       "<tbody>\n",
       "\t<tr><td>1</td><td> TRUE</td><td> TRUE</td><td> TRUE</td><td>FALSE</td></tr>\n",
       "\t<tr><td>2</td><td>FALSE</td><td> TRUE</td><td> TRUE</td><td>FALSE</td></tr>\n",
       "\t<tr><td>3</td><td>FALSE</td><td>FALSE</td><td>FALSE</td><td> TRUE</td></tr>\n",
       "\t<tr><td>4</td><td>FALSE</td><td> TRUE</td><td>FALSE</td><td> TRUE</td></tr>\n",
       "</tbody>\n",
       "</table>\n"
      ],
      "text/latex": [
       "A tibble: 4 × 5\n",
       "\\begin{tabular}{lllll}\n",
       " id & A & B & C & D\\\\\n",
       " <dbl> & <lgl> & <lgl> & <lgl> & <lgl>\\\\\n",
       "\\hline\n",
       "\t 1 &  TRUE &  TRUE &  TRUE & FALSE\\\\\n",
       "\t 2 & FALSE &  TRUE &  TRUE & FALSE\\\\\n",
       "\t 3 & FALSE & FALSE & FALSE &  TRUE\\\\\n",
       "\t 4 & FALSE &  TRUE & FALSE &  TRUE\\\\\n",
       "\\end{tabular}\n"
      ],
      "text/markdown": [
       "\n",
       "A tibble: 4 × 5\n",
       "\n",
       "| id &lt;dbl&gt; | A &lt;lgl&gt; | B &lt;lgl&gt; | C &lt;lgl&gt; | D &lt;lgl&gt; |\n",
       "|---|---|---|---|---|\n",
       "| 1 |  TRUE |  TRUE |  TRUE | FALSE |\n",
       "| 2 | FALSE |  TRUE |  TRUE | FALSE |\n",
       "| 3 | FALSE | FALSE | FALSE |  TRUE |\n",
       "| 4 | FALSE |  TRUE | FALSE |  TRUE |\n",
       "\n"
      ],
      "text/plain": [
       "  id A     B     C     D    \n",
       "1 1   TRUE  TRUE  TRUE FALSE\n",
       "2 2  FALSE  TRUE  TRUE FALSE\n",
       "3 3  FALSE FALSE FALSE  TRUE\n",
       "4 4  FALSE  TRUE FALSE  TRUE"
      ]
     },
     "metadata": {},
     "output_type": "display_data"
    }
   ],
   "source": [
    "multi2 %>% \n",
    "    pivot_wider(\n",
    "        names_from='answer', \n",
    "        values_from='checked', \n",
    "        values_fill=c(checked=FALSE)\n",
    "    )"
   ]
  },
  {
   "cell_type": "code",
   "execution_count": null,
   "metadata": {},
   "outputs": [],
   "source": []
  },
  {
   "cell_type": "code",
   "execution_count": null,
   "metadata": {},
   "outputs": [],
   "source": []
  }
 ],
 "metadata": {
  "kernelspec": {
   "display_name": "R",
   "language": "R",
   "name": "ir"
  },
  "language_info": {
   "codemirror_mode": "r",
   "file_extension": ".r",
   "mimetype": "text/x-r-source",
   "name": "R",
   "pygments_lexer": "r",
   "version": "3.6.0"
  }
 },
 "nbformat": 4,
 "nbformat_minor": 2
}
