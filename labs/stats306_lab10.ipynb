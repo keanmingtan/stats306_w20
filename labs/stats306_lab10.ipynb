{
 "cells": [
  {
   "cell_type": "markdown",
   "metadata": {},
   "source": [
    "# Lab 10 (3/23): Regex and Strings\n",
    "\n",
    "### Web pages\n",
    "Course page: https://ambujtewari.github.io/teaching/STATS306-Winter2020/\n",
    "\n",
    "Lab page: https://rogerfan.github.io/stats306_w20/\n",
    "\n",
    "### Office Hours\n",
    "    Mondays: 2-4pm, USB 2165\n",
    "    \n",
    "### Contact\n",
    "    Questions on problems: Use the slack discussions\n",
    "    If you need to email me, include in the subject line: [STATS 306]\n",
    "    Email: rogerfan@umich.edu"
   ]
  },
  {
   "cell_type": "code",
   "execution_count": null,
   "metadata": {},
   "outputs": [],
   "source": [
    "require(tidyverse)\n",
    "require(stringr)"
   ]
  },
  {
   "cell_type": "markdown",
   "metadata": {},
   "source": [
    "## Regular Expressions\n",
    "\n",
    "Regular expressions (regex) are a way to describe patterns in text and are used to search for and match certain patterns in strings.\n",
    "\n",
    "`Some people, when confronted with a problem, think \"I know, I'll use regular expressions.\" Now they have two problems.` - Jamie Zawinski\n",
    "\n",
    "For instance, say that you want to find and extract all the email addresses in a document automatically. How might we do that?"
   ]
  },
  {
   "cell_type": "markdown",
   "metadata": {},
   "source": [
    "### Special characters\n",
    "\n",
    "Regex takes advantage of several reserved characters that are used for special functions. \n",
    "\n",
    "`. \\ | ( ) [ ] ^ $ { } * + ?`"
   ]
  },
  {
   "cell_type": "markdown",
   "metadata": {},
   "source": [
    "### Character classes\n",
    "\n",
    "* `.` matches anything (wildcard)\n",
    "* `[aeiou]` matches a single character in the set provided\n",
    "* `[^aeiou]` matches a single character NOT in the set\n",
    "* `[a-e]` matches a range, equivalent to `[abcde]`\n",
    "\n",
    "#### Shorthand\n",
    "\n",
    "* `\\w` matches a \"word\" character, equivalent to `[a-zA-Z0-9_]`\n",
    "* `\\s` matches any whitespace, including tabs and newlines\n",
    "* `\\d` matches digits, equivalent to `[0-9]`\n",
    "* `\\W`, `\\S`, and `\\D` match the opposite of the lower-case versions\n",
    "\n",
    "#### Special characters\n",
    "\n",
    "* Note that `\\t` and `\\n` match the tab and newline characters. \n",
    "* If you want the \"literal\" versions of any of the reserved characters, you will need to escape them with a backslash `\\`, e.g. `[\\.\\\\\\|]`\n",
    "\n",
    "\n",
    "### Grouping\n",
    "\n",
    "* `()` are used to group patterns together. This can be used with any of the below operators. This can also be used to extract portions of a regex out individually, which we will later learn.\n",
    "* `\\1`, `\\2`, etc. refers to the first, second, etc. group in the match.\n",
    "\n",
    "### Operators\n",
    "\n",
    "* `|` is the OR operator and allows matches of either side\n",
    "* `{}` describes how many times the preceeding character of group must occur:\n",
    "  * `{m}` must occur exactly `m` times\n",
    "  * `{m,n}` must occur between `m` and `n` times, inclusive\n",
    "  * `{m,}` Must occur at least `m` times\n",
    "* `*` means the preceeding character can appear zero or more times, equivalent to `{0,}`\n",
    "* `+` means the preceeding character must appear one or more times, equivalent to `{1,}`\n",
    "* `?` means the preceeding character can appear zero or one time, equivalent to `{0,1}`\n",
    "\n",
    "### Anchors\n",
    "\n",
    "* `^` matches the start of a string (or line)\n",
    "* `$` matches the end of a string (or line)\n",
    "* `\\b` matches a word \"boundary\"\n",
    "* `\\B` matches not word boundary"
   ]
  },
  {
   "cell_type": "markdown",
   "metadata": {},
   "source": [
    "### Examples\n",
    "\n",
    "Go to https://regex101.com/ to play around with creating regex patterns. To start, copy-paste the following paragraph (from [The Ringer](https://www.theringer.com/mlb/2018/10/22/18008004/world-series-boston-red-sox-los-angeles-dodgers-mookie-betts-second-base-jd-martinez)) into the text field.\n",
    "\n",
    "`According to Baseball Reference’s wins above average, the Red Sox had the best outfield in baseball— one-tenth of a win ahead of the Milwaukee Brewers, 11.5 to 11.4. And that’s despite, I’d argue, the two best position players in the NL this year (Christian Yelich and Lorenzo Cain) being Brewers outfielders. More importantly, the distance from Boston and Milwaukee to the third-place Yankees is about five wins. Two-thirds of the Los Angeles Angels’ outfield is Mike Trout (the best player in baseball) and Justin Upton (a four-time All-Star who hit 30 home runs and posted a 122 OPS+ and .348 wOba this year), and in order to get to 11.5 WAA, the Angels’ outfield would have had to replace right fielder Kole Calhoun with one of the three best outfielders in baseball this year by WAA.`"
   ]
  },
  {
   "cell_type": "markdown",
   "metadata": {},
   "source": [
    "#### 1. Write a regex that captures all capitalized words."
   ]
  },
  {
   "cell_type": "raw",
   "metadata": {},
   "source": []
  },
  {
   "cell_type": "markdown",
   "metadata": {},
   "source": [
    "#### 2. Write a regex that captures all the numbers."
   ]
  },
  {
   "cell_type": "raw",
   "metadata": {},
   "source": []
  },
  {
   "cell_type": "markdown",
   "metadata": {},
   "source": [
    "#### 3. Write a regex that captures all hyphenated words"
   ]
  },
  {
   "cell_type": "raw",
   "metadata": {},
   "source": []
  },
  {
   "cell_type": "markdown",
   "metadata": {},
   "source": [
    "#### 4. Write a regex that captures all words with two consecutive nouns (do not consider `y` to be a noun)."
   ]
  },
  {
   "cell_type": "raw",
   "metadata": {},
   "source": []
  },
  {
   "cell_type": "markdown",
   "metadata": {},
   "source": [
    "#### 5. Write a regex that captures all words with a repeated letter."
   ]
  },
  {
   "cell_type": "raw",
   "metadata": {},
   "source": []
  },
  {
   "cell_type": "markdown",
   "metadata": {},
   "source": [
    "#### 6. Write a regex that matches `this` and `the` but not `third`."
   ]
  },
  {
   "cell_type": "raw",
   "metadata": {},
   "source": []
  },
  {
   "cell_type": "markdown",
   "metadata": {},
   "source": [
    "Now copy-paste the following list of valid and invalid emails:\n",
    "\n",
    "```email@domain.com\n",
    "firstname.lastname@domain.com\n",
    "email@subdomain.domain.com\n",
    "firstname+lastname@domain.com\n",
    "email@123.123.123.123\n",
    "1234567890@domain.com\n",
    "email@domain-one.com\n",
    "_______@domain.com\n",
    "email@domain.name\n",
    "email@domain.co.jp\n",
    "firstname-lastname@domain.com\n",
    "\n",
    "plainaddress\n",
    "#@%^%#$@#$@#.com\n",
    "@domain.com\n",
    "Joe Smith <email@domain.com>\n",
    "email.domain.com\n",
    "email@domain@domain.com\n",
    ".email@domain.com\n",
    "email@domain.com (Joe Smith)\n",
    "email@domain\n",
    "email@-domain.com\n",
    "email@domain..com```\n",
    "\n",
    "#### 7. Write a regex that matches all the valid emails but none of the invalid ones"
   ]
  },
  {
   "cell_type": "raw",
   "metadata": {},
   "source": []
  },
  {
   "cell_type": "markdown",
   "metadata": {},
   "source": [
    "### Exercise\n",
    "\n",
    "#### Write a regex that matches all the valid numbers below but none of the invalid ones.\n",
    "\n",
    "```\n",
    "12\n",
    "1048\n",
    "3.14529\n",
    "0.87\n",
    "-255.34\n",
    "123,340.00 \n",
    "-16,123,340\n",
    "1.9e10 \n",
    "-5.8e5\n",
    "1.45e-5\n",
    "\n",
    "720p\n",
    "164.\n",
    ".87\n",
    "124..43\n",
    "153.243.232\n",
    "123,,546\n",
    "24.256,453\n",
    "123,34,123\n",
    ",253\n",
    "12.4e6```\n"
   ]
  },
  {
   "cell_type": "raw",
   "metadata": {},
   "source": []
  },
  {
   "cell_type": "markdown",
   "metadata": {},
   "source": [
    "## Strings"
   ]
  },
  {
   "cell_type": "code",
   "execution_count": null,
   "metadata": {},
   "outputs": [],
   "source": [
    "string1 = \"Michigan: BIG 10 Champion!!\"\n",
    "string1"
   ]
  },
  {
   "cell_type": "code",
   "execution_count": null,
   "metadata": {},
   "outputs": [],
   "source": [
    "our_state = \"Michigan\"\n",
    "ne_states = c(\"Connecticut\", \"Maine\", \"Massachusetts\", \"Vermont\", \"New Hampshire\", \"Rhode Island\")\n",
    "lakemich_states = c(\"Wisconsin\", \"Illinois\", \"Michigan\", \"Indiana\")"
   ]
  },
  {
   "cell_type": "code",
   "execution_count": null,
   "metadata": {},
   "outputs": [],
   "source": [
    "our_state %in% ne_states\n",
    "our_state %in% lakemich_states"
   ]
  },
  {
   "cell_type": "markdown",
   "metadata": {},
   "source": [
    "Note that there are some special characters. The most commonly used ones are `\\n` and `\\t` for newlines and tabs, respectively.\n",
    "\n",
    "Also note that there are some reserved characters do special things in strings. If you want to include them, you must escape them with a backslash `\\`."
   ]
  },
  {
   "cell_type": "code",
   "execution_count": null,
   "metadata": {},
   "outputs": [],
   "source": [
    "double_quote = \"hi\\\"bye\"\n",
    "backslash_ex = \"a\\\\tb\"\n",
    "backslash_ex2 = \"a\\tb\""
   ]
  },
  {
   "cell_type": "code",
   "execution_count": null,
   "metadata": {},
   "outputs": [],
   "source": [
    "cat(double_quote)"
   ]
  },
  {
   "cell_type": "code",
   "execution_count": null,
   "metadata": {},
   "outputs": [],
   "source": [
    "cat(backslash_ex)"
   ]
  },
  {
   "cell_type": "code",
   "execution_count": null,
   "metadata": {},
   "outputs": [],
   "source": [
    "cat(backslash_ex2)"
   ]
  },
  {
   "cell_type": "markdown",
   "metadata": {},
   "source": [
    "You’ll also sometimes see strings like `\"\\u00b5\"`, this is called Unicode-escaping, and is a way of writing non-ASCII characters that works on all platforms."
   ]
  },
  {
   "cell_type": "code",
   "execution_count": null,
   "metadata": {},
   "outputs": [],
   "source": [
    "x = \"\\u00b5\"\n",
    "x"
   ]
  },
  {
   "cell_type": "markdown",
   "metadata": {},
   "source": [
    "### String Functions"
   ]
  },
  {
   "cell_type": "code",
   "execution_count": null,
   "metadata": {},
   "outputs": [],
   "source": [
    "ne_states"
   ]
  },
  {
   "cell_type": "code",
   "execution_count": null,
   "metadata": {},
   "outputs": [],
   "source": [
    "str_length(ne_states)"
   ]
  },
  {
   "cell_type": "code",
   "execution_count": null,
   "metadata": {},
   "outputs": [],
   "source": [
    "str_c('Seoul', 'Korea', sep=', ')\n",
    "# paste('Seoul', 'Korea', sep=', ')"
   ]
  },
  {
   "cell_type": "code",
   "execution_count": null,
   "metadata": {},
   "outputs": [],
   "source": [
    "x = c('abc', '123', NA)"
   ]
  },
  {
   "cell_type": "code",
   "execution_count": null,
   "metadata": {},
   "outputs": [],
   "source": [
    "str_c('|-', x, '-|')"
   ]
  },
  {
   "cell_type": "code",
   "execution_count": null,
   "metadata": {},
   "outputs": [],
   "source": [
    "str_c('|-', str_replace_na(x), '-|')"
   ]
  },
  {
   "cell_type": "markdown",
   "metadata": {},
   "source": [
    "To collapse a vector of strings, use the `collapse` argument to `str_c`:"
   ]
  },
  {
   "cell_type": "code",
   "execution_count": null,
   "metadata": {
    "scrolled": true
   },
   "outputs": [],
   "source": [
    "str_c(ne_states, collapse=\", \")"
   ]
  },
  {
   "cell_type": "markdown",
   "metadata": {},
   "source": [
    "### Subsetting Strings"
   ]
  },
  {
   "cell_type": "code",
   "execution_count": null,
   "metadata": {},
   "outputs": [],
   "source": [
    "ne_states = c(\"Connecticut\", \"Maine\", \"Massachusetts\", \"Vermont\", \"New Hampshire\", \"Rhode Island\")\n",
    "ne_states"
   ]
  },
  {
   "cell_type": "code",
   "execution_count": null,
   "metadata": {},
   "outputs": [],
   "source": [
    "str_sub(ne_states, 1, 3)"
   ]
  },
  {
   "cell_type": "code",
   "execution_count": null,
   "metadata": {},
   "outputs": [],
   "source": [
    "str_sub(ne_states, -3, -1)"
   ]
  },
  {
   "cell_type": "code",
   "execution_count": null,
   "metadata": {},
   "outputs": [],
   "source": [
    "str_sub(ne_states, 1, 7)  # notice that this didn't fail for Maine"
   ]
  },
  {
   "cell_type": "code",
   "execution_count": null,
   "metadata": {},
   "outputs": [],
   "source": [
    "str_sub(ne_states, 1, 1) = str_to_lower(str_sub(ne_states, 1, 1))\n",
    "ne_states"
   ]
  },
  {
   "cell_type": "code",
   "execution_count": null,
   "metadata": {},
   "outputs": [],
   "source": [
    "str_sub(ne_states, -3, -1) = str_to_upper(str_sub(ne_states, -3, -1))\n",
    "ne_states"
   ]
  },
  {
   "cell_type": "markdown",
   "metadata": {},
   "source": [
    "## Using regular expressions in R\n",
    "\n",
    "In `R`, we will use `str_view` and `str_view_all` to play with regular expressions. \n",
    "\n",
    "Note that other functions you've used previously, such as `str_detect` and `str_replace`, can also take regular expressions as patterns.\n",
    "\n",
    "`str_view` and `str_view_all` take a string (or a vector of strings) and show you the matches to a pattern."
   ]
  },
  {
   "cell_type": "code",
   "execution_count": null,
   "metadata": {},
   "outputs": [],
   "source": [
    "x = c(\"apple\", \"banana\", \"pear\", \"orange\")"
   ]
  },
  {
   "cell_type": "code",
   "execution_count": null,
   "metadata": {},
   "outputs": [],
   "source": [
    "str_view(x, \"an\")\n",
    "# str_match(x, \"an\")"
   ]
  },
  {
   "cell_type": "code",
   "execution_count": null,
   "metadata": {},
   "outputs": [],
   "source": [
    "str_view_all(x, \"an\")\n",
    "# str_locate_all(x, \"an\")"
   ]
  },
  {
   "cell_type": "code",
   "execution_count": null,
   "metadata": {},
   "outputs": [],
   "source": [
    "baseball = \"According to Baseball Reference’s wins above average, the Red Sox had the best \n",
    "outfield in baseball— one-tenth of a win ahead of the Milwaukee Brewers, 11.5 to 11.4. And \n",
    "that’s despite, I’d argue, the two best position players in the NL this year (Christian \n",
    "Yelich and Lorenzo Cain) being Brewers outfielders. More importantly, the distance from \n",
    "Boston and Milwaukee to the third-place Yankees is about five wins. Two-thirds of the Los \n",
    "Angeles Angels’ outfield is Mike Trout (the best player in baseball) and Justin Upton (a \n",
    "four-time All-Star who hit 30 home runs and posted a 122 OPS+ and .348 wOba this year), \n",
    "and in order to get to 11.5 WAA, the Angels’ outfield would have had to replace right \n",
    "fielder Kole Calhoun with one of the three best outfielders in baseball this year by WAA.\"\n",
    "\n",
    "str_view_all(baseball, \"\\\\b[A-Z][a-z]+\")\n",
    "# str_match_all(baseball, \"\\\\b[A-Z][a-z]+\")"
   ]
  },
  {
   "cell_type": "markdown",
   "metadata": {},
   "source": [
    "Note that any time you want to use a backslash `\\` in a regex pattern in `R`, you'll need to use a double backslash `\\\\` instead. This is because `R` has its own layer of string processing that also uses backslashes to escape reserved characters. So you need to tell `R` to use a literal backslash so that it passes a backslash to the regex function."
   ]
  },
  {
   "cell_type": "code",
   "execution_count": null,
   "metadata": {},
   "outputs": [],
   "source": [
    "naive = \"a.c\"\n",
    "dot = \"a\\\\.c\"\n",
    "\n",
    "cat(naive)\n",
    "str_view(c(\"abc\", \"a.c\", \"bef\"), naive)\n",
    "\n",
    "cat(dot)\n",
    "str_view(c(\"abc\", \"a.c\", \"bef\"), dot)"
   ]
  },
  {
   "cell_type": "markdown",
   "metadata": {},
   "source": [
    "Question: How many backslashes do you need to create a regex pattern that matches a literal backslash when using `R`?"
   ]
  },
  {
   "cell_type": "code",
   "execution_count": null,
   "metadata": {},
   "outputs": [],
   "source": []
  },
  {
   "cell_type": "code",
   "execution_count": null,
   "metadata": {},
   "outputs": [],
   "source": []
  },
  {
   "cell_type": "markdown",
   "metadata": {},
   "source": [
    "## Exercises\n",
    "\n",
    "Given the corpus of common words in `stringr::words`, create regular expressions that find all words that:\n",
    "\n",
    "- Start with `y` (I've done this one for you)\n",
    "- End with `x`\n",
    "- Are exactly two letters long (don’t cheat by `using str_length`!)\n",
    "- Have ten letters or more"
   ]
  },
  {
   "cell_type": "code",
   "execution_count": null,
   "metadata": {},
   "outputs": [],
   "source": [
    "words = stringr::words"
   ]
  },
  {
   "cell_type": "code",
   "execution_count": null,
   "metadata": {},
   "outputs": [],
   "source": [
    "str_view(words, \"^y\\\\w*\", match=TRUE)\n",
    "words[str_detect(words, \"^y\\\\w*\")]"
   ]
  },
  {
   "cell_type": "code",
   "execution_count": null,
   "metadata": {},
   "outputs": [],
   "source": []
  },
  {
   "cell_type": "code",
   "execution_count": null,
   "metadata": {},
   "outputs": [],
   "source": []
  },
  {
   "cell_type": "code",
   "execution_count": null,
   "metadata": {},
   "outputs": [],
   "source": []
  },
  {
   "cell_type": "markdown",
   "metadata": {},
   "source": [
    "Create regular expressions to find all words that:\n",
    "\n",
    "- End with `ed`, but not with `eed`\n",
    "- End with `ing` or `ise`\n",
    "- End with the same two-letter sequence they start with (e.g. `church`)\n",
    "- Empirically verify the rule \"i before e except after c\" (use multiple patterns to check this)"
   ]
  },
  {
   "cell_type": "code",
   "execution_count": null,
   "metadata": {},
   "outputs": [],
   "source": []
  },
  {
   "cell_type": "code",
   "execution_count": null,
   "metadata": {},
   "outputs": [],
   "source": []
  },
  {
   "cell_type": "code",
   "execution_count": null,
   "metadata": {},
   "outputs": [],
   "source": []
  },
  {
   "cell_type": "code",
   "execution_count": null,
   "metadata": {},
   "outputs": [],
   "source": []
  },
  {
   "cell_type": "markdown",
   "metadata": {},
   "source": [
    "Try to match the valid `dates` below (first row) without matching the invalid dates (the rest).\n",
    "\n",
    "Hint: Start by writing a pattern that matches all the entries. Then try to refine your pattern to omit the invalid dates."
   ]
  },
  {
   "cell_type": "code",
   "execution_count": null,
   "metadata": {},
   "outputs": [],
   "source": [
    "dates = c('2012-05-13', '2014-12-31', '1991-06-14', '1991/06/14',\n",
    "          '200a-05-13',  # invalid year\n",
    "          '2014-15-20',  # invalid month\n",
    "          '2014-00-20',  # invalid month\n",
    "          '2016-04-35',  # invalid day\n",
    "          '2014-12-00',  # invalid day\n",
    "          '2013/03-25')  # non-matching separators"
   ]
  },
  {
   "cell_type": "code",
   "execution_count": null,
   "metadata": {},
   "outputs": [],
   "source": [
    "str_view(dates, 'pattern')"
   ]
  },
  {
   "cell_type": "code",
   "execution_count": null,
   "metadata": {},
   "outputs": [],
   "source": []
  }
 ],
 "metadata": {
  "kernelspec": {
   "display_name": "R",
   "language": "R",
   "name": "ir"
  },
  "language_info": {
   "codemirror_mode": "r",
   "file_extension": ".r",
   "mimetype": "text/x-r-source",
   "name": "R",
   "pygments_lexer": "r",
   "version": "3.6.0"
  }
 },
 "nbformat": 4,
 "nbformat_minor": 2
}
