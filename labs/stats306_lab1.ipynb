{
 "cells": [
  {
   "cell_type": "markdown",
   "metadata": {},
   "source": [
    "# Lab 1 (1/13): Introduction\n",
    "\n",
    "### Web pages\n",
    "Course page: https://ambujtewari.github.io/teaching/STATS306-Winter2020/\n",
    "\n",
    "Lab page: https://rogerfan.github.io/stats306_w20/\n",
    "\n",
    "### Office Hours\n",
    "    Mondays: 2-4pm, USB 2165\n",
    "    \n",
    "### Contact\n",
    "    Questions on problems: Use the slack discussions\n",
    "    If you need to email me, include in the subject line: [STATS 306]\n",
    "    Email: rogerfan@umich.edu\n",
    "    "
   ]
  },
  {
   "cell_type": "markdown",
   "metadata": {},
   "source": [
    "## Installing R and the Jupyter Notebook\n",
    "\n",
    "Refer to the instructions [here](https://github.com/rogerfan/stats306_w20/blob/master/install_R_jupyter.md).\n",
    "\n",
    "Alternatively, once you've downloaded and installed the Anaconda Python 3.x distribution from <https://www.anaconda.com/download/>, you can:\n",
    "-  *windows* -- start up Anaconda Prompt\n",
    "-  *linux/macOS* -- start up your terminal\n",
    "\n",
    "And type \n",
    "\n",
    "    conda install -c r r-essentials r-irkernel r-tidyverse\n",
    "\n",
    "Now you are ready to play around with a Jupyter notebook!\n",
    "\n",
    "You can startup your notebook through the Anaconda Navigator or by typing \n",
    "\n",
    "    jupyter notebook\n",
    "\n",
    "into the prompt."
   ]
  },
  {
   "cell_type": "markdown",
   "metadata": {},
   "source": [
    "## Running Jupyter Notebooks in the cloud\n",
    "\n",
    "1. Download the desired jupyter notebook file (`.ipynb`), for instance a homework template or a lab notebook.\n",
    "2. Go to https://colab.research.google.com/\n",
    "3. Click \"Upload\" or go to File->Upload Notebook.\n",
    "4. Navigate to the notebook you downloaded.\n",
    "5. This will upload a copy of the notebook to Google Drive that you can then run through colab (remember to save!). Whenever you return you should be able to find your notebooks in File->Open Notebook->Google Drive.\n"
   ]
  },
  {
   "cell_type": "markdown",
   "metadata": {},
   "source": [
    "## Introduction to R"
   ]
  },
  {
   "cell_type": "code",
   "execution_count": null,
   "metadata": {
    "scrolled": false
   },
   "outputs": [],
   "source": [
    "# options(repr.plot.width=10, repr.plot.height=8)\n",
    "\n",
    "require(tidyverse)"
   ]
  },
  {
   "cell_type": "markdown",
   "metadata": {},
   "source": [
    "### Assignment and operations\n"
   ]
  },
  {
   "cell_type": "code",
   "execution_count": null,
   "metadata": {},
   "outputs": [],
   "source": [
    "x <- 4\n",
    "x = 4    # I personally prefer this\n",
    "y = 3.5\n",
    "z = 'hello'\n",
    "\n",
    "res = 3*x^2/y + 2\n",
    "\n",
    "print(x)\n",
    "print(z)\n",
    "print(res)"
   ]
  },
  {
   "cell_type": "markdown",
   "metadata": {},
   "source": [
    "### Using functions"
   ]
  },
  {
   "cell_type": "code",
   "execution_count": null,
   "metadata": {},
   "outputs": [],
   "source": [
    "?sqrt     # Look up documentation"
   ]
  },
  {
   "cell_type": "code",
   "execution_count": null,
   "metadata": {},
   "outputs": [],
   "source": [
    "sqrt(5)"
   ]
  },
  {
   "cell_type": "markdown",
   "metadata": {},
   "source": [
    "### Vectors"
   ]
  },
  {
   "cell_type": "code",
   "execution_count": null,
   "metadata": {},
   "outputs": [],
   "source": [
    "vec1 = c(1, 3, 5)\n",
    "vec2 = c(vec1, 6, 7, c(8, 9))\n",
    "\n",
    "vec1\n",
    "vec2"
   ]
  },
  {
   "cell_type": "code",
   "execution_count": null,
   "metadata": {},
   "outputs": [],
   "source": [
    "vec2[2:4]\n",
    "vec2[c(2, 4, 6)]"
   ]
  },
  {
   "cell_type": "code",
   "execution_count": null,
   "metadata": {},
   "outputs": [],
   "source": [
    "vec1 + 3\n",
    "sqrt(vec1)"
   ]
  },
  {
   "cell_type": "code",
   "execution_count": null,
   "metadata": {},
   "outputs": [],
   "source": [
    "length(vec1)\n",
    "min(vec1)\n",
    "mean(vec1)\n",
    "sum(vec1)"
   ]
  },
  {
   "cell_type": "markdown",
   "metadata": {},
   "source": [
    "### Logical operations"
   ]
  },
  {
   "cell_type": "code",
   "execution_count": null,
   "metadata": {},
   "outputs": [],
   "source": [
    "a = TRUE\n",
    "b = c(TRUE, FALSE)\n",
    "\n",
    "a\n",
    "!a\n",
    "!b"
   ]
  },
  {
   "cell_type": "code",
   "execution_count": null,
   "metadata": {},
   "outputs": [],
   "source": [
    "x = c(1, 3, 5)\n",
    "y = c(2, 3, 4)\n",
    "\n",
    "x == y\n",
    "x != y\n",
    "x > y\n",
    "x >= y"
   ]
  },
  {
   "cell_type": "code",
   "execution_count": null,
   "metadata": {},
   "outputs": [],
   "source": [
    "(3>2) | (1 == 0)\n",
    "(3>2) & (1 == 0)"
   ]
  },
  {
   "cell_type": "code",
   "execution_count": null,
   "metadata": {},
   "outputs": [],
   "source": [
    "c = c(TRUE, TRUE, FALSE)\n",
    "d = c(TRUE, FALSE, FALSE)\n",
    "c & d\n",
    "c | d"
   ]
  },
  {
   "cell_type": "markdown",
   "metadata": {},
   "source": [
    "### Data"
   ]
  },
  {
   "cell_type": "code",
   "execution_count": null,
   "metadata": {},
   "outputs": [],
   "source": [
    "dat = tibble(\n",
    "  name = c('Roger', 'Enes', 'Yifan', 'Ambuj'), \n",
    "  grade = c(80, 90, 70, 100), \n",
    "  age = c(28, 15, 33, 82),\n",
    "  extra_cred = c(3, 5, 1, 3),\n",
    "  lab = c('a', 'b', 'a', 'b')\n",
    ")"
   ]
  },
  {
   "cell_type": "code",
   "execution_count": null,
   "metadata": {},
   "outputs": [],
   "source": [
    "print(dat)"
   ]
  },
  {
   "cell_type": "code",
   "execution_count": null,
   "metadata": {},
   "outputs": [],
   "source": [
    "dat$name\n",
    "dat$grade"
   ]
  },
  {
   "cell_type": "code",
   "execution_count": null,
   "metadata": {},
   "outputs": [],
   "source": [
    "dat$final_score = dat$grade + dat$extra_cred\n",
    "print(dat)"
   ]
  },
  {
   "cell_type": "code",
   "execution_count": null,
   "metadata": {},
   "outputs": [],
   "source": []
  },
  {
   "cell_type": "markdown",
   "metadata": {},
   "source": [
    "## Data"
   ]
  },
  {
   "cell_type": "code",
   "execution_count": null,
   "metadata": {},
   "outputs": [],
   "source": [
    "print(diamonds)"
   ]
  },
  {
   "cell_type": "code",
   "execution_count": null,
   "metadata": {},
   "outputs": [],
   "source": [
    "head(diamonds)"
   ]
  },
  {
   "cell_type": "code",
   "execution_count": null,
   "metadata": {},
   "outputs": [],
   "source": [
    "summary(diamonds)"
   ]
  },
  {
   "cell_type": "markdown",
   "metadata": {},
   "source": [
    "## Creating a plot"
   ]
  },
  {
   "cell_type": "code",
   "execution_count": null,
   "metadata": {},
   "outputs": [],
   "source": [
    "ggplot(data=diamonds, mapping=aes(x=carat, y=price)) + \n",
    "    geom_point()"
   ]
  },
  {
   "cell_type": "code",
   "execution_count": null,
   "metadata": {},
   "outputs": [],
   "source": [
    "ggplot(data=diamonds, aes(x=carat, y=price, color=clarity)) + \n",
    "    geom_point(alpha=0.6) +\n",
    "    facet_wrap(~cut, ncol=3) +\n",
    "    labs(x='Carats', y='Price($)') +\n",
    "    ggtitle('Diamond size by carat')"
   ]
  }
 ],
 "metadata": {
  "kernelspec": {
   "display_name": "R",
   "language": "R",
   "name": "ir"
  },
  "language_info": {
   "codemirror_mode": "r",
   "file_extension": ".r",
   "mimetype": "text/x-r-source",
   "name": "R",
   "pygments_lexer": "r",
   "version": "3.6.0"
  }
 },
 "nbformat": 4,
 "nbformat_minor": 2
}
