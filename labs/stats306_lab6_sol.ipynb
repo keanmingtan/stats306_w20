{
 "cells": [
  {
   "cell_type": "markdown",
   "metadata": {},
   "source": [
    "# Lab 6 (2/17): Joining datasets and AirBnB data\n",
    "\n",
    "### Web pages\n",
    "Course page: https://ambujtewari.github.io/teaching/STATS306-Winter2020/\n",
    "\n",
    "Lab page: https://rogerfan.github.io/stats306_w20/\n",
    "\n",
    "### Office Hours\n",
    "    Mondays: 2-4pm, USB 2165\n",
    "    \n",
    "### Contact\n",
    "    Questions on problems: Use the slack discussions\n",
    "    If you need to email me, include in the subject line: [STATS 306]\n",
    "    Email: rogerfan@umich.edu"
   ]
  },
  {
   "cell_type": "code",
   "execution_count": 1,
   "metadata": {},
   "outputs": [
    {
     "name": "stderr",
     "output_type": "stream",
     "text": [
      "── \u001b[1mAttaching packages\u001b[22m ─────────────────────────────────────── tidyverse 1.3.0 ──\n",
      "\n",
      "\u001b[32m✔\u001b[39m \u001b[34mggplot2\u001b[39m 3.2.1     \u001b[32m✔\u001b[39m \u001b[34mpurrr  \u001b[39m 0.3.3\n",
      "\u001b[32m✔\u001b[39m \u001b[34mtibble \u001b[39m 2.1.3     \u001b[32m✔\u001b[39m \u001b[34mdplyr  \u001b[39m 0.8.3\n",
      "\u001b[32m✔\u001b[39m \u001b[34mtidyr  \u001b[39m 1.0.0     \u001b[32m✔\u001b[39m \u001b[34mstringr\u001b[39m 1.4.0\n",
      "\u001b[32m✔\u001b[39m \u001b[34mreadr  \u001b[39m 1.3.1     \u001b[32m✔\u001b[39m \u001b[34mforcats\u001b[39m 0.4.0\n",
      "\n",
      "── \u001b[1mConflicts\u001b[22m ────────────────────────────────────────── tidyverse_conflicts() ──\n",
      "\u001b[31m✖\u001b[39m \u001b[34mdplyr\u001b[39m::\u001b[32mfilter()\u001b[39m masks \u001b[34mstats\u001b[39m::filter()\n",
      "\u001b[31m✖\u001b[39m \u001b[34mdplyr\u001b[39m::\u001b[32mlag()\u001b[39m    masks \u001b[34mstats\u001b[39m::lag()\n",
      "\n"
     ]
    }
   ],
   "source": [
    "library(tidyverse)"
   ]
  },
  {
   "cell_type": "markdown",
   "metadata": {},
   "source": [
    "## Joining datasets\n",
    "\n",
    "There are many situations where you may want to combine the information from two datasets together. In `dplyr` we do this with various join commands.\n",
    "\n",
    "There are four commonly used join commands:\n",
    "\n",
    "* `left_join`\n",
    "* `right_join`\n",
    "* `inner_join`\n",
    "* `full_join`\n",
    "\n",
    "While two additional joins are often used as diagnostics:\n",
    "\n",
    "* `semi_join`\n",
    "* `anti_join`\n",
    "\n",
    "You can find the documentation for all of these at https://dplyr.tidyverse.org/reference/join.html.\n",
    "\n",
    "All the join functions use the same syntax:\n",
    "```\n",
    "left_join(data1, data2, by='varname')\n",
    "data1 %>% left_join(data2, by='varname')\n",
    "\n",
    "data1 %>% left_join(data2, by=c('var1', 'var2')\n",
    "```\n"
   ]
  },
  {
   "cell_type": "code",
   "execution_count": 2,
   "metadata": {},
   "outputs": [
    {
     "data": {
      "text/html": [
       "<table>\n",
       "<caption>A tibble: 5 × 3</caption>\n",
       "<thead>\n",
       "\t<tr><th scope=col>name</th><th scope=col>school</th><th scope=col>grade</th></tr>\n",
       "\t<tr><th scope=col>&lt;chr&gt;</th><th scope=col>&lt;chr&gt;</th><th scope=col>&lt;dbl&gt;</th></tr>\n",
       "</thead>\n",
       "<tbody>\n",
       "\t<tr><td>Albert</td><td>Ohio     </td><td>2.8</td></tr>\n",
       "\t<tr><td>Julie </td><td>Michigan </td><td>3.4</td></tr>\n",
       "\t<tr><td>Arnold</td><td>Wisconsin</td><td>3.1</td></tr>\n",
       "\t<tr><td>Jacob </td><td>Michigan </td><td>2.9</td></tr>\n",
       "\t<tr><td>Nat   </td><td>Illinois </td><td>3.9</td></tr>\n",
       "</tbody>\n",
       "</table>\n"
      ],
      "text/latex": [
       "A tibble: 5 × 3\n",
       "\\begin{tabular}{lll}\n",
       " name & school & grade\\\\\n",
       " <chr> & <chr> & <dbl>\\\\\n",
       "\\hline\n",
       "\t Albert & Ohio      & 2.8\\\\\n",
       "\t Julie  & Michigan  & 3.4\\\\\n",
       "\t Arnold & Wisconsin & 3.1\\\\\n",
       "\t Jacob  & Michigan  & 2.9\\\\\n",
       "\t Nat    & Illinois  & 3.9\\\\\n",
       "\\end{tabular}\n"
      ],
      "text/markdown": [
       "\n",
       "A tibble: 5 × 3\n",
       "\n",
       "| name &lt;chr&gt; | school &lt;chr&gt; | grade &lt;dbl&gt; |\n",
       "|---|---|---|\n",
       "| Albert | Ohio      | 2.8 |\n",
       "| Julie  | Michigan  | 3.4 |\n",
       "| Arnold | Wisconsin | 3.1 |\n",
       "| Jacob  | Michigan  | 2.9 |\n",
       "| Nat    | Illinois  | 3.9 |\n",
       "\n"
      ],
      "text/plain": [
       "  name   school    grade\n",
       "1 Albert Ohio      2.8  \n",
       "2 Julie  Michigan  3.4  \n",
       "3 Arnold Wisconsin 3.1  \n",
       "4 Jacob  Michigan  2.9  \n",
       "5 Nat    Illinois  3.9  "
      ]
     },
     "metadata": {},
     "output_type": "display_data"
    },
    {
     "data": {
      "text/html": [
       "<table>\n",
       "<caption>A tibble: 4 × 2</caption>\n",
       "<thead>\n",
       "\t<tr><th scope=col>school</th><th scope=col>size</th></tr>\n",
       "\t<tr><th scope=col>&lt;chr&gt;</th><th scope=col>&lt;dbl&gt;</th></tr>\n",
       "</thead>\n",
       "<tbody>\n",
       "\t<tr><td>Ohio     </td><td>44853</td></tr>\n",
       "\t<tr><td>Michigan </td><td>29550</td></tr>\n",
       "\t<tr><td>Illinois </td><td>32884</td></tr>\n",
       "\t<tr><td>Minnesota</td><td>31535</td></tr>\n",
       "</tbody>\n",
       "</table>\n"
      ],
      "text/latex": [
       "A tibble: 4 × 2\n",
       "\\begin{tabular}{ll}\n",
       " school & size\\\\\n",
       " <chr> & <dbl>\\\\\n",
       "\\hline\n",
       "\t Ohio      & 44853\\\\\n",
       "\t Michigan  & 29550\\\\\n",
       "\t Illinois  & 32884\\\\\n",
       "\t Minnesota & 31535\\\\\n",
       "\\end{tabular}\n"
      ],
      "text/markdown": [
       "\n",
       "A tibble: 4 × 2\n",
       "\n",
       "| school &lt;chr&gt; | size &lt;dbl&gt; |\n",
       "|---|---|\n",
       "| Ohio      | 44853 |\n",
       "| Michigan  | 29550 |\n",
       "| Illinois  | 32884 |\n",
       "| Minnesota | 31535 |\n",
       "\n"
      ],
      "text/plain": [
       "  school    size \n",
       "1 Ohio      44853\n",
       "2 Michigan  29550\n",
       "3 Illinois  32884\n",
       "4 Minnesota 31535"
      ]
     },
     "metadata": {},
     "output_type": "display_data"
    }
   ],
   "source": [
    "students = tribble(\n",
    "    ~name, ~school, ~grade,\n",
    "    \"Albert\", 'Ohio',      2.8,\n",
    "    \"Julie\",  'Michigan',  3.4,\n",
    "    \"Arnold\", 'Wisconsin', 3.1,\n",
    "    \"Jacob\",  'Michigan',  2.9,\n",
    "    \"Nat\",    'Illinois',  3.9\n",
    ")\n",
    "\n",
    "schools = tribble(\n",
    "    ~school, ~size,\n",
    "    'Ohio',      44853,\n",
    "    'Michigan',  29550,\n",
    "    'Illinois',  32884,\n",
    "    'Minnesota', 31535\n",
    ")\n",
    "\n",
    "students\n",
    "schools"
   ]
  },
  {
   "cell_type": "code",
   "execution_count": 3,
   "metadata": {},
   "outputs": [
    {
     "name": "stderr",
     "output_type": "stream",
     "text": [
      "Joining, by = \"school\"\n",
      "\n"
     ]
    },
    {
     "data": {
      "text/html": [
       "<table>\n",
       "<caption>A tibble: 5 × 4</caption>\n",
       "<thead>\n",
       "\t<tr><th scope=col>name</th><th scope=col>school</th><th scope=col>grade</th><th scope=col>size</th></tr>\n",
       "\t<tr><th scope=col>&lt;chr&gt;</th><th scope=col>&lt;chr&gt;</th><th scope=col>&lt;dbl&gt;</th><th scope=col>&lt;dbl&gt;</th></tr>\n",
       "</thead>\n",
       "<tbody>\n",
       "\t<tr><td>Albert</td><td>Ohio     </td><td>2.8</td><td>44853</td></tr>\n",
       "\t<tr><td>Julie </td><td>Michigan </td><td>3.4</td><td>29550</td></tr>\n",
       "\t<tr><td>Arnold</td><td>Wisconsin</td><td>3.1</td><td>   NA</td></tr>\n",
       "\t<tr><td>Jacob </td><td>Michigan </td><td>2.9</td><td>29550</td></tr>\n",
       "\t<tr><td>Nat   </td><td>Illinois </td><td>3.9</td><td>32884</td></tr>\n",
       "</tbody>\n",
       "</table>\n"
      ],
      "text/latex": [
       "A tibble: 5 × 4\n",
       "\\begin{tabular}{llll}\n",
       " name & school & grade & size\\\\\n",
       " <chr> & <chr> & <dbl> & <dbl>\\\\\n",
       "\\hline\n",
       "\t Albert & Ohio      & 2.8 & 44853\\\\\n",
       "\t Julie  & Michigan  & 3.4 & 29550\\\\\n",
       "\t Arnold & Wisconsin & 3.1 &    NA\\\\\n",
       "\t Jacob  & Michigan  & 2.9 & 29550\\\\\n",
       "\t Nat    & Illinois  & 3.9 & 32884\\\\\n",
       "\\end{tabular}\n"
      ],
      "text/markdown": [
       "\n",
       "A tibble: 5 × 4\n",
       "\n",
       "| name &lt;chr&gt; | school &lt;chr&gt; | grade &lt;dbl&gt; | size &lt;dbl&gt; |\n",
       "|---|---|---|---|\n",
       "| Albert | Ohio      | 2.8 | 44853 |\n",
       "| Julie  | Michigan  | 3.4 | 29550 |\n",
       "| Arnold | Wisconsin | 3.1 |    NA |\n",
       "| Jacob  | Michigan  | 2.9 | 29550 |\n",
       "| Nat    | Illinois  | 3.9 | 32884 |\n",
       "\n"
      ],
      "text/plain": [
       "  name   school    grade size \n",
       "1 Albert Ohio      2.8   44853\n",
       "2 Julie  Michigan  3.4   29550\n",
       "3 Arnold Wisconsin 3.1      NA\n",
       "4 Jacob  Michigan  2.9   29550\n",
       "5 Nat    Illinois  3.9   32884"
      ]
     },
     "metadata": {},
     "output_type": "display_data"
    }
   ],
   "source": [
    "students %>% left_join(schools)"
   ]
  },
  {
   "cell_type": "code",
   "execution_count": 4,
   "metadata": {},
   "outputs": [
    {
     "name": "stderr",
     "output_type": "stream",
     "text": [
      "Joining, by = \"school\"\n",
      "\n"
     ]
    },
    {
     "data": {
      "text/html": [
       "<table>\n",
       "<caption>A tibble: 5 × 4</caption>\n",
       "<thead>\n",
       "\t<tr><th scope=col>name</th><th scope=col>school</th><th scope=col>grade</th><th scope=col>size</th></tr>\n",
       "\t<tr><th scope=col>&lt;chr&gt;</th><th scope=col>&lt;chr&gt;</th><th scope=col>&lt;dbl&gt;</th><th scope=col>&lt;dbl&gt;</th></tr>\n",
       "</thead>\n",
       "<tbody>\n",
       "\t<tr><td>Albert</td><td>Ohio     </td><td>2.8</td><td>44853</td></tr>\n",
       "\t<tr><td>Julie </td><td>Michigan </td><td>3.4</td><td>29550</td></tr>\n",
       "\t<tr><td>Jacob </td><td>Michigan </td><td>2.9</td><td>29550</td></tr>\n",
       "\t<tr><td>Nat   </td><td>Illinois </td><td>3.9</td><td>32884</td></tr>\n",
       "\t<tr><td>NA    </td><td>Minnesota</td><td> NA</td><td>31535</td></tr>\n",
       "</tbody>\n",
       "</table>\n"
      ],
      "text/latex": [
       "A tibble: 5 × 4\n",
       "\\begin{tabular}{llll}\n",
       " name & school & grade & size\\\\\n",
       " <chr> & <chr> & <dbl> & <dbl>\\\\\n",
       "\\hline\n",
       "\t Albert & Ohio      & 2.8 & 44853\\\\\n",
       "\t Julie  & Michigan  & 3.4 & 29550\\\\\n",
       "\t Jacob  & Michigan  & 2.9 & 29550\\\\\n",
       "\t Nat    & Illinois  & 3.9 & 32884\\\\\n",
       "\t NA     & Minnesota &  NA & 31535\\\\\n",
       "\\end{tabular}\n"
      ],
      "text/markdown": [
       "\n",
       "A tibble: 5 × 4\n",
       "\n",
       "| name &lt;chr&gt; | school &lt;chr&gt; | grade &lt;dbl&gt; | size &lt;dbl&gt; |\n",
       "|---|---|---|---|\n",
       "| Albert | Ohio      | 2.8 | 44853 |\n",
       "| Julie  | Michigan  | 3.4 | 29550 |\n",
       "| Jacob  | Michigan  | 2.9 | 29550 |\n",
       "| Nat    | Illinois  | 3.9 | 32884 |\n",
       "| NA     | Minnesota |  NA | 31535 |\n",
       "\n"
      ],
      "text/plain": [
       "  name   school    grade size \n",
       "1 Albert Ohio      2.8   44853\n",
       "2 Julie  Michigan  3.4   29550\n",
       "3 Jacob  Michigan  2.9   29550\n",
       "4 Nat    Illinois  3.9   32884\n",
       "5 NA     Minnesota  NA   31535"
      ]
     },
     "metadata": {},
     "output_type": "display_data"
    }
   ],
   "source": [
    "students %>% right_join(schools)"
   ]
  },
  {
   "cell_type": "code",
   "execution_count": 5,
   "metadata": {},
   "outputs": [
    {
     "name": "stderr",
     "output_type": "stream",
     "text": [
      "Joining, by = \"school\"\n",
      "\n"
     ]
    },
    {
     "data": {
      "text/html": [
       "<table>\n",
       "<caption>A tibble: 4 × 4</caption>\n",
       "<thead>\n",
       "\t<tr><th scope=col>name</th><th scope=col>school</th><th scope=col>grade</th><th scope=col>size</th></tr>\n",
       "\t<tr><th scope=col>&lt;chr&gt;</th><th scope=col>&lt;chr&gt;</th><th scope=col>&lt;dbl&gt;</th><th scope=col>&lt;dbl&gt;</th></tr>\n",
       "</thead>\n",
       "<tbody>\n",
       "\t<tr><td>Albert</td><td>Ohio    </td><td>2.8</td><td>44853</td></tr>\n",
       "\t<tr><td>Julie </td><td>Michigan</td><td>3.4</td><td>29550</td></tr>\n",
       "\t<tr><td>Jacob </td><td>Michigan</td><td>2.9</td><td>29550</td></tr>\n",
       "\t<tr><td>Nat   </td><td>Illinois</td><td>3.9</td><td>32884</td></tr>\n",
       "</tbody>\n",
       "</table>\n"
      ],
      "text/latex": [
       "A tibble: 4 × 4\n",
       "\\begin{tabular}{llll}\n",
       " name & school & grade & size\\\\\n",
       " <chr> & <chr> & <dbl> & <dbl>\\\\\n",
       "\\hline\n",
       "\t Albert & Ohio     & 2.8 & 44853\\\\\n",
       "\t Julie  & Michigan & 3.4 & 29550\\\\\n",
       "\t Jacob  & Michigan & 2.9 & 29550\\\\\n",
       "\t Nat    & Illinois & 3.9 & 32884\\\\\n",
       "\\end{tabular}\n"
      ],
      "text/markdown": [
       "\n",
       "A tibble: 4 × 4\n",
       "\n",
       "| name &lt;chr&gt; | school &lt;chr&gt; | grade &lt;dbl&gt; | size &lt;dbl&gt; |\n",
       "|---|---|---|---|\n",
       "| Albert | Ohio     | 2.8 | 44853 |\n",
       "| Julie  | Michigan | 3.4 | 29550 |\n",
       "| Jacob  | Michigan | 2.9 | 29550 |\n",
       "| Nat    | Illinois | 3.9 | 32884 |\n",
       "\n"
      ],
      "text/plain": [
       "  name   school   grade size \n",
       "1 Albert Ohio     2.8   44853\n",
       "2 Julie  Michigan 3.4   29550\n",
       "3 Jacob  Michigan 2.9   29550\n",
       "4 Nat    Illinois 3.9   32884"
      ]
     },
     "metadata": {},
     "output_type": "display_data"
    }
   ],
   "source": [
    "students %>% inner_join(schools)"
   ]
  },
  {
   "cell_type": "code",
   "execution_count": 6,
   "metadata": {},
   "outputs": [
    {
     "name": "stderr",
     "output_type": "stream",
     "text": [
      "Joining, by = \"school\"\n",
      "\n"
     ]
    },
    {
     "data": {
      "text/html": [
       "<table>\n",
       "<caption>A tibble: 6 × 4</caption>\n",
       "<thead>\n",
       "\t<tr><th scope=col>name</th><th scope=col>school</th><th scope=col>grade</th><th scope=col>size</th></tr>\n",
       "\t<tr><th scope=col>&lt;chr&gt;</th><th scope=col>&lt;chr&gt;</th><th scope=col>&lt;dbl&gt;</th><th scope=col>&lt;dbl&gt;</th></tr>\n",
       "</thead>\n",
       "<tbody>\n",
       "\t<tr><td>Albert</td><td>Ohio     </td><td>2.8</td><td>44853</td></tr>\n",
       "\t<tr><td>Julie </td><td>Michigan </td><td>3.4</td><td>29550</td></tr>\n",
       "\t<tr><td>Arnold</td><td>Wisconsin</td><td>3.1</td><td>   NA</td></tr>\n",
       "\t<tr><td>Jacob </td><td>Michigan </td><td>2.9</td><td>29550</td></tr>\n",
       "\t<tr><td>Nat   </td><td>Illinois </td><td>3.9</td><td>32884</td></tr>\n",
       "\t<tr><td>NA    </td><td>Minnesota</td><td> NA</td><td>31535</td></tr>\n",
       "</tbody>\n",
       "</table>\n"
      ],
      "text/latex": [
       "A tibble: 6 × 4\n",
       "\\begin{tabular}{llll}\n",
       " name & school & grade & size\\\\\n",
       " <chr> & <chr> & <dbl> & <dbl>\\\\\n",
       "\\hline\n",
       "\t Albert & Ohio      & 2.8 & 44853\\\\\n",
       "\t Julie  & Michigan  & 3.4 & 29550\\\\\n",
       "\t Arnold & Wisconsin & 3.1 &    NA\\\\\n",
       "\t Jacob  & Michigan  & 2.9 & 29550\\\\\n",
       "\t Nat    & Illinois  & 3.9 & 32884\\\\\n",
       "\t NA     & Minnesota &  NA & 31535\\\\\n",
       "\\end{tabular}\n"
      ],
      "text/markdown": [
       "\n",
       "A tibble: 6 × 4\n",
       "\n",
       "| name &lt;chr&gt; | school &lt;chr&gt; | grade &lt;dbl&gt; | size &lt;dbl&gt; |\n",
       "|---|---|---|---|\n",
       "| Albert | Ohio      | 2.8 | 44853 |\n",
       "| Julie  | Michigan  | 3.4 | 29550 |\n",
       "| Arnold | Wisconsin | 3.1 |    NA |\n",
       "| Jacob  | Michigan  | 2.9 | 29550 |\n",
       "| Nat    | Illinois  | 3.9 | 32884 |\n",
       "| NA     | Minnesota |  NA | 31535 |\n",
       "\n"
      ],
      "text/plain": [
       "  name   school    grade size \n",
       "1 Albert Ohio      2.8   44853\n",
       "2 Julie  Michigan  3.4   29550\n",
       "3 Arnold Wisconsin 3.1      NA\n",
       "4 Jacob  Michigan  2.9   29550\n",
       "5 Nat    Illinois  3.9   32884\n",
       "6 NA     Minnesota  NA   31535"
      ]
     },
     "metadata": {},
     "output_type": "display_data"
    }
   ],
   "source": [
    "students %>% full_join(schools)"
   ]
  },
  {
   "cell_type": "code",
   "execution_count": 7,
   "metadata": {},
   "outputs": [
    {
     "name": "stderr",
     "output_type": "stream",
     "text": [
      "Joining, by = \"school\"\n",
      "\n"
     ]
    },
    {
     "data": {
      "text/html": [
       "<table>\n",
       "<caption>A tibble: 4 × 3</caption>\n",
       "<thead>\n",
       "\t<tr><th scope=col>name</th><th scope=col>school</th><th scope=col>grade</th></tr>\n",
       "\t<tr><th scope=col>&lt;chr&gt;</th><th scope=col>&lt;chr&gt;</th><th scope=col>&lt;dbl&gt;</th></tr>\n",
       "</thead>\n",
       "<tbody>\n",
       "\t<tr><td>Albert</td><td>Ohio    </td><td>2.8</td></tr>\n",
       "\t<tr><td>Julie </td><td>Michigan</td><td>3.4</td></tr>\n",
       "\t<tr><td>Jacob </td><td>Michigan</td><td>2.9</td></tr>\n",
       "\t<tr><td>Nat   </td><td>Illinois</td><td>3.9</td></tr>\n",
       "</tbody>\n",
       "</table>\n"
      ],
      "text/latex": [
       "A tibble: 4 × 3\n",
       "\\begin{tabular}{lll}\n",
       " name & school & grade\\\\\n",
       " <chr> & <chr> & <dbl>\\\\\n",
       "\\hline\n",
       "\t Albert & Ohio     & 2.8\\\\\n",
       "\t Julie  & Michigan & 3.4\\\\\n",
       "\t Jacob  & Michigan & 2.9\\\\\n",
       "\t Nat    & Illinois & 3.9\\\\\n",
       "\\end{tabular}\n"
      ],
      "text/markdown": [
       "\n",
       "A tibble: 4 × 3\n",
       "\n",
       "| name &lt;chr&gt; | school &lt;chr&gt; | grade &lt;dbl&gt; |\n",
       "|---|---|---|\n",
       "| Albert | Ohio     | 2.8 |\n",
       "| Julie  | Michigan | 3.4 |\n",
       "| Jacob  | Michigan | 2.9 |\n",
       "| Nat    | Illinois | 3.9 |\n",
       "\n"
      ],
      "text/plain": [
       "  name   school   grade\n",
       "1 Albert Ohio     2.8  \n",
       "2 Julie  Michigan 3.4  \n",
       "3 Jacob  Michigan 2.9  \n",
       "4 Nat    Illinois 3.9  "
      ]
     },
     "metadata": {},
     "output_type": "display_data"
    }
   ],
   "source": [
    "students %>% semi_join(schools)"
   ]
  },
  {
   "cell_type": "code",
   "execution_count": 8,
   "metadata": {},
   "outputs": [
    {
     "name": "stderr",
     "output_type": "stream",
     "text": [
      "Joining, by = \"school\"\n",
      "\n"
     ]
    },
    {
     "data": {
      "text/html": [
       "<table>\n",
       "<caption>A tibble: 1 × 3</caption>\n",
       "<thead>\n",
       "\t<tr><th scope=col>name</th><th scope=col>school</th><th scope=col>grade</th></tr>\n",
       "\t<tr><th scope=col>&lt;chr&gt;</th><th scope=col>&lt;chr&gt;</th><th scope=col>&lt;dbl&gt;</th></tr>\n",
       "</thead>\n",
       "<tbody>\n",
       "\t<tr><td>Arnold</td><td>Wisconsin</td><td>3.1</td></tr>\n",
       "</tbody>\n",
       "</table>\n"
      ],
      "text/latex": [
       "A tibble: 1 × 3\n",
       "\\begin{tabular}{lll}\n",
       " name & school & grade\\\\\n",
       " <chr> & <chr> & <dbl>\\\\\n",
       "\\hline\n",
       "\t Arnold & Wisconsin & 3.1\\\\\n",
       "\\end{tabular}\n"
      ],
      "text/markdown": [
       "\n",
       "A tibble: 1 × 3\n",
       "\n",
       "| name &lt;chr&gt; | school &lt;chr&gt; | grade &lt;dbl&gt; |\n",
       "|---|---|---|\n",
       "| Arnold | Wisconsin | 3.1 |\n",
       "\n"
      ],
      "text/plain": [
       "  name   school    grade\n",
       "1 Arnold Wisconsin 3.1  "
      ]
     },
     "metadata": {},
     "output_type": "display_data"
    }
   ],
   "source": [
    "students %>% anti_join(schools)"
   ]
  },
  {
   "cell_type": "code",
   "execution_count": null,
   "metadata": {},
   "outputs": [],
   "source": []
  },
  {
   "cell_type": "markdown",
   "metadata": {},
   "source": [
    "## AirBnB Data"
   ]
  },
  {
   "cell_type": "code",
   "execution_count": 9,
   "metadata": {},
   "outputs": [
    {
     "name": "stderr",
     "output_type": "stream",
     "text": [
      "Warning message:\n",
      "“NAs introduced by coercion”\n",
      "Warning message:\n",
      "“NAs introduced by coercion”\n"
     ]
    }
   ],
   "source": [
    "load(url(\"https://raw.githubusercontent.com/rogerfan/stats306_w20/master/labs/airbnb_dat.Rdata\"))\n",
    "\n",
    "demo = demo %>% mutate(median_household_income = as.numeric(median_household_income),\n",
    "                       mean_household_income = as.numeric(mean_household_income))"
   ]
  },
  {
   "cell_type": "markdown",
   "metadata": {},
   "source": [
    "`airbnb_dat.Rdata` contains two dataframes: `listing` and `demo`. Let's take a look.\n",
    "`listing` basically has all the info you would find on a rental page:"
   ]
  },
  {
   "cell_type": "code",
   "execution_count": 10,
   "metadata": {},
   "outputs": [
    {
     "name": "stdout",
     "output_type": "stream",
     "text": [
      "Observations: 23,624\n",
      "Variables: 29\n",
      "$ accommodates                \u001b[3m\u001b[38;5;246m<dbl>\u001b[39m\u001b[23m 2, 2, 6, 1, 2, 2, 2, 2, 3, 1, 2, 4, 3, 4,…\n",
      "$ amenities                   \u001b[3m\u001b[38;5;246m<chr>\u001b[39m\u001b[23m \"{}\", \"{\\\"Wireless Internet\\\",\\\"Air condi…\n",
      "$ availability_30             \u001b[3m\u001b[38;5;246m<int>\u001b[39m\u001b[23m 29, 18, 3, 0, 6, 22, 10, 0, 3, 20, 17, 27…\n",
      "$ bathrooms                   \u001b[3m\u001b[38;5;246m<dbl>\u001b[39m\u001b[23m 1.0, 1.0, 1.0, 1.0, 1.0, NA, 1.5, 1.0, 2.…\n",
      "$ bed_type                    \u001b[3m\u001b[38;5;246m<chr>\u001b[39m\u001b[23m \"Real Bed\", \"Real Bed\", \"Real Bed\", \"Real…\n",
      "$ bedrooms                    \u001b[3m\u001b[38;5;246m<dbl>\u001b[39m\u001b[23m 1, 1, 1, 1, 1, 1, 1, 1, 1, 1, 1, 1, 1, 1,…\n",
      "$ beds                        \u001b[3m\u001b[38;5;246m<dbl>\u001b[39m\u001b[23m 1, 1, 3, 1, 1, 1, 2, 1, 2, 1, 1, 1, 1, 2,…\n",
      "$ cancellation_policy         \u001b[3m\u001b[38;5;246m<chr>\u001b[39m\u001b[23m \"flexible\", \"flexible\", \"flexible\", \"flex…\n",
      "$ city                        \u001b[3m\u001b[38;5;246m<chr>\u001b[39m\u001b[23m \"palmdale\", \"acton\", \"acton\", \"los angele…\n",
      "$ has_availability            \u001b[3m\u001b[38;5;246m<lgl>\u001b[39m\u001b[23m NA, NA, NA, NA, NA, NA, NA, NA, NA, NA, N…\n",
      "$ host_id                     \u001b[3m\u001b[38;5;246m<int>\u001b[39m\u001b[23m 44800067, 84615808, 71743973, 41646908, 8…\n",
      "$ id                          \u001b[3m\u001b[38;5;246m<int>\u001b[39m\u001b[23m 8909380, 14078522, 13006928, 7898757, 160…\n",
      "$ instant_bookable            \u001b[3m\u001b[38;5;246m<chr>\u001b[39m\u001b[23m \"f\", \"f\", \"t\", \"f\", \"f\", \"f\", \"f\", \"f\", \"…\n",
      "$ latitude                    \u001b[3m\u001b[38;5;246m<dbl>\u001b[39m\u001b[23m 34.48543, 34.51013, 34.51549, 34.03142, 3…\n",
      "$ longitude                   \u001b[3m\u001b[38;5;246m<dbl>\u001b[39m\u001b[23m -118.1254, -118.2124, -118.2307, -118.299…\n",
      "$ metropolitan                \u001b[3m\u001b[38;5;246m<chr>\u001b[39m\u001b[23m \"LA\", \"LA\", \"LA\", \"LA\", \"LA\", \"LA\", \"LA\",…\n",
      "$ name                        \u001b[3m\u001b[38;5;246m<chr>\u001b[39m\u001b[23m \"Nice quiet private ranch house\", \"Room w…\n",
      "$ price                       \u001b[3m\u001b[38;5;246m<dbl>\u001b[39m\u001b[23m 50, 55, 150, 30, 45, 56, 80, 120, 55, 50,…\n",
      "$ property_type               \u001b[3m\u001b[38;5;246m<chr>\u001b[39m\u001b[23m \"House\", \"House\", \"Other\", \"Apartment\", \"…\n",
      "$ review_scores_checkin       \u001b[3m\u001b[38;5;246m<dbl>\u001b[39m\u001b[23m 10, 10, 10, 10, 10, 9, 10, 10, 10, 9, 10,…\n",
      "$ review_scores_cleanliness   \u001b[3m\u001b[38;5;246m<dbl>\u001b[39m\u001b[23m 10, 10, 10, 9, 10, 8, 10, 10, 9, 9, 10, 7…\n",
      "$ review_scores_communication \u001b[3m\u001b[38;5;246m<dbl>\u001b[39m\u001b[23m 10, 10, 10, 10, 10, 9, 10, 10, 10, 9, 10,…\n",
      "$ review_scores_location      \u001b[3m\u001b[38;5;246m<dbl>\u001b[39m\u001b[23m 9, 10, 10, 9, 10, 8, 9, 9, 9, 8, 9, 7, 10…\n",
      "$ review_scores_rating        \u001b[3m\u001b[38;5;246m<dbl>\u001b[39m\u001b[23m 93, 100, 100, 93, 98, 89, 99, 99, 92, 89,…\n",
      "$ review_scores_value         \u001b[3m\u001b[38;5;246m<dbl>\u001b[39m\u001b[23m 9, 10, 10, 10, 10, 9, 10, 10, 9, 9, 10, 8…\n",
      "$ room_type                   \u001b[3m\u001b[38;5;246m<chr>\u001b[39m\u001b[23m \"Private room\", \"Private room\", \"Entire h…\n",
      "$ state                       \u001b[3m\u001b[38;5;246m<chr>\u001b[39m\u001b[23m \"CA\", \"CA\", \"CA\", \"CA\", \"CA\", \"CA\", \"CA\",…\n",
      "$ weekly_price                \u001b[3m\u001b[38;5;246m<chr>\u001b[39m\u001b[23m \"\", \"\", \"\", \"\", \"\", \"$320.00\", \"$500.00\",…\n",
      "$ zipcode                     \u001b[3m\u001b[38;5;246m<chr>\u001b[39m\u001b[23m \"93550\", \"93510\", \"93510\", \"90007\", \"9000…\n"
     ]
    },
    {
     "data": {
      "text/html": [
       "<table>\n",
       "<caption>A data.frame: 6 × 29</caption>\n",
       "<thead>\n",
       "\t<tr><th></th><th scope=col>accommodates</th><th scope=col>amenities</th><th scope=col>availability_30</th><th scope=col>bathrooms</th><th scope=col>bed_type</th><th scope=col>bedrooms</th><th scope=col>beds</th><th scope=col>cancellation_policy</th><th scope=col>city</th><th scope=col>has_availability</th><th scope=col>⋯</th><th scope=col>review_scores_checkin</th><th scope=col>review_scores_cleanliness</th><th scope=col>review_scores_communication</th><th scope=col>review_scores_location</th><th scope=col>review_scores_rating</th><th scope=col>review_scores_value</th><th scope=col>room_type</th><th scope=col>state</th><th scope=col>weekly_price</th><th scope=col>zipcode</th></tr>\n",
       "\t<tr><th></th><th scope=col>&lt;dbl&gt;</th><th scope=col>&lt;chr&gt;</th><th scope=col>&lt;int&gt;</th><th scope=col>&lt;dbl&gt;</th><th scope=col>&lt;chr&gt;</th><th scope=col>&lt;dbl&gt;</th><th scope=col>&lt;dbl&gt;</th><th scope=col>&lt;chr&gt;</th><th scope=col>&lt;chr&gt;</th><th scope=col>&lt;lgl&gt;</th><th scope=col>⋯</th><th scope=col>&lt;dbl&gt;</th><th scope=col>&lt;dbl&gt;</th><th scope=col>&lt;dbl&gt;</th><th scope=col>&lt;dbl&gt;</th><th scope=col>&lt;dbl&gt;</th><th scope=col>&lt;dbl&gt;</th><th scope=col>&lt;chr&gt;</th><th scope=col>&lt;chr&gt;</th><th scope=col>&lt;chr&gt;</th><th scope=col>&lt;chr&gt;</th></tr>\n",
       "</thead>\n",
       "<tbody>\n",
       "\t<tr><th scope=row>1</th><td>2</td><td>{}                                                                                                                                                                                                                                                                                                           </td><td>29</td><td> 1</td><td>Real Bed</td><td>1</td><td>1</td><td>flexible</td><td>palmdale   </td><td>NA</td><td>⋯</td><td>10</td><td>10</td><td>10</td><td> 9</td><td> 93</td><td> 9</td><td>Private room   </td><td>CA</td><td>       </td><td>93550</td></tr>\n",
       "\t<tr><th scope=row>2</th><td>2</td><td>{\"Wireless Internet\",\"Air conditioning\",\"Wheelchair accessible\",Kitchen,\"Free parking on premises\",\"Pets allowed\",\"Pets live on this property\",Heating,Washer,Dryer,Essentials,Shampoo,Hangers}                                                                                                              </td><td>18</td><td> 1</td><td>Real Bed</td><td>1</td><td>1</td><td>flexible</td><td>acton      </td><td>NA</td><td>⋯</td><td>10</td><td>10</td><td>10</td><td>10</td><td>100</td><td>10</td><td>Private room   </td><td>CA</td><td>       </td><td>93510</td></tr>\n",
       "\t<tr><th scope=row>3</th><td>6</td><td>{TV,\"Wireless Internet\",\"Air conditioning\",Pool,Kitchen,\"Free parking on premises\",\"Pets allowed\",Breakfast,\"Pets live on this property\",Dog(s),\"Hot tub\",\"Indoor fireplace\",Heating,\"Family/kid friendly\",\"Suitable for events\",Washer,Dryer,\"Smoke detector\",Essentials,Shampoo,\"24-hour check-in\",Hangers}</td><td> 3</td><td> 1</td><td>Real Bed</td><td>1</td><td>3</td><td>flexible</td><td>acton      </td><td>NA</td><td>⋯</td><td>10</td><td>10</td><td>10</td><td>10</td><td>100</td><td>10</td><td>Entire home/apt</td><td>CA</td><td>       </td><td>93510</td></tr>\n",
       "\t<tr><th scope=row>4</th><td>1</td><td>{Internet,\"Wireless Internet\",Kitchen,\"Free parking on premises\",Washer,Dryer,\"Smoke detector\",Essentials,Shampoo}                                                                                                                                                                                           </td><td> 0</td><td> 1</td><td>Real Bed</td><td>1</td><td>1</td><td>flexible</td><td>los angeles</td><td>NA</td><td>⋯</td><td>10</td><td> 9</td><td>10</td><td> 9</td><td> 93</td><td>10</td><td>Private room   </td><td>CA</td><td>       </td><td>90007</td></tr>\n",
       "\t<tr><th scope=row>5</th><td>2</td><td>{Internet,\"Wireless Internet\",\"Free parking on premises\",\"Fire extinguisher\",Essentials,\"Lock on bedroom door\",\"Laptop friendly workspace\",\"translation missing: en.hosting_amenity_49\",\"translation missing: en.hosting_amenity_50\"}                                                                        </td><td> 6</td><td> 1</td><td>Real Bed</td><td>1</td><td>1</td><td>moderate</td><td>los angeles</td><td>NA</td><td>⋯</td><td>10</td><td>10</td><td>10</td><td>10</td><td> 98</td><td>10</td><td>Private room   </td><td>CA</td><td>       </td><td>90007</td></tr>\n",
       "\t<tr><th scope=row>6</th><td>2</td><td>{TV,Internet,\"Wireless Internet\",Kitchen,Washer,Dryer}                                                                                                                                                                                                                                                       </td><td>22</td><td>NA</td><td>Real Bed</td><td>1</td><td>1</td><td>strict  </td><td>los angeles</td><td>NA</td><td>⋯</td><td> 9</td><td> 8</td><td> 9</td><td> 8</td><td> 89</td><td> 9</td><td>Private room   </td><td>CA</td><td>$320.00</td><td>90007</td></tr>\n",
       "</tbody>\n",
       "</table>\n"
      ],
      "text/latex": [
       "A data.frame: 6 × 29\n",
       "\\begin{tabular}{r|lllllllllllllllllllll}\n",
       "  & accommodates & amenities & availability\\_30 & bathrooms & bed\\_type & bedrooms & beds & cancellation\\_policy & city & has\\_availability & ⋯ & review\\_scores\\_checkin & review\\_scores\\_cleanliness & review\\_scores\\_communication & review\\_scores\\_location & review\\_scores\\_rating & review\\_scores\\_value & room\\_type & state & weekly\\_price & zipcode\\\\\n",
       "  & <dbl> & <chr> & <int> & <dbl> & <chr> & <dbl> & <dbl> & <chr> & <chr> & <lgl> & ⋯ & <dbl> & <dbl> & <dbl> & <dbl> & <dbl> & <dbl> & <chr> & <chr> & <chr> & <chr>\\\\\n",
       "\\hline\n",
       "\t1 & 2 & \\{\\}                                                                                                                                                                                                                                                                                                            & 29 &  1 & Real Bed & 1 & 1 & flexible & palmdale    & NA & ⋯ & 10 & 10 & 10 &  9 &  93 &  9 & Private room    & CA &         & 93550\\\\\n",
       "\t2 & 2 & \\{\"Wireless Internet\",\"Air conditioning\",\"Wheelchair accessible\",Kitchen,\"Free parking on premises\",\"Pets allowed\",\"Pets live on this property\",Heating,Washer,Dryer,Essentials,Shampoo,Hangers\\}                                                                                                               & 18 &  1 & Real Bed & 1 & 1 & flexible & acton       & NA & ⋯ & 10 & 10 & 10 & 10 & 100 & 10 & Private room    & CA &         & 93510\\\\\n",
       "\t3 & 6 & \\{TV,\"Wireless Internet\",\"Air conditioning\",Pool,Kitchen,\"Free parking on premises\",\"Pets allowed\",Breakfast,\"Pets live on this property\",Dog(s),\"Hot tub\",\"Indoor fireplace\",Heating,\"Family/kid friendly\",\"Suitable for events\",Washer,Dryer,\"Smoke detector\",Essentials,Shampoo,\"24-hour check-in\",Hangers\\} &  3 &  1 & Real Bed & 1 & 3 & flexible & acton       & NA & ⋯ & 10 & 10 & 10 & 10 & 100 & 10 & Entire home/apt & CA &         & 93510\\\\\n",
       "\t4 & 1 & \\{Internet,\"Wireless Internet\",Kitchen,\"Free parking on premises\",Washer,Dryer,\"Smoke detector\",Essentials,Shampoo\\}                                                                                                                                                                                            &  0 &  1 & Real Bed & 1 & 1 & flexible & los angeles & NA & ⋯ & 10 &  9 & 10 &  9 &  93 & 10 & Private room    & CA &         & 90007\\\\\n",
       "\t5 & 2 & \\{Internet,\"Wireless Internet\",\"Free parking on premises\",\"Fire extinguisher\",Essentials,\"Lock on bedroom door\",\"Laptop friendly workspace\",\"translation missing: en.hosting\\_amenity\\_49\",\"translation missing: en.hosting\\_amenity\\_50\"\\}                                                                         &  6 &  1 & Real Bed & 1 & 1 & moderate & los angeles & NA & ⋯ & 10 & 10 & 10 & 10 &  98 & 10 & Private room    & CA &         & 90007\\\\\n",
       "\t6 & 2 & \\{TV,Internet,\"Wireless Internet\",Kitchen,Washer,Dryer\\}                                                                                                                                                                                                                                                        & 22 & NA & Real Bed & 1 & 1 & strict   & los angeles & NA & ⋯ &  9 &  8 &  9 &  8 &  89 &  9 & Private room    & CA & \\$320.00 & 90007\\\\\n",
       "\\end{tabular}\n"
      ],
      "text/markdown": [
       "\n",
       "A data.frame: 6 × 29\n",
       "\n",
       "| <!--/--> | accommodates &lt;dbl&gt; | amenities &lt;chr&gt; | availability_30 &lt;int&gt; | bathrooms &lt;dbl&gt; | bed_type &lt;chr&gt; | bedrooms &lt;dbl&gt; | beds &lt;dbl&gt; | cancellation_policy &lt;chr&gt; | city &lt;chr&gt; | has_availability &lt;lgl&gt; | ⋯ ⋯ | review_scores_checkin &lt;dbl&gt; | review_scores_cleanliness &lt;dbl&gt; | review_scores_communication &lt;dbl&gt; | review_scores_location &lt;dbl&gt; | review_scores_rating &lt;dbl&gt; | review_scores_value &lt;dbl&gt; | room_type &lt;chr&gt; | state &lt;chr&gt; | weekly_price &lt;chr&gt; | zipcode &lt;chr&gt; |\n",
       "|---|---|---|---|---|---|---|---|---|---|---|---|---|---|---|---|---|---|---|---|---|---|\n",
       "| 1 | 2 | {}                                                                                                                                                                                                                                                                                                            | 29 |  1 | Real Bed | 1 | 1 | flexible | palmdale    | NA | ⋯ | 10 | 10 | 10 |  9 |  93 |  9 | Private room    | CA | <!----> | 93550 |\n",
       "| 2 | 2 | {\"Wireless Internet\",\"Air conditioning\",\"Wheelchair accessible\",Kitchen,\"Free parking on premises\",\"Pets allowed\",\"Pets live on this property\",Heating,Washer,Dryer,Essentials,Shampoo,Hangers}                                                                                                               | 18 |  1 | Real Bed | 1 | 1 | flexible | acton       | NA | ⋯ | 10 | 10 | 10 | 10 | 100 | 10 | Private room    | CA | <!----> | 93510 |\n",
       "| 3 | 6 | {TV,\"Wireless Internet\",\"Air conditioning\",Pool,Kitchen,\"Free parking on premises\",\"Pets allowed\",Breakfast,\"Pets live on this property\",Dog(s),\"Hot tub\",\"Indoor fireplace\",Heating,\"Family/kid friendly\",\"Suitable for events\",Washer,Dryer,\"Smoke detector\",Essentials,Shampoo,\"24-hour check-in\",Hangers} |  3 |  1 | Real Bed | 1 | 3 | flexible | acton       | NA | ⋯ | 10 | 10 | 10 | 10 | 100 | 10 | Entire home/apt | CA | <!----> | 93510 |\n",
       "| 4 | 1 | {Internet,\"Wireless Internet\",Kitchen,\"Free parking on premises\",Washer,Dryer,\"Smoke detector\",Essentials,Shampoo}                                                                                                                                                                                            |  0 |  1 | Real Bed | 1 | 1 | flexible | los angeles | NA | ⋯ | 10 |  9 | 10 |  9 |  93 | 10 | Private room    | CA | <!----> | 90007 |\n",
       "| 5 | 2 | {Internet,\"Wireless Internet\",\"Free parking on premises\",\"Fire extinguisher\",Essentials,\"Lock on bedroom door\",\"Laptop friendly workspace\",\"translation missing: en.hosting_amenity_49\",\"translation missing: en.hosting_amenity_50\"}                                                                         |  6 |  1 | Real Bed | 1 | 1 | moderate | los angeles | NA | ⋯ | 10 | 10 | 10 | 10 |  98 | 10 | Private room    | CA | <!----> | 90007 |\n",
       "| 6 | 2 | {TV,Internet,\"Wireless Internet\",Kitchen,Washer,Dryer}                                                                                                                                                                                                                                                        | 22 | NA | Real Bed | 1 | 1 | strict   | los angeles | NA | ⋯ |  9 |  8 |  9 |  8 |  89 |  9 | Private room    | CA | $320.00 | 90007 |\n",
       "\n"
      ],
      "text/plain": [
       "  accommodates\n",
       "1 2           \n",
       "2 2           \n",
       "3 6           \n",
       "4 1           \n",
       "5 2           \n",
       "6 2           \n",
       "  amenities                                                                                                                                                                                                                                                                                                    \n",
       "1 {}                                                                                                                                                                                                                                                                                                           \n",
       "2 {\"Wireless Internet\",\"Air conditioning\",\"Wheelchair accessible\",Kitchen,\"Free parking on premises\",\"Pets allowed\",\"Pets live on this property\",Heating,Washer,Dryer,Essentials,Shampoo,Hangers}                                                                                                              \n",
       "3 {TV,\"Wireless Internet\",\"Air conditioning\",Pool,Kitchen,\"Free parking on premises\",\"Pets allowed\",Breakfast,\"Pets live on this property\",Dog(s),\"Hot tub\",\"Indoor fireplace\",Heating,\"Family/kid friendly\",\"Suitable for events\",Washer,Dryer,\"Smoke detector\",Essentials,Shampoo,\"24-hour check-in\",Hangers}\n",
       "4 {Internet,\"Wireless Internet\",Kitchen,\"Free parking on premises\",Washer,Dryer,\"Smoke detector\",Essentials,Shampoo}                                                                                                                                                                                           \n",
       "5 {Internet,\"Wireless Internet\",\"Free parking on premises\",\"Fire extinguisher\",Essentials,\"Lock on bedroom door\",\"Laptop friendly workspace\",\"translation missing: en.hosting_amenity_49\",\"translation missing: en.hosting_amenity_50\"}                                                                        \n",
       "6 {TV,Internet,\"Wireless Internet\",Kitchen,Washer,Dryer}                                                                                                                                                                                                                                                       \n",
       "  availability_30 bathrooms bed_type bedrooms beds cancellation_policy\n",
       "1 29               1        Real Bed 1        1    flexible           \n",
       "2 18               1        Real Bed 1        1    flexible           \n",
       "3  3               1        Real Bed 1        3    flexible           \n",
       "4  0               1        Real Bed 1        1    flexible           \n",
       "5  6               1        Real Bed 1        1    moderate           \n",
       "6 22              NA        Real Bed 1        1    strict             \n",
       "  city        has_availability ⋯ review_scores_checkin\n",
       "1 palmdale    NA               ⋯ 10                   \n",
       "2 acton       NA               ⋯ 10                   \n",
       "3 acton       NA               ⋯ 10                   \n",
       "4 los angeles NA               ⋯ 10                   \n",
       "5 los angeles NA               ⋯ 10                   \n",
       "6 los angeles NA               ⋯  9                   \n",
       "  review_scores_cleanliness review_scores_communication review_scores_location\n",
       "1 10                        10                           9                    \n",
       "2 10                        10                          10                    \n",
       "3 10                        10                          10                    \n",
       "4  9                        10                           9                    \n",
       "5 10                        10                          10                    \n",
       "6  8                         9                           8                    \n",
       "  review_scores_rating review_scores_value room_type       state weekly_price\n",
       "1  93                   9                  Private room    CA                \n",
       "2 100                  10                  Private room    CA                \n",
       "3 100                  10                  Entire home/apt CA                \n",
       "4  93                  10                  Private room    CA                \n",
       "5  98                  10                  Private room    CA                \n",
       "6  89                   9                  Private room    CA    $320.00     \n",
       "  zipcode\n",
       "1 93550  \n",
       "2 93510  \n",
       "3 93510  \n",
       "4 90007  \n",
       "5 90007  \n",
       "6 90007  "
      ]
     },
     "metadata": {},
     "output_type": "display_data"
    }
   ],
   "source": [
    "glimpse(listing)\n",
    "head(listing)"
   ]
  },
  {
   "cell_type": "markdown",
   "metadata": {},
   "source": [
    "While demographic information by zip code is in `demo`:"
   ]
  },
  {
   "cell_type": "code",
   "execution_count": 11,
   "metadata": {},
   "outputs": [
    {
     "data": {
      "text/html": [
       "<table>\n",
       "<caption>A data.frame: 6 × 4</caption>\n",
       "<thead>\n",
       "\t<tr><th></th><th scope=col>zipcode</th><th scope=col>population</th><th scope=col>median_household_income</th><th scope=col>mean_household_income</th></tr>\n",
       "\t<tr><th></th><th scope=col>&lt;chr&gt;</th><th scope=col>&lt;int&gt;</th><th scope=col>&lt;dbl&gt;</th><th scope=col>&lt;dbl&gt;</th></tr>\n",
       "</thead>\n",
       "<tbody>\n",
       "\t<tr><th scope=row>1</th><td>601</td><td>17982</td><td>10816</td><td>20349</td></tr>\n",
       "\t<tr><th scope=row>2</th><td>602</td><td>40260</td><td>16079</td><td>23282</td></tr>\n",
       "\t<tr><th scope=row>3</th><td>603</td><td>52408</td><td>16804</td><td>26820</td></tr>\n",
       "\t<tr><th scope=row>4</th><td>606</td><td> 6331</td><td>12512</td><td>15730</td></tr>\n",
       "\t<tr><th scope=row>5</th><td>610</td><td>28328</td><td>17475</td><td>23360</td></tr>\n",
       "\t<tr><th scope=row>6</th><td>612</td><td>64816</td><td>17229</td><td>25590</td></tr>\n",
       "</tbody>\n",
       "</table>\n"
      ],
      "text/latex": [
       "A data.frame: 6 × 4\n",
       "\\begin{tabular}{r|llll}\n",
       "  & zipcode & population & median\\_household\\_income & mean\\_household\\_income\\\\\n",
       "  & <chr> & <int> & <dbl> & <dbl>\\\\\n",
       "\\hline\n",
       "\t1 & 601 & 17982 & 10816 & 20349\\\\\n",
       "\t2 & 602 & 40260 & 16079 & 23282\\\\\n",
       "\t3 & 603 & 52408 & 16804 & 26820\\\\\n",
       "\t4 & 606 &  6331 & 12512 & 15730\\\\\n",
       "\t5 & 610 & 28328 & 17475 & 23360\\\\\n",
       "\t6 & 612 & 64816 & 17229 & 25590\\\\\n",
       "\\end{tabular}\n"
      ],
      "text/markdown": [
       "\n",
       "A data.frame: 6 × 4\n",
       "\n",
       "| <!--/--> | zipcode &lt;chr&gt; | population &lt;int&gt; | median_household_income &lt;dbl&gt; | mean_household_income &lt;dbl&gt; |\n",
       "|---|---|---|---|---|\n",
       "| 1 | 601 | 17982 | 10816 | 20349 |\n",
       "| 2 | 602 | 40260 | 16079 | 23282 |\n",
       "| 3 | 603 | 52408 | 16804 | 26820 |\n",
       "| 4 | 606 |  6331 | 12512 | 15730 |\n",
       "| 5 | 610 | 28328 | 17475 | 23360 |\n",
       "| 6 | 612 | 64816 | 17229 | 25590 |\n",
       "\n"
      ],
      "text/plain": [
       "  zipcode population median_household_income mean_household_income\n",
       "1 601     17982      10816                   20349                \n",
       "2 602     40260      16079                   23282                \n",
       "3 603     52408      16804                   26820                \n",
       "4 606      6331      12512                   15730                \n",
       "5 610     28328      17475                   23360                \n",
       "6 612     64816      17229                   25590                "
      ]
     },
     "metadata": {},
     "output_type": "display_data"
    }
   ],
   "source": [
    "head(demo)"
   ]
  },
  {
   "cell_type": "markdown",
   "metadata": {},
   "source": [
    "### Goal: \n",
    "Airbnb was originally meant for home sharing, but there are hosts with more than 20 listings. These are more like commercial hotels without regulation than home sharing. We would like to identify such users and see what their impact is on the airbnb ecosystem."
   ]
  },
  {
   "cell_type": "markdown",
   "metadata": {},
   "source": [
    "### Step 1:\n",
    "`host_id` is a unique identifier for host. `id` is a unique identifier for each listing. \n",
    "\n",
    "Create a new table called `hosts` where each row contains a unique `host_id`. There should be a variable called `num_listings` which contains the number of unique listings (or `id`s) that host has, and a variable `mean_review` which contains the mean `review_scores_value` for that host."
   ]
  },
  {
   "cell_type": "code",
   "execution_count": 21,
   "metadata": {},
   "outputs": [
    {
     "data": {
      "text/html": [
       "<table>\n",
       "<caption>A tibble: 6 × 3</caption>\n",
       "<thead>\n",
       "\t<tr><th scope=col>host_id</th><th scope=col>num_listings</th><th scope=col>mean_review</th></tr>\n",
       "\t<tr><th scope=col>&lt;int&gt;</th><th scope=col>&lt;int&gt;</th><th scope=col>&lt;dbl&gt;</th></tr>\n",
       "</thead>\n",
       "<tbody>\n",
       "\t<tr><td>  59</td><td>1</td><td>10.0</td></tr>\n",
       "\t<tr><td> 521</td><td>1</td><td> 8.0</td></tr>\n",
       "\t<tr><td> 767</td><td>1</td><td> 8.0</td></tr>\n",
       "\t<tr><td>1158</td><td>1</td><td>10.0</td></tr>\n",
       "\t<tr><td>3041</td><td>2</td><td> 8.5</td></tr>\n",
       "\t<tr><td>3144</td><td>1</td><td>10.0</td></tr>\n",
       "</tbody>\n",
       "</table>\n"
      ],
      "text/latex": [
       "A tibble: 6 × 3\n",
       "\\begin{tabular}{lll}\n",
       " host\\_id & num\\_listings & mean\\_review\\\\\n",
       " <int> & <int> & <dbl>\\\\\n",
       "\\hline\n",
       "\t   59 & 1 & 10.0\\\\\n",
       "\t  521 & 1 &  8.0\\\\\n",
       "\t  767 & 1 &  8.0\\\\\n",
       "\t 1158 & 1 & 10.0\\\\\n",
       "\t 3041 & 2 &  8.5\\\\\n",
       "\t 3144 & 1 & 10.0\\\\\n",
       "\\end{tabular}\n"
      ],
      "text/markdown": [
       "\n",
       "A tibble: 6 × 3\n",
       "\n",
       "| host_id &lt;int&gt; | num_listings &lt;int&gt; | mean_review &lt;dbl&gt; |\n",
       "|---|---|---|\n",
       "|   59 | 1 | 10.0 |\n",
       "|  521 | 1 |  8.0 |\n",
       "|  767 | 1 |  8.0 |\n",
       "| 1158 | 1 | 10.0 |\n",
       "| 3041 | 2 |  8.5 |\n",
       "| 3144 | 1 | 10.0 |\n",
       "\n"
      ],
      "text/plain": [
       "  host_id num_listings mean_review\n",
       "1   59    1            10.0       \n",
       "2  521    1             8.0       \n",
       "3  767    1             8.0       \n",
       "4 1158    1            10.0       \n",
       "5 3041    2             8.5       \n",
       "6 3144    1            10.0       "
      ]
     },
     "metadata": {},
     "output_type": "display_data"
    },
    {
     "data": {
      "text/html": [
       "<table>\n",
       "<caption>A tibble: 6 × 3</caption>\n",
       "<thead>\n",
       "\t<tr><th scope=col>host_id</th><th scope=col>num_listings</th><th scope=col>mean_review</th></tr>\n",
       "\t<tr><th scope=col>&lt;int&gt;</th><th scope=col>&lt;int&gt;</th><th scope=col>&lt;dbl&gt;</th></tr>\n",
       "</thead>\n",
       "<tbody>\n",
       "\t<tr><td> 21940642</td><td>38</td><td>9.078947</td></tr>\n",
       "\t<tr><td>103174281</td><td>36</td><td>9.111111</td></tr>\n",
       "\t<tr><td> 16862571</td><td>34</td><td>9.088235</td></tr>\n",
       "\t<tr><td>  3392276</td><td>30</td><td>9.100000</td></tr>\n",
       "\t<tr><td> 55067641</td><td>30</td><td>8.900000</td></tr>\n",
       "\t<tr><td> 58481702</td><td>30</td><td>8.866667</td></tr>\n",
       "</tbody>\n",
       "</table>\n"
      ],
      "text/latex": [
       "A tibble: 6 × 3\n",
       "\\begin{tabular}{lll}\n",
       " host\\_id & num\\_listings & mean\\_review\\\\\n",
       " <int> & <int> & <dbl>\\\\\n",
       "\\hline\n",
       "\t  21940642 & 38 & 9.078947\\\\\n",
       "\t 103174281 & 36 & 9.111111\\\\\n",
       "\t  16862571 & 34 & 9.088235\\\\\n",
       "\t   3392276 & 30 & 9.100000\\\\\n",
       "\t  55067641 & 30 & 8.900000\\\\\n",
       "\t  58481702 & 30 & 8.866667\\\\\n",
       "\\end{tabular}\n"
      ],
      "text/markdown": [
       "\n",
       "A tibble: 6 × 3\n",
       "\n",
       "| host_id &lt;int&gt; | num_listings &lt;int&gt; | mean_review &lt;dbl&gt; |\n",
       "|---|---|---|\n",
       "|  21940642 | 38 | 9.078947 |\n",
       "| 103174281 | 36 | 9.111111 |\n",
       "|  16862571 | 34 | 9.088235 |\n",
       "|   3392276 | 30 | 9.100000 |\n",
       "|  55067641 | 30 | 8.900000 |\n",
       "|  58481702 | 30 | 8.866667 |\n",
       "\n"
      ],
      "text/plain": [
       "  host_id   num_listings mean_review\n",
       "1  21940642 38           9.078947   \n",
       "2 103174281 36           9.111111   \n",
       "3  16862571 34           9.088235   \n",
       "4   3392276 30           9.100000   \n",
       "5  55067641 30           8.900000   \n",
       "6  58481702 30           8.866667   "
      ]
     },
     "metadata": {},
     "output_type": "display_data"
    }
   ],
   "source": [
    "hosts = listing %>% group_by(host_id) %>% \n",
    "    summarize(num_listings = n_distinct(id), \n",
    "              mean_review = mean(review_scores_value))\n",
    "\n",
    "# hosts = listing %>% group_by(host_id) %>% \n",
    "#     summarize(num_listings = n(), \n",
    "#               mean_review = mean(review_scores_value))\n",
    "\n",
    "head(hosts)\n",
    "head(hosts %>% arrange(desc(num_listings)))"
   ]
  },
  {
   "cell_type": "markdown",
   "metadata": {},
   "source": [
    "### Step 2: \n",
    "\n",
    "Using the `hosts` dataset, write code to calculate:\n",
    "\n",
    "* What percentage of hosts have 5 or more listings?\n",
    "* What percentage of the total listings do these \"5-or-more\" hosts control?\n",
    " "
   ]
  },
  {
   "cell_type": "code",
   "execution_count": 13,
   "metadata": {},
   "outputs": [
    {
     "data": {
      "text/html": [
       "0.0339146663234442"
      ],
      "text/latex": [
       "0.0339146663234442"
      ],
      "text/markdown": [
       "0.0339146663234442"
      ],
      "text/plain": [
       "[1] 0.03391467"
      ]
     },
     "metadata": {},
     "output_type": "display_data"
    },
    {
     "data": {
      "text/html": [
       "<table>\n",
       "<caption>A tibble: 1 × 1</caption>\n",
       "<thead>\n",
       "\t<tr><th scope=col>percent</th></tr>\n",
       "\t<tr><th scope=col>&lt;dbl&gt;</th></tr>\n",
       "</thead>\n",
       "<tbody>\n",
       "\t<tr><td>0.03391467</td></tr>\n",
       "</tbody>\n",
       "</table>\n"
      ],
      "text/latex": [
       "A tibble: 1 × 1\n",
       "\\begin{tabular}{l}\n",
       " percent\\\\\n",
       " <dbl>\\\\\n",
       "\\hline\n",
       "\t 0.03391467\\\\\n",
       "\\end{tabular}\n"
      ],
      "text/markdown": [
       "\n",
       "A tibble: 1 × 1\n",
       "\n",
       "| percent &lt;dbl&gt; |\n",
       "|---|\n",
       "| 0.03391467 |\n",
       "\n"
      ],
      "text/plain": [
       "  percent   \n",
       "1 0.03391467"
      ]
     },
     "metadata": {},
     "output_type": "display_data"
    }
   ],
   "source": [
    "mean(hosts$num_listings >= 5)\n",
    "hosts %>% summarize(percent=mean(num_listings >= 5))\n"
   ]
  },
  {
   "cell_type": "code",
   "execution_count": 14,
   "metadata": {},
   "outputs": [
    {
     "data": {
      "text/html": [
       "<table>\n",
       "<caption>A tibble: 2 × 3</caption>\n",
       "<thead>\n",
       "\t<tr><th scope=col>over_5</th><th scope=col>tot_listings</th><th scope=col>prop_listings</th></tr>\n",
       "\t<tr><th scope=col>&lt;lgl&gt;</th><th scope=col>&lt;int&gt;</th><th scope=col>&lt;dbl&gt;</th></tr>\n",
       "</thead>\n",
       "<tbody>\n",
       "\t<tr><td>FALSE</td><td>19192</td><td>0.8123942</td></tr>\n",
       "\t<tr><td> TRUE</td><td> 4432</td><td>0.1876058</td></tr>\n",
       "</tbody>\n",
       "</table>\n"
      ],
      "text/latex": [
       "A tibble: 2 × 3\n",
       "\\begin{tabular}{lll}\n",
       " over\\_5 & tot\\_listings & prop\\_listings\\\\\n",
       " <lgl> & <int> & <dbl>\\\\\n",
       "\\hline\n",
       "\t FALSE & 19192 & 0.8123942\\\\\n",
       "\t  TRUE &  4432 & 0.1876058\\\\\n",
       "\\end{tabular}\n"
      ],
      "text/markdown": [
       "\n",
       "A tibble: 2 × 3\n",
       "\n",
       "| over_5 &lt;lgl&gt; | tot_listings &lt;int&gt; | prop_listings &lt;dbl&gt; |\n",
       "|---|---|---|\n",
       "| FALSE | 19192 | 0.8123942 |\n",
       "|  TRUE |  4432 | 0.1876058 |\n",
       "\n"
      ],
      "text/plain": [
       "  over_5 tot_listings prop_listings\n",
       "1 FALSE  19192        0.8123942    \n",
       "2  TRUE   4432        0.1876058    "
      ]
     },
     "metadata": {},
     "output_type": "display_data"
    }
   ],
   "source": [
    "# Hint: Create a new variable that tracks whether a host is a \"5-or-more\" host\n",
    "# or not, then group by this variable and summarize.\n",
    "\n",
    "hosts %>%\n",
    "    mutate(over_5 = num_listings >= 5) %>%\n",
    "    group_by(over_5) %>%\n",
    "    summarize(tot_listings = sum(num_listings)) %>%\n",
    "    mutate(prop_listings = tot_listings / sum(tot_listings))"
   ]
  },
  {
   "cell_type": "markdown",
   "metadata": {},
   "source": [
    "Create a plot of boxplots, where the x-axis is `num_listings`, and the y-axis is `mean_review`.\n",
    "\n",
    "Note: If you naively use `geom_boxplot` you may get a warning and a nonsensical plot. This is because it treats `num_listings` as a continuous variable. There are two solutions to this, you can either follow the hint the warning gives, or use the function `factor` in your code, which converts a variable to a discrete variable."
   ]
  },
  {
   "cell_type": "code",
   "execution_count": 15,
   "metadata": {},
   "outputs": [
    {
     "data": {
      "image/png": "[encoded data removed]",
      "text/plain": [
       "plot without title"
      ]
     },
     "metadata": {
      "image/png": {
       "height": 420,
       "width": 420
      },
      "text/plain": {
       "height": 420,
       "width": 420
      }
     },
     "output_type": "display_data"
    },
    {
     "data": {
      "image/png": "[encoded data removed]",
      "text/plain": [
       "plot without title"
      ]
     },
     "metadata": {
      "image/png": {
       "height": 420,
       "width": 420
      },
      "text/plain": {
       "height": 420,
       "width": 420
      }
     },
     "output_type": "display_data"
    }
   ],
   "source": [
    "ggplot(hosts, aes(x=factor(num_listings), y=mean_review)) + \n",
    "    geom_boxplot()\n",
    "\n",
    "ggplot(hosts, aes(x=num_listings, y=mean_review, group=num_listings)) + \n",
    "    geom_boxplot()\n"
   ]
  },
  {
   "cell_type": "markdown",
   "metadata": {},
   "source": [
    "### Step 3:\n",
    "Let's define commercial hosts to be hosts with >= 5 listings. Create a table called `listing2` that is `listing` with an extra column called `commer_host` indicating if this listing is by a commercial host. \n",
    "\n",
    "Hint: You can do this using the `listing` dataset with a single `group_by` and a single `mutate` command."
   ]
  },
  {
   "cell_type": "code",
   "execution_count": 16,
   "metadata": {},
   "outputs": [
    {
     "data": {
      "text/html": [
       "<table>\n",
       "<caption>A grouped_df: 6 × 30</caption>\n",
       "<thead>\n",
       "\t<tr><th scope=col>accommodates</th><th scope=col>amenities</th><th scope=col>availability_30</th><th scope=col>bathrooms</th><th scope=col>bed_type</th><th scope=col>bedrooms</th><th scope=col>beds</th><th scope=col>cancellation_policy</th><th scope=col>city</th><th scope=col>has_availability</th><th scope=col>⋯</th><th scope=col>review_scores_cleanliness</th><th scope=col>review_scores_communication</th><th scope=col>review_scores_location</th><th scope=col>review_scores_rating</th><th scope=col>review_scores_value</th><th scope=col>room_type</th><th scope=col>state</th><th scope=col>weekly_price</th><th scope=col>zipcode</th><th scope=col>commer_host</th></tr>\n",
       "\t<tr><th scope=col>&lt;dbl&gt;</th><th scope=col>&lt;chr&gt;</th><th scope=col>&lt;int&gt;</th><th scope=col>&lt;dbl&gt;</th><th scope=col>&lt;chr&gt;</th><th scope=col>&lt;dbl&gt;</th><th scope=col>&lt;dbl&gt;</th><th scope=col>&lt;chr&gt;</th><th scope=col>&lt;chr&gt;</th><th scope=col>&lt;lgl&gt;</th><th scope=col>⋯</th><th scope=col>&lt;dbl&gt;</th><th scope=col>&lt;dbl&gt;</th><th scope=col>&lt;dbl&gt;</th><th scope=col>&lt;dbl&gt;</th><th scope=col>&lt;dbl&gt;</th><th scope=col>&lt;chr&gt;</th><th scope=col>&lt;chr&gt;</th><th scope=col>&lt;chr&gt;</th><th scope=col>&lt;chr&gt;</th><th scope=col>&lt;lgl&gt;</th></tr>\n",
       "</thead>\n",
       "<tbody>\n",
       "\t<tr><td>2</td><td>{}                                                                                                                                                                                                                                                                                                           </td><td>29</td><td> 1</td><td>Real Bed</td><td>1</td><td>1</td><td>flexible</td><td>palmdale   </td><td>NA</td><td>⋯</td><td>10</td><td>10</td><td> 9</td><td> 93</td><td> 9</td><td>Private room   </td><td>CA</td><td>       </td><td>93550</td><td>FALSE</td></tr>\n",
       "\t<tr><td>2</td><td>{\"Wireless Internet\",\"Air conditioning\",\"Wheelchair accessible\",Kitchen,\"Free parking on premises\",\"Pets allowed\",\"Pets live on this property\",Heating,Washer,Dryer,Essentials,Shampoo,Hangers}                                                                                                              </td><td>18</td><td> 1</td><td>Real Bed</td><td>1</td><td>1</td><td>flexible</td><td>acton      </td><td>NA</td><td>⋯</td><td>10</td><td>10</td><td>10</td><td>100</td><td>10</td><td>Private room   </td><td>CA</td><td>       </td><td>93510</td><td>FALSE</td></tr>\n",
       "\t<tr><td>6</td><td>{TV,\"Wireless Internet\",\"Air conditioning\",Pool,Kitchen,\"Free parking on premises\",\"Pets allowed\",Breakfast,\"Pets live on this property\",Dog(s),\"Hot tub\",\"Indoor fireplace\",Heating,\"Family/kid friendly\",\"Suitable for events\",Washer,Dryer,\"Smoke detector\",Essentials,Shampoo,\"24-hour check-in\",Hangers}</td><td> 3</td><td> 1</td><td>Real Bed</td><td>1</td><td>3</td><td>flexible</td><td>acton      </td><td>NA</td><td>⋯</td><td>10</td><td>10</td><td>10</td><td>100</td><td>10</td><td>Entire home/apt</td><td>CA</td><td>       </td><td>93510</td><td>FALSE</td></tr>\n",
       "\t<tr><td>1</td><td>{Internet,\"Wireless Internet\",Kitchen,\"Free parking on premises\",Washer,Dryer,\"Smoke detector\",Essentials,Shampoo}                                                                                                                                                                                           </td><td> 0</td><td> 1</td><td>Real Bed</td><td>1</td><td>1</td><td>flexible</td><td>los angeles</td><td>NA</td><td>⋯</td><td> 9</td><td>10</td><td> 9</td><td> 93</td><td>10</td><td>Private room   </td><td>CA</td><td>       </td><td>90007</td><td>FALSE</td></tr>\n",
       "\t<tr><td>2</td><td>{Internet,\"Wireless Internet\",\"Free parking on premises\",\"Fire extinguisher\",Essentials,\"Lock on bedroom door\",\"Laptop friendly workspace\",\"translation missing: en.hosting_amenity_49\",\"translation missing: en.hosting_amenity_50\"}                                                                        </td><td> 6</td><td> 1</td><td>Real Bed</td><td>1</td><td>1</td><td>moderate</td><td>los angeles</td><td>NA</td><td>⋯</td><td>10</td><td>10</td><td>10</td><td> 98</td><td>10</td><td>Private room   </td><td>CA</td><td>       </td><td>90007</td><td>FALSE</td></tr>\n",
       "\t<tr><td>2</td><td>{TV,Internet,\"Wireless Internet\",Kitchen,Washer,Dryer}                                                                                                                                                                                                                                                       </td><td>22</td><td>NA</td><td>Real Bed</td><td>1</td><td>1</td><td>strict  </td><td>los angeles</td><td>NA</td><td>⋯</td><td> 8</td><td> 9</td><td> 8</td><td> 89</td><td> 9</td><td>Private room   </td><td>CA</td><td>$320.00</td><td>90007</td><td> TRUE</td></tr>\n",
       "</tbody>\n",
       "</table>\n"
      ],
      "text/latex": [
       "A grouped\\_df: 6 × 30\n",
       "\\begin{tabular}{lllllllllllllllllllll}\n",
       " accommodates & amenities & availability\\_30 & bathrooms & bed\\_type & bedrooms & beds & cancellation\\_policy & city & has\\_availability & ⋯ & review\\_scores\\_cleanliness & review\\_scores\\_communication & review\\_scores\\_location & review\\_scores\\_rating & review\\_scores\\_value & room\\_type & state & weekly\\_price & zipcode & commer\\_host\\\\\n",
       " <dbl> & <chr> & <int> & <dbl> & <chr> & <dbl> & <dbl> & <chr> & <chr> & <lgl> & ⋯ & <dbl> & <dbl> & <dbl> & <dbl> & <dbl> & <chr> & <chr> & <chr> & <chr> & <lgl>\\\\\n",
       "\\hline\n",
       "\t 2 & \\{\\}                                                                                                                                                                                                                                                                                                            & 29 &  1 & Real Bed & 1 & 1 & flexible & palmdale    & NA & ⋯ & 10 & 10 &  9 &  93 &  9 & Private room    & CA &         & 93550 & FALSE\\\\\n",
       "\t 2 & \\{\"Wireless Internet\",\"Air conditioning\",\"Wheelchair accessible\",Kitchen,\"Free parking on premises\",\"Pets allowed\",\"Pets live on this property\",Heating,Washer,Dryer,Essentials,Shampoo,Hangers\\}                                                                                                               & 18 &  1 & Real Bed & 1 & 1 & flexible & acton       & NA & ⋯ & 10 & 10 & 10 & 100 & 10 & Private room    & CA &         & 93510 & FALSE\\\\\n",
       "\t 6 & \\{TV,\"Wireless Internet\",\"Air conditioning\",Pool,Kitchen,\"Free parking on premises\",\"Pets allowed\",Breakfast,\"Pets live on this property\",Dog(s),\"Hot tub\",\"Indoor fireplace\",Heating,\"Family/kid friendly\",\"Suitable for events\",Washer,Dryer,\"Smoke detector\",Essentials,Shampoo,\"24-hour check-in\",Hangers\\} &  3 &  1 & Real Bed & 1 & 3 & flexible & acton       & NA & ⋯ & 10 & 10 & 10 & 100 & 10 & Entire home/apt & CA &         & 93510 & FALSE\\\\\n",
       "\t 1 & \\{Internet,\"Wireless Internet\",Kitchen,\"Free parking on premises\",Washer,Dryer,\"Smoke detector\",Essentials,Shampoo\\}                                                                                                                                                                                            &  0 &  1 & Real Bed & 1 & 1 & flexible & los angeles & NA & ⋯ &  9 & 10 &  9 &  93 & 10 & Private room    & CA &         & 90007 & FALSE\\\\\n",
       "\t 2 & \\{Internet,\"Wireless Internet\",\"Free parking on premises\",\"Fire extinguisher\",Essentials,\"Lock on bedroom door\",\"Laptop friendly workspace\",\"translation missing: en.hosting\\_amenity\\_49\",\"translation missing: en.hosting\\_amenity\\_50\"\\}                                                                         &  6 &  1 & Real Bed & 1 & 1 & moderate & los angeles & NA & ⋯ & 10 & 10 & 10 &  98 & 10 & Private room    & CA &         & 90007 & FALSE\\\\\n",
       "\t 2 & \\{TV,Internet,\"Wireless Internet\",Kitchen,Washer,Dryer\\}                                                                                                                                                                                                                                                        & 22 & NA & Real Bed & 1 & 1 & strict   & los angeles & NA & ⋯ &  8 &  9 &  8 &  89 &  9 & Private room    & CA & \\$320.00 & 90007 &  TRUE\\\\\n",
       "\\end{tabular}\n"
      ],
      "text/markdown": [
       "\n",
       "A grouped_df: 6 × 30\n",
       "\n",
       "| accommodates &lt;dbl&gt; | amenities &lt;chr&gt; | availability_30 &lt;int&gt; | bathrooms &lt;dbl&gt; | bed_type &lt;chr&gt; | bedrooms &lt;dbl&gt; | beds &lt;dbl&gt; | cancellation_policy &lt;chr&gt; | city &lt;chr&gt; | has_availability &lt;lgl&gt; | ⋯ ⋯ | review_scores_cleanliness &lt;dbl&gt; | review_scores_communication &lt;dbl&gt; | review_scores_location &lt;dbl&gt; | review_scores_rating &lt;dbl&gt; | review_scores_value &lt;dbl&gt; | room_type &lt;chr&gt; | state &lt;chr&gt; | weekly_price &lt;chr&gt; | zipcode &lt;chr&gt; | commer_host &lt;lgl&gt; |\n",
       "|---|---|---|---|---|---|---|---|---|---|---|---|---|---|---|---|---|---|---|---|---|\n",
       "| 2 | {}                                                                                                                                                                                                                                                                                                            | 29 |  1 | Real Bed | 1 | 1 | flexible | palmdale    | NA | ⋯ | 10 | 10 |  9 |  93 |  9 | Private room    | CA | <!----> | 93550 | FALSE |\n",
       "| 2 | {\"Wireless Internet\",\"Air conditioning\",\"Wheelchair accessible\",Kitchen,\"Free parking on premises\",\"Pets allowed\",\"Pets live on this property\",Heating,Washer,Dryer,Essentials,Shampoo,Hangers}                                                                                                               | 18 |  1 | Real Bed | 1 | 1 | flexible | acton       | NA | ⋯ | 10 | 10 | 10 | 100 | 10 | Private room    | CA | <!----> | 93510 | FALSE |\n",
       "| 6 | {TV,\"Wireless Internet\",\"Air conditioning\",Pool,Kitchen,\"Free parking on premises\",\"Pets allowed\",Breakfast,\"Pets live on this property\",Dog(s),\"Hot tub\",\"Indoor fireplace\",Heating,\"Family/kid friendly\",\"Suitable for events\",Washer,Dryer,\"Smoke detector\",Essentials,Shampoo,\"24-hour check-in\",Hangers} |  3 |  1 | Real Bed | 1 | 3 | flexible | acton       | NA | ⋯ | 10 | 10 | 10 | 100 | 10 | Entire home/apt | CA | <!----> | 93510 | FALSE |\n",
       "| 1 | {Internet,\"Wireless Internet\",Kitchen,\"Free parking on premises\",Washer,Dryer,\"Smoke detector\",Essentials,Shampoo}                                                                                                                                                                                            |  0 |  1 | Real Bed | 1 | 1 | flexible | los angeles | NA | ⋯ |  9 | 10 |  9 |  93 | 10 | Private room    | CA | <!----> | 90007 | FALSE |\n",
       "| 2 | {Internet,\"Wireless Internet\",\"Free parking on premises\",\"Fire extinguisher\",Essentials,\"Lock on bedroom door\",\"Laptop friendly workspace\",\"translation missing: en.hosting_amenity_49\",\"translation missing: en.hosting_amenity_50\"}                                                                         |  6 |  1 | Real Bed | 1 | 1 | moderate | los angeles | NA | ⋯ | 10 | 10 | 10 |  98 | 10 | Private room    | CA | <!----> | 90007 | FALSE |\n",
       "| 2 | {TV,Internet,\"Wireless Internet\",Kitchen,Washer,Dryer}                                                                                                                                                                                                                                                        | 22 | NA | Real Bed | 1 | 1 | strict   | los angeles | NA | ⋯ |  8 |  9 |  8 |  89 |  9 | Private room    | CA | $320.00 | 90007 |  TRUE |\n",
       "\n"
      ],
      "text/plain": [
       "  accommodates\n",
       "1 2           \n",
       "2 2           \n",
       "3 6           \n",
       "4 1           \n",
       "5 2           \n",
       "6 2           \n",
       "  amenities                                                                                                                                                                                                                                                                                                    \n",
       "1 {}                                                                                                                                                                                                                                                                                                           \n",
       "2 {\"Wireless Internet\",\"Air conditioning\",\"Wheelchair accessible\",Kitchen,\"Free parking on premises\",\"Pets allowed\",\"Pets live on this property\",Heating,Washer,Dryer,Essentials,Shampoo,Hangers}                                                                                                              \n",
       "3 {TV,\"Wireless Internet\",\"Air conditioning\",Pool,Kitchen,\"Free parking on premises\",\"Pets allowed\",Breakfast,\"Pets live on this property\",Dog(s),\"Hot tub\",\"Indoor fireplace\",Heating,\"Family/kid friendly\",\"Suitable for events\",Washer,Dryer,\"Smoke detector\",Essentials,Shampoo,\"24-hour check-in\",Hangers}\n",
       "4 {Internet,\"Wireless Internet\",Kitchen,\"Free parking on premises\",Washer,Dryer,\"Smoke detector\",Essentials,Shampoo}                                                                                                                                                                                           \n",
       "5 {Internet,\"Wireless Internet\",\"Free parking on premises\",\"Fire extinguisher\",Essentials,\"Lock on bedroom door\",\"Laptop friendly workspace\",\"translation missing: en.hosting_amenity_49\",\"translation missing: en.hosting_amenity_50\"}                                                                        \n",
       "6 {TV,Internet,\"Wireless Internet\",Kitchen,Washer,Dryer}                                                                                                                                                                                                                                                       \n",
       "  availability_30 bathrooms bed_type bedrooms beds cancellation_policy\n",
       "1 29               1        Real Bed 1        1    flexible           \n",
       "2 18               1        Real Bed 1        1    flexible           \n",
       "3  3               1        Real Bed 1        3    flexible           \n",
       "4  0               1        Real Bed 1        1    flexible           \n",
       "5  6               1        Real Bed 1        1    moderate           \n",
       "6 22              NA        Real Bed 1        1    strict             \n",
       "  city        has_availability ⋯ review_scores_cleanliness\n",
       "1 palmdale    NA               ⋯ 10                       \n",
       "2 acton       NA               ⋯ 10                       \n",
       "3 acton       NA               ⋯ 10                       \n",
       "4 los angeles NA               ⋯  9                       \n",
       "5 los angeles NA               ⋯ 10                       \n",
       "6 los angeles NA               ⋯  8                       \n",
       "  review_scores_communication review_scores_location review_scores_rating\n",
       "1 10                           9                      93                 \n",
       "2 10                          10                     100                 \n",
       "3 10                          10                     100                 \n",
       "4 10                           9                      93                 \n",
       "5 10                          10                      98                 \n",
       "6  9                           8                      89                 \n",
       "  review_scores_value room_type       state weekly_price zipcode commer_host\n",
       "1  9                  Private room    CA                 93550   FALSE      \n",
       "2 10                  Private room    CA                 93510   FALSE      \n",
       "3 10                  Entire home/apt CA                 93510   FALSE      \n",
       "4 10                  Private room    CA                 90007   FALSE      \n",
       "5 10                  Private room    CA                 90007   FALSE      \n",
       "6  9                  Private room    CA    $320.00      90007    TRUE      "
      ]
     },
     "metadata": {},
     "output_type": "display_data"
    }
   ],
   "source": [
    "listing2 = listing %>% group_by(host_id) %>% \n",
    "    mutate(commer_host = n_distinct(id) >= 5)\n",
    "\n",
    "head(listing2)"
   ]
  },
  {
   "cell_type": "markdown",
   "metadata": {},
   "source": [
    "### Step 4:\n",
    "Using `listing2`, find for each zipcode, the total number of listings, the total number of listings by commercial hosts, and the mean price of all listings in that zipcode. Keep only rows with 50 or more listings. Name this table `zips`, name the four columns `zipcode`, `num_list`, `num_comlist`, and `meanprice`."
   ]
  },
  {
   "cell_type": "code",
   "execution_count": 17,
   "metadata": {},
   "outputs": [
    {
     "data": {
      "text/html": [
       "<table>\n",
       "<caption>A tibble: 6 × 4</caption>\n",
       "<thead>\n",
       "\t<tr><th scope=col>zipcode</th><th scope=col>num_list</th><th scope=col>num_comlist</th><th scope=col>meanprice</th></tr>\n",
       "\t<tr><th scope=col>&lt;chr&gt;</th><th scope=col>&lt;int&gt;</th><th scope=col>&lt;int&gt;</th><th scope=col>&lt;dbl&gt;</th></tr>\n",
       "</thead>\n",
       "<tbody>\n",
       "\t<tr><td>90004</td><td>290</td><td> 62</td><td>115.34028</td></tr>\n",
       "\t<tr><td>90005</td><td>195</td><td> 69</td><td> 90.78351</td></tr>\n",
       "\t<tr><td>90006</td><td>279</td><td>185</td><td> 60.90323</td></tr>\n",
       "\t<tr><td>90007</td><td>113</td><td> 41</td><td> 59.18584</td></tr>\n",
       "\t<tr><td>90012</td><td>252</td><td> 62</td><td>124.03175</td></tr>\n",
       "\t<tr><td>90013</td><td>136</td><td> 12</td><td>146.57353</td></tr>\n",
       "</tbody>\n",
       "</table>\n"
      ],
      "text/latex": [
       "A tibble: 6 × 4\n",
       "\\begin{tabular}{llll}\n",
       " zipcode & num\\_list & num\\_comlist & meanprice\\\\\n",
       " <chr> & <int> & <int> & <dbl>\\\\\n",
       "\\hline\n",
       "\t 90004 & 290 &  62 & 115.34028\\\\\n",
       "\t 90005 & 195 &  69 &  90.78351\\\\\n",
       "\t 90006 & 279 & 185 &  60.90323\\\\\n",
       "\t 90007 & 113 &  41 &  59.18584\\\\\n",
       "\t 90012 & 252 &  62 & 124.03175\\\\\n",
       "\t 90013 & 136 &  12 & 146.57353\\\\\n",
       "\\end{tabular}\n"
      ],
      "text/markdown": [
       "\n",
       "A tibble: 6 × 4\n",
       "\n",
       "| zipcode &lt;chr&gt; | num_list &lt;int&gt; | num_comlist &lt;int&gt; | meanprice &lt;dbl&gt; |\n",
       "|---|---|---|---|\n",
       "| 90004 | 290 |  62 | 115.34028 |\n",
       "| 90005 | 195 |  69 |  90.78351 |\n",
       "| 90006 | 279 | 185 |  60.90323 |\n",
       "| 90007 | 113 |  41 |  59.18584 |\n",
       "| 90012 | 252 |  62 | 124.03175 |\n",
       "| 90013 | 136 |  12 | 146.57353 |\n",
       "\n"
      ],
      "text/plain": [
       "  zipcode num_list num_comlist meanprice\n",
       "1 90004   290       62         115.34028\n",
       "2 90005   195       69          90.78351\n",
       "3 90006   279      185          60.90323\n",
       "4 90007   113       41          59.18584\n",
       "5 90012   252       62         124.03175\n",
       "6 90013   136       12         146.57353"
      ]
     },
     "metadata": {},
     "output_type": "display_data"
    }
   ],
   "source": [
    "zips = listing2 %>% group_by(zipcode) %>% \n",
    "    summarize(num_list = n(), \n",
    "              num_comlist = sum(commer_host), \n",
    "              meanprice = mean(price, na.rm = TRUE)) %>%\n",
    "    filter(num_list >= 50, zipcode != \"\")\n",
    "head(zips)"
   ]
  },
  {
   "cell_type": "markdown",
   "metadata": {},
   "source": [
    "### Step 5:\n",
    "In `zips`, add a column indicating if this zipcode is \"commercial heavy\". We define commercial heavy as zip codes where the number commercial listings exceeds 20% of the total amount of listings."
   ]
  },
  {
   "cell_type": "code",
   "execution_count": 18,
   "metadata": {},
   "outputs": [
    {
     "data": {
      "text/html": [
       "<table>\n",
       "<caption>A tibble: 6 × 5</caption>\n",
       "<thead>\n",
       "\t<tr><th scope=col>zipcode</th><th scope=col>num_list</th><th scope=col>num_comlist</th><th scope=col>meanprice</th><th scope=col>com_heavy</th></tr>\n",
       "\t<tr><th scope=col>&lt;chr&gt;</th><th scope=col>&lt;int&gt;</th><th scope=col>&lt;int&gt;</th><th scope=col>&lt;dbl&gt;</th><th scope=col>&lt;lgl&gt;</th></tr>\n",
       "</thead>\n",
       "<tbody>\n",
       "\t<tr><td>90004</td><td>290</td><td> 62</td><td>115.34028</td><td> TRUE</td></tr>\n",
       "\t<tr><td>90005</td><td>195</td><td> 69</td><td> 90.78351</td><td> TRUE</td></tr>\n",
       "\t<tr><td>90006</td><td>279</td><td>185</td><td> 60.90323</td><td> TRUE</td></tr>\n",
       "\t<tr><td>90007</td><td>113</td><td> 41</td><td> 59.18584</td><td> TRUE</td></tr>\n",
       "\t<tr><td>90012</td><td>252</td><td> 62</td><td>124.03175</td><td> TRUE</td></tr>\n",
       "\t<tr><td>90013</td><td>136</td><td> 12</td><td>146.57353</td><td>FALSE</td></tr>\n",
       "</tbody>\n",
       "</table>\n"
      ],
      "text/latex": [
       "A tibble: 6 × 5\n",
       "\\begin{tabular}{lllll}\n",
       " zipcode & num\\_list & num\\_comlist & meanprice & com\\_heavy\\\\\n",
       " <chr> & <int> & <int> & <dbl> & <lgl>\\\\\n",
       "\\hline\n",
       "\t 90004 & 290 &  62 & 115.34028 &  TRUE\\\\\n",
       "\t 90005 & 195 &  69 &  90.78351 &  TRUE\\\\\n",
       "\t 90006 & 279 & 185 &  60.90323 &  TRUE\\\\\n",
       "\t 90007 & 113 &  41 &  59.18584 &  TRUE\\\\\n",
       "\t 90012 & 252 &  62 & 124.03175 &  TRUE\\\\\n",
       "\t 90013 & 136 &  12 & 146.57353 & FALSE\\\\\n",
       "\\end{tabular}\n"
      ],
      "text/markdown": [
       "\n",
       "A tibble: 6 × 5\n",
       "\n",
       "| zipcode &lt;chr&gt; | num_list &lt;int&gt; | num_comlist &lt;int&gt; | meanprice &lt;dbl&gt; | com_heavy &lt;lgl&gt; |\n",
       "|---|---|---|---|---|\n",
       "| 90004 | 290 |  62 | 115.34028 |  TRUE |\n",
       "| 90005 | 195 |  69 |  90.78351 |  TRUE |\n",
       "| 90006 | 279 | 185 |  60.90323 |  TRUE |\n",
       "| 90007 | 113 |  41 |  59.18584 |  TRUE |\n",
       "| 90012 | 252 |  62 | 124.03175 |  TRUE |\n",
       "| 90013 | 136 |  12 | 146.57353 | FALSE |\n",
       "\n"
      ],
      "text/plain": [
       "  zipcode num_list num_comlist meanprice com_heavy\n",
       "1 90004   290       62         115.34028  TRUE    \n",
       "2 90005   195       69          90.78351  TRUE    \n",
       "3 90006   279      185          60.90323  TRUE    \n",
       "4 90007   113       41          59.18584  TRUE    \n",
       "5 90012   252       62         124.03175  TRUE    \n",
       "6 90013   136       12         146.57353 FALSE    "
      ]
     },
     "metadata": {},
     "output_type": "display_data"
    }
   ],
   "source": [
    "zips = zips %>% mutate(com_heavy = (num_comlist/num_list) > 0.2)\n",
    "head(zips)"
   ]
  },
  {
   "cell_type": "markdown",
   "metadata": {},
   "source": [
    "### Step 6:\n",
    "Merge the data in `demo` into `zips`. Name this table `zips_withdemo`."
   ]
  },
  {
   "cell_type": "code",
   "execution_count": 19,
   "metadata": {},
   "outputs": [
    {
     "name": "stderr",
     "output_type": "stream",
     "text": [
      "Joining, by = \"zipcode\"\n",
      "\n"
     ]
    },
    {
     "data": {
      "text/html": [
       "<table>\n",
       "<caption>A tibble: 6 × 8</caption>\n",
       "<thead>\n",
       "\t<tr><th scope=col>zipcode</th><th scope=col>num_list</th><th scope=col>num_comlist</th><th scope=col>meanprice</th><th scope=col>com_heavy</th><th scope=col>population</th><th scope=col>median_household_income</th><th scope=col>mean_household_income</th></tr>\n",
       "\t<tr><th scope=col>&lt;chr&gt;</th><th scope=col>&lt;int&gt;</th><th scope=col>&lt;int&gt;</th><th scope=col>&lt;dbl&gt;</th><th scope=col>&lt;lgl&gt;</th><th scope=col>&lt;int&gt;</th><th scope=col>&lt;dbl&gt;</th><th scope=col>&lt;dbl&gt;</th></tr>\n",
       "</thead>\n",
       "<tbody>\n",
       "\t<tr><td>90004</td><td>290</td><td> 62</td><td>115.34028</td><td> TRUE</td><td>64008</td><td>40612</td><td>72532</td></tr>\n",
       "\t<tr><td>90005</td><td>195</td><td> 69</td><td> 90.78351</td><td> TRUE</td><td>38979</td><td>31142</td><td>45224</td></tr>\n",
       "\t<tr><td>90006</td><td>279</td><td>185</td><td> 60.90323</td><td> TRUE</td><td>61625</td><td>31521</td><td>39123</td></tr>\n",
       "\t<tr><td>90007</td><td>113</td><td> 41</td><td> 59.18584</td><td> TRUE</td><td>43426</td><td>22304</td><td>33382</td></tr>\n",
       "\t<tr><td>90012</td><td>252</td><td> 62</td><td>124.03175</td><td> TRUE</td><td>30860</td><td>31576</td><td>52569</td></tr>\n",
       "\t<tr><td>90013</td><td>136</td><td> 12</td><td>146.57353</td><td>FALSE</td><td>11299</td><td>19887</td><td>53527</td></tr>\n",
       "</tbody>\n",
       "</table>\n"
      ],
      "text/latex": [
       "A tibble: 6 × 8\n",
       "\\begin{tabular}{llllllll}\n",
       " zipcode & num\\_list & num\\_comlist & meanprice & com\\_heavy & population & median\\_household\\_income & mean\\_household\\_income\\\\\n",
       " <chr> & <int> & <int> & <dbl> & <lgl> & <int> & <dbl> & <dbl>\\\\\n",
       "\\hline\n",
       "\t 90004 & 290 &  62 & 115.34028 &  TRUE & 64008 & 40612 & 72532\\\\\n",
       "\t 90005 & 195 &  69 &  90.78351 &  TRUE & 38979 & 31142 & 45224\\\\\n",
       "\t 90006 & 279 & 185 &  60.90323 &  TRUE & 61625 & 31521 & 39123\\\\\n",
       "\t 90007 & 113 &  41 &  59.18584 &  TRUE & 43426 & 22304 & 33382\\\\\n",
       "\t 90012 & 252 &  62 & 124.03175 &  TRUE & 30860 & 31576 & 52569\\\\\n",
       "\t 90013 & 136 &  12 & 146.57353 & FALSE & 11299 & 19887 & 53527\\\\\n",
       "\\end{tabular}\n"
      ],
      "text/markdown": [
       "\n",
       "A tibble: 6 × 8\n",
       "\n",
       "| zipcode &lt;chr&gt; | num_list &lt;int&gt; | num_comlist &lt;int&gt; | meanprice &lt;dbl&gt; | com_heavy &lt;lgl&gt; | population &lt;int&gt; | median_household_income &lt;dbl&gt; | mean_household_income &lt;dbl&gt; |\n",
       "|---|---|---|---|---|---|---|---|\n",
       "| 90004 | 290 |  62 | 115.34028 |  TRUE | 64008 | 40612 | 72532 |\n",
       "| 90005 | 195 |  69 |  90.78351 |  TRUE | 38979 | 31142 | 45224 |\n",
       "| 90006 | 279 | 185 |  60.90323 |  TRUE | 61625 | 31521 | 39123 |\n",
       "| 90007 | 113 |  41 |  59.18584 |  TRUE | 43426 | 22304 | 33382 |\n",
       "| 90012 | 252 |  62 | 124.03175 |  TRUE | 30860 | 31576 | 52569 |\n",
       "| 90013 | 136 |  12 | 146.57353 | FALSE | 11299 | 19887 | 53527 |\n",
       "\n"
      ],
      "text/plain": [
       "  zipcode num_list num_comlist meanprice com_heavy population\n",
       "1 90004   290       62         115.34028  TRUE     64008     \n",
       "2 90005   195       69          90.78351  TRUE     38979     \n",
       "3 90006   279      185          60.90323  TRUE     61625     \n",
       "4 90007   113       41          59.18584  TRUE     43426     \n",
       "5 90012   252       62         124.03175  TRUE     30860     \n",
       "6 90013   136       12         146.57353 FALSE     11299     \n",
       "  median_household_income mean_household_income\n",
       "1 40612                   72532                \n",
       "2 31142                   45224                \n",
       "3 31521                   39123                \n",
       "4 22304                   33382                \n",
       "5 31576                   52569                \n",
       "6 19887                   53527                "
      ]
     },
     "metadata": {},
     "output_type": "display_data"
    }
   ],
   "source": [
    "zips_withdemo = zips %>% left_join(demo)\n",
    "head(zips_withdemo)"
   ]
  },
  {
   "cell_type": "markdown",
   "metadata": {},
   "source": [
    "### Step 7:\n",
    "Create a scatter plot of mean price vs median household income with `zips_withdemo`. Color points by if this zipcode is commercial heavy. Add a smoothing line. What do you see? What do you learn from this plot?"
   ]
  },
  {
   "cell_type": "code",
   "execution_count": 20,
   "metadata": {},
   "outputs": [
    {
     "name": "stderr",
     "output_type": "stream",
     "text": [
      "`geom_smooth()` using method = 'loess' and formula 'y ~ x'\n",
      "\n"
     ]
    },
    {
     "data": {
      "image/png": "[encoded data removed]",
      "text/plain": [
       "plot without title"
      ]
     },
     "metadata": {
      "image/png": {
       "height": 420,
       "width": 420
      },
      "text/plain": {
       "height": 420,
       "width": 420
      }
     },
     "output_type": "display_data"
    }
   ],
   "source": [
    "ggplot(zips_withdemo, aes(x=median_household_income, y=meanprice, color=com_heavy)) + \n",
    "    geom_point() + geom_smooth(se=FALSE)"
   ]
  },
  {
   "cell_type": "code",
   "execution_count": null,
   "metadata": {},
   "outputs": [],
   "source": []
  }
 ],
 "metadata": {
  "kernelspec": {
   "display_name": "R",
   "language": "R",
   "name": "ir"
  },
  "language_info": {
   "codemirror_mode": "r",
   "file_extension": ".r",
   "mimetype": "text/x-r-source",
   "name": "R",
   "pygments_lexer": "r",
   "version": "3.6.0"
  }
 },
 "nbformat": 4,
 "nbformat_minor": 2
}
