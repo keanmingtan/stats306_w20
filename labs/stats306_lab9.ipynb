{
 "cells": [
  {
   "cell_type": "markdown",
   "metadata": {},
   "source": [
    "# Lab 9 (3/16): MLB Data\n",
    "\n",
    "### Web pages\n",
    "Course page: https://ambujtewari.github.io/teaching/STATS306-Winter2020/\n",
    "\n",
    "Lab page: https://rogerfan.github.io/stats306_w20/\n",
    "\n",
    "### Office Hours\n",
    "    Mondays: 2-4pm, USB 2165\n",
    "    \n",
    "### Contact\n",
    "    Questions on problems: Use the slack discussions\n",
    "    If you need to email me, include in the subject line: [STATS 306]\n",
    "    Email: rogerfan@umich.edu"
   ]
  },
  {
   "cell_type": "code",
   "execution_count": null,
   "metadata": {},
   "outputs": [],
   "source": [
    "require(tidyverse)\n",
    "require(stringr)"
   ]
  },
  {
   "cell_type": "markdown",
   "metadata": {},
   "source": [
    "## `pivot_longer` and `pivot_wider` review\n",
    "\n",
    "Remember that `pivot_longer` transforms datasets from \"wide\" to \"long,\" collecting different column names into a variable. `pivot_wider` does the opposite, turning \"long\" datasets into \"wide\" ones by spreading out a variable's values into several columns"
   ]
  },
  {
   "cell_type": "code",
   "execution_count": null,
   "metadata": {},
   "outputs": [],
   "source": [
    "grades_wide = tribble(\n",
    "  ~student,  ~`2015`, ~`2016`, ~`2017`,\n",
    "'Roger',       83,      89,      93,\n",
    "  'Jon',       92,      90,      93)\n",
    "grades_wide"
   ]
  },
  {
   "cell_type": "code",
   "execution_count": null,
   "metadata": {},
   "outputs": [],
   "source": [
    "grades_long = grades_wide %>% \n",
    "    pivot_longer(\n",
    "        `2015`:`2017`,     # Columns with data values\n",
    "        names_to=\"year\",   # New variable name in the wide data to store the names\n",
    "        values_to=\"grade\"  # New variable name in the wide data to store the values\n",
    "    )\n",
    "\n",
    "grades_long"
   ]
  },
  {
   "cell_type": "code",
   "execution_count": null,
   "metadata": {},
   "outputs": [],
   "source": [
    "grades_long %>% \n",
    "    pivot_wider(\n",
    "        names_from=year,   # Variable from the long data where names are contained\n",
    "        values_from=grade  # Variable from the long data where values are contained\n",
    "    )"
   ]
  },
  {
   "cell_type": "code",
   "execution_count": null,
   "metadata": {},
   "outputs": [],
   "source": []
  },
  {
   "cell_type": "markdown",
   "metadata": {},
   "source": [
    "### `unite` and `separate`\n",
    "\n",
    "These are used to combine the information from two variables into one variable, or separate information in that format. These are often useful when cleaning data, but can also be useful when doing some data transformations."
   ]
  },
  {
   "cell_type": "code",
   "execution_count": null,
   "metadata": {},
   "outputs": [],
   "source": [
    "table3"
   ]
  },
  {
   "cell_type": "code",
   "execution_count": null,
   "metadata": {},
   "outputs": [],
   "source": [
    "table3 %>% separate(rate, into=c('cases', 'pop'))"
   ]
  },
  {
   "cell_type": "code",
   "execution_count": null,
   "metadata": {},
   "outputs": [],
   "source": [
    "# Note that the new variables are still string variables in the above\n",
    "# example. To convert them automatically, use the convert argument.\n",
    "table3 %>% separate(rate, into=c('cases', 'pop'), convert=TRUE)"
   ]
  },
  {
   "cell_type": "markdown",
   "metadata": {},
   "source": [
    "`unite` does the opposite, and can be useful for some data manipulations. It is also often used to create unique identification variables, for instance by combining state and district number or similar hierarchical identifiers."
   ]
  },
  {
   "cell_type": "code",
   "execution_count": null,
   "metadata": {},
   "outputs": [],
   "source": [
    "voting <- tribble(\n",
    "  ~year,  ~gender,  ~age, ~percentage,\n",
    "    2018,  'm', 1824, 27.4,\n",
    "    2018,  'f', 1824, 32.8,\n",
    "    2018,  'm', 2544, 38.0,\n",
    "    2018,  'f', 2544, 42.9,\n",
    "    2014,  'm', 1824, 14.7,\n",
    "    2014,  'f', 1824, 17.2,\n",
    "    2014,  'm', 2544, 26.3,\n",
    "    2014,  'f', 2544, 30.4,\n",
    ")\n",
    "\n",
    "voting"
   ]
  },
  {
   "cell_type": "code",
   "execution_count": null,
   "metadata": {},
   "outputs": [],
   "source": [
    "voting %>% pivot_wider(names_from=c('gender', 'age'), values_from='percentage')\n",
    "\n",
    "voting %>% unite(gender_age, gender, age) %>%\n",
    "    pivot_wider(names_from=gender_age, values_from=percentage)\n"
   ]
  },
  {
   "cell_type": "code",
   "execution_count": null,
   "metadata": {},
   "outputs": [],
   "source": []
  },
  {
   "cell_type": "markdown",
   "metadata": {},
   "source": [
    "## MLB Data\n",
    "\n",
    "This dataset contains information for player-seasons in the American League from 2015 to 2018. For those unfamiliar with baseball:\n",
    "* `PA`: Plate Appearances, the number of times a player came up to bat.\n",
    "* `HR`: number of home runs.\n",
    "* `BB`: The number of walks.\n",
    "* `BBrate`: The number of walks as a percentage of plate appearances (BB/PA).\n",
    "* `K`: The number of strikeouts.\n",
    "* `AVG`: A batters batting average.\n",
    "* `FB`: The number of fly balls a batter hit.\n",
    "\n",
    "Note: Also recall the functions [`unite`](https://tidyr.tidyverse.org/reference/unite.html), [`separate`](https://tidyr.tidyverse.org/reference/separate.html), and [`complete`](https://tidyr.tidyverse.org/reference/complete.html)."
   ]
  },
  {
   "cell_type": "code",
   "execution_count": null,
   "metadata": {},
   "outputs": [],
   "source": [
    "mlb = read_csv('https://raw.githubusercontent.com/rogerfan/stats306_f18_labs/master/mlb.csv')\n",
    "head(mlb)"
   ]
  },
  {
   "cell_type": "markdown",
   "metadata": {},
   "source": [
    "### Problem 1\n",
    "\n",
    "Note that `BBrate` and `BB_K` were read in as strings. Clean up these variables and convert them to numeric variables, noting that `BB_K` should be two integer variables named `BB` and `K`. For `BBrate`, recall the function `str_replace` ([documentation](https://stringr.tidyverse.org/reference/str_replace.html))."
   ]
  },
  {
   "cell_type": "code",
   "execution_count": null,
   "metadata": {},
   "outputs": [],
   "source": []
  },
  {
   "cell_type": "markdown",
   "metadata": {},
   "source": [
    "### Problem 2\n",
    "\n",
    "Calculate the HR per FB rate for each team and year. Convert this to a wide dataset, so your variables should be `division`, `team`, and `2015`-`2018`, where values are the HR/FB rate. Note that you should ensure that `division` is still in the dataset.\n",
    "\n",
    "Create a variable called `increased`, which checks if the HR/FB rate was higher in 2018 than it was in 2015 for that team."
   ]
  },
  {
   "cell_type": "code",
   "execution_count": null,
   "metadata": {},
   "outputs": [],
   "source": []
  },
  {
   "cell_type": "markdown",
   "metadata": {},
   "source": [
    "Turn this back into a \"long\" dataset. Make sure you *do not* treat the `increased` variable as a values column, so the final dataset should have the variables `division`, `team`, `increased`, `year`, and `HR_FB`. Create a plot of HR/FB rate on year. Color it by `team`, facet it by `division`, and choose the linetype according to the `increased` variable."
   ]
  },
  {
   "cell_type": "code",
   "execution_count": null,
   "metadata": {},
   "outputs": [],
   "source": []
  },
  {
   "cell_type": "markdown",
   "metadata": {},
   "source": [
    "### Problem 3\n",
    "\n",
    "Go back to `mlb` and calculate total HRs and PAs per year per team. Create a wide version of this dataset. So there should be a `team` variable, then eight variables tracking values: `HR_2015`, `HR_2016`, `HR_2017`, `HR_2018`, `PA_2015`, `PA_2016`, `PA_2017`, and `PA_2018`.\n",
    "\n",
    "Hint: Once you calculate the summary statistics you can use a `pivot_longer`, `unite`, and `pivot_wider` (noting that you can combine the `unite` operation into the `pivot_wider` command) in that order to create the wide version."
   ]
  },
  {
   "cell_type": "code",
   "execution_count": null,
   "metadata": {},
   "outputs": [],
   "source": []
  },
  {
   "cell_type": "markdown",
   "metadata": {},
   "source": [
    "### Problem 4\n",
    "\n",
    "The following code creates a dataset containing for each player the change in AVG from the previous season to the current season, as well as the change from the current season to the next season."
   ]
  },
  {
   "cell_type": "code",
   "execution_count": null,
   "metadata": {},
   "outputs": [],
   "source": [
    "dat4 = mlb %>% filter(PA >= 200) %>%\n",
    "    group_by(playerid) %>%\n",
    "    arrange(playerid, year) %>%\n",
    "    mutate(AVG_change = AVG - lag(AVG),\n",
    "           next_AVG_change = lead(AVG) - AVG) %>%\n",
    "    filter(!is.na(AVG)) %>%\n",
    "    select(year:division, playerid, AVG:next_AVG_change)\n",
    "\n",
    "head(dat4, 10)"
   ]
  },
  {
   "cell_type": "markdown",
   "metadata": {},
   "source": [
    "Using this data, make two scatterplots where the `x`-axis is the current AVG and the `y`-axis is each of these change variables. Only use a single plotting command and facetting to accomplish this. What conclusions can you draw from these plots?\n",
    "\n",
    "HINT: You will first need to do an additional data transformation involving a pivot."
   ]
  },
  {
   "cell_type": "code",
   "execution_count": null,
   "metadata": {},
   "outputs": [],
   "source": []
  },
  {
   "cell_type": "code",
   "execution_count": null,
   "metadata": {},
   "outputs": [],
   "source": []
  }
 ],
 "metadata": {
  "kernelspec": {
   "display_name": "R",
   "language": "R",
   "name": "ir"
  },
  "language_info": {
   "codemirror_mode": "r",
   "file_extension": ".r",
   "mimetype": "text/x-r-source",
   "name": "R",
   "pygments_lexer": "r",
   "version": "3.6.0"
  }
 },
 "nbformat": 4,
 "nbformat_minor": 2
}
