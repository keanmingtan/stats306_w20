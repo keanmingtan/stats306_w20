{
 "cells": [
  {
   "cell_type": "markdown",
   "metadata": {},
   "source": [
    "# Lab 13 (4/13): Lists, Iteration, and Recursion\n",
    "\n",
    "### Web pages\n",
    "Course page: https://ambujtewari.github.io/teaching/STATS306-Winter2020/\n",
    "\n",
    "Lab page: https://rogerfan.github.io/stats306_w20/\n",
    "\n",
    "### Office Hours\n",
    "    Mondays: 2-4pm, USB 2165\n",
    "    \n",
    "### Contact\n",
    "    Questions on problems: Use the slack discussions\n",
    "    If you need to email me, include in the subject line: [STATS 306]\n",
    "    Email: rogerfan@umich.edu"
   ]
  },
  {
   "cell_type": "code",
   "execution_count": null,
   "metadata": {
    "scrolled": true
   },
   "outputs": [],
   "source": [
    "library(tidyverse)\n",
    "library(nycflights13)"
   ]
  },
  {
   "cell_type": "markdown",
   "metadata": {},
   "source": [
    "## Vectors and Lists\n",
    "\n",
    "**Vectors** are sequences of objects, all of which have the same type. Recall that we can assign these with the `c()` operator:\n",
    "```\n",
    "x = c(1, 2, 3, 4)\n",
    "x = 1:4\n",
    "x = c('a', 'b', 'c')\n",
    "\n",
    "\n",
    "```\n",
    "\n",
    "We can also name the entries in a vector either while assigning or by using the `names()` function:\n",
    "```\n",
    "x = c(a=1, b=2, c=3)\n",
    "\n",
    "x = c(1, 2, 3)\n",
    "names(x) = c('a', 'b', 'c')\n",
    "```\n"
   ]
  },
  {
   "cell_type": "markdown",
   "metadata": {},
   "source": [
    "**Lists** are also sequences, but the elements of a list are allowed to be different data types (including vectors or even other lists). Like with vectors, list elements can be named."
   ]
  },
  {
   "cell_type": "code",
   "execution_count": null,
   "metadata": {},
   "outputs": [],
   "source": [
    "x = list(a='a', b=FALSE, c=pi, d=1:3)\n",
    "print(x)\n",
    "print(names(x))"
   ]
  },
  {
   "cell_type": "markdown",
   "metadata": {},
   "source": [
    "There are three ways to subset or extract elements from a list:\n",
    "* `[...]` will extract a sublist. Note that the result of this will always be another list. Integer, logical, or character vectors can be used.\n",
    "* `[[...]]` will extract a single element. Either the index or name of the desired element can be provided.\n",
    "* `$a` will also extract a single element. Note that this requires a named list, and the name must be used. "
   ]
  },
  {
   "cell_type": "code",
   "execution_count": null,
   "metadata": {},
   "outputs": [],
   "source": [
    "print(x[1:2])"
   ]
  },
  {
   "cell_type": "code",
   "execution_count": null,
   "metadata": {},
   "outputs": [],
   "source": [
    "print(x['a'])"
   ]
  },
  {
   "cell_type": "code",
   "execution_count": null,
   "metadata": {},
   "outputs": [],
   "source": [
    "print(x[['a']])"
   ]
  },
  {
   "cell_type": "code",
   "execution_count": null,
   "metadata": {},
   "outputs": [],
   "source": [
    "print(x$a)"
   ]
  },
  {
   "cell_type": "markdown",
   "metadata": {},
   "source": [
    "Note that dataframes (and tibbles) are basically just lists with some extra features. Here the `names()` correspond to columns, where each element is a vector."
   ]
  },
  {
   "cell_type": "code",
   "execution_count": null,
   "metadata": {},
   "outputs": [],
   "source": [
    "head(cars)"
   ]
  },
  {
   "cell_type": "code",
   "execution_count": null,
   "metadata": {},
   "outputs": [],
   "source": [
    "cars$speed\n",
    "cars[['speed']]\n",
    "cars[[1]]"
   ]
  },
  {
   "cell_type": "markdown",
   "metadata": {},
   "source": [
    "## Iteration\n",
    "\n",
    "The two main ways of iterating in R are `for` and `while` loops.\n",
    "\n",
    "```\n",
    "for (index in vector) {\n",
    "    [do something for each index]\n",
    "}\n",
    "```\n",
    "\n",
    "```\n",
    "while (condition) {\n",
    "    [do something]\n",
    "}\n",
    "```\n",
    "\n",
    "Note that when using a `while` loop it will keep running as long as the condition is `TRUE`, so you want to make certain that eventually whatever you do in the loop will make the condition become `FALSE`, or else it will loop forever.\n"
   ]
  },
  {
   "cell_type": "code",
   "execution_count": null,
   "metadata": {},
   "outputs": [],
   "source": [
    "# Calculate 10!\n",
    "\n",
    "result = 1\n",
    "for (i in 1:10) {\n",
    "    result = result * i\n",
    "}\n",
    "print(result)\n",
    "\n",
    "result = 1\n",
    "i = 1\n",
    "while (i <= 10) {\n",
    "    result = result * i\n",
    "    i = i + 1\n",
    "}\n",
    "print(result)"
   ]
  },
  {
   "cell_type": "code",
   "execution_count": null,
   "metadata": {},
   "outputs": [],
   "source": [
    "# Highest power of 2 less than 100000\n",
    "curr = 2\n",
    "while (curr <= 100000) {\n",
    "    curr = curr * 2\n",
    "}\n",
    "print(curr / 2)"
   ]
  },
  {
   "cell_type": "code",
   "execution_count": null,
   "metadata": {},
   "outputs": [],
   "source": [
    "sum1 = function(vec) {\n",
    "    result = 0\n",
    "\n",
    "    for (x in vec) {\n",
    "        curr = curr + x\n",
    "        results[ind] = curr\n",
    "        ind = ind + 1\n",
    "    }\n",
    "    results\n",
    "}\n",
    "\n",
    "cumsum2 = function(vec) {\n",
    "    results = rep(NA, length(vec))\n",
    "    curr = 0\n",
    "    for (ind in 1:length(vec)) {\n",
    "        curr = curr + vec[ind]\n",
    "        results[ind] = curr\n",
    "    }\n",
    "    results\n",
    "}\n",
    "\n",
    "cumsum1(c(1, 5, 2, 3, 7, 5))\n",
    "cumsum2(c(1, 5, 2, 3, 7, 5))\n"
   ]
  },
  {
   "cell_type": "markdown",
   "metadata": {},
   "source": [
    "## Recursion\n",
    "\n",
    "Recursion is a coding pattern where a function uses itself when doing it's operations. It is usually an alternative to using iteration, and often makes sense to use when a problem can be easily broken down into smaller sub-problems.\n",
    "\n",
    "There are two parts of a good recursive function:\n",
    "1. The base case(s). What are simplest subproblems that have known answers?\n",
    "2. The recursive step. How do you take a bigger problem and break it down into one or more smaller problems.\n"
   ]
  },
  {
   "cell_type": "code",
   "execution_count": null,
   "metadata": {},
   "outputs": [],
   "source": [
    "factorial = function(n) {\n",
    "    if (n == 0) return(1)      # base case\n",
    "    \n",
    "    return(n * factorial(n-1))  # recursive step\n",
    "}\n",
    "\n",
    "factorial(10)"
   ]
  },
  {
   "cell_type": "code",
   "execution_count": null,
   "metadata": {},
   "outputs": [],
   "source": [
    "\n",
    "reverse = function(vec) {\n",
    "    if (length(vec) == 1) return(vec)\n",
    "    \n",
    "    end = vec[length(vec)]\n",
    "    rest = vec[1:(length(vec)-1)]\n",
    "    \n",
    "    return(c(end, reverse(rest)))\n",
    "}\n",
    "\n",
    "reverse(c(1, 2, 3, 4))"
   ]
  },
  {
   "cell_type": "markdown",
   "metadata": {},
   "source": [
    "## Q1: Given a vector `x`, write a function that calculates the sum of the squared odd entries.\n",
    "\n",
    "For example:\n",
    "```\n",
    "f(c(1, 2, 3, 4, 5) == 1^2 + 3^2 + 5^2 == 35\n",
    "f(c(2, 4, 6)) == 0\n",
    "```\n"
   ]
  },
  {
   "cell_type": "code",
   "execution_count": null,
   "metadata": {},
   "outputs": [],
   "source": [
    "f_loop = function(x) {\n",
    "\n",
    "}\n"
   ]
  },
  {
   "cell_type": "code",
   "execution_count": null,
   "metadata": {},
   "outputs": [],
   "source": [
    "stopifnot(f_loop(c(1, 2, 3, 4, 5)) == 35)\n",
    "\n",
    "stopifnot(f_loop(c(2, 4, 6)) == 0)"
   ]
  },
  {
   "cell_type": "markdown",
   "metadata": {},
   "source": [
    "## Q2: Use a loop to do the following, storing the result in a vector.\n",
    "\n",
    "1. Compute the mean of every column in `airquality` ignoring missing values.\n",
    "2. Compute the number of unique values in each column of `iris`."
   ]
  },
  {
   "cell_type": "code",
   "execution_count": null,
   "metadata": {},
   "outputs": [],
   "source": [
    "# Q2.1\n"
   ]
  },
  {
   "cell_type": "code",
   "execution_count": null,
   "metadata": {},
   "outputs": [],
   "source": [
    "# Q2.2\n"
   ]
  },
  {
   "cell_type": "markdown",
   "metadata": {},
   "source": [
    "## Q4: Recursion\n",
    "\n",
    "Suppose Roger can climb either 1 or 2 steps at a time. Consider a function that returns how many ways Roger fan climb up `n` steps. For example, if `n=3`, then there are 3 ways: `(1, 1, 1)`, `(1, 2)`, or `(2, 1)`.\n",
    "\n",
    "Write a function that performs this calculation using recursion:"
   ]
  },
  {
   "cell_type": "code",
   "execution_count": null,
   "metadata": {},
   "outputs": [],
   "source": [
    "nways = function(n){\n",
    "\n",
    "}\n",
    "nways(10)"
   ]
  }
 ],
 "metadata": {
  "kernelspec": {
   "display_name": "R",
   "language": "R",
   "name": "ir"
  },
  "language_info": {
   "codemirror_mode": "r",
   "file_extension": ".r",
   "mimetype": "text/x-r-source",
   "name": "R",
   "pygments_lexer": "r",
   "version": "3.6.0"
  }
 },
 "nbformat": 4,
 "nbformat_minor": 2
}
