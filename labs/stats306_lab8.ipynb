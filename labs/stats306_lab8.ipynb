{
 "cells": [
  {
   "cell_type": "markdown",
   "metadata": {},
   "source": [
    "# Lab 8 (3/9): Data Manipulation\n",
    "\n",
    "### Web pages\n",
    "Course page: https://ambujtewari.github.io/teaching/STATS306-Winter2020/\n",
    "\n",
    "Lab page: https://rogerfan.github.io/stats306_w20/\n",
    "\n",
    "### Office Hours\n",
    "    Mondays: 2-4pm, USB 2165\n",
    "    \n",
    "### Contact\n",
    "    Questions on problems: Use the slack discussions\n",
    "    If you need to email me, include in the subject line: [STATS 306]\n",
    "    Email: rogerfan@umich.edu"
   ]
  },
  {
   "cell_type": "code",
   "execution_count": null,
   "metadata": {},
   "outputs": [],
   "source": [
    "require(tidyverse)\n"
   ]
  },
  {
   "cell_type": "markdown",
   "metadata": {},
   "source": [
    "## Tibble miscellanea"
   ]
  },
  {
   "cell_type": "code",
   "execution_count": null,
   "metadata": {},
   "outputs": [],
   "source": [
    "mydat = tribble(\n",
    "  ~variable1, ~another_var, ~`final var`,\n",
    "  'a', 2, 3.6,\n",
    "  'b', 1, 8.5\n",
    ")\n",
    "\n",
    "print(mydat)"
   ]
  },
  {
   "cell_type": "markdown",
   "metadata": {},
   "source": [
    "### Subsetting\n",
    "\n",
    "For selecting variables out of tibbles, you can use `$` or `[[ ]]` (in addition to `select`).\n",
    "* `$` only selects by name and requires you to hard-code in the variable name.\n",
    "* `[[ ]]` selects by name or position and takes an argument, which can be a variable.\n"
   ]
  },
  {
   "cell_type": "code",
   "execution_count": null,
   "metadata": {},
   "outputs": [],
   "source": [
    "mydat"
   ]
  },
  {
   "cell_type": "code",
   "execution_count": null,
   "metadata": {},
   "outputs": [],
   "source": [
    "mydat$variable1"
   ]
  },
  {
   "cell_type": "code",
   "execution_count": null,
   "metadata": {},
   "outputs": [],
   "source": [
    "mydat[['variable1']]\n",
    "mydat[[1]]"
   ]
  },
  {
   "cell_type": "code",
   "execution_count": null,
   "metadata": {},
   "outputs": [],
   "source": [
    "mydat[[x]]"
   ]
  },
  {
   "cell_type": "code",
   "execution_count": null,
   "metadata": {},
   "outputs": [],
   "source": [
    "y = 'variable1'\n",
    "mydat[[y]]"
   ]
  },
  {
   "cell_type": "code",
   "execution_count": null,
   "metadata": {},
   "outputs": [],
   "source": [
    "mydat$`final var`\n",
    "mydat[['final var']]"
   ]
  },
  {
   "cell_type": "code",
   "execution_count": null,
   "metadata": {},
   "outputs": [],
   "source": [
    "varname = 'final var'\n",
    "mydat[[varname]]"
   ]
  },
  {
   "cell_type": "markdown",
   "metadata": {},
   "source": [
    "## Data Import\n",
    "\n",
    "The package `readr` (part of `tidyverse`) contains several functions for reading in flat data. See the [readr documentation](https://readr.tidyverse.org/reference/index.html) for details. \n",
    "\n",
    "`read_csv` reads standard comma-delimited files. There are variants like `read_csv2` (semicolon-delimited) and `read_tsv` (tab-delimited), while `read_delim` allows reading in files with any delimiter. Note that all these read functions work both with local files and with hyperlinks.\n",
    "\n",
    "Also note that the equivalents for writing/saving data files also exist, called `write_csv`, etc.\n",
    "\n",
    "These are variants of `read.table`, `read.csv`, `write.table`, etc. which are a part of base R and can also be used for reading in files."
   ]
  },
  {
   "cell_type": "code",
   "execution_count": null,
   "metadata": {},
   "outputs": [],
   "source": [
    "mtcars$car = rownames(mtcars)\n",
    "\n",
    "write_csv(mtcars, \"mtcars.csv\")"
   ]
  },
  {
   "cell_type": "code",
   "execution_count": null,
   "metadata": {},
   "outputs": [],
   "source": [
    "mydat = read_csv(\"mtcars.csv\")\n",
    "head(mydat)"
   ]
  },
  {
   "cell_type": "markdown",
   "metadata": {},
   "source": [
    "An option that commonly needs tweaking is `na`: this specifies the value (or values) that are used to represent missing values in your file:"
   ]
  },
  {
   "cell_type": "code",
   "execution_count": null,
   "metadata": {},
   "outputs": [],
   "source": [
    "read_csv(\n",
    "\"a,b,c\n",
    "1,2,.\", na='.')"
   ]
  },
  {
   "cell_type": "markdown",
   "metadata": {},
   "source": [
    "## `pivot_longer` and `pivot_wider`"
   ]
  },
  {
   "cell_type": "markdown",
   "metadata": {},
   "source": [
    "Remember that `pivot_longer` transforms datasets from \"wide\" to \"long,\" collecting different column names into a variable. `pivot_wider` does the opposite, turning \"long\" datasets into \"wide\" ones by spreading out a variable's values into several columns"
   ]
  },
  {
   "cell_type": "code",
   "execution_count": null,
   "metadata": {},
   "outputs": [],
   "source": [
    "grades_wide = tribble(\n",
    "  ~student,  ~`2015`, ~`2016`, ~`2017`,\n",
    "'Roger',       83,      89,      93,\n",
    "  'Jon',       92,      90,      93)\n",
    "grades_wide"
   ]
  },
  {
   "cell_type": "code",
   "execution_count": null,
   "metadata": {},
   "outputs": [],
   "source": [
    "grades_long = grades_wide %>% \n",
    "    pivot_longer(\n",
    "        `2015`:`2017`, \n",
    "        names_to=\"year\", \n",
    "        values_to=\"grade\"\n",
    "    )\n",
    "\n",
    "grades_long"
   ]
  },
  {
   "cell_type": "code",
   "execution_count": null,
   "metadata": {},
   "outputs": [],
   "source": [
    "grades_long %>% \n",
    "    pivot_wider(\n",
    "        names_from=\"year\", \n",
    "        values_from=\"grade\"\n",
    "    )"
   ]
  },
  {
   "cell_type": "code",
   "execution_count": null,
   "metadata": {},
   "outputs": [],
   "source": []
  },
  {
   "cell_type": "markdown",
   "metadata": {},
   "source": [
    "### Pivoting with multiple value columns"
   ]
  },
  {
   "cell_type": "code",
   "execution_count": null,
   "metadata": {},
   "outputs": [],
   "source": [
    "family_wide <- tribble(\n",
    "  ~family,  ~dob_child1,  ~dob_child2, ~gender_child1, ~gender_child2,\n",
    "       1L, \"1998-11-26\", \"2000-01-29\",             1L,             2L,\n",
    "       2L, \"1996-06-22\",           NA,             2L,             NA,\n",
    "       3L, \"2002-07-11\", \"2004-04-05\",             2L,             2L,\n",
    "       4L, \"2004-10-10\", \"2009-08-27\",             1L,             1L,\n",
    "       5L, \"2000-12-05\", \"2005-02-28\",             2L,             1L,\n",
    ")\n",
    "family_wide"
   ]
  },
  {
   "cell_type": "markdown",
   "metadata": {},
   "source": [
    "If your variable names are well-formatted you can use the `names_sep` argument to separate the column names.\n",
    "\n",
    "Note that the special argument `.value` is used to denote which part of the column name denotes the new value columns."
   ]
  },
  {
   "cell_type": "code",
   "execution_count": null,
   "metadata": {},
   "outputs": [],
   "source": [
    "family_long = family_wide %>%\n",
    "    pivot_longer(\n",
    "        -family,\n",
    "        names_to = c('.value', 'child'),\n",
    "        names_sep = '_'\n",
    "    )\n",
    "\n",
    "family_long"
   ]
  },
  {
   "cell_type": "code",
   "execution_count": null,
   "metadata": {},
   "outputs": [],
   "source": [
    "family_long %>%\n",
    "    pivot_wider(\n",
    "        names_from = c('child'),\n",
    "        values_from = c('dob', 'gender')\n",
    "    )"
   ]
  },
  {
   "cell_type": "markdown",
   "metadata": {},
   "source": [
    "For more complex variable names, you can also use the `names_pattern` to match any pattern that exists."
   ]
  },
  {
   "cell_type": "code",
   "execution_count": null,
   "metadata": {},
   "outputs": [],
   "source": [
    "family_long = family_wide %>%\n",
    "    pivot_longer(\n",
    "        -family,\n",
    "        names_to = c('.value', 'child'),\n",
    "        names_pattern = '(.*)_(.*)'\n",
    "    )\n",
    "\n",
    "family_long"
   ]
  },
  {
   "cell_type": "code",
   "execution_count": null,
   "metadata": {},
   "outputs": [],
   "source": []
  },
  {
   "cell_type": "markdown",
   "metadata": {},
   "source": [
    "### Handling missing values"
   ]
  },
  {
   "cell_type": "code",
   "execution_count": null,
   "metadata": {},
   "outputs": [],
   "source": [
    "head(fish_encounters)"
   ]
  },
  {
   "cell_type": "code",
   "execution_count": null,
   "metadata": {},
   "outputs": [],
   "source": [
    "fish_wide1 = fish_encounters %>% \n",
    "    pivot_wider(names_from = station, values_from = seen)\n",
    "\n",
    "head(fish_wide1)"
   ]
  },
  {
   "cell_type": "code",
   "execution_count": null,
   "metadata": {},
   "outputs": [],
   "source": [
    "fish_wide = fish_encounters %>% \n",
    "    pivot_wider(\n",
    "      names_from = station, \n",
    "      values_from = seen,\n",
    "      values_fill = list(seen = 0)\n",
    "    )\n",
    "\n",
    "head(fish_wide)"
   ]
  },
  {
   "cell_type": "code",
   "execution_count": null,
   "metadata": {},
   "outputs": [],
   "source": [
    "fish_wide1 %>% \n",
    "    pivot_longer(I80_1:MAW, \n",
    "                 names_to=\"station\", \n",
    "                 values_to=\"seen\")"
   ]
  },
  {
   "cell_type": "code",
   "execution_count": null,
   "metadata": {},
   "outputs": [],
   "source": [
    "fish_wide1 %>% \n",
    "    pivot_longer(I80_1:MAW, \n",
    "                 names_to=\"station\", \n",
    "                 values_to=\"seen\", \n",
    "                 values_drop_na=TRUE)"
   ]
  },
  {
   "cell_type": "code",
   "execution_count": null,
   "metadata": {},
   "outputs": [],
   "source": []
  },
  {
   "cell_type": "markdown",
   "metadata": {},
   "source": [
    "## Question 1\n",
    "\n",
    "The following is a dataset of US voting participation, broken down by gender and age group."
   ]
  },
  {
   "cell_type": "code",
   "execution_count": null,
   "metadata": {},
   "outputs": [],
   "source": [
    "voting_par <- tribble(\n",
    "  ~year,  ~m_1824,  ~f_1824, ~m_2544, ~f_2544, ~m_4564, ~f_4564, ~m_65p, ~f_65p,\n",
    "    2018, 27.4, 32.8, 38.0, 42.9, 53.7, 56.3, 65.4, 62.5,\n",
    "    2014, 14.7, 17.2, 26.3, 30.4, 45.0, 47.0, 60.1, 55.5,\n",
    "    2010, 18.7, 20.6, 30.5, 33.9, 50.7, 51.5, 62.0, 56.5,\n",
    "    2006, 18.6, 21.2, 32.3, 36.5, 53.4, 55.1, 64.4, 57.5,\n",
    "    2002, 15.7, 18.6, 32.7, 35.4, 52.6, 53.5, 65.4, 57.7\n",
    ")\n",
    "\n",
    "voting_par"
   ]
  },
  {
   "cell_type": "markdown",
   "metadata": {},
   "source": [
    "Convert this dataset to a long version. The new dataset should have variables `year`, `gender`, `age`, and `voting_perc`. \n",
    "\n",
    "Use ggplot to visualize this new dataset. Make whatever aesthetic and formatting choices that make the most sense to you."
   ]
  },
  {
   "cell_type": "code",
   "execution_count": null,
   "metadata": {},
   "outputs": [],
   "source": []
  },
  {
   "cell_type": "code",
   "execution_count": null,
   "metadata": {},
   "outputs": [],
   "source": []
  },
  {
   "cell_type": "code",
   "execution_count": null,
   "metadata": {},
   "outputs": [],
   "source": []
  },
  {
   "cell_type": "markdown",
   "metadata": {},
   "source": [
    "## Question 2\n",
    "\n",
    "The following is an example dataset of answers from a multiple choice questionnaire, where for each question respondents could select up to three choices."
   ]
  },
  {
   "cell_type": "code",
   "execution_count": null,
   "metadata": {},
   "outputs": [],
   "source": [
    "multi <- tribble(\n",
    "  ~id, ~choice1, ~choice2, ~choice3,\n",
    "  1, \"A\", \"B\", \"C\",\n",
    "  2, \"C\", \"B\",  NA,\n",
    "  3, \"D\",  NA,  NA,\n",
    "  4, \"B\", \"D\",  NA\n",
    ")\n",
    "\n",
    "multi"
   ]
  },
  {
   "cell_type": "markdown",
   "metadata": {},
   "source": [
    "Using pivot and other dplyr operations, turn `multi` into the following dataset that is easier to use.\n",
    "```\n",
    "# A tibble: 4 x 5\n",
    "     id A     B     C     D    \n",
    "  <dbl> <lgl> <lgl> <lgl> <lgl>\n",
    "1     1 TRUE  TRUE  TRUE  FALSE\n",
    "2     2 FALSE TRUE  TRUE  FALSE\n",
    "3     3 FALSE FALSE FALSE TRUE \n",
    "4     4 FALSE TRUE  FALSE TRUE \n",
    "```\n",
    "HINT: This will probably require more than one pivot operation."
   ]
  },
  {
   "cell_type": "code",
   "execution_count": null,
   "metadata": {},
   "outputs": [],
   "source": []
  },
  {
   "cell_type": "code",
   "execution_count": null,
   "metadata": {
    "scrolled": true
   },
   "outputs": [],
   "source": []
  },
  {
   "cell_type": "code",
   "execution_count": null,
   "metadata": {},
   "outputs": [],
   "source": []
  },
  {
   "cell_type": "code",
   "execution_count": null,
   "metadata": {},
   "outputs": [],
   "source": []
  }
 ],
 "metadata": {
  "kernelspec": {
   "display_name": "R",
   "language": "R",
   "name": "ir"
  },
  "language_info": {
   "codemirror_mode": "r",
   "file_extension": ".r",
   "mimetype": "text/x-r-source",
   "name": "R",
   "pygments_lexer": "r",
   "version": "3.6.0"
  }
 },
 "nbformat": 4,
 "nbformat_minor": 2
}
