{
 "cells": [
  {
   "cell_type": "markdown",
   "metadata": {},
   "source": [
    "# Lab 7 (2/24): Practice\n",
    "\n",
    "### Web pages\n",
    "Course page: https://ambujtewari.github.io/teaching/STATS306-Winter2020/\n",
    "\n",
    "Lab page: https://rogerfan.github.io/stats306_w20/\n",
    "\n",
    "### Office Hours\n",
    "    Mondays: 2-4pm, USB 2165\n",
    "    \n",
    "### Contact\n",
    "    Questions on problems: Use the slack discussions\n",
    "    If you need to email me, include in the subject line: [STATS 306]\n",
    "    Email: rogerfan@umich.edu"
   ]
  },
  {
   "cell_type": "code",
   "execution_count": 47,
   "metadata": {},
   "outputs": [],
   "source": [
    "library(tidyverse)\n",
    "# install.package('nycflights13')\n",
    "library(nycflights13)\n",
    "library(forcats)"
   ]
  },
  {
   "cell_type": "markdown",
   "metadata": {},
   "source": [
    "### Question 1\n",
    "\n",
    "Assume each row in `mpg` corresponds to a different model of car. Which manufacturer produced the most 4-wheel drive models in 1999?"
   ]
  },
  {
   "cell_type": "code",
   "execution_count": null,
   "metadata": {},
   "outputs": [],
   "source": []
  },
  {
   "cell_type": "markdown",
   "metadata": {},
   "source": [
    "### Question 2\n",
    "\n",
    "In the `flights` dataset, call the `airtime_delay` the difference between the actual airtime and the scheduled airtime of a flight. For each of the carriers with codes `'AA', 'UA, 'DL'`, calculate the mean `airtime_delay` per month and plot this using `ggplot`."
   ]
  },
  {
   "cell_type": "code",
   "execution_count": null,
   "metadata": {},
   "outputs": [],
   "source": []
  },
  {
   "cell_type": "code",
   "execution_count": null,
   "metadata": {},
   "outputs": [],
   "source": []
  },
  {
   "cell_type": "markdown",
   "metadata": {},
   "source": [
    "### Question 3\n",
    "\n",
    "The following code downloads a dataset of college football games. Using the dataset `cfb`, find the number of conference and non-conference games (see `conf_game`) that Michigan played over this time period. What were Michigan's in- and out-of-conference winrates? You should be able to get all these numbers in a single table."
   ]
  },
  {
   "cell_type": "code",
   "execution_count": 1,
   "metadata": {},
   "outputs": [],
   "source": [
    "load(url('https://github.com/rogerfan/stats306_w20/raw/master/labs/cfb.RData'))"
   ]
  },
  {
   "cell_type": "code",
   "execution_count": null,
   "metadata": {},
   "outputs": [],
   "source": []
  },
  {
   "cell_type": "code",
   "execution_count": null,
   "metadata": {},
   "outputs": [],
   "source": []
  },
  {
   "cell_type": "markdown",
   "metadata": {
    "collapsed": true
   },
   "source": [
    "### Question 4\n",
    "\n",
    "The dataset `gss_cat` contains survey surveys of individuals from 2002 to 2014. \n",
    "\n",
    "Using this datset, categorize individuals who self-identify as `Protestant`, `Catholic`, `None`, and `Other`, where `Other` contains all other values of `relig`. Note that the easiest way to do this is to use the function `replace` within a `dplyr` function, but there are also solutions using `recode` or `case_when`. \n",
    "\n",
    "Construct a table that contains the proportion of each religious category by year. The table should look something like:\n",
    "```\n",
    "# A tibble: 32 x 3\n",
    "# Groups:   year [8]\n",
    "    year relig      proportion\n",
    "   <int> <fct>           <dbl>\n",
    " 1  2000 Other          0.0777\n",
    " 2  2000 None           0.141 \n",
    " 3  2000 Catholic       0.241 \n",
    " 4  2000 Protestant     0.540 \n",
    " 5  2002 Other          0.0915\n",
    " 6  2002 None           0.137 \n",
    " 7  2002 Catholic       0.243 \n",
    " 8  2002 Protestant     0.528 \n",
    " 9  2004 Other          0.0960\n",
    "10  2004 None           0.143 \n",
    "# … with 22 more rows\n",
    "```\n",
    "\n",
    "With this table, create a bar plot that shows how the religious makeup has changed over the time period."
   ]
  },
  {
   "cell_type": "code",
   "execution_count": null,
   "metadata": {},
   "outputs": [],
   "source": []
  },
  {
   "cell_type": "code",
   "execution_count": null,
   "metadata": {},
   "outputs": [],
   "source": []
  },
  {
   "cell_type": "markdown",
   "metadata": {},
   "source": [
    "### Question 5\n",
    "\n",
    "Again using `gss_cat`, assume that missing values of `tvhours` mean zero hours watched. Calculate the mean tvhours for each age for both married and unmarried individuals (you can assume everyone who didn't answer `'Married'` is unmarried). \n",
    "\n",
    "Plot of scatter plot of mean tvhours by age for married and unmarrier. Include smoothing lines for each category."
   ]
  },
  {
   "cell_type": "code",
   "execution_count": null,
   "metadata": {
    "scrolled": false
   },
   "outputs": [],
   "source": []
  },
  {
   "cell_type": "markdown",
   "metadata": {},
   "source": [
    "### Question 6\n",
    "\n",
    "This question uses the `flights` and `weather` tables. Say a day was rainy at a particular airport if a) the minimum temperature for the day and airport was above freezing, and b) precipitation occurred during one or more hours in the day.\n",
    "\n",
    "In total, how many departures were scheduled during rainy days in 2013?"
   ]
  },
  {
   "cell_type": "code",
   "execution_count": null,
   "metadata": {},
   "outputs": [],
   "source": []
  },
  {
   "cell_type": "code",
   "execution_count": null,
   "metadata": {},
   "outputs": [],
   "source": []
  },
  {
   "cell_type": "markdown",
   "metadata": {},
   "source": [
    "### Question 7\n",
    "\n",
    "Use the dataset you created in the above question.\n",
    "\n",
    "Cancelled flights have missing values of `dep_time`. By month, what percentage of cancelled flights in 2013 were on rainy days?\n",
    "\n",
    "To check your work, I got that roughly 60.3% of cancelled flights in April were on rainy days."
   ]
  },
  {
   "cell_type": "code",
   "execution_count": null,
   "metadata": {
    "scrolled": false
   },
   "outputs": [],
   "source": []
  },
  {
   "cell_type": "code",
   "execution_count": null,
   "metadata": {},
   "outputs": [],
   "source": []
  },
  {
   "cell_type": "code",
   "execution_count": null,
   "metadata": {},
   "outputs": [],
   "source": []
  }
 ],
 "metadata": {
  "kernelspec": {
   "display_name": "R",
   "language": "R",
   "name": "ir"
  },
  "language_info": {
   "codemirror_mode": "r",
   "file_extension": ".r",
   "mimetype": "text/x-r-source",
   "name": "R",
   "pygments_lexer": "r",
   "version": "3.6.0"
  }
 },
 "nbformat": 4,
 "nbformat_minor": 2
}
