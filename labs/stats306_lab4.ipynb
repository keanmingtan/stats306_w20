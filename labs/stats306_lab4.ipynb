{
 "cells": [
  {
   "cell_type": "markdown",
   "metadata": {},
   "source": [
    "# Lab 4 (2/3): dplyr\n",
    "\n",
    "### Web pages\n",
    "Course page: https://ambujtewari.github.io/teaching/STATS306-Winter2020/\n",
    "\n",
    "Lab page: https://rogerfan.github.io/stats306_w20/\n",
    "\n",
    "### Office Hours\n",
    "    Mondays: 2-4pm, USB 2165\n",
    "    \n",
    "### Contact\n",
    "    Questions on problems: Use the slack discussions\n",
    "    If you need to email me, include in the subject line: [STATS 306]\n",
    "    Email: rogerfan@umich.edu\n",
    "    "
   ]
  },
  {
   "cell_type": "code",
   "execution_count": null,
   "metadata": {},
   "outputs": [],
   "source": [
    "library(tidyverse)\n",
    "\n",
    "# Sample 1200 rows\n",
    "set.seed(306)\n",
    "rand_idx = sample(1:nrow(diamonds), 1200)\n",
    "dm = diamonds[rand_idx, ]\n",
    "dim(dm)\n",
    "head(dm)"
   ]
  },
  {
   "cell_type": "markdown",
   "metadata": {},
   "source": [
    "## Statistical transformations\n",
    "Many graphs, like scatterplots, plot the raw values of your dataset. Other graphs, like bar charts, calculate new values to plot.\n",
    "\n",
    "You can learn which stat a geom uses by inspecting the default value for the `stat` argument in the documentation. For example, `geom_bar`'s default value for stat is `'count'`, which means that `geom_bar()` uses `stat_count()`.\n",
    "\n",
    "`stat_count` is documented on the same page as `geom_bar`, and if you scroll down you can find a section called \"Computed Variables.\" Here we can see that `stat_count` computes two extra variables: `count` and `prop`."
   ]
  },
  {
   "cell_type": "code",
   "execution_count": null,
   "metadata": {},
   "outputs": [],
   "source": [
    "popn <- tribble(\n",
    "~country, ~population,\n",
    "\"ETHIOPIA\", 102000000,\n",
    "\"NIGERIA\", 186000000,\n",
    "\"EGYPT\", 96000000,\n",
    "\"DR CONGO\", 78000000,\n",
    "\"SOUTH AFRICA\", 56000000\n",
    ")\n",
    "\n",
    "print(popn)"
   ]
  },
  {
   "cell_type": "code",
   "execution_count": null,
   "metadata": {},
   "outputs": [],
   "source": [
    "ggplot(popn, aes(x=country, y=population)) +\n",
    "  geom_bar(stat='identity') +   # Could use geom_col() instead\n",
    "  ggtitle('Most populous countries in Africa')"
   ]
  },
  {
   "cell_type": "markdown",
   "metadata": {},
   "source": [
    "Question: Can you guess what the output of the following commands will be?"
   ]
  },
  {
   "cell_type": "code",
   "execution_count": null,
   "metadata": {},
   "outputs": [],
   "source": [
    "ggplot(popn, aes(x=country, y=population)) +\n",
    "  geom_bar()"
   ]
  },
  {
   "cell_type": "code",
   "execution_count": null,
   "metadata": {},
   "outputs": [],
   "source": [
    "ggplot(popn, aes(x=country)) +\n",
    "  geom_bar()"
   ]
  },
  {
   "cell_type": "markdown",
   "metadata": {},
   "source": [
    "### The group aesthetic\n",
    "\n",
    "In the previous lecture, we used the following code to plot the proportions of each cut in the diamonds dataset."
   ]
  },
  {
   "cell_type": "code",
   "execution_count": null,
   "metadata": {},
   "outputs": [],
   "source": [
    "ggplot(data=dm, aes(x=cut)) + \n",
    "    geom_bar(aes(y=..count../sum(..count..)))"
   ]
  },
  {
   "cell_type": "markdown",
   "metadata": {},
   "source": [
    "Question: You might've noticed that `prop` is directly calculated by the `stat_count` function. So why can't we use the following code to directly plot the proportions?\n",
    "\n",
    "What would we have to add to fix it?"
   ]
  },
  {
   "cell_type": "code",
   "execution_count": null,
   "metadata": {},
   "outputs": [],
   "source": [
    "ggplot(data=dm, aes(x=cut)) + \n",
    "    geom_bar(aes(y=..prop..))"
   ]
  },
  {
   "cell_type": "code",
   "execution_count": null,
   "metadata": {},
   "outputs": [],
   "source": []
  },
  {
   "cell_type": "markdown",
   "metadata": {},
   "source": [
    "### Other summary stats\n",
    "\n",
    "You may want to apply your own stat functions to the data. For this, you can use `stat_summary()` to apply any summary function, including custom-made ones, to the data for each `x` value."
   ]
  },
  {
   "cell_type": "code",
   "execution_count": null,
   "metadata": {},
   "outputs": [],
   "source": [
    "ggplot(dm, aes(x=cut, y=price)) +\n",
    "    stat_summary(\n",
    "        fun.ymin=min,\n",
    "        fun.ymax=max,\n",
    "        fun.y=median\n",
    "    )"
   ]
  },
  {
   "cell_type": "code",
   "execution_count": null,
   "metadata": {},
   "outputs": [],
   "source": []
  },
  {
   "cell_type": "markdown",
   "metadata": {},
   "source": [
    "# dplyr for data manipulation"
   ]
  },
  {
   "cell_type": "code",
   "execution_count": null,
   "metadata": {},
   "outputs": [],
   "source": [
    "dim(dm)\n",
    "head(dm)"
   ]
  },
  {
   "cell_type": "markdown",
   "metadata": {},
   "source": [
    "There are five main functions we will focus on in `dplyr`: `filter`, `arrange`, `select`, `mutate` and `summarize`. all of them have the following properties:\n",
    "1. The first argument is a dataframe.\n",
    "2. The subsequent arguments describe what to do with the data, using the variable names in the dataframe.\n",
    "3. The result is a new data frame.\n",
    "\n",
    "Note that the documentation for these functions can be found at https://dplyr.tidyverse.org/reference/."
   ]
  },
  {
   "cell_type": "markdown",
   "metadata": {},
   "source": [
    "## Filter\n",
    "\n",
    "Used if you want to view or store a new dataset containing a subset of the rows of a dataset according to some condition."
   ]
  },
  {
   "cell_type": "code",
   "execution_count": null,
   "metadata": {},
   "outputs": [],
   "source": [
    "filter(dm, cut == 'Fair', color == 'J')"
   ]
  },
  {
   "cell_type": "markdown",
   "metadata": {},
   "source": [
    "Remember to assign the result to a variable name if you want to store the subset for later use.\n",
    "\n",
    "Also make sure to use `==` instead of `=` inside the `filter` function. The former is to test equality while the latter is for assignments."
   ]
  },
  {
   "cell_type": "code",
   "execution_count": null,
   "metadata": {},
   "outputs": [],
   "source": [
    "worst_diamonds = filter(dm, cut == 'Fair', color == 'J')\n",
    "worst_diamonds"
   ]
  },
  {
   "cell_type": "code",
   "execution_count": null,
   "metadata": {},
   "outputs": [],
   "source": [
    "## filtering for rows that satisfy one or both of the conditions\n",
    "a = filter(dm, color == 'D' | color == 'J') \n",
    "\n",
    "## filtering for rows that satisfy both conditions\n",
    "b = filter(dm, color == 'D' & cut == 'Ideal') \n",
    "# b = filter(dm, color == 'D', cut == 'Ideal') \n",
    "\n",
    "## filtering for rows that satisfy exactly one condition\n",
    "c = filter(dm, xor(color == 'D', cut == 'Ideal')) \n",
    "\n",
    "## filtering using membership condition\n",
    "best_cuts = filter(dm, !(cut %in% c('Premium', 'Ideal'))) \n",
    "\n",
    "## can do this because cut is an ordinal variable\n",
    "is.ordered(dm$cut)\n",
    "levels(dm$cut)\n",
    "good_or_better_cuts = filter(dm, cut > 'Good') "
   ]
  },
  {
   "cell_type": "markdown",
   "metadata": {},
   "source": [
    "Note: `NA` is generally used to denote missing values in R. Never check for missing values using `variable == NA` or `variable != NA`. Instead, use the `is.na` function. So use `is.na(variable)` or `!is.na(variable)`."
   ]
  },
  {
   "cell_type": "code",
   "execution_count": null,
   "metadata": {},
   "outputs": [],
   "source": [
    "df = tibble(x = c(1, NA, 3, NA, 5), y=c('a', 'b', 'c', 'd', 'e'))\n",
    "df"
   ]
  },
  {
   "cell_type": "code",
   "execution_count": null,
   "metadata": {},
   "outputs": [],
   "source": [
    "filter(df, is.na(x))"
   ]
  },
  {
   "cell_type": "code",
   "execution_count": null,
   "metadata": {},
   "outputs": [],
   "source": [
    "filter(df, !is.na(x))"
   ]
  },
  {
   "cell_type": "code",
   "execution_count": null,
   "metadata": {},
   "outputs": [],
   "source": []
  },
  {
   "cell_type": "markdown",
   "metadata": {},
   "source": [
    "## Arrange\n",
    "\n",
    "Used to reorder rows."
   ]
  },
  {
   "cell_type": "code",
   "execution_count": null,
   "metadata": {},
   "outputs": [],
   "source": [
    "dm_order = arrange(dm, cut, carat)\n",
    "head(dm_order, 10)"
   ]
  },
  {
   "cell_type": "code",
   "execution_count": null,
   "metadata": {},
   "outputs": [],
   "source": [
    "dm_order2 = arrange(dm, desc(cut), desc(carat))\n",
    "head(dm_order2, 10)"
   ]
  },
  {
   "cell_type": "markdown",
   "metadata": {},
   "source": [
    "Note that missing values are always sorted to the end, regardless of desired order"
   ]
  },
  {
   "cell_type": "code",
   "execution_count": null,
   "metadata": {},
   "outputs": [],
   "source": [
    "arrange(df, x)"
   ]
  },
  {
   "cell_type": "code",
   "execution_count": null,
   "metadata": {},
   "outputs": [],
   "source": [
    "arrange(df, desc(x))"
   ]
  },
  {
   "cell_type": "code",
   "execution_count": null,
   "metadata": {},
   "outputs": [],
   "source": []
  },
  {
   "cell_type": "markdown",
   "metadata": {},
   "source": [
    "## Select\n",
    "This is used to select certain columns out of a dataset."
   ]
  },
  {
   "cell_type": "code",
   "execution_count": null,
   "metadata": {},
   "outputs": [],
   "source": [
    "names(dm)"
   ]
  },
  {
   "cell_type": "code",
   "execution_count": null,
   "metadata": {},
   "outputs": [],
   "source": [
    "dm2 = select(dm, carat, price)\n",
    "head(dm2)"
   ]
  },
  {
   "cell_type": "code",
   "execution_count": null,
   "metadata": {},
   "outputs": [],
   "source": [
    "dm3 = select(dm, color:price)\n",
    "head(dm3)"
   ]
  },
  {
   "cell_type": "code",
   "execution_count": null,
   "metadata": {},
   "outputs": [],
   "source": [
    "select(dm, -(color:price))[1:3,]"
   ]
  },
  {
   "cell_type": "code",
   "execution_count": null,
   "metadata": {},
   "outputs": [],
   "source": [
    "select(dm, starts_with('c'))[1:3,]"
   ]
  },
  {
   "cell_type": "code",
   "execution_count": null,
   "metadata": {},
   "outputs": [],
   "source": [
    "select(dm, contains('co'))[1:3,]"
   ]
  },
  {
   "cell_type": "markdown",
   "metadata": {},
   "source": [
    "Use `rename()`, which is a variant of `select()`, to rename a column and keep all the variables that aren't explicitly mentioned:"
   ]
  },
  {
   "cell_type": "code",
   "execution_count": null,
   "metadata": {},
   "outputs": [],
   "source": [
    "rename(dm, width=x)[1:3,]"
   ]
  },
  {
   "cell_type": "code",
   "execution_count": null,
   "metadata": {},
   "outputs": [],
   "source": [
    "select(dm, width=x)[1:3,]"
   ]
  },
  {
   "cell_type": "markdown",
   "metadata": {},
   "source": [
    "The `everything()` helper function is often useful if you want to keep all the variables while making changes to some. For instance, if you want to move variables around."
   ]
  },
  {
   "cell_type": "code",
   "execution_count": null,
   "metadata": {},
   "outputs": [],
   "source": [
    "select(dm,  everything(), width=x)[1:3,]"
   ]
  },
  {
   "cell_type": "code",
   "execution_count": null,
   "metadata": {},
   "outputs": [],
   "source": [
    "select(dm, price, carat, everything())[1:3,]"
   ]
  },
  {
   "cell_type": "code",
   "execution_count": null,
   "metadata": {},
   "outputs": [],
   "source": []
  },
  {
   "cell_type": "markdown",
   "metadata": {},
   "source": [
    "\n",
    "### Mutate\n",
    "\n",
    "Create a new column or change an existing column."
   ]
  },
  {
   "cell_type": "code",
   "execution_count": null,
   "metadata": {},
   "outputs": [],
   "source": [
    "dm_dim = select(dm, -(carat:price))\n",
    "head(dm_dim)"
   ]
  },
  {
   "cell_type": "code",
   "execution_count": null,
   "metadata": {},
   "outputs": [],
   "source": [
    "mutate(dm_dim, volume = x*y*z)[1:3,]"
   ]
  },
  {
   "cell_type": "markdown",
   "metadata": {},
   "source": [
    "If you only want to keep the new variables, use `transmute()`."
   ]
  },
  {
   "cell_type": "code",
   "execution_count": null,
   "metadata": {},
   "outputs": [],
   "source": [
    "transmute(dm_dim, volume = x*y*z)[1:3,]"
   ]
  },
  {
   "cell_type": "code",
   "execution_count": null,
   "metadata": {},
   "outputs": [],
   "source": [
    "mutate(dm_dim, z = x+y)[1:3,]"
   ]
  },
  {
   "cell_type": "code",
   "execution_count": null,
   "metadata": {},
   "outputs": [],
   "source": []
  },
  {
   "cell_type": "markdown",
   "metadata": {},
   "source": [
    "## Summarize\n",
    "\n",
    "Calculates summary statistics. Generally used with the `group_by()` function to output summaries by group."
   ]
  },
  {
   "cell_type": "code",
   "execution_count": null,
   "metadata": {},
   "outputs": [],
   "source": [
    "dm_by_color = group_by(dm, color)"
   ]
  },
  {
   "cell_type": "code",
   "execution_count": null,
   "metadata": {},
   "outputs": [],
   "source": [
    "head(dm_by_color)\n",
    "group_vars(dm_by_color)"
   ]
  },
  {
   "cell_type": "code",
   "execution_count": null,
   "metadata": {},
   "outputs": [],
   "source": [
    "summarize(dm_by_color, avg_price=mean(price, na.rm=TRUE))"
   ]
  },
  {
   "cell_type": "code",
   "execution_count": null,
   "metadata": {},
   "outputs": [],
   "source": []
  },
  {
   "cell_type": "code",
   "execution_count": null,
   "metadata": {},
   "outputs": [],
   "source": [
    "head(mpg)"
   ]
  },
  {
   "cell_type": "code",
   "execution_count": null,
   "metadata": {},
   "outputs": [],
   "source": [
    "mpg2 = mutate(mpg, year=factor(year))\n",
    "\n",
    "mpg2 = mutate(mpg2, manual=(str_detect(trans, 'manual')))\n",
    "\n",
    "head(mpg2)"
   ]
  },
  {
   "cell_type": "code",
   "execution_count": null,
   "metadata": {},
   "outputs": [],
   "source": [
    "mpg2_by_maker_yr = group_by(mpg2, manufacturer, year)\n",
    "hwy_summary = summarize(mpg2_by_maker_yr,\n",
    "                        count = n(),\n",
    "                        hwy = mean(hwy, na.rm=TRUE),\n",
    "                        cty = mean(cty, na.rm=TRUE))\n",
    "head(hwy_summary)"
   ]
  },
  {
   "cell_type": "code",
   "execution_count": null,
   "metadata": {},
   "outputs": [],
   "source": [
    "print(group_vars(mpg2_by_maker_yr))\n",
    "print(group_vars(hwy_summary))"
   ]
  },
  {
   "cell_type": "code",
   "execution_count": null,
   "metadata": {},
   "outputs": [],
   "source": [
    "hwy_summary_af = filter(hwy_summary, str_detect(manufacturer, '^[a-f]'))\n",
    "\n",
    "ggplot(hwy_summary_af, aes(x=cty, y=hwy, color=manufacturer, shape=year)) + \n",
    "    geom_point(size=3)"
   ]
  },
  {
   "cell_type": "code",
   "execution_count": null,
   "metadata": {},
   "outputs": [],
   "source": []
  },
  {
   "cell_type": "markdown",
   "metadata": {},
   "source": [
    "## Pipes\n",
    "`tidyverse` provides shortcuts for performing multiple operators on a dataset in the form of pipes. This can be used with any of the dataset functions we have learned today, where the syntax is:"
   ]
  },
  {
   "cell_type": "raw",
   "metadata": {},
   "source": [
    "filter(data, ...)\n",
    "\n",
    "data %>% filter(...)"
   ]
  },
  {
   "cell_type": "code",
   "execution_count": null,
   "metadata": {},
   "outputs": [],
   "source": [
    "mpg2_by_maker_yr = group_by(mpg2, manufacturer, year)\n",
    "hwy_summary = summarize(mpg2_by_maker_yr,\n",
    "                        count = n(),\n",
    "                        hwy = mean(hwy, na.rm=TRUE),\n",
    "                        cty = mean(cty, na.rm=TRUE))\n",
    "hwy_summary_af = filter(hwy_summary, str_detect(manufacturer, '^[a-f]'))\n",
    "\n",
    "\n",
    "hwy_summary_af2 = mpg2 %>% \n",
    "    group_by(manufacturer, year) %>%\n",
    "    summarize(\n",
    "        count = n(),\n",
    "        hwy = mean(hwy, na.rm=TRUE),\n",
    "        cty = mean(cty, na.rm=TRUE)) %>%\n",
    "    filter(str_detect(manufacturer, '^[a-f]'))"
   ]
  },
  {
   "cell_type": "code",
   "execution_count": null,
   "metadata": {},
   "outputs": [],
   "source": [
    "hwy_summary_af\n",
    "hwy_summary_af2"
   ]
  },
  {
   "cell_type": "code",
   "execution_count": null,
   "metadata": {},
   "outputs": [],
   "source": []
  },
  {
   "cell_type": "code",
   "execution_count": null,
   "metadata": {},
   "outputs": [],
   "source": []
  },
  {
   "cell_type": "markdown",
   "metadata": {},
   "source": [
    "### Exercise 1\n",
    "What is the default geom associated with `stat_summary()`? Can you modify the below code to make a line plot of the median `hwy` by `cyl` (just plot the line through the medians)? Note that you can remove the `fun.ymax` and `fun.ymin` arguments.\n"
   ]
  },
  {
   "cell_type": "code",
   "execution_count": null,
   "metadata": {},
   "outputs": [],
   "source": [
    "ggplot(mpg, aes(x=cyl, y=hwy)) +\n",
    "    stat_summary(\n",
    "        fun.ymin=min,\n",
    "        fun.ymax=max,\n",
    "        fun.y=median\n",
    "    )"
   ]
  },
  {
   "cell_type": "code",
   "execution_count": null,
   "metadata": {},
   "outputs": [],
   "source": []
  },
  {
   "cell_type": "markdown",
   "metadata": {},
   "source": [
    "### Exercise 2\n",
    "\n",
    "Using the dataset `dm`:\n",
    "1. Use `filter` to output diamonds with combined `x` and `y` values greater than 17.\n",
    "2. Use `filter` and `nrow` to count the number of diamonds that sold for an even price. "
   ]
  },
  {
   "cell_type": "code",
   "execution_count": null,
   "metadata": {},
   "outputs": [],
   "source": []
  },
  {
   "cell_type": "code",
   "execution_count": null,
   "metadata": {},
   "outputs": [],
   "source": []
  },
  {
   "cell_type": "markdown",
   "metadata": {},
   "source": [
    "### Exercise 3\n",
    "Add a new column to `dm` that converts the US dollar prices in `price` to Korean Won and rounds to the nearest thousand. Today's exchange rate is 1 USD = 1,195.33 WON. If you don't know how to round numbers in R, try searching the internet for what function to use and its documentation."
   ]
  },
  {
   "cell_type": "code",
   "execution_count": null,
   "metadata": {},
   "outputs": [],
   "source": []
  },
  {
   "cell_type": "markdown",
   "metadata": {},
   "source": [
    "### Exercise 4\n",
    "\n",
    "Using the dataset `dm` and pipes, create a dataset of the mean price by color for diamonds with `Ideal` cuts and carats greater than or equal to 1. Round the price to the nearest dollar."
   ]
  },
  {
   "cell_type": "code",
   "execution_count": null,
   "metadata": {},
   "outputs": [],
   "source": []
  },
  {
   "cell_type": "markdown",
   "metadata": {},
   "source": [
    "### Exercise 5\n",
    "\n",
    "When used on a grouped dataset, expressions within the mutate and filter commands are computed by group. Use this knowledge and the dataset `dm` to solve the following problem.\n",
    "\n",
    "Only consider `subcompact` cars. Find which manufacturers had a car model/variant with a city mileage (`cty`) greater than one standard deviation over the average city mileage for that year. "
   ]
  },
  {
   "cell_type": "code",
   "execution_count": null,
   "metadata": {},
   "outputs": [],
   "source": []
  },
  {
   "cell_type": "code",
   "execution_count": null,
   "metadata": {},
   "outputs": [],
   "source": []
  },
  {
   "cell_type": "code",
   "execution_count": null,
   "metadata": {},
   "outputs": [],
   "source": []
  }
 ],
 "metadata": {
  "kernelspec": {
   "display_name": "R",
   "language": "R",
   "name": "ir"
  },
  "language_info": {
   "codemirror_mode": "r",
   "file_extension": ".r",
   "mimetype": "text/x-r-source",
   "name": "R",
   "pygments_lexer": "r",
   "version": "3.6.0"
  }
 },
 "nbformat": 4,
 "nbformat_minor": 2
}
