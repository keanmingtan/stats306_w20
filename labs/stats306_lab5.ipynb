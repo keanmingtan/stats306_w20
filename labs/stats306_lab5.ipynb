{
 "cells": [
  {
   "cell_type": "markdown",
   "metadata": {},
   "source": [
    "# Lab 5 (2/10): Working with data\n",
    "\n",
    "### Web pages\n",
    "Course page: https://ambujtewari.github.io/teaching/STATS306-Winter2020/\n",
    "\n",
    "Lab page: https://rogerfan.github.io/stats306_w20/\n",
    "\n",
    "### Office Hours\n",
    "    Mondays: 2-4pm, USB 2165\n",
    "    \n",
    "### Contact\n",
    "    Questions on problems: Use the slack discussions\n",
    "    If you need to email me, include in the subject line: [STATS 306]\n",
    "    Email: rogerfan@umich.edu"
   ]
  },
  {
   "cell_type": "markdown",
   "metadata": {},
   "source": [
    "Today, we will look at what people order at Chipotle. Some example questions we are interested in are:\n",
    "- How much do people spend on average at Chipotle?\n",
    "- Do people prefer bowls or burritos?\n",
    "- What percentage of people order drinks?\n"
   ]
  },
  {
   "cell_type": "markdown",
   "metadata": {},
   "source": [
    "Recall the following commands from `dplyr`:\n",
    "\n",
    "1. `group_by`\n",
    "2. `summarize`:  `df = df %>% group_by(groupvar) %>% summarize(newvar = mean(oldvar))`\n",
    "3. `mutate`: `df = df %>% mutate(newvar = oldvar + sqrt(oldvar2))`\n",
    "4. `filter`: `df = df %>% filter(compvar == 'something')`\n",
    "\n",
    "Some other functions that may come in handy are:\n",
    "\n",
    "1. `top_n` from `dplyr`\n",
    "2. `sum`, `max`, and `min` from base R\n"
   ]
  },
  {
   "cell_type": "code",
   "execution_count": null,
   "metadata": {},
   "outputs": [],
   "source": [
    "# Setup and read in data\n",
    "library(dplyr)\n",
    "library(ggplot2)\n",
    "library(stringr)\n",
    "df = read.csv(\"https://raw.githubusercontent.com/rogerfan/stats306_w20/master/labs/chipotle.csv\", stringsAsFactors=F)\n",
    "df$X = NULL"
   ]
  },
  {
   "cell_type": "code",
   "execution_count": 2,
   "metadata": {},
   "outputs": [
    {
     "data": {
      "text/html": [
       "<table>\n",
       "<caption>A data.frame: 6 × 5</caption>\n",
       "<thead>\n",
       "\t<tr><th></th><th scope=col>order_id</th><th scope=col>quantity</th><th scope=col>item_name</th><th scope=col>choice_description</th><th scope=col>item_price</th></tr>\n",
       "\t<tr><th></th><th scope=col>&lt;int&gt;</th><th scope=col>&lt;int&gt;</th><th scope=col>&lt;chr&gt;</th><th scope=col>&lt;chr&gt;</th><th scope=col>&lt;chr&gt;</th></tr>\n",
       "</thead>\n",
       "<tbody>\n",
       "\t<tr><th scope=row>1</th><td>1</td><td>1</td><td>Chips and Fresh Tomato Salsa         </td><td>                                                                           </td><td>$2.39  </td></tr>\n",
       "\t<tr><th scope=row>2</th><td>1</td><td>1</td><td>Izze                                 </td><td>[Clementine]                                                               </td><td>$3.39  </td></tr>\n",
       "\t<tr><th scope=row>3</th><td>1</td><td>1</td><td>Nantucket Nectar                     </td><td>[Apple]                                                                    </td><td>$3.39  </td></tr>\n",
       "\t<tr><th scope=row>4</th><td>1</td><td>1</td><td>Chips and Tomatillo-Green Chili Salsa</td><td>                                                                           </td><td>$2.39  </td></tr>\n",
       "\t<tr><th scope=row>5</th><td>2</td><td>2</td><td>Chicken Bowl                         </td><td>[Tomatillo-Red Chili Salsa (Hot), [Black Beans, Rice, Cheese, Sour Cream]] </td><td>$16.98 </td></tr>\n",
       "\t<tr><th scope=row>6</th><td>3</td><td>1</td><td>Chicken Bowl                         </td><td>[Fresh Tomato Salsa (Mild), [Rice, Cheese, Sour Cream, Guacamole, Lettuce]]</td><td>$10.98 </td></tr>\n",
       "</tbody>\n",
       "</table>\n"
      ],
      "text/latex": [
       "A data.frame: 6 × 5\n",
       "\\begin{tabular}{r|lllll}\n",
       "  & order\\_id & quantity & item\\_name & choice\\_description & item\\_price\\\\\n",
       "  & <int> & <int> & <chr> & <chr> & <chr>\\\\\n",
       "\\hline\n",
       "\t1 & 1 & 1 & Chips and Fresh Tomato Salsa          &                                                                             & \\$2.39  \\\\\n",
       "\t2 & 1 & 1 & Izze                                  & {[}Clementine{]}                                                                & \\$3.39  \\\\\n",
       "\t3 & 1 & 1 & Nantucket Nectar                      & {[}Apple{]}                                                                     & \\$3.39  \\\\\n",
       "\t4 & 1 & 1 & Chips and Tomatillo-Green Chili Salsa &                                                                             & \\$2.39  \\\\\n",
       "\t5 & 2 & 2 & Chicken Bowl                          & {[}Tomatillo-Red Chili Salsa (Hot), {[}Black Beans, Rice, Cheese, Sour Cream{]}{]}  & \\$16.98 \\\\\n",
       "\t6 & 3 & 1 & Chicken Bowl                          & {[}Fresh Tomato Salsa (Mild), {[}Rice, Cheese, Sour Cream, Guacamole, Lettuce{]}{]} & \\$10.98 \\\\\n",
       "\\end{tabular}\n"
      ],
      "text/markdown": [
       "\n",
       "A data.frame: 6 × 5\n",
       "\n",
       "| <!--/--> | order_id &lt;int&gt; | quantity &lt;int&gt; | item_name &lt;chr&gt; | choice_description &lt;chr&gt; | item_price &lt;chr&gt; |\n",
       "|---|---|---|---|---|---|\n",
       "| 1 | 1 | 1 | Chips and Fresh Tomato Salsa          | <!----> | $2.39   |\n",
       "| 2 | 1 | 1 | Izze                                  | [Clementine]                                                                | $3.39   |\n",
       "| 3 | 1 | 1 | Nantucket Nectar                      | [Apple]                                                                     | $3.39   |\n",
       "| 4 | 1 | 1 | Chips and Tomatillo-Green Chili Salsa | <!----> | $2.39   |\n",
       "| 5 | 2 | 2 | Chicken Bowl                          | [Tomatillo-Red Chili Salsa (Hot), [Black Beans, Rice, Cheese, Sour Cream]]  | $16.98  |\n",
       "| 6 | 3 | 1 | Chicken Bowl                          | [Fresh Tomato Salsa (Mild), [Rice, Cheese, Sour Cream, Guacamole, Lettuce]] | $10.98  |\n",
       "\n"
      ],
      "text/plain": [
       "  order_id quantity item_name                            \n",
       "1 1        1        Chips and Fresh Tomato Salsa         \n",
       "2 1        1        Izze                                 \n",
       "3 1        1        Nantucket Nectar                     \n",
       "4 1        1        Chips and Tomatillo-Green Chili Salsa\n",
       "5 2        2        Chicken Bowl                         \n",
       "6 3        1        Chicken Bowl                         \n",
       "  choice_description                                                         \n",
       "1                                                                            \n",
       "2 [Clementine]                                                               \n",
       "3 [Apple]                                                                    \n",
       "4                                                                            \n",
       "5 [Tomatillo-Red Chili Salsa (Hot), [Black Beans, Rice, Cheese, Sour Cream]] \n",
       "6 [Fresh Tomato Salsa (Mild), [Rice, Cheese, Sour Cream, Guacamole, Lettuce]]\n",
       "  item_price\n",
       "1 $2.39     \n",
       "2 $3.39     \n",
       "3 $3.39     \n",
       "4 $2.39     \n",
       "5 $16.98    \n",
       "6 $10.98    "
      ]
     },
     "metadata": {},
     "output_type": "display_data"
    }
   ],
   "source": [
    "head(df)"
   ]
  },
  {
   "cell_type": "markdown",
   "metadata": {},
   "source": [
    "### Q1: What are the five most popular items?"
   ]
  },
  {
   "cell_type": "code",
   "execution_count": null,
   "metadata": {},
   "outputs": [],
   "source": [
    "\n"
   ]
  },
  {
   "cell_type": "markdown",
   "metadata": {},
   "source": [
    "### Q2: `item_price` is currently a string. Remove the dollar sign and convert it to a numerical variable\n",
    "\n",
    "Save this new dataset as `df_clean`.\n",
    "\n",
    "Hint: Consider the functions `str_replace` and `as.numeric`. Note that to replace dollar signs in the string you will need to use `'\\\\$'` in `str_replace`."
   ]
  },
  {
   "cell_type": "code",
   "execution_count": null,
   "metadata": {},
   "outputs": [],
   "source": [
    "\n"
   ]
  },
  {
   "cell_type": "markdown",
   "metadata": {},
   "source": [
    "### Q3: Construct a summary table by item type\n",
    "\n",
    "For each item type, the table should contain the total revenue, the number of items sold, and the max, mean, and minimum prices. Sort the table by items sold in decreasing order.\n",
    "\n",
    "I have done this for you, and my solution is:"
   ]
  },
  {
   "cell_type": "code",
   "execution_count": null,
   "metadata": {},
   "outputs": [],
   "source": [
    "pricetable = df_clean %>% group_by(item_name) %>% \n",
    "    summarize(revenue = sum(item_price), \n",
    "              itemsold = n(),\n",
    "              meanprice = mean(item_price),\n",
    "              maxprice = max(item_price),                       \n",
    "              minprice = min(item_price)) %>% \n",
    "    arrange(desc(itemsold))\n",
    "head(pricetable)"
   ]
  },
  {
   "cell_type": "markdown",
   "metadata": {},
   "source": [
    "Does anything look strange about this summary? Which number seems out-of-place?"
   ]
  },
  {
   "cell_type": "markdown",
   "metadata": {},
   "source": [
    "### Q4: What is the issue? Can you figure out the mistake in the code above?\n",
    "\n",
    "Hint: Think about how you might find some of the problematic rows and look at them closely."
   ]
  },
  {
   "cell_type": "code",
   "execution_count": null,
   "metadata": {},
   "outputs": [],
   "source": []
  },
  {
   "cell_type": "markdown",
   "metadata": {},
   "source": [
    "### How would you fix the code in Q3?"
   ]
  },
  {
   "cell_type": "code",
   "execution_count": null,
   "metadata": {},
   "outputs": [],
   "source": [
    "\n",
    "\n"
   ]
  },
  {
   "cell_type": "markdown",
   "metadata": {},
   "source": [
    "### Q4: Calculate the total price for each order. Plot a histogram of order prices.\n",
    "\n",
    "Save this new dataframe in the variable `totalprice`."
   ]
  },
  {
   "cell_type": "code",
   "execution_count": null,
   "metadata": {},
   "outputs": [],
   "source": [
    "\n"
   ]
  },
  {
   "cell_type": "code",
   "execution_count": null,
   "metadata": {},
   "outputs": [],
   "source": []
  },
  {
   "cell_type": "markdown",
   "metadata": {},
   "source": [
    "Note how extreme outliers can make it difficult to interpret plots."
   ]
  },
  {
   "cell_type": "markdown",
   "metadata": {},
   "source": [
    "### Q5: Change the data/plot in Q4 so that it only contains orders with prices below 40. Try different binwidths to see if your interpretations change."
   ]
  },
  {
   "cell_type": "code",
   "execution_count": null,
   "metadata": {},
   "outputs": [],
   "source": [
    "\n"
   ]
  },
  {
   "cell_type": "markdown",
   "metadata": {},
   "source": [
    "How do your spending habits at Chipotle compare to those who are in the dataset?"
   ]
  },
  {
   "cell_type": "markdown",
   "metadata": {},
   "source": [
    "### Q6: Are bowls, burritos, or tacos more popular? Create a bar plot of amount sold of each.\n",
    "\n",
    "To extract whether an item is a bowl, burrito, or taco, you can use the following code:"
   ]
  },
  {
   "cell_type": "code",
   "execution_count": null,
   "metadata": {},
   "outputs": [],
   "source": [
    "df_withtype = df_clean %>% \n",
    "    mutate(type = case_when(str_detect(item_name, \"Bowl\") ~ \"Bowl\",\n",
    "                            str_detect(item_name, \"Burrito\") ~ \"Burrito\",\n",
    "                            str_detect(item_name, \"Tacos\") ~ \"Tacos\",\n",
    "                            TRUE ~ \"neither\"))\n",
    "bowburtacotable = df_withtype %>% filter(type != \"neither\") \n",
    "head(bowburtacotable)"
   ]
  },
  {
   "cell_type": "markdown",
   "metadata": {},
   "source": [
    "Note the usage of the function `case_when` from tidyverse. Look up the documentation and make sure you understand how this function works."
   ]
  },
  {
   "cell_type": "code",
   "execution_count": null,
   "metadata": {},
   "outputs": [],
   "source": [
    "ggplot(bowburtacotable, aes(x=type)) + geom_bar(aes(weight=quantity))"
   ]
  },
  {
   "cell_type": "markdown",
   "metadata": {},
   "source": [
    "### What about the different fillings (Chicken, Steak, Barbacoa, Carnitas, Veggie)? Color the above bar chart by type of filling.\n",
    "\n",
    "Note that you will have to do some additional data transformation using the intermediate dataset `df_withtype`."
   ]
  },
  {
   "cell_type": "code",
   "execution_count": null,
   "metadata": {},
   "outputs": [],
   "source": [
    "\n",
    "\n"
   ]
  },
  {
   "cell_type": "code",
   "execution_count": null,
   "metadata": {},
   "outputs": [],
   "source": [
    "\n"
   ]
  },
  {
   "cell_type": "markdown",
   "metadata": {},
   "source": [
    "### Is there a modification you can make to the default bar chart to better compare how the proportion of fillings differs across order types more easily?"
   ]
  },
  {
   "cell_type": "code",
   "execution_count": null,
   "metadata": {},
   "outputs": [],
   "source": [
    "\n"
   ]
  },
  {
   "cell_type": "markdown",
   "metadata": {},
   "source": [
    "### Q7: How many orders contain at least one drink of any kind? How many don't have a drink?\n",
    "\n",
    "To detect multiple things in `str_detect`, you can separate the items with pipes `|`. For example:"
   ]
  },
  {
   "cell_type": "code",
   "execution_count": null,
   "metadata": {},
   "outputs": [],
   "source": [
    "str_detect('I play football.', 'football|soccer')\n",
    "str_detect('I play soccer.', 'football|soccer')\n",
    "str_detect('I play baseball.', 'football|soccer')"
   ]
  },
  {
   "cell_type": "code",
   "execution_count": 5,
   "metadata": {},
   "outputs": [
    {
     "data": {
      "text/html": [
       "<ol class=list-inline>\n",
       "\t<li>'Chips and Fresh Tomato Salsa'</li>\n",
       "\t<li>'Izze'</li>\n",
       "\t<li>'Nantucket Nectar'</li>\n",
       "\t<li>'Chips and Tomatillo-Green Chili Salsa'</li>\n",
       "\t<li>'Chicken Bowl'</li>\n",
       "\t<li>'Side of Chips'</li>\n",
       "\t<li>'Steak Burrito'</li>\n",
       "\t<li>'Steak Soft Tacos'</li>\n",
       "\t<li>'Chips and Guacamole'</li>\n",
       "\t<li>'Chicken Crispy Tacos'</li>\n",
       "\t<li>'Chicken Soft Tacos'</li>\n",
       "\t<li>'Chicken Burrito'</li>\n",
       "\t<li>'Canned Soda'</li>\n",
       "\t<li>'Barbacoa Burrito'</li>\n",
       "\t<li>'Carnitas Burrito'</li>\n",
       "\t<li>'Carnitas Bowl'</li>\n",
       "\t<li>'Bottled Water'</li>\n",
       "\t<li>'Chips and Tomatillo Green Chili Salsa'</li>\n",
       "\t<li>'Barbacoa Bowl'</li>\n",
       "\t<li>'Chips'</li>\n",
       "\t<li>'Chicken Salad Bowl'</li>\n",
       "\t<li>'Steak Bowl'</li>\n",
       "\t<li>'Barbacoa Soft Tacos'</li>\n",
       "\t<li>'Veggie Burrito'</li>\n",
       "\t<li>'Veggie Bowl'</li>\n",
       "\t<li>'Steak Crispy Tacos'</li>\n",
       "\t<li>'Chips and Tomatillo Red Chili Salsa'</li>\n",
       "\t<li>'Barbacoa Crispy Tacos'</li>\n",
       "\t<li>'Veggie Salad Bowl'</li>\n",
       "\t<li>'Chips and Roasted Chili-Corn Salsa'</li>\n",
       "\t<li>'Chips and Roasted Chili Corn Salsa'</li>\n",
       "\t<li>'Carnitas Soft Tacos'</li>\n",
       "\t<li>'Chicken Salad'</li>\n",
       "\t<li>'Canned Soft Drink'</li>\n",
       "\t<li>'Steak Salad Bowl'</li>\n",
       "\t<li>'6 Pack Soft Drink'</li>\n",
       "\t<li>'Chips and Tomatillo-Red Chili Salsa'</li>\n",
       "\t<li>'Bowl'</li>\n",
       "\t<li>'Burrito'</li>\n",
       "\t<li>'Crispy Tacos'</li>\n",
       "\t<li>'Carnitas Crispy Tacos'</li>\n",
       "\t<li>'Steak Salad'</li>\n",
       "\t<li>'Chips and Mild Fresh Tomato Salsa'</li>\n",
       "\t<li>'Veggie Soft Tacos'</li>\n",
       "\t<li>'Carnitas Salad Bowl'</li>\n",
       "\t<li>'Barbacoa Salad Bowl'</li>\n",
       "\t<li>'Salad'</li>\n",
       "\t<li>'Veggie Crispy Tacos'</li>\n",
       "\t<li>'Veggie Salad'</li>\n",
       "\t<li>'Carnitas Salad'</li>\n",
       "</ol>\n"
      ],
      "text/latex": [
       "\\begin{enumerate*}\n",
       "\\item 'Chips and Fresh Tomato Salsa'\n",
       "\\item 'Izze'\n",
       "\\item 'Nantucket Nectar'\n",
       "\\item 'Chips and Tomatillo-Green Chili Salsa'\n",
       "\\item 'Chicken Bowl'\n",
       "\\item 'Side of Chips'\n",
       "\\item 'Steak Burrito'\n",
       "\\item 'Steak Soft Tacos'\n",
       "\\item 'Chips and Guacamole'\n",
       "\\item 'Chicken Crispy Tacos'\n",
       "\\item 'Chicken Soft Tacos'\n",
       "\\item 'Chicken Burrito'\n",
       "\\item 'Canned Soda'\n",
       "\\item 'Barbacoa Burrito'\n",
       "\\item 'Carnitas Burrito'\n",
       "\\item 'Carnitas Bowl'\n",
       "\\item 'Bottled Water'\n",
       "\\item 'Chips and Tomatillo Green Chili Salsa'\n",
       "\\item 'Barbacoa Bowl'\n",
       "\\item 'Chips'\n",
       "\\item 'Chicken Salad Bowl'\n",
       "\\item 'Steak Bowl'\n",
       "\\item 'Barbacoa Soft Tacos'\n",
       "\\item 'Veggie Burrito'\n",
       "\\item 'Veggie Bowl'\n",
       "\\item 'Steak Crispy Tacos'\n",
       "\\item 'Chips and Tomatillo Red Chili Salsa'\n",
       "\\item 'Barbacoa Crispy Tacos'\n",
       "\\item 'Veggie Salad Bowl'\n",
       "\\item 'Chips and Roasted Chili-Corn Salsa'\n",
       "\\item 'Chips and Roasted Chili Corn Salsa'\n",
       "\\item 'Carnitas Soft Tacos'\n",
       "\\item 'Chicken Salad'\n",
       "\\item 'Canned Soft Drink'\n",
       "\\item 'Steak Salad Bowl'\n",
       "\\item '6 Pack Soft Drink'\n",
       "\\item 'Chips and Tomatillo-Red Chili Salsa'\n",
       "\\item 'Bowl'\n",
       "\\item 'Burrito'\n",
       "\\item 'Crispy Tacos'\n",
       "\\item 'Carnitas Crispy Tacos'\n",
       "\\item 'Steak Salad'\n",
       "\\item 'Chips and Mild Fresh Tomato Salsa'\n",
       "\\item 'Veggie Soft Tacos'\n",
       "\\item 'Carnitas Salad Bowl'\n",
       "\\item 'Barbacoa Salad Bowl'\n",
       "\\item 'Salad'\n",
       "\\item 'Veggie Crispy Tacos'\n",
       "\\item 'Veggie Salad'\n",
       "\\item 'Carnitas Salad'\n",
       "\\end{enumerate*}\n"
      ],
      "text/markdown": [
       "1. 'Chips and Fresh Tomato Salsa'\n",
       "2. 'Izze'\n",
       "3. 'Nantucket Nectar'\n",
       "4. 'Chips and Tomatillo-Green Chili Salsa'\n",
       "5. 'Chicken Bowl'\n",
       "6. 'Side of Chips'\n",
       "7. 'Steak Burrito'\n",
       "8. 'Steak Soft Tacos'\n",
       "9. 'Chips and Guacamole'\n",
       "10. 'Chicken Crispy Tacos'\n",
       "11. 'Chicken Soft Tacos'\n",
       "12. 'Chicken Burrito'\n",
       "13. 'Canned Soda'\n",
       "14. 'Barbacoa Burrito'\n",
       "15. 'Carnitas Burrito'\n",
       "16. 'Carnitas Bowl'\n",
       "17. 'Bottled Water'\n",
       "18. 'Chips and Tomatillo Green Chili Salsa'\n",
       "19. 'Barbacoa Bowl'\n",
       "20. 'Chips'\n",
       "21. 'Chicken Salad Bowl'\n",
       "22. 'Steak Bowl'\n",
       "23. 'Barbacoa Soft Tacos'\n",
       "24. 'Veggie Burrito'\n",
       "25. 'Veggie Bowl'\n",
       "26. 'Steak Crispy Tacos'\n",
       "27. 'Chips and Tomatillo Red Chili Salsa'\n",
       "28. 'Barbacoa Crispy Tacos'\n",
       "29. 'Veggie Salad Bowl'\n",
       "30. 'Chips and Roasted Chili-Corn Salsa'\n",
       "31. 'Chips and Roasted Chili Corn Salsa'\n",
       "32. 'Carnitas Soft Tacos'\n",
       "33. 'Chicken Salad'\n",
       "34. 'Canned Soft Drink'\n",
       "35. 'Steak Salad Bowl'\n",
       "36. '6 Pack Soft Drink'\n",
       "37. 'Chips and Tomatillo-Red Chili Salsa'\n",
       "38. 'Bowl'\n",
       "39. 'Burrito'\n",
       "40. 'Crispy Tacos'\n",
       "41. 'Carnitas Crispy Tacos'\n",
       "42. 'Steak Salad'\n",
       "43. 'Chips and Mild Fresh Tomato Salsa'\n",
       "44. 'Veggie Soft Tacos'\n",
       "45. 'Carnitas Salad Bowl'\n",
       "46. 'Barbacoa Salad Bowl'\n",
       "47. 'Salad'\n",
       "48. 'Veggie Crispy Tacos'\n",
       "49. 'Veggie Salad'\n",
       "50. 'Carnitas Salad'\n",
       "\n",
       "\n"
      ],
      "text/plain": [
       " [1] \"Chips and Fresh Tomato Salsa\"         \n",
       " [2] \"Izze\"                                 \n",
       " [3] \"Nantucket Nectar\"                     \n",
       " [4] \"Chips and Tomatillo-Green Chili Salsa\"\n",
       " [5] \"Chicken Bowl\"                         \n",
       " [6] \"Side of Chips\"                        \n",
       " [7] \"Steak Burrito\"                        \n",
       " [8] \"Steak Soft Tacos\"                     \n",
       " [9] \"Chips and Guacamole\"                  \n",
       "[10] \"Chicken Crispy Tacos\"                 \n",
       "[11] \"Chicken Soft Tacos\"                   \n",
       "[12] \"Chicken Burrito\"                      \n",
       "[13] \"Canned Soda\"                          \n",
       "[14] \"Barbacoa Burrito\"                     \n",
       "[15] \"Carnitas Burrito\"                     \n",
       "[16] \"Carnitas Bowl\"                        \n",
       "[17] \"Bottled Water\"                        \n",
       "[18] \"Chips and Tomatillo Green Chili Salsa\"\n",
       "[19] \"Barbacoa Bowl\"                        \n",
       "[20] \"Chips\"                                \n",
       "[21] \"Chicken Salad Bowl\"                   \n",
       "[22] \"Steak Bowl\"                           \n",
       "[23] \"Barbacoa Soft Tacos\"                  \n",
       "[24] \"Veggie Burrito\"                       \n",
       "[25] \"Veggie Bowl\"                          \n",
       "[26] \"Steak Crispy Tacos\"                   \n",
       "[27] \"Chips and Tomatillo Red Chili Salsa\"  \n",
       "[28] \"Barbacoa Crispy Tacos\"                \n",
       "[29] \"Veggie Salad Bowl\"                    \n",
       "[30] \"Chips and Roasted Chili-Corn Salsa\"   \n",
       "[31] \"Chips and Roasted Chili Corn Salsa\"   \n",
       "[32] \"Carnitas Soft Tacos\"                  \n",
       "[33] \"Chicken Salad\"                        \n",
       "[34] \"Canned Soft Drink\"                    \n",
       "[35] \"Steak Salad Bowl\"                     \n",
       "[36] \"6 Pack Soft Drink\"                    \n",
       "[37] \"Chips and Tomatillo-Red Chili Salsa\"  \n",
       "[38] \"Bowl\"                                 \n",
       "[39] \"Burrito\"                              \n",
       "[40] \"Crispy Tacos\"                         \n",
       "[41] \"Carnitas Crispy Tacos\"                \n",
       "[42] \"Steak Salad\"                          \n",
       "[43] \"Chips and Mild Fresh Tomato Salsa\"    \n",
       "[44] \"Veggie Soft Tacos\"                    \n",
       "[45] \"Carnitas Salad Bowl\"                  \n",
       "[46] \"Barbacoa Salad Bowl\"                  \n",
       "[47] \"Salad\"                                \n",
       "[48] \"Veggie Crispy Tacos\"                  \n",
       "[49] \"Veggie Salad\"                         \n",
       "[50] \"Carnitas Salad\"                       "
      ]
     },
     "metadata": {},
     "output_type": "display_data"
    }
   ],
   "source": [
    "unique(df$item_name)"
   ]
  },
  {
   "cell_type": "code",
   "execution_count": null,
   "metadata": {},
   "outputs": [],
   "source": [
    "\n",
    "\n"
   ]
  },
  {
   "cell_type": "markdown",
   "metadata": {},
   "source": [
    "### Bonus Question: Suppose non-drink items have a 20% profit margin and drinks have a 50% profit margin. What percentage of the total profit comes from drinks?"
   ]
  },
  {
   "cell_type": "code",
   "execution_count": null,
   "metadata": {},
   "outputs": [],
   "source": []
  }
 ],
 "metadata": {
  "kernelspec": {
   "display_name": "R",
   "language": "R",
   "name": "ir"
  },
  "language_info": {
   "codemirror_mode": "r",
   "file_extension": ".r",
   "mimetype": "text/x-r-source",
   "name": "R",
   "pygments_lexer": "r",
   "version": "3.6.0"
  }
 },
 "nbformat": 4,
 "nbformat_minor": 2
}
