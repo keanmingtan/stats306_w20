{
 "cells": [
  {
   "cell_type": "markdown",
   "metadata": {},
   "source": [
    "# Lab 6 (2/17): Joining datasets and AirBnB data\n",
    "\n",
    "### Web pages\n",
    "Course page: https://ambujtewari.github.io/teaching/STATS306-Winter2020/\n",
    "\n",
    "Lab page: https://rogerfan.github.io/stats306_w20/\n",
    "\n",
    "### Office Hours\n",
    "    Mondays: 2-4pm, USB 2165\n",
    "    \n",
    "### Contact\n",
    "    Questions on problems: Use the slack discussions\n",
    "    If you need to email me, include in the subject line: [STATS 306]\n",
    "    Email: rogerfan@umich.edu"
   ]
  },
  {
   "cell_type": "code",
   "execution_count": null,
   "metadata": {},
   "outputs": [],
   "source": [
    "library(tidyverse)"
   ]
  },
  {
   "cell_type": "markdown",
   "metadata": {},
   "source": [
    "## Joining datasets\n",
    "\n",
    "There are many situations where you may want to combine the information from two datasets together. In `dplyr` we do this with various join commands.\n",
    "\n",
    "There are four commonly used join commands:\n",
    "\n",
    "* `left_join`\n",
    "* `right_join`\n",
    "* `inner_join`\n",
    "* `full_join`\n",
    "\n",
    "While two additional joins are often used as diagnostics:\n",
    "\n",
    "* `semi_join`\n",
    "* `anti_join`\n",
    "\n",
    "You can find the documentation for all of these at https://dplyr.tidyverse.org/reference/join.html.\n",
    "\n",
    "All the join functions use the same syntax:\n",
    "```\n",
    "left_join(data1, data2, by='varname')\n",
    "data1 %>% left_join(data2, by='varname')\n",
    "\n",
    "data1 %>% left_join(data2, by=c('var1', 'var2')\n",
    "```\n"
   ]
  },
  {
   "cell_type": "code",
   "execution_count": null,
   "metadata": {},
   "outputs": [],
   "source": [
    "students = tribble(\n",
    "    ~name, ~school, ~grade,\n",
    "    \"Albert\", 'Ohio',      2.8,\n",
    "    \"Julie\",  'Michigan',  3.4,\n",
    "    \"Arnold\", 'Wisconsin', 3.1,\n",
    "    \"Jacob\",  'Michigan',  2.9,\n",
    "    \"Nat\",    'Illinois',  3.9\n",
    ")\n",
    "\n",
    "schools = tribble(\n",
    "    ~school, ~size,\n",
    "    'Ohio',      44853,\n",
    "    'Michigan',  29550,\n",
    "    'Illinois',  32884,\n",
    "    'Minnesota', 31535\n",
    ")\n",
    "\n",
    "students\n",
    "schools"
   ]
  },
  {
   "cell_type": "code",
   "execution_count": null,
   "metadata": {},
   "outputs": [],
   "source": [
    "students %>% left_join(schools)"
   ]
  },
  {
   "cell_type": "code",
   "execution_count": null,
   "metadata": {},
   "outputs": [],
   "source": [
    "students %>% right_join(schools)"
   ]
  },
  {
   "cell_type": "code",
   "execution_count": null,
   "metadata": {},
   "outputs": [],
   "source": [
    "students %>% inner_join(schools)"
   ]
  },
  {
   "cell_type": "code",
   "execution_count": null,
   "metadata": {},
   "outputs": [],
   "source": [
    "students %>% full_join(schools)"
   ]
  },
  {
   "cell_type": "code",
   "execution_count": null,
   "metadata": {},
   "outputs": [],
   "source": [
    "students %>% semi_join(schools)"
   ]
  },
  {
   "cell_type": "code",
   "execution_count": null,
   "metadata": {},
   "outputs": [],
   "source": [
    "students %>% anti_join(schools)"
   ]
  },
  {
   "cell_type": "code",
   "execution_count": null,
   "metadata": {},
   "outputs": [],
   "source": []
  },
  {
   "cell_type": "markdown",
   "metadata": {},
   "source": [
    "## AirBnB Data"
   ]
  },
  {
   "cell_type": "code",
   "execution_count": null,
   "metadata": {},
   "outputs": [],
   "source": [
    "load(url(\"https://raw.githubusercontent.com/rogerfan/stats306_w20/master/labs/airbnb_dat.Rdata\"))\n",
    "\n",
    "demo = demo %>% mutate(median_household_income = as.numeric(median_household_income),\n",
    "                       mean_household_income = as.numeric(mean_household_income))"
   ]
  },
  {
   "cell_type": "markdown",
   "metadata": {},
   "source": [
    "`airbnb_dat.Rdata` contains two dataframes: `listing` and `demo`. Let's take a look.\n",
    "`listing` basically has all the info you would find on a rental page:"
   ]
  },
  {
   "cell_type": "code",
   "execution_count": null,
   "metadata": {},
   "outputs": [],
   "source": [
    "glimpse(listing)\n",
    "head(listing)"
   ]
  },
  {
   "cell_type": "markdown",
   "metadata": {},
   "source": [
    "While demographic information by zip code is in `demo`:"
   ]
  },
  {
   "cell_type": "code",
   "execution_count": null,
   "metadata": {},
   "outputs": [],
   "source": [
    "head(demo)"
   ]
  },
  {
   "cell_type": "markdown",
   "metadata": {},
   "source": [
    "### Goal: \n",
    "Airbnb was originally meant for home sharing, but there are hosts with more than 20 listings. These are more like commercial hotels without regulation than home sharing. We would like to identify such users and see what their impact is on the airbnb ecosystem."
   ]
  },
  {
   "cell_type": "markdown",
   "metadata": {},
   "source": [
    "### Step 1:\n",
    "`host_id` is a unique identifier for host. `id` is a unique identifier for each listing. \n",
    "\n",
    "Create a new table called `hosts` where each row contains a unique `host_id`. There should be a variable called `num_listings` which contains the number of unique listings (or `id`s) that host has, and a variable `mean_review` which contains the mean `review_scores_value` for that host."
   ]
  },
  {
   "cell_type": "code",
   "execution_count": null,
   "metadata": {},
   "outputs": [],
   "source": [
    "\n"
   ]
  },
  {
   "cell_type": "markdown",
   "metadata": {},
   "source": [
    "### Step 2: \n",
    "\n",
    "Using the `hosts` dataset, write code to calculate:\n",
    "\n",
    "* What percentage of hosts have 5 or more listings?\n",
    "* What percentage of the total listings do these \"5-or-more\" hosts control?\n",
    " "
   ]
  },
  {
   "cell_type": "code",
   "execution_count": null,
   "metadata": {},
   "outputs": [],
   "source": [
    "\n"
   ]
  },
  {
   "cell_type": "code",
   "execution_count": null,
   "metadata": {},
   "outputs": [],
   "source": [
    "# Hint: Create a new variable that tracks whether a host is a \"5-or-more\" host\n",
    "# or not, then group by this variable and summarize.\n",
    "\n"
   ]
  },
  {
   "cell_type": "markdown",
   "metadata": {},
   "source": [
    "Create a plot of boxplots, where the x-axis is `num_listings`, and the y-axis is `mean_review`.\n",
    "\n",
    "Note: If you naively use `geom_boxplot` you may get a warning and a nonsensical plot. This is because it treats `num_listings` as a continuous variable. There are two solutions to this, you can either follow the hint the warning gives, or use the function `factor` in your code, which converts a variable to a discrete variable."
   ]
  },
  {
   "cell_type": "code",
   "execution_count": null,
   "metadata": {},
   "outputs": [],
   "source": [
    "\n"
   ]
  },
  {
   "cell_type": "markdown",
   "metadata": {},
   "source": [
    "### Step 3:\n",
    "Let's define commercial hosts to be hosts with >= 5 listings. Create a table called `listing2` that is `listing` with an extra column called `commer_host` indicating if this listing is by a commercial host. \n",
    "\n",
    "Hint: You can do this using the `listing` dataset with a single `group_by` and a single `mutate` command."
   ]
  },
  {
   "cell_type": "code",
   "execution_count": null,
   "metadata": {},
   "outputs": [],
   "source": [
    "\n"
   ]
  },
  {
   "cell_type": "markdown",
   "metadata": {},
   "source": [
    "### Step 4:\n",
    "Using `listing2`, find for each zipcode, the total number of listings, the total number of listings by commercial hosts, and the mean price of all listings in that zipcode. Keep only rows with 50 or more listings. Name this table `zips`, name the four columns `zipcode`, `num_list`, `num_comlist`, and `meanprice`."
   ]
  },
  {
   "cell_type": "code",
   "execution_count": null,
   "metadata": {},
   "outputs": [],
   "source": [
    "\n"
   ]
  },
  {
   "cell_type": "markdown",
   "metadata": {},
   "source": [
    "### Step 5:\n",
    "In `zips`, add a column indicating if this zipcode is \"commercial heavy\". We define commercial heavy as zip codes where the number commercial listings exceeds 20% of the total amount of listings."
   ]
  },
  {
   "cell_type": "code",
   "execution_count": null,
   "metadata": {},
   "outputs": [],
   "source": [
    "\n"
   ]
  },
  {
   "cell_type": "markdown",
   "metadata": {},
   "source": [
    "### Step 6:\n",
    "Merge the data in `demo` into `zips`. Name this table `zips_withdemo`."
   ]
  },
  {
   "cell_type": "code",
   "execution_count": null,
   "metadata": {},
   "outputs": [],
   "source": [
    "\n"
   ]
  },
  {
   "cell_type": "markdown",
   "metadata": {},
   "source": [
    "### Step 7:\n",
    "Create a scatter plot of mean price vs median household income with `zips_withdemo`. Color points by if this zipcode is commercial heavy. Add a smoothing line. What do you see? What do you learn from this plot?"
   ]
  },
  {
   "cell_type": "code",
   "execution_count": null,
   "metadata": {},
   "outputs": [],
   "source": [
    "\n"
   ]
  },
  {
   "cell_type": "code",
   "execution_count": null,
   "metadata": {},
   "outputs": [],
   "source": []
  }
 ],
 "metadata": {
  "kernelspec": {
   "display_name": "R",
   "language": "R",
   "name": "ir"
  },
  "language_info": {
   "codemirror_mode": "r",
   "file_extension": ".r",
   "mimetype": "text/x-r-source",
   "name": "R",
   "pygments_lexer": "r",
   "version": "3.6.0"
  }
 },
 "nbformat": 4,
 "nbformat_minor": 2
}
